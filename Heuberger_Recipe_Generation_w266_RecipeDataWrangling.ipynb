{
  "nbformat": 4,
  "nbformat_minor": 0,
  "metadata": {
    "colab": {
      "provenance": []
    },
    "kernelspec": {
      "name": "python3",
      "display_name": "Python 3"
    },
    "language_info": {
      "name": "python"
    }
  },
  "cells": [
    {
      "cell_type": "markdown",
      "source": [
        "#### This script is designed to do the initial data wrangling on three recipe datasets, in json format, which together total 120K+ recipes across three website (Epicurious, AllRecipes, and Food Network). These recipes were initially webscraped by Ryan Lee of the blog [Eight Portions](https://eightportions.com/datasets/Recipes/), and are publicly available for download through the site.  \n",
        "\n",
        "#### This notebook takes the raw recipe json data and creates a dataframe with recipe IDs and three columns that are needed to build the Seq2Seq model -- title, ingredients, and instructions. I do a number of preprocessing steps, including:\n",
        "\n",
        "*   #### removing recipes with missing information\n",
        "*   #### removing duplicate information from recipes\n",
        "*   #### replacing commonly-found cooking abbreviations with their full word for better tokenization (e.g., \"min\" -> \"minute\").\n",
        "*   #### removing recipes beyond a certain maximum character length\n",
        "\n"
      ],
      "metadata": {
        "id": "0OuTH0aE2x1u"
      }
    },
    {
      "cell_type": "markdown",
      "source": [
        "# Step 1: Importing the data"
      ],
      "metadata": {
        "id": "yIu-3rKHGM0P"
      }
    },
    {
      "cell_type": "code",
      "source": [
        "from google.colab import drive\n",
        "drive.mount('/content/drive')\n",
        "\n",
        "import json\n",
        "import pandas as pd\n",
        "import matplotlib.pyplot as plt\n",
        "import re\n",
        "import os\n",
        "\n",
        "# Set directory\n",
        "\n",
        "os.chdir('/content/drive/MyDrive/Recipe_Generation')"
      ],
      "metadata": {
        "colab": {
          "base_uri": "https://localhost:8080/"
        },
        "id": "dVDTgmapGSyd",
        "outputId": "2a646798-06ca-4108-feed-cd59993e43e5"
      },
      "execution_count": 4,
      "outputs": [
        {
          "output_type": "stream",
          "name": "stdout",
          "text": [
            "Mounted at /content/drive\n"
          ]
        }
      ]
    },
    {
      "cell_type": "code",
      "source": [
        "\n",
        "# Open the JSON file\n",
        "with open('recipes_raw/recipes_raw_nosource_epi.json', 'r') as f:\n",
        "    data_epi = json.load(f)\n",
        "\n",
        "# Open the JSON file\n",
        "with open('recipes_raw/recipes_raw_nosource_ar.json', 'r') as f:\n",
        "    data_ar = json.load(f)\n",
        "\n",
        "# Open the JSON file\n",
        "with open('recipes_raw/recipes_raw_nosource_fn.json', 'r') as f:\n",
        "    data_fn = json.load(f)\n",
        "\n",
        "# Combined dict\n",
        "combined_dict = {}\n",
        "combined_dict.update(data_epi)\n",
        "combined_dict.update(data_ar)\n",
        "combined_dict.update(data_fn)\n"
      ],
      "metadata": {
        "id": "JWksGltFGdBe"
      },
      "execution_count": 5,
      "outputs": []
    },
    {
      "cell_type": "code",
      "source": [
        "# Get an iterator for the dictionary\n",
        "iter_dict = iter(combined_dict.items())\n",
        "\n",
        "# Get the first key-value pair\n",
        "first_key, first_value = next(iter_dict)\n",
        "\n",
        "# Print the first key-value pair\n",
        "print(f\"{first_key}: {first_value}\")"
      ],
      "metadata": {
        "id": "W4VKGEUQKQth",
        "colab": {
          "base_uri": "https://localhost:8080/"
        },
        "outputId": "064059b7-a882-4a3f-b4d1-ec9961ad7859"
      },
      "execution_count": 6,
      "outputs": [
        {
          "output_type": "stream",
          "name": "stdout",
          "text": [
            "05zEpbSqcs9E0rcnCJWyZ9OgdH0MLby: {'ingredients': ['12 egg whites', '12 egg yolks', '1 1/2 cups sugar', '3/4 cup rye whiskey', '12 egg whites', '3/4 cup brandy', '1/2 cup rum', '1 to 2 cups heavy cream, lightly whipped', 'Garnish: ground nutmeg'], 'picture_link': None, 'instructions': 'Beat the egg whites until stiff, gradually adding in 3/4 cup sugar. Set aside. Beat the egg yolks until they are thick and pale and add the other 3/4 cup sugar and stir in rye whiskey. Blend well. Fold the egg white mixture into the yolk mixture and add the brandy and the rum. Beat the mixture well. To serve, fold the lightly whipped heavy cream into the eggnog. (If a thinner mixture is desired, add the heavy cream unwhipped.) Sprinkle the top of the eggnog with the nutmeg to taste.\\nBeat the egg whites until stiff, gradually adding in 3/4 cup sugar. Set aside. Beat the egg yolks until they are thick and pale and add the other 3/4 cup sugar and stir in rye whiskey. Blend well. Fold the egg white mixture into the yolk mixture and add the brandy and the rum. Beat the mixture well. To serve, fold the lightly whipped heavy cream into the eggnog. (If a thinner mixture is desired, add the heavy cream unwhipped.) Sprinkle the top of the eggnog with the nutmeg to taste.', 'title': 'Christmas Eggnog '}\n"
          ]
        }
      ]
    },
    {
      "cell_type": "markdown",
      "source": [
        "#Step 2: Deleting records missing any of the three key sections we need"
      ],
      "metadata": {
        "id": "jEjvmHkNGgW_"
      }
    },
    {
      "cell_type": "code",
      "source": [
        "# Create a new dictionary to store filtered records\n",
        "filtered_combined_dict = {}\n",
        "\n",
        "# Initialize a variable to keep track of the total count of removed records\n",
        "total_removed_records = 0\n",
        "\n",
        "# Iterate over each dictionary in combined_dict\n",
        "for key, recipe_details in combined_dict.items():\n",
        "\n",
        "    # We don't need the picture link\n",
        "    recipe_details.pop('picture_link', None)\n",
        "\n",
        "    # If all required keys have non-None values, add the record to the filtered dictionary\n",
        "    if all(key in recipe_details and recipe_details[key] is not None for key in ['instructions', 'ingredients', 'title']):\n",
        "        filtered_combined_dict[key] = recipe_details\n",
        "    else:\n",
        "        # Increment the count of removed records\n",
        "        total_removed_records += 1\n",
        "\n",
        "# Update combined_dict with filtered records\n",
        "combined_dict = filtered_combined_dict\n",
        "\n",
        "# Print the total number of removed records\n",
        "print(\"Number of recipes removed because of missing parts:\", total_removed_records)\n"
      ],
      "metadata": {
        "colab": {
          "base_uri": "https://localhost:8080/"
        },
        "id": "4EeYhttyGriq",
        "outputId": "3e6b6c27-6110-4bea-b4c7-498fd1fe03e3"
      },
      "execution_count": 7,
      "outputs": [
        {
          "output_type": "stream",
          "name": "stdout",
          "text": [
            "Number of recipes removed because of missing parts: 691\n"
          ]
        }
      ]
    },
    {
      "cell_type": "markdown",
      "source": [
        "#Step 3.1: Data cleaning on recipe instructions"
      ],
      "metadata": {
        "id": "vOj1QV7RG8Ku"
      }
    },
    {
      "cell_type": "code",
      "source": [
        "# Function for removing duplicates from instructions\n",
        "\n",
        "def remove_duplicates_after_newline(instructions):\n",
        "    sections = instructions.split('\\n')\n",
        "\n",
        "    # Initialize a set to keep track of unique sentences and an empty list to store unique sections\n",
        "    unique_sentences = set()\n",
        "    unique_sections = []\n",
        "\n",
        "    # Iterate through each section and split the section into sentences\n",
        "    for section in sections:\n",
        "        sentences = section.split('. ')\n",
        "\n",
        "        # Initialize a list to store unique sentences within the section\n",
        "        unique_section_sentences = []\n",
        "\n",
        "        for sentence in sentences:\n",
        "            if sentence not in unique_sentences:\n",
        "                unique_sentences.add(sentence)\n",
        "                unique_section_sentences.append(sentence)\n",
        "\n",
        "        unique_section = '. '.join(unique_section_sentences)\n",
        "\n",
        "        # Add the unique section to the list of unique sections\n",
        "        unique_sections.append(unique_section)\n",
        "\n",
        "    # Join the unique sections with newline characters to reconstruct the instructions\n",
        "    unique_instructions = '\\n'.join(unique_sections)\n",
        "\n",
        "    return unique_instructions\n",
        "\n",
        "# Initialize a variable to keep track of the total count of removed sentences for text we don't want\n",
        "total_removed_sentences = 0\n",
        "recipes_with_duplicates_removed = []\n",
        "\n",
        "# Define a dictionary to map patterns to replacements\n",
        "patterns_replacements = {\n",
        "    r'sauté': 'saute',\n",
        "    r'Sauté': 'Saute',\n",
        "    r'[®©]': '',\n",
        "    r'oz[.)]': 'ounces)',\n",
        "    r'lbs\\.': 'pounds',\n",
        "    r'tbsp': 'tablespoons',\n",
        "    r'tsp': 'teaspoons',\n",
        "    r'Tbsp': 'tablespoons',\n",
        "    r'Tsp': 'teaspoons',\n",
        "    r'qrt': 'quart',\n",
        "    r'°F':'degrees F',\n",
        "    r'min. ': 'minutes',\n",
        "    r'(\\d)(degrees)': r'\\1 \\2'\n",
        "}\n",
        "\n",
        "# Iterate over each dictionary in combined_dict and apply the substitutions\n",
        "for key, recipe_details in combined_dict.items():\n",
        "\n",
        "    for pattern, replacement in patterns_replacements.items():\n",
        "        recipe_details['instructions'] = re.sub(pattern, replacement, recipe_details['instructions'])\n",
        "\n",
        "    instructions = recipe_details['instructions']\n",
        "\n",
        "    # applying the function above to remove duplicates from the recipes (only applies to the Epi recipes)\n",
        "    # Initialize a counter to track the number of recipes for which duplicates were removed\n",
        "    cleaned_instructions = remove_duplicates_after_newline(instructions)\n",
        "\n",
        "    # Check if the instructions changed after removing duplicates\n",
        "    if cleaned_instructions != instructions:\n",
        "        # If instructions changed, add the key to the list\n",
        "        recipes_with_duplicates_removed.append(key)\n",
        "\n",
        "    instructions = cleaned_instructions\n",
        "\n",
        "    sentences = re.split(r'\\.\\s+', instructions)\n",
        "    total_sentences_before = len(sentences)\n",
        "\n",
        "    # Remove sentences that begin with \"Photograph by\" or \"\\nPhotograph by\"\n",
        "    filtered_sentences = [sentence.strip() for sentence in sentences if not (sentence.strip().startswith('Photograph by') or sentence.strip().startswith('Photographs by'))]\n",
        "\n",
        "    removed_sentences_count = total_sentences_before - len(filtered_sentences)\n",
        "\n",
        "    # Increment the total count of removed sentences\n",
        "    total_removed_sentences += removed_sentences_count\n",
        "\n",
        "    filtered_instructions = '. '.join(filtered_sentences)\n",
        "\n",
        "    # Update the instructions in the current recipe details\n",
        "    combined_dict[key]['instructions'] = filtered_instructions\n",
        "\n",
        "print(\"Number of recipes for which duplicate instructions were removed:\", len(recipes_with_duplicates_removed))\n",
        "print(\"Total number of irrelevant sentences removed:\", total_removed_sentences)\n"
      ],
      "metadata": {
        "colab": {
          "base_uri": "https://localhost:8080/"
        },
        "id": "oLnbGOH-HSkT",
        "outputId": "5eedc8c3-feab-441f-8383-c2427aa0afb3"
      },
      "execution_count": 8,
      "outputs": [
        {
          "output_type": "stream",
          "name": "stdout",
          "text": [
            "Number of recipes for which duplicate instructions were removed: 27098\n",
            "Total number of irrelevant sentences removed: 4053\n"
          ]
        }
      ]
    },
    {
      "cell_type": "markdown",
      "source": [
        "#Step 3.2: Data cleaning on recipe ingredients\n"
      ],
      "metadata": {
        "id": "jwRxYQXfHTaL"
      }
    },
    {
      "cell_type": "code",
      "execution_count": 9,
      "metadata": {
        "colab": {
          "base_uri": "https://localhost:8080/"
        },
        "id": "u7G6VGDPGH7l",
        "outputId": "6d7195d0-fb9c-4436-e8c2-d8806aaf3e39"
      },
      "outputs": [
        {
          "output_type": "stream",
          "name": "stdout",
          "text": [
            "Number of records for which ingredients text was cleaned: 46851\n"
          ]
        }
      ],
      "source": [
        "# Initialize a counter\n",
        "\n",
        "affected_records = 0\n",
        "\n",
        "# Define a dictionary to map patterns to replacements\n",
        "\n",
        "# Iterate through each recipe in the combined dictionary\n",
        "for key, recipe_details in combined_dict.items():\n",
        "    original_ingredients = recipe_details['ingredients'].copy()\n",
        "\n",
        "    # Replace \"ADVERTISEMENT\" with an empty string in ingredients\n",
        "    recipe_details['ingredients'] = [ingredient.replace(\"ADVERTISEMENT\", \"\") for ingredient in recipe_details['ingredients']]\n",
        "\n",
        "    # Strip trailing spaces from each ingredient\n",
        "    recipe_details['ingredients'] = [ingredient.strip() for ingredient in recipe_details['ingredients']]\n",
        "\n",
        "    # Remove blank entries from ingredients\n",
        "    recipe_details['ingredients'] = [ingredient for ingredient in recipe_details['ingredients'] if ingredient]\n",
        "\n",
        "    # Apply the substitutions defined in patterns_replacements\n",
        "    for pattern, replacement in patterns_replacements.items():\n",
        "        recipe_details['ingredients'] = [re.sub(pattern, replacement, ingredient) for ingredient in recipe_details['ingredients']]\n",
        "\n",
        "    # Update the affected records counter if there's a difference in counts\n",
        "    if recipe_details['ingredients'] != original_ingredients:\n",
        "        affected_records += 1\n",
        "\n",
        "    # Convert the list of ingredients into a single string with each line corresponding to one element\n",
        "    recipe_details['ingredients'] = '\\n'.join(recipe_details['ingredients'])\n",
        "\n",
        "# Print the number of affected ingredients records\n",
        "print(\"Number of records for which ingredients text was cleaned:\", affected_records)\n"
      ]
    },
    {
      "cell_type": "markdown",
      "source": [
        "#Step 4: Removing additional records based on instructions and ingredient length\n"
      ],
      "metadata": {
        "id": "E9D4s7jXH6N6"
      }
    },
    {
      "cell_type": "code",
      "source": [
        "\n",
        "# Create a list to store keys of recipes with instructions longer than 3000 characters\n",
        "keys_to_remove = []\n",
        "\n",
        "# Iterate over each dictionary in combined_dict\n",
        "for key, recipe_details in combined_dict.items():\n",
        "\n",
        "    # Check if the length of instructions is greater than 2000 characters or ingredients greater than 800 characters\n",
        "    if len(recipe_details['instructions']) > 2000 or len(recipe_details['ingredients']) > 800 or len(recipe_details['title']) > 70:\n",
        "        # Add the key to the list of keys to remove\n",
        "        keys_to_remove.append(key)\n",
        "\n",
        "# Remove the recipes with instructions\n",
        "for key in keys_to_remove:\n",
        "    combined_dict.pop(key)\n",
        "\n",
        "print(\"Recipes removed because ingredients or instructions too long:\", len(keys_to_remove))\n",
        "\n",
        "# Plot of recipe length\n",
        "\n",
        "for var in ['instruction','ingredient','title']:\n",
        "    # Extract the lengths for each recipe\n",
        "    if var == 'title':\n",
        "        var_plural = var\n",
        "    else:\n",
        "        var_plural = var + 's'\n",
        "    lengths = [len(recipe_details[var_plural]) for recipe_details in combined_dict.values() if var_plural in recipe_details]\n",
        "\n",
        "    plt.hist(lengths, bins=50, color='skyblue', edgecolor='black')\n",
        "    plt.xlabel(f'{var} Length')\n",
        "    plt.ylabel('Number of Recipes')\n",
        "    plt.title(f'Distribution of {var} Lengths Across Recipes')\n",
        "    plt.grid(True)\n",
        "    plt.show()\n"
      ],
      "metadata": {
        "colab": {
          "base_uri": "https://localhost:8080/",
          "height": 1000
        },
        "id": "1My1hakhHnfu",
        "outputId": "88a2fec1-493b-46c5-ddd4-f1b03676212e"
      },
      "execution_count": 10,
      "outputs": [
        {
          "output_type": "stream",
          "name": "stdout",
          "text": [
            "Recipes removed because ingredients or instructions too long: 9562\n"
          ]
        },
        {
          "output_type": "display_data",
          "data": {
            "text/plain": [
              "<Figure size 640x480 with 1 Axes>"
            ],
            "image/png": "[encoded data removed]"
          },
          "metadata": {}
        },
        {
          "output_type": "display_data",
          "data": {
            "text/plain": [
              "<Figure size 640x480 with 1 Axes>"
            ],
            "image/png": "[encoded data removed]"
          },
          "metadata": {}
        },
        {
          "output_type": "display_data",
          "data": {
            "text/plain": [
              "<Figure size 640x480 with 1 Axes>"
            ],
            "image/png": "[encoded data removed]"
          },
          "metadata": {}
        }
      ]
    },
    {
      "cell_type": "markdown",
      "source": [
        "#Step 5: Generating a dataframe for the clean data and saving"
      ],
      "metadata": {
        "id": "LhDPEtJKHr5i"
      }
    },
    {
      "cell_type": "code",
      "source": [
        "\n",
        "# Initialize lists to store values\n",
        "key_id = []\n",
        "title = []\n",
        "ingredients = []\n",
        "instructions = []\n",
        "\n",
        "# Iterate through the dictionary\n",
        "for key, value in combined_dict.items():\n",
        "        key_id.append(key)\n",
        "        title.append(value['title'])\n",
        "        ingredients.append(value['ingredients'])\n",
        "        instructions.append(value['instructions'])\n",
        "\n",
        "# Create a DataFrame\n",
        "recipe_df = pd.DataFrame({\n",
        "    'key_id' : key_id,\n",
        "    'title': title,\n",
        "    'ingredients': ingredients,\n",
        "    'instructions': instructions\n",
        "})\n"
      ],
      "metadata": {
        "id": "LF0aJYsJHpvY"
      },
      "execution_count": 11,
      "outputs": []
    },
    {
      "cell_type": "code",
      "source": [
        "recipe_df.head()"
      ],
      "metadata": {
        "colab": {
          "base_uri": "https://localhost:8080/",
          "height": 206
        },
        "id": "oiwESaTUFL6t",
        "outputId": "6d45a149-2b08-422e-83b5-00f4075d1421"
      },
      "execution_count": 12,
      "outputs": [
        {
          "output_type": "execute_result",
          "data": {
            "text/plain": [
              "                            key_id  \\\n",
              "0  05zEpbSqcs9E0rcnCJWyZ9OgdH0MLby   \n",
              "1  mF5SZmoqxF4WtIlhLRvzuKk.z6s7P2S   \n",
              "2  oQV5D7cVbCFwmrDs3pBUv2y.AG0WV26   \n",
              "3  Z9seBJWaB5NkSp4DQHDnCAUBTwov/1u   \n",
              "4  bB3GxoAplVZeoX3fzWNWyeECtQFxw6G   \n",
              "\n",
              "                                               title  \\\n",
              "0                                  Christmas Eggnog    \n",
              "1                  Veal, Carrot and Chestnut Ragoût    \n",
              "2  Caramelized Bread Pudding with Chocolate and C...   \n",
              "3      Sherried Stilton and Green Peppercorn Spread    \n",
              "4                        Almond-Chocolate Macaroons    \n",
              "\n",
              "                                         ingredients  \\\n",
              "0  12 egg whites\\n12 egg yolks\\n1 1/2 cups sugar\\...   \n",
              "1  18 fresh chestnuts\\n2 1/2 pounds veal stew mea...   \n",
              "2  2 tablespoons unsalted butter, softened\\n4 or ...   \n",
              "3  3/4 pound Stilton, crumbled (about 3 cups) and...   \n",
              "4  2 cups (about 9 1/2 ounces) whole almonds, toa...   \n",
              "\n",
              "                                        instructions  \n",
              "0  Beat the egg whites until stiff, gradually add...  \n",
              "1  Preheat oven to 400 degrees F. Using small sha...  \n",
              "2  Preheat the oven to 350 degrees F. Spread the ...  \n",
              "3  In a food processor blend the Stilton, the cre...  \n",
              "4  Position rack in center of oven and preheat to...  "
            ],
            "text/html": [
              "\n",
              "  <div id=\"df-186a1c26-a20f-46bb-9bf7-f8f2c67ba903\" class=\"colab-df-container\">\n",
              "    <div>\n",
              "<style scoped>\n",
              "    .dataframe tbody tr th:only-of-type {\n",
              "        vertical-align: middle;\n",
              "    }\n",
              "\n",
              "    .dataframe tbody tr th {\n",
              "        vertical-align: top;\n",
              "    }\n",
              "\n",
              "    .dataframe thead th {\n",
              "        text-align: right;\n",
              "    }\n",
              "</style>\n",
              "<table border=\"1\" class=\"dataframe\">\n",
              "  <thead>\n",
              "    <tr style=\"text-align: right;\">\n",
              "      <th></th>\n",
              "      <th>key_id</th>\n",
              "      <th>title</th>\n",
              "      <th>ingredients</th>\n",
              "      <th>instructions</th>\n",
              "    </tr>\n",
              "  </thead>\n",
              "  <tbody>\n",
              "    <tr>\n",
              "      <th>0</th>\n",
              "      <td>05zEpbSqcs9E0rcnCJWyZ9OgdH0MLby</td>\n",
              "      <td>Christmas Eggnog</td>\n",
              "      <td>12 egg whites\\n12 egg yolks\\n1 1/2 cups sugar\\...</td>\n",
              "      <td>Beat the egg whites until stiff, gradually add...</td>\n",
              "    </tr>\n",
              "    <tr>\n",
              "      <th>1</th>\n",
              "      <td>mF5SZmoqxF4WtIlhLRvzuKk.z6s7P2S</td>\n",
              "      <td>Veal, Carrot and Chestnut Ragoût</td>\n",
              "      <td>18 fresh chestnuts\\n2 1/2 pounds veal stew mea...</td>\n",
              "      <td>Preheat oven to 400 degrees F. Using small sha...</td>\n",
              "    </tr>\n",
              "    <tr>\n",
              "      <th>2</th>\n",
              "      <td>oQV5D7cVbCFwmrDs3pBUv2y.AG0WV26</td>\n",
              "      <td>Caramelized Bread Pudding with Chocolate and C...</td>\n",
              "      <td>2 tablespoons unsalted butter, softened\\n4 or ...</td>\n",
              "      <td>Preheat the oven to 350 degrees F. Spread the ...</td>\n",
              "    </tr>\n",
              "    <tr>\n",
              "      <th>3</th>\n",
              "      <td>Z9seBJWaB5NkSp4DQHDnCAUBTwov/1u</td>\n",
              "      <td>Sherried Stilton and Green Peppercorn Spread</td>\n",
              "      <td>3/4 pound Stilton, crumbled (about 3 cups) and...</td>\n",
              "      <td>In a food processor blend the Stilton, the cre...</td>\n",
              "    </tr>\n",
              "    <tr>\n",
              "      <th>4</th>\n",
              "      <td>bB3GxoAplVZeoX3fzWNWyeECtQFxw6G</td>\n",
              "      <td>Almond-Chocolate Macaroons</td>\n",
              "      <td>2 cups (about 9 1/2 ounces) whole almonds, toa...</td>\n",
              "      <td>Position rack in center of oven and preheat to...</td>\n",
              "    </tr>\n",
              "  </tbody>\n",
              "</table>\n",
              "</div>\n",
              "    <div class=\"colab-df-buttons\">\n",
              "\n",
              "  <div class=\"colab-df-container\">\n",
              "    <button class=\"colab-df-convert\" onclick=\"convertToInteractive('df-186a1c26-a20f-46bb-9bf7-f8f2c67ba903')\"\n",
              "            title=\"Convert this dataframe to an interactive table.\"\n",
              "            style=\"display:none;\">\n",
              "\n",
              "  <svg xmlns=\"http://www.w3.org/2000/svg\" height=\"24px\" viewBox=\"0 -960 960 960\">\n",
              "    <path d=\"M120-120v-720h720v720H120Zm60-500h600v-160H180v160Zm220 220h160v-160H400v160Zm0 220h160v-160H400v160ZM180-400h160v-160H180v160Zm440 0h160v-160H620v160ZM180-180h160v-160H180v160Zm440 0h160v-160H620v160Z\"/>\n",
              "  </svg>\n",
              "    </button>\n",
              "\n",
              "  <style>\n",
              "    .colab-df-container {\n",
              "      display:flex;\n",
              "      gap: 12px;\n",
              "    }\n",
              "\n",
              "    .colab-df-convert {\n",
              "      background-color: #E8F0FE;\n",
              "      border: none;\n",
              "      border-radius: 50%;\n",
              "      cursor: pointer;\n",
              "      display: none;\n",
              "      fill: #1967D2;\n",
              "      height: 32px;\n",
              "      padding: 0 0 0 0;\n",
              "      width: 32px;\n",
              "    }\n",
              "\n",
              "    .colab-df-convert:hover {\n",
              "      background-color: #E2EBFA;\n",
              "      box-shadow: 0px 1px 2px rgba(60, 64, 67, 0.3), 0px 1px 3px 1px rgba(60, 64, 67, 0.15);\n",
              "      fill: #174EA6;\n",
              "    }\n",
              "\n",
              "    .colab-df-buttons div {\n",
              "      margin-bottom: 4px;\n",
              "    }\n",
              "\n",
              "    [theme=dark] .colab-df-convert {\n",
              "      background-color: #3B4455;\n",
              "      fill: #D2E3FC;\n",
              "    }\n",
              "\n",
              "    [theme=dark] .colab-df-convert:hover {\n",
              "      background-color: #434B5C;\n",
              "      box-shadow: 0px 1px 3px 1px rgba(0, 0, 0, 0.15);\n",
              "      filter: drop-shadow(0px 1px 2px rgba(0, 0, 0, 0.3));\n",
              "      fill: #FFFFFF;\n",
              "    }\n",
              "  </style>\n",
              "\n",
              "    <script>\n",
              "      const buttonEl =\n",
              "        document.querySelector('#df-186a1c26-a20f-46bb-9bf7-f8f2c67ba903 button.colab-df-convert');\n",
              "      buttonEl.style.display =\n",
              "        google.colab.kernel.accessAllowed ? 'block' : 'none';\n",
              "\n",
              "      async function convertToInteractive(key) {\n",
              "        const element = document.querySelector('#df-186a1c26-a20f-46bb-9bf7-f8f2c67ba903');\n",
              "        const dataTable =\n",
              "          await google.colab.kernel.invokeFunction('convertToInteractive',\n",
              "                                                    [key], {});\n",
              "        if (!dataTable) return;\n",
              "\n",
              "        const docLinkHtml = 'Like what you see? Visit the ' +\n",
              "          '<a target=\"_blank\" href=https://colab.research.google.com/notebooks/data_table.ipynb>data table notebook</a>'\n",
              "          + ' to learn more about interactive tables.';\n",
              "        element.innerHTML = '';\n",
              "        dataTable['output_type'] = 'display_data';\n",
              "        await google.colab.output.renderOutput(dataTable, element);\n",
              "        const docLink = document.createElement('div');\n",
              "        docLink.innerHTML = docLinkHtml;\n",
              "        element.appendChild(docLink);\n",
              "      }\n",
              "    </script>\n",
              "  </div>\n",
              "\n",
              "\n",
              "<div id=\"df-f32caf4f-7902-44ee-b200-27ed41ce2b2d\">\n",
              "  <button class=\"colab-df-quickchart\" onclick=\"quickchart('df-f32caf4f-7902-44ee-b200-27ed41ce2b2d')\"\n",
              "            title=\"Suggest charts\"\n",
              "            style=\"display:none;\">\n",
              "\n",
              "<svg xmlns=\"http://www.w3.org/2000/svg\" height=\"24px\"viewBox=\"0 0 24 24\"\n",
              "     width=\"24px\">\n",
              "    <g>\n",
              "        <path d=\"M19 3H5c-1.1 0-2 .9-2 2v14c0 1.1.9 2 2 2h14c1.1 0 2-.9 2-2V5c0-1.1-.9-2-2-2zM9 17H7v-7h2v7zm4 0h-2V7h2v10zm4 0h-2v-4h2v4z\"/>\n",
              "    </g>\n",
              "</svg>\n",
              "  </button>\n",
              "\n",
              "<style>\n",
              "  .colab-df-quickchart {\n",
              "      --bg-color: #E8F0FE;\n",
              "      --fill-color: #1967D2;\n",
              "      --hover-bg-color: #E2EBFA;\n",
              "      --hover-fill-color: #174EA6;\n",
              "      --disabled-fill-color: #AAA;\n",
              "      --disabled-bg-color: #DDD;\n",
              "  }\n",
              "\n",
              "  [theme=dark] .colab-df-quickchart {\n",
              "      --bg-color: #3B4455;\n",
              "      --fill-color: #D2E3FC;\n",
              "      --hover-bg-color: #434B5C;\n",
              "      --hover-fill-color: #FFFFFF;\n",
              "      --disabled-bg-color: #3B4455;\n",
              "      --disabled-fill-color: #666;\n",
              "  }\n",
              "\n",
              "  .colab-df-quickchart {\n",
              "    background-color: var(--bg-color);\n",
              "    border: none;\n",
              "    border-radius: 50%;\n",
              "    cursor: pointer;\n",
              "    display: none;\n",
              "    fill: var(--fill-color);\n",
              "    height: 32px;\n",
              "    padding: 0;\n",
              "    width: 32px;\n",
              "  }\n",
              "\n",
              "  .colab-df-quickchart:hover {\n",
              "    background-color: var(--hover-bg-color);\n",
              "    box-shadow: 0 1px 2px rgba(60, 64, 67, 0.3), 0 1px 3px 1px rgba(60, 64, 67, 0.15);\n",
              "    fill: var(--button-hover-fill-color);\n",
              "  }\n",
              "\n",
              "  .colab-df-quickchart-complete:disabled,\n",
              "  .colab-df-quickchart-complete:disabled:hover {\n",
              "    background-color: var(--disabled-bg-color);\n",
              "    fill: var(--disabled-fill-color);\n",
              "    box-shadow: none;\n",
              "  }\n",
              "\n",
              "  .colab-df-spinner {\n",
              "    border: 2px solid var(--fill-color);\n",
              "    border-color: transparent;\n",
              "    border-bottom-color: var(--fill-color);\n",
              "    animation:\n",
              "      spin 1s steps(1) infinite;\n",
              "  }\n",
              "\n",
              "  @keyframes spin {\n",
              "    0% {\n",
              "      border-color: transparent;\n",
              "      border-bottom-color: var(--fill-color);\n",
              "      border-left-color: var(--fill-color);\n",
              "    }\n",
              "    20% {\n",
              "      border-color: transparent;\n",
              "      border-left-color: var(--fill-color);\n",
              "      border-top-color: var(--fill-color);\n",
              "    }\n",
              "    30% {\n",
              "      border-color: transparent;\n",
              "      border-left-color: var(--fill-color);\n",
              "      border-top-color: var(--fill-color);\n",
              "      border-right-color: var(--fill-color);\n",
              "    }\n",
              "    40% {\n",
              "      border-color: transparent;\n",
              "      border-right-color: var(--fill-color);\n",
              "      border-top-color: var(--fill-color);\n",
              "    }\n",
              "    60% {\n",
              "      border-color: transparent;\n",
              "      border-right-color: var(--fill-color);\n",
              "    }\n",
              "    80% {\n",
              "      border-color: transparent;\n",
              "      border-right-color: var(--fill-color);\n",
              "      border-bottom-color: var(--fill-color);\n",
              "    }\n",
              "    90% {\n",
              "      border-color: transparent;\n",
              "      border-bottom-color: var(--fill-color);\n",
              "    }\n",
              "  }\n",
              "</style>\n",
              "\n",
              "  <script>\n",
              "    async function quickchart(key) {\n",
              "      const quickchartButtonEl =\n",
              "        document.querySelector('#' + key + ' button');\n",
              "      quickchartButtonEl.disabled = true;  // To prevent multiple clicks.\n",
              "      quickchartButtonEl.classList.add('colab-df-spinner');\n",
              "      try {\n",
              "        const charts = await google.colab.kernel.invokeFunction(\n",
              "            'suggestCharts', [key], {});\n",
              "      } catch (error) {\n",
              "        console.error('Error during call to suggestCharts:', error);\n",
              "      }\n",
              "      quickchartButtonEl.classList.remove('colab-df-spinner');\n",
              "      quickchartButtonEl.classList.add('colab-df-quickchart-complete');\n",
              "    }\n",
              "    (() => {\n",
              "      let quickchartButtonEl =\n",
              "        document.querySelector('#df-f32caf4f-7902-44ee-b200-27ed41ce2b2d button');\n",
              "      quickchartButtonEl.style.display =\n",
              "        google.colab.kernel.accessAllowed ? 'block' : 'none';\n",
              "    })();\n",
              "  </script>\n",
              "</div>\n",
              "\n",
              "    </div>\n",
              "  </div>\n"
            ],
            "application/vnd.google.colaboratory.intrinsic+json": {
              "type": "dataframe",
              "variable_name": "recipe_df"
            }
          },
          "metadata": {},
          "execution_count": 12
        }
      ]
    },
    {
      "cell_type": "code",
      "source": [
        "recipe_df.to_pickle('recipe_df.pkl')"
      ],
      "metadata": {
        "id": "uYAWOUiHK3SI"
      },
      "execution_count": null,
      "outputs": []
    }
  ]
}