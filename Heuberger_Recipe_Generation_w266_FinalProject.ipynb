{
  "cells": [
    {
      "cell_type": "code",
      "execution_count": 4,
      "metadata": {
        "id": "pjOaIqSffs42",
        "colab": {
          "base_uri": "https://localhost:8080/"
        },
        "outputId": "cf995b32-89d8-4f83-8914-cb89639055e9"
      },
      "outputs": [
        {
          "output_type": "stream",
          "name": "stdout",
          "text": [
            "Mounted at /content/drive\n"
          ]
        }
      ],
      "source": [
        "from google.colab import drive\n",
        "drive.mount('/content/drive')\n"
      ]
    },
    {
      "cell_type": "code",
      "execution_count": 5,
      "metadata": {
        "id": "TRxeUtbXkm8d",
        "colab": {
          "base_uri": "https://localhost:8080/"
        },
        "outputId": "e1b42117-d636-41af-c3ef-f53e42be4081"
      },
      "outputs": [
        {
          "output_type": "stream",
          "name": "stdout",
          "text": [
            "Collecting rouge-score\n",
            "  Downloading rouge_score-0.1.2.tar.gz (17 kB)\n",
            "  Preparing metadata (setup.py) ... \u001b[?25l\u001b[?25hdone\n",
            "Requirement already satisfied: absl-py in /usr/local/lib/python3.10/dist-packages (from rouge-score) (1.4.0)\n",
            "Requirement already satisfied: nltk in /usr/local/lib/python3.10/dist-packages (from rouge-score) (3.8.1)\n",
            "Requirement already satisfied: numpy in /usr/local/lib/python3.10/dist-packages (from rouge-score) (1.25.2)\n",
            "Requirement already satisfied: six>=1.14.0 in /usr/local/lib/python3.10/dist-packages (from rouge-score) (1.16.0)\n",
            "Requirement already satisfied: click in /usr/local/lib/python3.10/dist-packages (from nltk->rouge-score) (8.1.7)\n",
            "Requirement already satisfied: joblib in /usr/local/lib/python3.10/dist-packages (from nltk->rouge-score) (1.4.0)\n",
            "Requirement already satisfied: regex>=2021.8.3 in /usr/local/lib/python3.10/dist-packages (from nltk->rouge-score) (2023.12.25)\n",
            "Requirement already satisfied: tqdm in /usr/local/lib/python3.10/dist-packages (from nltk->rouge-score) (4.66.2)\n",
            "Building wheels for collected packages: rouge-score\n",
            "  Building wheel for rouge-score (setup.py) ... \u001b[?25l\u001b[?25hdone\n",
            "  Created wheel for rouge-score: filename=rouge_score-0.1.2-py3-none-any.whl size=24933 sha256=881c6ed81fc4d5551df5d65c7b1c2293d985da2c883e784bf7c70867665fa25e\n",
            "  Stored in directory: /root/.cache/pip/wheels/5f/dd/89/461065a73be61a532ff8599a28e9beef17985c9e9c31e541b4\n",
            "Successfully built rouge-score\n",
            "Installing collected packages: rouge-score\n",
            "Successfully installed rouge-score-0.1.2\n"
          ]
        }
      ],
      "source": [
        "!pip install transformers --quiet\n",
        "!pip install rouge-score\n",
        "\n",
        "import numpy as np\n",
        "import tensorflow as tf\n",
        "from tensorflow import keras\n",
        "import heapq\n",
        "import random\n",
        "\n",
        "from keras.models import save_model, load_model\n",
        "from tensorflow.keras.layers import Embedding, Input, Dense, Lambda, Concatenate\n",
        "from tensorflow.keras.models import Model\n",
        "from tensorflow.keras.callbacks import EarlyStopping\n",
        "\n",
        "\n",
        "from transformers import logging\n",
        "logging.set_verbosity_error()\n",
        "\n",
        "import pickle\n",
        "import os\n",
        "import pandas as pd\n",
        "import re\n",
        "import unicodedata\n",
        "\n",
        "import nltk\n",
        "from nltk.corpus import stopwords\n",
        "from rouge_score import rouge_scorer\n",
        "from nltk.translate import meteor_score\n"
      ]
    },
    {
      "cell_type": "code",
      "execution_count": 6,
      "metadata": {
        "id": "8-sYz2jXhBf7"
      },
      "outputs": [],
      "source": [
        "# Set directory\n",
        "\n",
        "os.chdir('/content/drive/MyDrive/Recipe_Generation')"
      ]
    },
    {
      "cell_type": "code",
      "execution_count": 5,
      "metadata": {
        "colab": {
          "base_uri": "https://localhost:8080/",
          "height": 223
        },
        "id": "73Lwb2VVi_WA",
        "outputId": "a413edb3-04ff-46eb-966b-1df4490cf7aa"
      },
      "outputs": [
        {
          "output_type": "stream",
          "name": "stdout",
          "text": [
            "Records in dataframe: 116449\n"
          ]
        },
        {
          "output_type": "execute_result",
          "data": {
            "text/plain": [
              "                            key_id  \\\n",
              "0  05zEpbSqcs9E0rcnCJWyZ9OgdH0MLby   \n",
              "1  mF5SZmoqxF4WtIlhLRvzuKk.z6s7P2S   \n",
              "2  oQV5D7cVbCFwmrDs3pBUv2y.AG0WV26   \n",
              "3  Z9seBJWaB5NkSp4DQHDnCAUBTwov/1u   \n",
              "4  bB3GxoAplVZeoX3fzWNWyeECtQFxw6G   \n",
              "\n",
              "                                               title  \\\n",
              "0                                  Christmas Eggnog    \n",
              "1                  Veal, Carrot and Chestnut Ragoût    \n",
              "2  Caramelized Bread Pudding with Chocolate and C...   \n",
              "3      Sherried Stilton and Green Peppercorn Spread    \n",
              "4                        Almond-Chocolate Macaroons    \n",
              "\n",
              "                                         ingredients  \\\n",
              "0  12 egg whites\\n12 egg yolks\\n1 1/2 cups sugar\\...   \n",
              "1  18 fresh chestnuts\\n2 1/2 pounds veal stew mea...   \n",
              "2  2 tablespoons unsalted butter, softened\\n4 or ...   \n",
              "3  3/4 pound Stilton, crumbled (about 3 cups) and...   \n",
              "4  2 cups (about 9 1/2 ounces) whole almonds, toa...   \n",
              "\n",
              "                                        instructions  \n",
              "0  Beat the egg whites until stiff, gradually add...  \n",
              "1  Preheat oven to 400 degrees F. Using small sha...  \n",
              "2  Preheat the oven to 350 degrees F. Spread the ...  \n",
              "3  In a food processor blend the Stilton, the cre...  \n",
              "4  Position rack in center of oven and preheat to...  "
            ],
            "text/html": [
              "\n",
              "  <div id=\"df-217a1c22-eea9-4edb-9458-a919ca7b2749\" class=\"colab-df-container\">\n",
              "    <div>\n",
              "<style scoped>\n",
              "    .dataframe tbody tr th:only-of-type {\n",
              "        vertical-align: middle;\n",
              "    }\n",
              "\n",
              "    .dataframe tbody tr th {\n",
              "        vertical-align: top;\n",
              "    }\n",
              "\n",
              "    .dataframe thead th {\n",
              "        text-align: right;\n",
              "    }\n",
              "</style>\n",
              "<table border=\"1\" class=\"dataframe\">\n",
              "  <thead>\n",
              "    <tr style=\"text-align: right;\">\n",
              "      <th></th>\n",
              "      <th>key_id</th>\n",
              "      <th>title</th>\n",
              "      <th>ingredients</th>\n",
              "      <th>instructions</th>\n",
              "    </tr>\n",
              "  </thead>\n",
              "  <tbody>\n",
              "    <tr>\n",
              "      <th>0</th>\n",
              "      <td>05zEpbSqcs9E0rcnCJWyZ9OgdH0MLby</td>\n",
              "      <td>Christmas Eggnog</td>\n",
              "      <td>12 egg whites\\n12 egg yolks\\n1 1/2 cups sugar\\...</td>\n",
              "      <td>Beat the egg whites until stiff, gradually add...</td>\n",
              "    </tr>\n",
              "    <tr>\n",
              "      <th>1</th>\n",
              "      <td>mF5SZmoqxF4WtIlhLRvzuKk.z6s7P2S</td>\n",
              "      <td>Veal, Carrot and Chestnut Ragoût</td>\n",
              "      <td>18 fresh chestnuts\\n2 1/2 pounds veal stew mea...</td>\n",
              "      <td>Preheat oven to 400 degrees F. Using small sha...</td>\n",
              "    </tr>\n",
              "    <tr>\n",
              "      <th>2</th>\n",
              "      <td>oQV5D7cVbCFwmrDs3pBUv2y.AG0WV26</td>\n",
              "      <td>Caramelized Bread Pudding with Chocolate and C...</td>\n",
              "      <td>2 tablespoons unsalted butter, softened\\n4 or ...</td>\n",
              "      <td>Preheat the oven to 350 degrees F. Spread the ...</td>\n",
              "    </tr>\n",
              "    <tr>\n",
              "      <th>3</th>\n",
              "      <td>Z9seBJWaB5NkSp4DQHDnCAUBTwov/1u</td>\n",
              "      <td>Sherried Stilton and Green Peppercorn Spread</td>\n",
              "      <td>3/4 pound Stilton, crumbled (about 3 cups) and...</td>\n",
              "      <td>In a food processor blend the Stilton, the cre...</td>\n",
              "    </tr>\n",
              "    <tr>\n",
              "      <th>4</th>\n",
              "      <td>bB3GxoAplVZeoX3fzWNWyeECtQFxw6G</td>\n",
              "      <td>Almond-Chocolate Macaroons</td>\n",
              "      <td>2 cups (about 9 1/2 ounces) whole almonds, toa...</td>\n",
              "      <td>Position rack in center of oven and preheat to...</td>\n",
              "    </tr>\n",
              "  </tbody>\n",
              "</table>\n",
              "</div>\n",
              "    <div class=\"colab-df-buttons\">\n",
              "\n",
              "  <div class=\"colab-df-container\">\n",
              "    <button class=\"colab-df-convert\" onclick=\"convertToInteractive('df-217a1c22-eea9-4edb-9458-a919ca7b2749')\"\n",
              "            title=\"Convert this dataframe to an interactive table.\"\n",
              "            style=\"display:none;\">\n",
              "\n",
              "  <svg xmlns=\"http://www.w3.org/2000/svg\" height=\"24px\" viewBox=\"0 -960 960 960\">\n",
              "    <path d=\"M120-120v-720h720v720H120Zm60-500h600v-160H180v160Zm220 220h160v-160H400v160Zm0 220h160v-160H400v160ZM180-400h160v-160H180v160Zm440 0h160v-160H620v160ZM180-180h160v-160H180v160Zm440 0h160v-160H620v160Z\"/>\n",
              "  </svg>\n",
              "    </button>\n",
              "\n",
              "  <style>\n",
              "    .colab-df-container {\n",
              "      display:flex;\n",
              "      gap: 12px;\n",
              "    }\n",
              "\n",
              "    .colab-df-convert {\n",
              "      background-color: #E8F0FE;\n",
              "      border: none;\n",
              "      border-radius: 50%;\n",
              "      cursor: pointer;\n",
              "      display: none;\n",
              "      fill: #1967D2;\n",
              "      height: 32px;\n",
              "      padding: 0 0 0 0;\n",
              "      width: 32px;\n",
              "    }\n",
              "\n",
              "    .colab-df-convert:hover {\n",
              "      background-color: #E2EBFA;\n",
              "      box-shadow: 0px 1px 2px rgba(60, 64, 67, 0.3), 0px 1px 3px 1px rgba(60, 64, 67, 0.15);\n",
              "      fill: #174EA6;\n",
              "    }\n",
              "\n",
              "    .colab-df-buttons div {\n",
              "      margin-bottom: 4px;\n",
              "    }\n",
              "\n",
              "    [theme=dark] .colab-df-convert {\n",
              "      background-color: #3B4455;\n",
              "      fill: #D2E3FC;\n",
              "    }\n",
              "\n",
              "    [theme=dark] .colab-df-convert:hover {\n",
              "      background-color: #434B5C;\n",
              "      box-shadow: 0px 1px 3px 1px rgba(0, 0, 0, 0.15);\n",
              "      filter: drop-shadow(0px 1px 2px rgba(0, 0, 0, 0.3));\n",
              "      fill: #FFFFFF;\n",
              "    }\n",
              "  </style>\n",
              "\n",
              "    <script>\n",
              "      const buttonEl =\n",
              "        document.querySelector('#df-217a1c22-eea9-4edb-9458-a919ca7b2749 button.colab-df-convert');\n",
              "      buttonEl.style.display =\n",
              "        google.colab.kernel.accessAllowed ? 'block' : 'none';\n",
              "\n",
              "      async function convertToInteractive(key) {\n",
              "        const element = document.querySelector('#df-217a1c22-eea9-4edb-9458-a919ca7b2749');\n",
              "        const dataTable =\n",
              "          await google.colab.kernel.invokeFunction('convertToInteractive',\n",
              "                                                    [key], {});\n",
              "        if (!dataTable) return;\n",
              "\n",
              "        const docLinkHtml = 'Like what you see? Visit the ' +\n",
              "          '<a target=\"_blank\" href=https://colab.research.google.com/notebooks/data_table.ipynb>data table notebook</a>'\n",
              "          + ' to learn more about interactive tables.';\n",
              "        element.innerHTML = '';\n",
              "        dataTable['output_type'] = 'display_data';\n",
              "        await google.colab.output.renderOutput(dataTable, element);\n",
              "        const docLink = document.createElement('div');\n",
              "        docLink.innerHTML = docLinkHtml;\n",
              "        element.appendChild(docLink);\n",
              "      }\n",
              "    </script>\n",
              "  </div>\n",
              "\n",
              "\n",
              "<div id=\"df-fa11e0b6-719e-4399-a789-b3efcccf60d7\">\n",
              "  <button class=\"colab-df-quickchart\" onclick=\"quickchart('df-fa11e0b6-719e-4399-a789-b3efcccf60d7')\"\n",
              "            title=\"Suggest charts\"\n",
              "            style=\"display:none;\">\n",
              "\n",
              "<svg xmlns=\"http://www.w3.org/2000/svg\" height=\"24px\"viewBox=\"0 0 24 24\"\n",
              "     width=\"24px\">\n",
              "    <g>\n",
              "        <path d=\"M19 3H5c-1.1 0-2 .9-2 2v14c0 1.1.9 2 2 2h14c1.1 0 2-.9 2-2V5c0-1.1-.9-2-2-2zM9 17H7v-7h2v7zm4 0h-2V7h2v10zm4 0h-2v-4h2v4z\"/>\n",
              "    </g>\n",
              "</svg>\n",
              "  </button>\n",
              "\n",
              "<style>\n",
              "  .colab-df-quickchart {\n",
              "      --bg-color: #E8F0FE;\n",
              "      --fill-color: #1967D2;\n",
              "      --hover-bg-color: #E2EBFA;\n",
              "      --hover-fill-color: #174EA6;\n",
              "      --disabled-fill-color: #AAA;\n",
              "      --disabled-bg-color: #DDD;\n",
              "  }\n",
              "\n",
              "  [theme=dark] .colab-df-quickchart {\n",
              "      --bg-color: #3B4455;\n",
              "      --fill-color: #D2E3FC;\n",
              "      --hover-bg-color: #434B5C;\n",
              "      --hover-fill-color: #FFFFFF;\n",
              "      --disabled-bg-color: #3B4455;\n",
              "      --disabled-fill-color: #666;\n",
              "  }\n",
              "\n",
              "  .colab-df-quickchart {\n",
              "    background-color: var(--bg-color);\n",
              "    border: none;\n",
              "    border-radius: 50%;\n",
              "    cursor: pointer;\n",
              "    display: none;\n",
              "    fill: var(--fill-color);\n",
              "    height: 32px;\n",
              "    padding: 0;\n",
              "    width: 32px;\n",
              "  }\n",
              "\n",
              "  .colab-df-quickchart:hover {\n",
              "    background-color: var(--hover-bg-color);\n",
              "    box-shadow: 0 1px 2px rgba(60, 64, 67, 0.3), 0 1px 3px 1px rgba(60, 64, 67, 0.15);\n",
              "    fill: var(--button-hover-fill-color);\n",
              "  }\n",
              "\n",
              "  .colab-df-quickchart-complete:disabled,\n",
              "  .colab-df-quickchart-complete:disabled:hover {\n",
              "    background-color: var(--disabled-bg-color);\n",
              "    fill: var(--disabled-fill-color);\n",
              "    box-shadow: none;\n",
              "  }\n",
              "\n",
              "  .colab-df-spinner {\n",
              "    border: 2px solid var(--fill-color);\n",
              "    border-color: transparent;\n",
              "    border-bottom-color: var(--fill-color);\n",
              "    animation:\n",
              "      spin 1s steps(1) infinite;\n",
              "  }\n",
              "\n",
              "  @keyframes spin {\n",
              "    0% {\n",
              "      border-color: transparent;\n",
              "      border-bottom-color: var(--fill-color);\n",
              "      border-left-color: var(--fill-color);\n",
              "    }\n",
              "    20% {\n",
              "      border-color: transparent;\n",
              "      border-left-color: var(--fill-color);\n",
              "      border-top-color: var(--fill-color);\n",
              "    }\n",
              "    30% {\n",
              "      border-color: transparent;\n",
              "      border-left-color: var(--fill-color);\n",
              "      border-top-color: var(--fill-color);\n",
              "      border-right-color: var(--fill-color);\n",
              "    }\n",
              "    40% {\n",
              "      border-color: transparent;\n",
              "      border-right-color: var(--fill-color);\n",
              "      border-top-color: var(--fill-color);\n",
              "    }\n",
              "    60% {\n",
              "      border-color: transparent;\n",
              "      border-right-color: var(--fill-color);\n",
              "    }\n",
              "    80% {\n",
              "      border-color: transparent;\n",
              "      border-right-color: var(--fill-color);\n",
              "      border-bottom-color: var(--fill-color);\n",
              "    }\n",
              "    90% {\n",
              "      border-color: transparent;\n",
              "      border-bottom-color: var(--fill-color);\n",
              "    }\n",
              "  }\n",
              "</style>\n",
              "\n",
              "  <script>\n",
              "    async function quickchart(key) {\n",
              "      const quickchartButtonEl =\n",
              "        document.querySelector('#' + key + ' button');\n",
              "      quickchartButtonEl.disabled = true;  // To prevent multiple clicks.\n",
              "      quickchartButtonEl.classList.add('colab-df-spinner');\n",
              "      try {\n",
              "        const charts = await google.colab.kernel.invokeFunction(\n",
              "            'suggestCharts', [key], {});\n",
              "      } catch (error) {\n",
              "        console.error('Error during call to suggestCharts:', error);\n",
              "      }\n",
              "      quickchartButtonEl.classList.remove('colab-df-spinner');\n",
              "      quickchartButtonEl.classList.add('colab-df-quickchart-complete');\n",
              "    }\n",
              "    (() => {\n",
              "      let quickchartButtonEl =\n",
              "        document.querySelector('#df-fa11e0b6-719e-4399-a789-b3efcccf60d7 button');\n",
              "      quickchartButtonEl.style.display =\n",
              "        google.colab.kernel.accessAllowed ? 'block' : 'none';\n",
              "    })();\n",
              "  </script>\n",
              "</div>\n",
              "\n",
              "    </div>\n",
              "  </div>\n"
            ],
            "application/vnd.google.colaboratory.intrinsic+json": {
              "type": "dataframe",
              "variable_name": "recipe_df"
            }
          },
          "metadata": {},
          "execution_count": 5
        }
      ],
      "source": [
        "# Load the data and inspect a few rows\n",
        "\n",
        "recipe_df = pd.read_pickle('recipe_df.pkl')\n",
        "\n",
        "print('Records in dataframe:',len(recipe_df))\n",
        "recipe_df.head()\n"
      ]
    },
    {
      "cell_type": "code",
      "execution_count": null,
      "metadata": {
        "colab": {
          "base_uri": "https://localhost:8080/"
        },
        "id": "bZk78CeVoJwZ",
        "outputId": "a7f44790-9cd7-4e21-e000-c7bdec96e1a7"
      },
      "outputs": [
        {
          "output_type": "stream",
          "name": "stdout",
          "text": [
            "RECIPE 1: \n",
            "\n",
            "key_id: 05zEpbSqcs9E0rcnCJWyZ9OgdH0MLby\n",
            "\n",
            "\n",
            "title: Christmas Eggnog \n",
            "\n",
            "\n",
            "ingredients: 12 egg whites\n",
            "12 egg yolks\n",
            "1 1/2 cups sugar\n",
            "3/4 cup rye whiskey\n",
            "12 egg whites\n",
            "3/4 cup brandy\n",
            "1/2 cup rum\n",
            "1 to 2 cups heavy cream, lightly whipped\n",
            "Garnish: ground nutmeg\n",
            "\n",
            "\n",
            "instructions: Beat the egg whites until stiff, gradually adding in 3/4 cup sugar. Set aside. Beat the egg yolks until they are thick and pale and add the other 3/4 cup sugar and stir in rye whiskey. Blend well. Fold the egg white mixture into the yolk mixture and add the brandy and the rum. Beat the mixture well. To serve, fold the lightly whipped heavy cream into the eggnog. (If a thinner mixture is desired, add the heavy cream unwhipped.) Sprinkle the top of the eggnog with the nutmeg to taste. \n",
            "\n",
            "\n",
            "\n",
            "RECIPE 2: \n",
            "\n",
            "key_id: mF5SZmoqxF4WtIlhLRvzuKk.z6s7P2S\n",
            "\n",
            "\n",
            "title: Veal, Carrot and Chestnut Ragoût \n",
            "\n",
            "\n",
            "ingredients: 18 fresh chestnuts\n",
            "2 1/2 pounds veal stew meat, cut into 2x1-inch pieces\n",
            "4 tablespoons olive oil\n",
            "1 1/2 cups chopped onion\n",
            "1 1/2 tablespoons chopped garlic\n",
            "1 bay leaf\n",
            "2 1/2 cups canned low-salt chicken broth\n",
            "3/4 cup dry white wine\n",
            "6 medium carrots, peeled, cut into 1-inch pieces\n",
            "3 tablespoons chopped fresh sage\n",
            "\n",
            "\n",
            "instructions: Preheat oven to 400 degrees F. Using small sharp knife, cut an X in each chestnut. Place in roasting pan. Bake until tender and shells loosen, about 35 minutes. Cool slightly. Remove hard shell and papery brown skin from each nut. Set nuts aside. Pat veal pieces dry with paper towels. Sprinkle with salt and pepper. Heat 2 tablespoons oil in heavy large pot over medium-high heat. Working in batches, add veal to pot and cook until brown on all sides, about 10 minutes. Using slotted spoon, transfer veal to large bowl. Heat 2 tablespoons oil in same pot. Add onion, garlic and bay leaf. Reduce heat to medium; cover and cook until onion is tender, stirring occasionally, about 5 minutes. Stir in broth and wine. Add veal and any accumulated juices from bowl. Bring to boil. Reduce heat. Cover; simmer 45 minutes, stirring occasionally. Add carrots to stew. Cover and cook until carrots are almost tender, about 25 minutes. Uncover and cook until meat is very tender and liquid is reduced to thin sauce consistency, about 25 minutes longer. Stir in nuts and sage. Simmer until nuts are heated through, about 3 minutes. Discard bay leaf. Transfer ragout to bowl. Set nuts aside. Using slotted spoon, transfer veal to large bowl. Cover; simmer 45 minutes, stirring occasionally. \n",
            "\n",
            "\n",
            "\n",
            "RECIPE 3: \n",
            "\n",
            "key_id: oQV5D7cVbCFwmrDs3pBUv2y.AG0WV26\n",
            "\n",
            "\n",
            "title: Caramelized Bread Pudding with Chocolate and Cinnamon \n",
            "\n",
            "\n",
            "ingredients: 2 tablespoons unsalted butter, softened\n",
            "4 or 5 slices brioche, or good quality white bread (I like Pepperidge Farm), 1/4 inch thick, crusts removed\n",
            "3 extra-large eggs\n",
            "2 extra-large egg yolks\n",
            "1/4 cup brown sugar\n",
            "1 1/2 cups heavy cream\n",
            "1 1/4 cups whole milk\n",
            "1 teaspoon pure vanilla extract\n",
            "1/2 teaspoon ground cinnamon\n",
            "1/4 teaspoon freshly grated nutmeg\n",
            "1/4 teaspoon kosher salt\n",
            "3/4 cup chopped bittersweet chocolate\n",
            "1 tablespoon granulated sugar, for caramelizing the top\n",
            "\n",
            "\n",
            "instructions: Preheat the oven to 350 degrees F. Spread the softened butter on one side of the brioche. Cut each slice in half on the diagonal and then again into quarters. Whisk together the eggs, egg yolks, and brown sugar in a large bowl. Add the cream, milk, vanilla, cinnamon, nutmeg, and salt, whisking to combine well. Sprinkle the chocolate over the bottom of a 9-by-9-inch (or equivalent) baking dish. Arrange the brioche, buttered side up, with slices overlapping just slightly, on the chocolate (there should be just a single layer of bread). Pour the custard over the bread, pressing down with your fingers to make sure the bread soaks it up. Place the bread pudding in a roasting pan, and pour warm water into the pan to come halfway up the sides of the pudding dish. Bake about 1 hour and 15 minutes, until the custard is set and the bread puffs up slightly. The pudding will be springy to the touch. Let the bread pudding cool at least 10 minutes. If you have a kitchen blowtorch, sprinkle the sugar over the top, and torch to brown and caramelize. You could run the pudding under the broiler to caramelize if you don’t have a torch, but be careful not to curdle the custard underneath. Serve the bread pudding from the baking dish at the table, using a big spoon. Preheat the oven to 350 degrees F. Cut each slice in half on the diagonal and then again into quarters. Add the cream, milk, vanilla, cinnamon, nutmeg, and salt, whisking to combine well. The pudding will be springy to the touch. Let the bread pudding cool at least 10 minutes. You could run the pudding under the broiler to caramelize if you don’t have a torch, but be careful not to curdle the custard underneath. \n",
            "\n",
            "\n",
            "\n",
            "RECIPE 4: \n",
            "\n",
            "key_id: Z9seBJWaB5NkSp4DQHDnCAUBTwov/1u\n",
            "\n",
            "\n",
            "title: Sherried Stilton and Green Peppercorn Spread \n",
            "\n",
            "\n",
            "ingredients: 3/4 pound Stilton, crumbled (about 3 cups) and softened\n",
            "6 ounces cream cheese, softened\n",
            "2 to 3 tablespoons drained green peppercorns packed in brine\n",
            "1/4 cup medium-dry Sherry, or to taste\n",
            "\n",
            "\n",
            "instructions: In a food processor blend the Stilton, the cream cheese, the peppercorns to taste, the Sherry, and salt and pepper to taste until the mixture is smooth and transfer the spread to crocks or ramekins. The spread keeps, covered and chilled, for 1 week. Serve the spread with crackers. \n",
            "\n",
            "\n",
            "\n",
            "RECIPE 5: \n",
            "\n",
            "key_id: bB3GxoAplVZeoX3fzWNWyeECtQFxw6G\n",
            "\n",
            "\n",
            "title: Almond-Chocolate Macaroons \n",
            "\n",
            "\n",
            "ingredients: 2 cups (about 9 1/2 ounces) whole almonds, toasted\n",
            "1 cup sugar\n",
            "1/4 teaspoon ground cinnamon\n",
            "1/8 teaspoon salt\n",
            "1 large egg\n",
            "2 large egg white\n",
            "1/4 teaspoon almond extract\n",
            "3/4 cup finely chopped bittersweet (not unsweetened) or semisweet chocolate\n",
            "\n",
            "\n",
            "instructions: Position rack in center of oven and preheat to 350 degrees F. Line 2 heavy large baking sheets with foil. Butter foil and dust with flour. Finely grind almonds, sugar, cinnamon and salt in processor. Add egg, egg white and almond extract and process until mixture holds together. Transfer to bowl. Stir in chocolate. Using moistened hands, roll mixture into 1-inch balls and place on prepared sheets. Flatten to 1/3-inch thick rounds. Bake macaroons until tops puff and centers are still soft, about 12 minutes. Transfer to rack and cool completely. Store in airtight container at room temperature. (Can be prepared 3 days ahead.)\n",
            "Stir in chocolate. \n",
            "\n",
            "\n",
            "\n"
          ]
        }
      ],
      "source": [
        "# Print some examples\n",
        "\n",
        "for index in range(5):\n",
        "    print(f\"RECIPE {index + 1}: \\n\")\n",
        "    for col in recipe_df.columns:\n",
        "        print(f\"{col}: {recipe_df.loc[index, col]}\")\n",
        "        print('\\n')\n",
        "    print()\n"
      ]
    },
    {
      "cell_type": "code",
      "execution_count": null,
      "metadata": {
        "colab": {
          "base_uri": "https://localhost:8080/"
        },
        "id": "3yXcQlb2HOSU",
        "outputId": "00d133c7-48ee-44bb-806f-5ad9626fd932"
      },
      "outputs": [
        {
          "output_type": "stream",
          "name": "stdout",
          "text": [
            "RECIPE 1: \n",
            "\n",
            "key_id: 05zEpbSqcs9E0rcnCJWyZ9OgdH0MLby\n",
            "\n",
            "\n",
            "title: christmas eggnog \n",
            "\n",
            "\n",
            "ingredients: 12 egg whites. 12 egg yolks. 1 12 cups sugar. 34 cup rye whiskey. 12 egg whites. 34 cup brandy. 12 cup rum. 1 to 2 cups heavy cream lightly whipped. garnish ground nutmeg\n",
            "\n",
            "\n",
            "instructions: beat the egg whites until stiff gradually adding in 34 cup sugar. set aside. beat the egg yolks until they are thick and pale and add the other 34 cup sugar and stir in rye whiskey. blend well. fold the egg white mixture into the yolk mixture and add the brandy and the rum. beat the mixture well. to serve fold the lightly whipped heavy cream into the eggnog.  sprinkle the top of the eggnog with the nutmeg to taste. \n",
            "\n",
            "\n",
            "\n",
            "RECIPE 2: \n",
            "\n",
            "key_id: mF5SZmoqxF4WtIlhLRvzuKk.z6s7P2S\n",
            "\n",
            "\n",
            "title: veal carrot and chestnut ragout \n",
            "\n",
            "\n",
            "ingredients: 18 fresh chestnuts. 2 12 pounds veal stew meat cut into 2x1 inch pieces. 4 tablespoons olive oil. 1 12 cups chopped onion. 1 12 tablespoons chopped garlic. 1 bay leaf. 2 12 cups canned low salt chicken broth. 34 cup dry white wine. 6 medium carrots peeled cut into 1 inch pieces. 3 tablespoons chopped fresh sage\n",
            "\n",
            "\n",
            "instructions: preheat oven to 400 degrees f. using small sharp knife cut an x in each chestnut. place in roasting pan. bake until tender and shells loosen about 35 minutes. cool slightly. remove hard shell and papery brown skin from each nut. set nuts aside. pat veal pieces dry with paper towels. sprinkle with salt and pepper. heat 2 tablespoons oil in heavy large pot over medium high heat. working in batches add veal to pot and cook until brown on all sides about 10 minutes. using slotted spoon transfer veal to large bowl. heat 2 tablespoons oil in same pot. add onion garlic and bay leaf. reduce heat to medium cover and cook until onion is tender stirring occasionally about 5 minutes. stir in broth and wine. add veal and any accumulated juices from bowl. bring to boil. reduce heat. cover simmer 45 minutes stirring occasionally. add carrots to stew. cover and cook until carrots are almost tender about 25 minutes. uncover and cook until meat is very tender and liquid is reduced to thin sauce consistency about 25 minutes longer. stir in nuts and sage. simmer until nuts are heated through about 3 minutes. discard bay leaf. transfer ragout to bowl. set nuts aside. using slotted spoon transfer veal to large bowl. cover simmer 45 minutes stirring occasionally. \n",
            "\n",
            "\n",
            "\n",
            "RECIPE 3: \n",
            "\n",
            "key_id: oQV5D7cVbCFwmrDs3pBUv2y.AG0WV26\n",
            "\n",
            "\n",
            "title: caramelized bread pudding with chocolate and cinnamon \n",
            "\n",
            "\n",
            "ingredients: 2 tablespoons unsalted butter softened. 4 or 5 slices brioche or good quality white bread  14 inch thick crusts removed. 3 extra large eggs. 2 extra large egg yolks. 14 cup brown sugar. 1 12 cups heavy cream. 1 14 cups whole milk. 1 teaspoon pure vanilla extract. 12 teaspoon ground cinnamon. 14 teaspoon freshly grated nutmeg. 14 teaspoon kosher salt. 34 cup chopped bittersweet chocolate. 1 tablespoon granulated sugar for caramelizing the top\n",
            "\n",
            "\n",
            "instructions: preheat the oven to 350 degrees f. spread the softened butter on one side of the brioche. cut each slice in half on the diagonal and then again into quarters. whisk together the eggs egg yolks and brown sugar in a large bowl. add the cream milk vanilla cinnamon nutmeg and salt whisking to combine well. sprinkle the chocolate over the bottom of a 9 by 9 inch  baking dish. arrange the brioche buttered side up with slices overlapping just slightly on the chocolate . pour the custard over the bread pressing down with your fingers to make sure the bread soaks it up. place the bread pudding in a roasting pan and pour warm water into the pan to come halfway up the sides of the pudding dish. bake about 1 hour and 15 minutes until the custard is set and the bread puffs up slightly. the pudding will be springy to the touch. let the bread pudding cool at least 10 minutes. if you have a kitchen blowtorch sprinkle the sugar over the top and torch to brown and caramelize. you could run the pudding under the broiler to caramelize if you dont have a torch but be careful not to curdle the custard underneath. serve the bread pudding from the baking dish at the table using a big spoon. preheat the oven to 350 degrees f. cut each slice in half on the diagonal and then again into quarters. add the cream milk vanilla cinnamon nutmeg and salt whisking to combine well. the pudding will be springy to the touch. let the bread pudding cool at least 10 minutes. you could run the pudding under the broiler to caramelize if you dont have a torch but be careful not to curdle the custard underneath. \n",
            "\n",
            "\n",
            "\n",
            "RECIPE 4: \n",
            "\n",
            "key_id: Z9seBJWaB5NkSp4DQHDnCAUBTwov/1u\n",
            "\n",
            "\n",
            "title: sherried stilton and green peppercorn spread \n",
            "\n",
            "\n",
            "ingredients: 34 pound stilton crumbled  and softened. 6 ounces cream cheese softened. 2 to 3 tablespoons drained green peppercorns packed in brine. 14 cup medium dry sherry or to taste\n",
            "\n",
            "\n",
            "instructions: in a food processor blend the stilton the cream cheese the peppercorns to taste the sherry and salt and pepper to taste until the mixture is smooth and transfer the spread to crocks or ramekins. the spread keeps covered and chilled for 1 week. serve the spread with crackers. \n",
            "\n",
            "\n",
            "\n",
            "RECIPE 5: \n",
            "\n",
            "key_id: bB3GxoAplVZeoX3fzWNWyeECtQFxw6G\n",
            "\n",
            "\n",
            "title: almond chocolate macaroons \n",
            "\n",
            "\n",
            "ingredients: 2 cups  whole almonds toasted. 1 cup sugar. 14 teaspoon ground cinnamon. 18 teaspoon salt. 1 large egg. 2 large egg white. 14 teaspoon almond extract. 34 cup finely chopped bittersweet  or semisweet chocolate\n",
            "\n",
            "\n",
            "instructions: position rack in center of oven and preheat to 350 degrees f. line 2 heavy large baking sheets with foil. butter foil and dust with flour. finely grind almonds sugar cinnamon and salt in processor. add egg egg white and almond extract and process until mixture holds together. transfer to bowl. stir in chocolate. using moistened hands roll mixture into 1 inch balls and place on prepared sheets. flatten to 13 inch thick rounds. bake macaroons until tops puff and centers are still soft about 12 minutes. transfer to rack and cool completely. store in airtight container at room temperature. . stir in chocolate. \n",
            "\n",
            "\n",
            "\n"
          ]
        }
      ],
      "source": [
        "# Some additional preprocessing beyond what is done in the other script\n",
        "\n",
        "# Function to preprocess key text fields\n",
        "def preprocess_text(text):\n",
        "    # Convert to lowercase\n",
        "    text = text.lower()\n",
        "    # Remove accented characters and normalize text\n",
        "    text = unicodedata.normalize('NFKD', text).encode('ascii', 'ignore').decode('utf-8')\n",
        "    # Remove text between parentheses\n",
        "    text = re.sub(r'\\([^()]*\\)', '', text)\n",
        "    # Replace newline characters with space\n",
        "    text = text.replace('\\n', '. ')\n",
        "    # Replace '-' with spaces\n",
        "    text = text.replace('-', ' ')\n",
        "    # Insert space after comma if not already present\n",
        "    text = re.sub(r'(?<=\\w),(?=\\w)', ', ', text)\n",
        "    # Remove asterisks\n",
        "    text = text.replace('*', '')\n",
        "    # Remove punctuation\n",
        "    text = re.sub(r'[^\\w\\s.]', '', text)\n",
        "    return text\n",
        "\n",
        "# Apply preprocessing to all necessary columns\n",
        "for col in ['title', 'ingredients','instructions']:\n",
        "    recipe_df[col] = recipe_df[col].apply(preprocess_text)\n",
        "\n",
        "for index in range(5):  # Iterate through the first five rows to take a look at the output\n",
        "    print(f\"RECIPE {index + 1}: \\n\")\n",
        "    for col in recipe_df.columns:\n",
        "        print(f\"{col}: {recipe_df.loc[index, col]}\")\n",
        "        print('\\n')\n",
        "    print()"
      ]
    },
    {
      "cell_type": "markdown",
      "source": [
        "# Small Word2Vec model (NOT USED!)\n",
        "\n",
        "Included to demonstrate some initial embedding experimentation that was done. Ultimately, GloVe embeddings (see below) were used instead.\n",
        "This small embedding model is trained from scratch from a sample of Wikipedia"
      ],
      "metadata": {
        "id": "UCPLL_l8S5Br"
      }
    },
    {
      "cell_type": "code",
      "source": [
        "import gensim.downloader as api\n",
        "from gensim.models import Word2Vec\n",
        "\n",
        "# Load a corpus or dataset for training an embedding model\n",
        "corpus = api.load('text8')\n",
        "api.info(\"text8\")  # retrieve information about text8 dataset\n"
      ],
      "metadata": {
        "colab": {
          "base_uri": "https://localhost:8080/"
        },
        "id": "g_9wdLIWTwSG",
        "outputId": "82e21ec1-c940-4ba4-a09f-46da1f6fd119"
      },
      "execution_count": 1,
      "outputs": [
        {
          "output_type": "stream",
          "name": "stdout",
          "text": [
            "[==================================================] 100.0% 31.6/31.6MB downloaded\n"
          ]
        },
        {
          "output_type": "execute_result",
          "data": {
            "text/plain": [
              "{'num_records': 1701,\n",
              " 'record_format': 'list of str (tokens)',\n",
              " 'file_size': 33182058,\n",
              " 'reader_code': 'https://github.com/RaRe-Technologies/gensim-data/releases/download/text8/__init__.py',\n",
              " 'license': 'not found',\n",
              " 'description': 'First 100,000,000 bytes of plain text from Wikipedia. Used for testing purposes; see wiki-english-* for proper full Wikipedia datasets.',\n",
              " 'checksum': '68799af40b6bda07dfa47a32612e5364',\n",
              " 'file_name': 'text8.gz',\n",
              " 'read_more': ['http://mattmahoney.net/dc/textdata.html'],\n",
              " 'parts': 1}"
            ]
          },
          "metadata": {},
          "execution_count": 1
        }
      ]
    },
    {
      "cell_type": "code",
      "source": [
        "# Train Word2Vec model with some vocabulary size and embedding dimension\n",
        "vec_model = Word2Vec(sentences=corpus, vector_size=20, window=7, min_count=5, workers=4)\n",
        "\n",
        "# Save the trained Word2Vec model\n",
        "vec_model.save(\"word2vec_model\")"
      ],
      "metadata": {
        "colab": {
          "base_uri": "https://localhost:8080/"
        },
        "id": "75jJyNhZUAib",
        "outputId": "1c69103b-a581-43a7-9d64-6faf33c202c2"
      },
      "execution_count": 2,
      "outputs": [
        {
          "output_type": "stream",
          "name": "stdout",
          "text": [
            "[==================================================] 100.0% 31.6/31.6MB downloaded\n"
          ]
        }
      ]
    },
    {
      "cell_type": "code",
      "source": [
        "\n",
        "# Constants for special tokens\n",
        "UNK_TOKEN = '<UNK>'\n",
        "START_TOKEN = '<START>'\n",
        "END_TOKEN = '<END>'\n",
        "PAD_TOKEN = '<PAD>'\n",
        "NUM_TOKEN = '<NUM>'\n",
        "SPECIAL_TOKENS = [UNK_TOKEN, START_TOKEN, END_TOKEN, PAD_TOKEN, NUM_TOKEN]\n",
        "\n",
        "# Initialize vocab dictionary\n",
        "EMBEDDING_DIM = vec_model.vector_size\n",
        "vocab_size = len(vec_model.wv.key_to_index) + len(SPECIAL_TOKENS)\n",
        "embedding_matrix = np.zeros((vocab_size, EMBEDDING_DIM))\n",
        "print('Embedding matrix shape is:', embedding_matrix.shape)\n",
        "vocab_dict = {}\n",
        "\n",
        "# Build the embedding matrix and vocabulary dictionary\n",
        "for i, word in enumerate(vec_model.wv.index_to_key):\n",
        "    embedding_vector = vec_model.wv[word]\n",
        "\n",
        "    # Assign the embedding vector to the embedding matrix\n",
        "    embedding_matrix[i] = embedding_vector\n",
        "    vocab_dict[word] = i\n",
        "\n",
        "# Add embeddings for special tokens\n",
        "for i, token in enumerate(SPECIAL_TOKENS, start=len(vec_model.wv.index_to_key)):\n",
        "    if token == PAD_TOKEN:\n",
        "        # Use zero vectors for padding token\n",
        "        embedding_matrix[i] = np.zeros(EMBEDDING_DIM)\n",
        "    elif token in {UNK_TOKEN, START_TOKEN, END_TOKEN, NUM_TOKEN}:\n",
        "        # Use a random vector for unknown, start, end, and num tokens\n",
        "        embedding_matrix[i] = np.random.randn(EMBEDDING_DIM)\n",
        "    else:\n",
        "        # Handle other special tokens here if needed\n",
        "        pass\n",
        "\n",
        "    vocab_dict[token] = i\n",
        "\n",
        "# Swap keys and values in the dictionary for easy lookup later on\n",
        "word_to_token_dict = {v: k for k, v in vocab_dict.items()}\n"
      ],
      "metadata": {
        "colab": {
          "base_uri": "https://localhost:8080/"
        },
        "id": "LYqnVhZ5UhSA",
        "outputId": "76445e8b-a5a6-490d-b09d-c0b78fb0fba3"
      },
      "execution_count": 3,
      "outputs": [
        {
          "output_type": "stream",
          "name": "stdout",
          "text": [
            "Embedding matrix shape is: (71295, 20)\n"
          ]
        }
      ]
    },
    {
      "cell_type": "markdown",
      "source": [
        "#GloVe Embeddings (used for rest of notebook)"
      ],
      "metadata": {
        "id": "vfeJcOVxr2Bd"
      }
    },
    {
      "cell_type": "code",
      "execution_count": null,
      "metadata": {
        "colab": {
          "base_uri": "https://localhost:8080/"
        },
        "id": "g1H8mueYZPes",
        "outputId": "eb741657-066d-4fc9-cd8e-33b95b6c9aa1"
      },
      "outputs": [
        {
          "output_type": "stream",
          "name": "stdout",
          "text": [
            "Loading model locally...\n",
            "Model loaded.\n"
          ]
        }
      ],
      "source": [
        "import gensim.downloader as api\n",
        "import os\n",
        "from gensim.models import KeyedVectors\n",
        "\n",
        "#model_name = \"glove-wiki-gigaword-50\"\n",
        "model_name = \"glove-wiki-gigaword-100\"\n",
        "#save_model_name = \"glove_model.bin\"\n",
        "save_model_name = \"glove_model_100.bin\"\n",
        "\n",
        "# Create the model path by concatenating cwd and model name\n",
        "model_path = os.path.join(os.getcwd(), save_model_name)\n",
        "\n",
        "# Check if the model file exists locally\n",
        "if os.path.exists(model_path):\n",
        "    print(\"Loading model locally...\")\n",
        "    # Load the model from the local file\n",
        "    vec_model = KeyedVectors.load(model_path)\n",
        "else:\n",
        "    # Download the GloVe model\n",
        "    print(\"Downloading and saving model...\")\n",
        "    vec_model = api.load(model_name)\n",
        "    # Save the downloaded model to a local file\n",
        "    vec_model.save(model_path)\n",
        "\n",
        "print(\"Model loaded.\")\n"
      ]
    },
    {
      "cell_type": "code",
      "execution_count": null,
      "metadata": {
        "colab": {
          "base_uri": "https://localhost:8080/"
        },
        "id": "YBq-OTIileDY",
        "outputId": "cddd686f-b6e6-4886-ed50-6e491bcc69fc"
      },
      "outputs": [
        {
          "output_type": "stream",
          "name": "stderr",
          "text": [
            "[nltk_data] Downloading package punkt to /root/nltk_data...\n",
            "[nltk_data]   Unzipping tokenizers/punkt.zip.\n",
            "[nltk_data] Downloading package punkt to /root/nltk_data...\n",
            "[nltk_data]   Package punkt is already up-to-date!\n"
          ]
        },
        {
          "output_type": "execute_result",
          "data": {
            "text/plain": [
              "True"
            ]
          },
          "metadata": {},
          "execution_count": 7
        }
      ],
      "source": [
        "import nltk\n",
        "nltk.download('punkt')\n",
        "from nltk.tokenize import word_tokenize\n",
        "\n",
        "# Download NLTK resources\n",
        "nltk.download('punkt')"
      ]
    },
    {
      "cell_type": "code",
      "execution_count": null,
      "metadata": {
        "id": "6pMVyKqjYVeo"
      },
      "outputs": [],
      "source": [
        "# Tokenize text\n",
        "def tokenize_text(text):\n",
        "    return word_tokenize(text.lower())\n",
        "\n",
        "# Tokenize data\n",
        "tokenized_titles = [tokenize_text(title) for title in recipe_df['title']]\n",
        "tokenized_ingredients = [tokenize_text(ingredients) for ingredients in recipe_df['ingredients']]\n",
        "tokenized_instructions = [tokenize_text(instructions) for instructions in recipe_df['instructions']]\n"
      ]
    },
    {
      "cell_type": "code",
      "execution_count": null,
      "metadata": {
        "id": "jwPkwxj6vICu"
      },
      "outputs": [],
      "source": [
        "# Set max lengths for the encoder elements (titles and ingredients) and the decoder elements (instructions)\n",
        "\n",
        "MAX_LENGTH_ENCODER = 95\n",
        "MAX_LENGTH_DECODER = 260\n"
      ]
    },
    {
      "cell_type": "code",
      "execution_count": null,
      "metadata": {
        "id": "6A92fHnibwzR"
      },
      "outputs": [],
      "source": [
        "# Define a function to identify records that are longer than some length threshold and remove them from all lists\n",
        "\n",
        "def remove_elements_over_threshold(tokenized_lists, thresholds):\n",
        "    # Initialize list to store indices over the threshold for each list\n",
        "    indices_over_threshold = [[] for _ in range(len(tokenized_lists))]\n",
        "\n",
        "    # Find indices over the threshold for each list\n",
        "    for idx, (tokenized_list, threshold) in enumerate(zip(tokenized_lists, thresholds)):\n",
        "        indices_over_threshold[idx].extend([i for i, item in enumerate(tokenized_list) if len(item) > threshold])\n",
        "\n",
        "    # Flatten the list of indices\n",
        "    indices_over_threshold = [index for sublist in indices_over_threshold for index in sublist]\n",
        "\n",
        "    # Remove duplicate indices\n",
        "    indices_over_threshold = list(set(indices_over_threshold))\n",
        "\n",
        "    # Remove elements with identified indices from all lists\n",
        "    for i in sorted(indices_over_threshold, reverse=True):\n",
        "        for tokenized_list in tokenized_lists:\n",
        "            del tokenized_list[i]\n",
        "\n",
        "    return tokenized_lists\n",
        "\n",
        "# Set the thresholds for each list\n",
        "thresholds = [MAX_LENGTH_ENCODER, MAX_LENGTH_ENCODER, MAX_LENGTH_DECODER]  # Thresholds for titles, ingredients, and instructions respectively\n",
        "\n",
        "# Combine all tokenized lists into a single list for processing\n",
        "all_tokenized_lists = [tokenized_titles, tokenized_ingredients, tokenized_instructions]\n",
        "\n",
        "# Remove elements over the threshold from all lists\n",
        "tokenized_titles, tokenized_ingredients, tokenized_instructions = remove_elements_over_threshold(all_tokenized_lists, thresholds)\n"
      ]
    },
    {
      "cell_type": "code",
      "source": [
        "# Define the initial vocabulary dictionary\n",
        "\n",
        "# First, special tokens\n",
        "UNK_TOKEN = '<UNK>'\n",
        "START_TOKEN = '<START>'\n",
        "END_TOKEN = '<END>'\n",
        "PAD_TOKEN = '<PAD>'\n",
        "NUM_TOKEN = '<NUM>'\n",
        "SPECIAL_TOKENS = [UNK_TOKEN, START_TOKEN, END_TOKEN, PAD_TOKEN, NUM_TOKEN]\n",
        "\n",
        "# Initialize vocab dictionary\n",
        "vocab_dict = {}\n",
        "\n",
        "# Build the embedding matrix and vocabulary dictionary\n",
        "for i, word in enumerate(vec_model.index_to_key):\n",
        "    embedding_vector = vec_model[word]\n",
        "\n",
        "    if embedding_vector is not None:\n",
        "        vocab_dict[word] = i\n",
        "\n",
        "# Add embeddings for special tokens\n",
        "for i, token in enumerate(SPECIAL_TOKENS, start=len(vec_model)):\n",
        "    vocab_dict[token] = i\n",
        "\n",
        "# Swap keys and values in the dictionary for easy lookup later on\n",
        "word_to_index_dict = {v: k for k, v in vocab_dict.items()}\n",
        "print(len(vocab_dict))\n"
      ],
      "metadata": {
        "id": "5eCrTHllxd0t",
        "colab": {
          "base_uri": "https://localhost:8080/"
        },
        "outputId": "81a2b99b-6fa4-4564-b7af-04a3f8097800"
      },
      "execution_count": null,
      "outputs": [
        {
          "output_type": "stream",
          "name": "stdout",
          "text": [
            "400005\n"
          ]
        }
      ]
    },
    {
      "cell_type": "markdown",
      "source": [
        "Let's take a quick look at the words NOT captured in the vocabulary dictionary to help validate the dictionary was set up correctly. These are indeed mostly obscure culinary terminology and non-English words."
      ],
      "metadata": {
        "id": "YW_TcWZSVa8U"
      }
    },
    {
      "cell_type": "code",
      "execution_count": null,
      "metadata": {
        "colab": {
          "base_uri": "https://localhost:8080/"
        },
        "id": "7LBu-jVLxEib",
        "outputId": "73ab8a29-c2c2-4460-ef0e-44db2f2b4755"
      },
      "outputs": [
        {
          "output_type": "stream",
          "name": "stdout",
          "text": [
            "Unknown words: ['sherried', 'labneh', 'parsleyed', 'lindas', 'bertas', 'acini', 'brodo', 'straciatella', 'onaise', 'cacio', 'fritchs', 'brisee', 'oeufs', 'ditalini', 'paillards', 'printanier', 'zachs', 'vadouvan', 'nopalito', 'sangaree', 'castelmagno', 'charentais', 'enfrijoladas', 'saganaki', 'johnnycake', 'mizrahis', 'helva', 'womanhattan', 'schraffts', 'parmeggiano', 'peperonata', 'rucola', 'allamatriciana', 'reichls', 'sandmartin', 'neelys', 'skyr', 'crumbed', 'ssam', 'spatzle', 'creamhorseradish', 'beeritas', 'neeo', 'avgolemono', 'biscochitos', 'spumoni', 'farls', 'linzertorte', 'arrabiata', 'gratineed', 'pruitts', 'bourguignonne', 'gnocchetti', 'hoecakes', 'jumbuck', 'wholewheat', 'salbixtada', 'smores', 'pbjs', 'mutabal', 'honeynut', 'anadama', 'peanutty', 'mascerated', 'haddie', 'duqqa', 'semifreddo', 'bistecca', 'nocino', 'bourguignonne', 'panfried', 'sedariss', 'mantequilla', 'maque', 'pepperoncini', 'michelada', 'negronis', 'cinnamonchocolate', 'simones', 'pancotto', 'pouqui', 'paillards', 'charmoula', 'maltaise', 'pachetts', 'negrone', 'panfried', 'ladolemono', 'pruneaux', 'scallopini', 'viniagrette', 'pattypan', 'crostino', 'eiskaffee', 'soppressata', 'johnnycakes', 'peekytoe', 'hinsons', 'cacio', 'paillards', 'cuminseed', 'kotleti', 'veggi', 'pizzarelle', 'spiedini', 'talenti', 'affogato', 'tartes', 'tatins', 'buby', 'greybourbon', 'avgolemono', 'cozze', 'picada', 'dilled', 'confiture', 'kataifi', 'tonnato', 'pluot', 'tortelloni', 'poolish', 'panfried', 'hecks', 'cholay', 'gamberi', 'padella', 'charoset', 'rigate', 'peches', 'knowltons', 'stracciatella', 'cuminseed', 'freekeh', 'sugarginger', 'membrillo', 'dilled', 'nawlins', 'escalopes', 'scallopini', 'cavolo', 'salsicce', 'kichelkies', 'granolatopping', 'tartes', 'ichbien', 'parsleyed', 'tozzetti', 'adrias', 'zucchine', 'chayotes', 'smore', 'affogato', 'shitake', 'charmoula', 'tarama', 'glogg', 'neeo', 'vadouvan', 'gastrique', 'allamatriciana', 'bobolis', 'kaboch', 'trenette', 'carroty', 'emilys', 'buttter', 'fresas', 'coffeecakes', 'tonno', 'capperi', 'spiedini', 'dhotel', 'humita', 'toum', 'robiola', 'perciatelli', 'puntarelle', 'pizzettas', 'gastrique', 'almondine', 'rotelle', 'cynar', 'boolgogi', 'tomatocashew', 'dilled', 'avgolemono', 'poussins', 'salsicce', 'budini', 'shishito', 'epis', 'creamless', 'tabouli', 'acini', 'gimlets', 'sophisto', 'ocallaghans', 'atwoods', 'hepburns', 'sangrita', 'peperoncini', 'chenoweths', 'crusta', 'mullerin', 'frostingvanilla', 'slushie', 'vegg', 'hoptoad', 'roestis', 'arbequina', 'carlas', 'maltaise', 'balsamicred', 'anchoiade', 'poori', 'conriques', 'francescas', 'limperatrice', 'negimaki', 'rosemaryinfused', 'vadouvan', 'charmoula', 'aligot', 'vongole', 'nutbutter', 'borrachos', 'hanout', 'jaulins', 'arrabbiata', 'chermoula', 'knafe', 'brisee', 'fregola', 'crucolo', 'walterss', 'hanout', 'avgolemono', 'sorbato', 'bourguignonne', 'neelys', 'napoleans', 'chaude', 'lentilles', 'moutarde', 'pissaladiere', 'keneipp', 'lemoncello', 'chicked', 'rumbrosia', 'labneh', 'bortsch', 'batido', 'dilled', 'tsatsiki', 'smrrebrd', 'ranchy', 'labneh', 'calfs', 'orrechiette', 'trapanese', 'gladines', 'fayes', 'cavatappi', 'smrrebrd', 'butterhead', 'lillys', 'pizzaiola', 'panfried', 'nucato', 'spongecakes', 'seibels', 'pavlovas', 'cebollitas', 'asadas', 'peanutty', 'agrodolce', 'molcajete', 'gelees', 'chermoula', 'cavatappi', 'ssam', 'brisee', 'greque', 'lascourregess', 'tartines', 'muhammara', 'brulot', 'croutes', 'hasselback', 'haroseth', 'cornichon', 'pinenuts', 'enzas', 'oreganata', 'roccos', 'tapanade', 'unscotti', 'rickeys', 'acini', 'dilled', 'gelees', 'pikliz', 'naranjilla', 'molletes', 'cipolline', 'tassies', 'quaresimali', 'grissini', 'millefeuille', 'lacinato', 'bavaroise', 'shrubarb', 'brocollini', 'dilled', 'semifreddo', 'nonya', 'wellss', 'rochers', 'jarecky', 'aurelias', 'arnies', 'glacee', 'charmoula', 'labneh', 'johnnycake', 'espesado', 'frullato', 'besciamella', 'checca', 'b.l.t', 'pepperwalnut', 'cocida', 'falconiere', 'cremes', 'ghanouj', 'robiola', 'mirliton', 'paillards', 'choys', 'dukkah', 'no.ii', 'oxs', 'piperade', 'paprikas', 'parlsey', 'hanout', 'ciambella', 'biddys', 'mozzerella', 'arame', 'tartines', 'einspanner', 'broccoflower', 'tommys', 'chermoula', 'd.i.y', 'sherried', 'farfalline', 'cottas', 'oroshi', 'cakewiches', 'beadlestone', 'gingercream', 'sparkletinis', 'semifreddo', 'charoset', 'jeem', 'muhammara', 'pepas', 'berthas', 'schaumtorte', 'chermoula', 'wiches', 'greque', 'salsicce', 'ajillo', 'millss', 'panfried', 'scamorza', 'laulau', 'sloeberry', 'fregola', 'frenched', 'membrillo', 'claypot', 'rollups', 'carlas', 'matjes', 'piroshki', 'grissini', 'stracciatella', 'xuxu', 'tarama', 'charmoula', 'tarocco', 'fatoush', 'glogg', 'milkie', 'chowchow', 'sucree', 'ohitashi', 'spaccas', 'bistecca', 'arrabbiata', 'sauted', 'spongecake', 'marionberry', 'soboro', 'sybils', 'maricels', 'guanabana', 'rippee', 'trenette', 'peperoni', 'imbottiti', 'toum', 'delpheys', 'bubbys', 'refritos', 'nancys', 'linguica', 'polpette', 'cottas', 'johnnycakes', 'dukkah', 'pecancoated', 'cipolline', 'pamplemousse', 'piespice', 'cuminspiced', 'rickeys', 'spumoni', 'bruber', 'paprikash', 'nougats', 'chermoula', 'borracha', 'crustes', 'fregola', 'rehydrator', 'mangar', 'charmoula', 'pachadi', 'syllabub', 'pappadams', 'stonefruit', 'chineasy', 'buttercreams', 'no.<NUM>', 'sidewalker', 'labneh', 'reginetti', 'mattone', 'chocolatines', 'rumaki', 'ruthies', 'shakerato', 'tsatsiki', 'gribiche', 'liptauer', 'batidos', 'charmoula', 'tisserie', 'verciano', 'friands', 'gastrique', 'selfs', 'flaxels', 'coquilles', 'labneh', 'matcharita', 'paprikas', 'spicerubbed', 'larssons', 'fabios', 'hirsheimers', 'gialinas', 'freekeh', 'vinegared', 'saadas', 'tsimmes', 'elenis', 'fundido', 'omelete', 'peppadews', 'fricoparmesan', 'bourguignonne', 'koonings', 'enzas', 'natillas', 'sandies', 'smore', 'formaggi', 'persille', 'hamantaschen', 'goujons', 'broncbusters', 'louises', 'spumoni', 'yeabesha', 'gomen', 'fragole', 'gianduia', 'paillards', 'bbqs', 'corncakes', 'bacony', 'dilled', 'ginerator', 'sangaree', 'suissesse', 'dukkah', 'pisto', 'pizzaiola', 'rockefellar', 'allamatriciana', 'daisys', 'sheperds', 'bagnat', 'vingaigrette', 'luxardo', 'tartines', 'fraises', 'jeyplak', 'portabellas', 'boxty', 'xanthia', 'tartes', 'kaleslaw', 'malteds', 'saffroned', 'dilled', 'dilled', 'courge', 'recado', 'panfried', 'pandowdy', 'mariniere', 'blatjang', 'ethels', 'tzimmes', 'spiedini', 'donnies', 'tehina', 'charoset', 'rejuvelac', 'sedariss', 'oaty', 'rawmesan', 'strozzapreti', 'stracciatella', 'batido', 'agrodolce', 'hasselback', 'millionire', 'acapulqueno', 'bocconcini', 'castelrosso', 'hannahs', 'turkischer', 'scaffa', 'kedgeree', 'gianduia', 'balchao', 'risney', 'pandowdy', 'gribiche', 'charoset', 'tonnato', 'cheesemongers', 'alambre', 'eichners', 'leslies', 'gisolfi', 'tartines', 'gelees', 'carbonnade', 'eggnoggin', 'downeys', 'danners', 'shortcrust', 'comice', 'peperoncini', 'croques', 'emilias', 'croutes', 'bizcochitos', 'sisis', 'cracklins', 'bagnat', 'jeannes', 'calfs', 'hasselback', 'dilled', 'chings', 'firemans', 'tlalpeno', 'carciofi', 'keilbasa', 'parsleyred', 'michelada', 'stracciatella', 'bavarois', 'chipolte', 'agrodolce', 'cipolline', 'koffie', 'despelette', 'bagnat', 'pizzettes', 'shakerato', 'pizzaiola', 'fauxnuts', 'gelees', 'cubanelle', 'zhoug', 'laurentiiss', 'haroseth', 'brulot', 'sformato', 'negimaki', 'semifreddo', 'salmorejo', 'aperitivo', 'cranachan', 'melktert', 'makeua', 'sangrita', 'gnudi', 'orangeade', 'dilled', 'blueberryginger', 'gricia', 'phams', 'poblanas', 'croques', 'monsieurs', 'sophies', 'chilerubbed', 'katchkie', 'poboy', 'tonnarelli', 'cacio', 'jonghe', 'orangechia', 'calfs', 'quonquont', 'teleme', 'ribollita', 'peperonata', 'piperade', 'pipian', 'fundido', 'sherried', 'tyroshi', 'honeyfingers', 'frutta', 'caramellata', 'tomatoey', 'parsleyed', 'enzas', 'ogge', 'tsatsiki', 'ulanda', 'nockerl', 'ravigote', 'pizzette', 'labneh', 'chivito', 'nextover', 'griddlecakes', 'mahimahi', 'charmoula', 'piperade', 'charoset', 'saganaki', 'ploughmans', 'ditalini', 'shirleys', 'shishito', 'tomaotes', 'gribiche', 'panque', 'byrrh', 'taglierini', 'sunchoke', 'joellyns', 'pantesca', 'cacio', 'zested', 'zeppole', 'micheladas', 'affogato', 'cioccolata', 'tazza', 'bocconcini', 'smore', 'dilled', 'peperonata', 'smores', 'scallopine', 'parsleyed', 'haroseth', 'affogato', 'tsimis', 'ssam', 'amansala', 'rasmalai', 'paprikash', 'taquero', 'shakshuka', 'shakshuka', 'gimlets', 'shortbreads', 'spumanti', 'sammies', 'orangebrown', 'pappadams', 'lacinato', 'osteens', 'stracciatella', 'reichls', 'affogato', 'abinsthe', 'gratineed', 'bomboloni', 'perciatelli', 'trifolati', 'agavess', 'sobaheg', 'aguachile', 'camaron', 'bruschette', 'panfried', 'sustina', 'd.i.y', 'perciatelli', 'scallopini', 'liberaces', 'laddies', 'gargones', 'hakurei', 'pluot', 'sugarchipotle', 'betsys', 'smores', 'blueberrychia', 'michelada', 'peperonata', 'jesses', 'brodo', 'broccoflower', 'timmys', 'shakshuka', 'waikaloa', 'proscuitto', 'd.i.y', 'watermelonade', 'smores', 'crispiest', 'butterfried', 'soppressata', 'reggies', 'oricchiette', 'rigate', 'scottadito', 'currymarinated', 'dilled', 'tartines', 'budino', 'cracklins', 'mahimahi', 'peperonata', 'creamiest', 'parsleyed', 'louises', 'kurobuta', 'panfried', 'tsatsiki', 'quatres', 'mendiants', 'silkiest', 'shakerata', 'enzas', 'overstewed', 'coctel', 'kofte', 'tarator', 'mahimahi', 'tartines', 'saltfish', 'antons', 'haricorts', 'haroseth', 'tarator', 'semifreddo', 'fritto', 'barbaras', 'vinagaigrette', 'massam', 'patmores', 'anissas', 'cubanelle', 'williamss', 'papadums', 'fregola', 'shishito', 'oneals', 'peperoncini', 'rollups', 'sunchoke', 'hollys', 'beetnik', 'mexicostyle', 'patatas', 'poussins', 'tonnato', 'delucas', 'bocconcini', 'matelote', 'bourguignonne', 'kotniuk', 'reggies', 'trapanese', 'southsides', 'tikkas', 'cipolline', 'charoset', 'cacio', 'maltaise', 'croutes', 'tonnato', 'babbies', 'cashs', 'griddled', 'chremslach', 'papillotes', 'ditalini', 'parmesanblack', 'recado', 'slushies', 'affogato', 'blenton', 'baharat', 'batida', 'schreiners', 'sherried', 'flageolets', 'pimient', 'despelette', 'portabellas', 'affogato', 'haroseth', 'sbrisolona', 'scallopini', 'campanelle', 'cookiescookie', 'fritto', 'colcannon', 'rollatini', 'pandowdy', 'tagliata', 'b.l.a.bagel', 'mahimahi', 'gribenes', 'teleme', 'clemetine', 'sangaree', 'shishito', 'vigneronne', 'tassies', 'nougatine', 'campanelle', 'panakam', 'buttersriracha', 'pannacotta', 'batida', 'maque', 'boysenberries', 'claires', 'panfried', 'chipwiches', 'shakshuka', 'albondigas', 'restey', 'posset', 'alioli', 'croustades', 'pluot', 'tamarillo', 'grissini', 'strisce', 'chiantigiana', 'labneh', 'scarpariello', 'solterito', 'quinua', 'fritti', 'tzatsiki', 'brulot', 'rumaki', 'flummeries', 'scarpariello', 'semifreddo', 'barigoule', 'charmoula', 'smores', 'piquante', 'suizas', 'sweetpotato', 'encebollado', 'kugels', 'tartines', 'maxines', 'orrechiette', 'bruschette', 'capicola', 'dilled', 'anadama', 'vapeur', 'amys', 'pinenuts', 'fudgey', 'cous', 'cous', 'pariss', 'lisls', 'hoteks', 'pinenut', 'boquerones', 'poivrade', 'tartines', 'paillards', 'crespella', 'burricotti', 'sherried', 'mulligatawny', 'shakerato', 'berrywich', 'croques', 'pepperonata', 'ditalini', 'paillards', 'sbagliato', 'pizzette', 'freekeh', 'fudgies', 'southsides', 'amayas', 'bourride', 'stemperata', 'hotdish', 'olataberry', 'haroseth', 'refritos', 'drummettes', 'shakerato', 'cornichon', 'campanelle', 'zeppole', 'nojito', 'gratinata', 'ladolemono', 'rotelle', 'hamantaschen', 'laxmis', 'nonnas', 'semifreddo', 'chiangbai', 'chermoula', 'schraders', 'mujadara', 'torquatos', 'gratinee', 'strozzapreti', 'alaskas', 'shakshuka', 'mignonnette', 'panfried', 'moniques', 'strozzapreti', 'pici', 'frankenjack', 'charoset', 'fonduta', 'peperoncini', 'tournelle', 'glaceed', 'tehina', 'fattoush', 'schetta', 'souffled', 'guanabana', 'hpw', 'mahimahi', 'etuvee', 'oxheart', 'bagnat', 'applecabbage', 'apio', 'croutes', 'tabil', 'cargamanto', 'ladyfinger', 'aimees', 'colcannon', 'angs', 'chantals', 'janets', 'siggs', 'snickerdoodles', 'beths', 'jamies', 'j.p.s', 'debdoozies', 'oples', 'sarahs', 'meatloaves', 'refry', 'michigander', 'ebnb', 'sopapilla', 'greekhouse', 'fettuccini', 'alysons', 'judys', 'connies', 'lindas', 'mulligatawny', 'eileens', 'k.c', 'robbis', 'sukis', 'charleys', 'cathys', 'megans', 'arrabiata', 'adriennes', 'pepperoncini', 'familys', 'amys', 'libbys', 'amys', 'darias', 'aimees', 'sophies', 'emilys', 'sarges', 'vandorens', 'peppys', 'snickerdoodles', 'sarahs', 'beths', 'beckys', 'hashbrown', 'jenns', 'hootycreeks', 'kathys', 'suzys', 'siggs', 'sarahs', 'janines', 'dianes', 'colcannon', 'siggs', 'creamiest', 'sylvias', 'k.s', 'youve', 'sopapilla', 'whits', 'eileens', 'cindys', 'vickis', 'jimmys', 'garys', 'salsafied', 'angies', 'suizas', 'gerrys', 'snickerdoodles', 'grandads', 'albondigas', 'rollups', 'steffs', 'alysias', 'barbequed', 'flautas', 'chewiest', 'kelseys', 'craisin', 'amatriciana', 'jagerschnitzel', 'delilahs', 'pleasy', 'etouffe', 'chococonut', 'scarpariello', 'snickerdoodles', 'berdeans', 'ghanoush', 'angies', 'cindys', 'baingan', 'bharta', 'millies', 'teenas', 'barbequed', 'ranchy', 'sallys', 'fettuccini', 'phujia', 'michelles', 'cindys', 'snickerdoodles', 'kathys', 'arrabbiata', 'hasselback', 'fettuccini', 'carlas', 'jalfrezi', 'alysons', 'missys', 'hashbrown', 'sandies', 'rollups', 'karyns', 'michelles', 'ronaldos', 'cheryls', 'mostaccioli', 'ericas', 'mamaws', 'daddys', 'dinahs', 'jerres', 'dashs', 'donair', 'ashleys', 'beckis', 'ures', 'espinacas', 'perogies', 'tinas', 'ramjam', 'torsk', 'denises', 'snickerdoodles', 'b.l.t', 'emilys', 'scotcheroos', 'uniengs', 'grammas', 'jackys', 'scotcharoos', 'tomalito', 'mostaccioli', 'polvorones', 'canele', 'charlines', 'jeanettes', 's.o.p.p', 'pattis', 'mariniere', 'brigadeiro', 'ritas', 'abbys', 'rollatini', 'amys', 'minnies', 'alisons', 'rouladen', 'unsloppy', 'fettuccini', 'sopapilla', 'foldovers', 'coquito', 'smore', 'kristens', 'chrissys', 'fettuccini', 'oranged', 'barbequed', 'stephanies', 'sunomono', 'elaines', 'fettuccini', 'annemaries', 'luvanns', 'emmas', 'rollups', 'beefaroni', 'checca', 'foccacia', 'michelles', 'colcannon', 'shrimpcargot', 'michelles', 'michigander', 'butterless', 'milkless', 'gluehwein', 'nannys', 'krystals', 'sopapillas', 'pleasy', 'amys', 'nannas', 'antojitos', 'ziebas', 'oreganato', 'amys', 'kolacky', 'scotcheroos', 'paprikash', 'rons', 'paninis', 'oreotm', 'strawnana', 'bous', 'paulas', 'tawook', 'bierock', 'jeanies', 'kristas', 'fasoliyyeh', 'zayt', 'dinahs', 'scotcheroos', 'cinnabun', 'adriennes', 'roxies', 'tommys', 'oaty', 'pasquinellis', 'garys', 'keons', 'drexlers', 'daddys', 'vickies', 'cooky', 'b.l.a.t', 'kelseys', 'albondigas', 'elaines', 'staceys', 'beezies', 'rollups', 'rollatini', 'scottleys', 'pannekaken', 'summerly', 'keema', 'lindas', 'gayes', 'ginas', 'pebber', 'nodder', 'amys', 'millys', 'panang', 'scarletts', 'mondis', 'merritts', 'randys', 'guisada', 'berthas', 'cavatini', 'jimmbos', 'sauceless', 'treatstm', 'smores', 'chrons', 'slumgullion', 'tawook', 'crispie', 'shrimply', 'sarahs', 'buttertart', 'alicias', 'queenies', 'papadoris', 'corrigans', 'livornese', 'pizzelles', 'tassies', 'mandis', 'evelyns', 'brownbag', 'barbarellas', 'doreens', 'dipsauce', 'tourtiere', 'bierocks', 'mizithra', 'cindys', 'tostados', 'quickbread', 'jasmines', 'mozechilli', 'emilys', 'cathys', 'hollys', 'tonyas', 'jennifers', 'willyboy', 'brennans', 'valeries', 'betsys', 'tanyas', 'snickerdoodles', 'barbequed', 'bierocks', 'grannys', 'p.j.s', 'bessys', 'bierocks', 'jackies', 'aileens', 'guisada', 'grandpops', 'zeppole', 'batmans', 'claires', 'kalacs', 'linnies', 'pfeffernusse', 'delish', 'freakn', 'kimberlys', 'maudies', 'snickerdoodle', 'beccas', 'fatoosh', 'grammas', 'snickerdoodles', 'valdostano', 'erics', 'charra', 'stefs', 'dessertlovers', 'barbaras', 'merenges', 'gyroll', 'barbequed', 'chunkies', 'jeannies', 'guisada', 'ritas', 'kaese', 'tys', 'barbequed', 'harira', 'sherrys', 'runzas', 'irenes', 'ingrids', 'byrdhouse', 'kaczmareks', 'paprikash', 'jeannes', 'kingmans', 'lucys', 'cassies', 'fideo', 'luckys', 'massaman', 'beths', 'rollatine', 'albondigas', 'pasteis', 'hasenpfeffer', 'queijadas', 'okazu', 'mansaka', 'brendas', 'rollups', 'janets', 'saltado', 'tracis', 'penuche', 'tinas', 'ajillo', 'coffeebar', 'brendas', 'beckys', 'yeastless', 'shoepeg', 'kropser', 'acini', 'marcias', 'griddlecakes', 'pattypan', 'nannys', 'buzzsaws', 'sunnys', 'oranged', 'cranraisin', 'byrdhouse', 'fettuccini', 'aebleskiver', 'zoopa', 'spences', 'nanys', 'melanzana', 'gails', 'debbies', 'barbequed', 'andies', 'emilys', 'cinnasweet', 'krisps', 'wandas', 'keema', 'halfs', 'ooey', 'avgolemono', 'dijonnaise', 'braciola', 'sheekh', 'beths', 'halupki', 'deeanns', 'allanas', 'jackies', 'pastapizza', 'teenas', 'grannys', 'litl', 'daddys', 'jeremys', 'calabacitas', 'guisada', 'carmels', 'mujaddara', 'chakchouka', 'shareses', 'blackforest', 'caleys', 'mollys', 'alexs', 'crispies', 'nawlins', 'lorraines', 'slumgullion', 'fettuccini', 'rolantina', 'michelles', 'barbequed', 'boxty', 'tanyas', 'adovada', 'dewtm', 'katrinas', 'encilantrada', 'chocopeanutbanana', 'saucebread', 'barbequed', 'ellens', 'oyakodon', 'schweinebraten', 'amys', 'colcannon', 'tatertot', 'ellens', 'ronitm', 'snickerdoodles', 'sopapillas', 'rachs', 'ritas', 'familys', 'betsys', 'sarges', 'goetta', 'snickerdoodles', 'crispies', 'oatie', 'tourtiere', 'cyndis', 'cinnabutter', 'rorys', 'pepperoncini', 'elnoras', 'allys', 'pepperoncini', 'buffys', 'rouladen', 'crispies', 'melissas', 'perogies', 'kolachky', 'haritons', 'mapled', 'tinas', 'pepperoncini', 'mitzies', 'pastos', 'werners', 'daddys', 'theyda', 'wouldha', 'sharons', 'spiedies', 'mondetm', 'chinkys', 'buddys', 'keema', 'teacake', 't.s', 'apricotcranberry', 'diegos', 'souzoukaklia', 'nancys', 'barbequed', 'byrdhouse', 'julias', 'butterhorn', 'fruckies', 'emilys', 'etoufee', 'braciole', 'barbequed', 'hollys', 'smore', 'cindys', 'bifana', 'calabacitas', 'uptm', 'melanies', 'suzannes', 'dannys', 'schlotskys', 'aparts', 'spumoni', 'lindas', 'kristens', 'gurkensalat', 'suizas', 'betzs', 'steinbecks', 'johnnycake', 'haroset', 'cathys', 'barbequed', 'byrdhouse', 'bistec', 'encebollao', 'butterchocolate', 'teresas', 'garithes', 'yiouvetsi', 'joelles', 'noras', 'wynnes', 'amys', 'sparkys', 'barbequed', 'cioccolata', 'calda', 'baxtons', 'arrabbiata', 'holuski', 'ssshh', 'jesses', 'lindas', 'wallbanger', 'ginas', 'carolyns', 'evelyns', 'fugi', 'foldovers', 'maryanns', 'dennies', 'tunaburgers', 'unfried', 'snicky', 'snackies', 'oreotm', 'frikin', 'semmelknoedel', 'leslies', 'emilys', 'fettucini', 'peanutbutteriest', 'tourtiere', 'malasadas', 'glassers', 'ccryders', 'tricias', 'twinks', 'smores', 'ettes', 'schuberts', 'pizzaz', 'cranana', 'lians', 'isaiahs', 'homefried', 'sandies', 'anadama', 'kathys', 'christys', 'zwiebelkuchen', 'damaretti', 'kecias', 'cindys', 'habichuelas', 'guisadas', 'rons', 'halushki', 'bierrocks', 'guisada', 'carcione', 'lizzys', 'snickerdoodles', 'rosys', 'carolyns', 'portabellas', 'maryannes', 'melanies', 'pescadoro', 'slushes', 'affy', 'tapple', 'biscochitos', 'fideo', 'billys', 'pikelets', 'crabbies', 'roomali', 'maureens', 'grannys', 'hamantashen', 'amys', 'emilys', 'adriels', 'alissas', 'gandules', 'alishas', 'banoffee', 'cevapcici', 'rollups', 'posset', 'conchis', 'jollof', 'chunkies', 'beccas', 'nells', 'tracis', 'ronnettas', 'calabacitas', 'barbequed', 'kristys', 'klopse', 'bazlama', 'spanikopita', 'koulas', 'norelllaura', 'sarahs', 'kendras', 'johnnycakes', 'caryns', 'scaloppini', 'jesses', 'dazy', 'ooey', 'sarahs', 'adzuki', 'hamentashen', 'jesss', 'ingers', 'cheezy', 'sharons', 'bifteki', 'beverlys', 'emilys', 'claudias', 'nicoles', 'hashbrowns', 'pattys', 'ibbys', 'hamantaschen', 'mizeria', 'emilys', 'rebeccas', 'meltaways', 'tammys', 'nikols', 'strufoli', 'cavatini', 'guisada', 'lauhillau', 'koshari', 'bierrocks', 'crispiest', 'mmin', 'musaka', 'muffalettas', 'perkelt', 'freedas', 'fazool', 'herbies', 'emilys', 'biancas', 'lyndsies', 'kathys', 'angelas', 'vaselopita', 'rollups', 'rollups', 'smore', 'buttercrunch', 'porketta', 'escalloped', 'daddys', 'chewies', 'michelles', 'pattys', 'pizzelles', 'talerine', 'heavenlies', 'alfajores', 'carolyns', 'rippys', 'seans', 'mommys', 'busias', 'milkless', 'butterless', 'lizs', 'reos', 'crabless', 'mockamole', 'stephanies', 'nonalco', 'teris', 'potsticker', 'jalepeno', 'sinigang', 'ritas', 'virginas', 'grammas', 'kathys', 'shanibars', 'scarletts', 'smoochies', 'runza', 'coquito', 'turos', 'csusza', 'lyndas', 'farls', 'tamras', 'cheezecake', 'biscochitos', 'elisas', 'grammas', 'playdough', 'sfingi', 'carlas', 'grandwich', 'kristins', 'cindys', 'bries', 'beefuna', 'straccetti', 'greeked', 'ceils', 'barengate', 'stracciatella', 'michelles', 'tortellinis', 'crispies', 'amys', 'mindys', 'nutthouse', 'riggies', 'amys', 'isabarte', 'emilys', 'mariniere', 'tiffanys', 'cheesies', 'lavosh', 'rollups', 'donair', 'jonghe', 'ellens', 'shieldzini', 'shirleys', 'kjs', 'riggies', 'barbequed', 'sesamey', 'delish', 'nuong', 'tassies', 'uptm', 'bunjal', 'grandman', 'demily', 'beckys', 'aush', 'honeycake', 'cheles', 'kristens', 'mamacitas', 'emilys', 'ditalini', 'cindys', 'billys', 'missys', 'oliebollen', 'ljs', 'slatterys', 'merwins', 'caroles', 'fasolatha', 'pepparkakor', 'pattys', 'shelbys', 'jennifers', 'jamies', 'brys', 'runzas', 'delish', 'pulao', 'sophies', 'alices', 'marylous', 'cindys', 'cranchick', 'albondigas', 'lubia', 'froggers', 'avgolemono', 'haileys', 'tomatoed', 'lolahs', 'beetnik', 'emilys', 'rumbleberry', 'dorseys', 'guaco', 'grannys', 'spactacular', 'staceys', 'arangini', 'perogies', 'potunas', 'ritas', 'tinas', 'mushion', 'diannes', 'nonies', 'mistis', 'gomen', 'vinis', 'puggie', 'cretons', 'golompke', 'jalfarezi', 'kartoffel', 'kloesse', 'ronzos', 'savoiardi', 'aracelys', 'almondine', 'doodh', 'zulandts', 'lucys', 'perogies', 'heddys', 'sophies', 'kolacky', 'sopapillas', 'subzi', 'zopf', 'marzzetti', 'nariyal', 'burfi', 'janets', 'lindas', 'malidzano', 'dilled', 'cranapana', 'gandule', 'yummylicious', 'craisins', 'brandys', 'perogie', 'malvapoeding', 'fesenjun', 'donair', 'braseltouille', 'meatatarian', 'scotchies', 'nitey', 'calabazines', 'firemans', 'pastachutta', 'chocaroon', 'paddys', 'lindas', 'cantucci', 'kokubs', 'hamod', 'pattys', 'troys', 'amys', 'bridies', 'bierox', 'chourico', 'scaloppini', 'mandas', 'chalau', 'lahmahjoon', 'hersheys', 'fettucheesy', 'florns', 'canja', 'cottoneyed', 'colcannon', 'nunus', 'suizas', 'kowloons', 'sallys', 'deidras', 'egusi', 'stracciatella', 'dulcia', 'panikeke', 'alicious', 'kongnamool', 'tinas', 'chomeurs', 'popas', 'jeera', 'bobotie', 'melissas', 'brendas', 'schupfnudeln', 'bierocks', 'mangorita', 'melktert', 'saucisse', 'botana', 'ladolemono', 'barbequed', 'kokkinisto', 'justins', 'karjalan', 'darcys', 'kartoshnik', 'ibbys', 'unsteamed', 'marcias', 'bolognaise', 'rollups', 'linguica', 'barbequed', 'cathys', 'brunzies', 'adriennes', 'shakshuka', 'penuche', 'sarahs', 'gails', 'vernitas', 'trishs', 'kristis', 'borboletas', 'titaina', 'ukha', 'barbequed', 'chesscakes', 'larabique', 'moutarde', 'pierogie', 'leslies', 'beths', 'nepiev', 'blasta', 'ghanoush', 'sarahs', 'sufferin', 'coquito', 'shawarmas', 'zoodles', 'labneh', 'calabacitas', 'ginnys', 'borezo', 'contonas', 'mattys', 'brasciole', 'christopholofiguss', 'guinataan', 'wowie', 'saagwala', 'dougs', 'hollys', 'mommys', 'froghoppers', 'pammys', 'ainaas', 'elsyes', 'chewies', 'omwich', 'luckys', 'sonnys', 'tempters', 'beths', 'kringla', 'borracha', 'sinigang', 'toum', 'tanyas', 'melitzanes', 'runza', 'preetys', 'snickerdoodle', 'loosemeat', 'grippins', 'essanayes', 'sufferin', 'shmunkys', 'chickeny', 'chickeny', 'tinas', 'connies', 'diannes', 'doriss', 'sandies', 'jessicas', 'strawnana', 'nickies', 'bobras', 'grampas', 'bumbleberry', 'pizzelle', 'barbequed', 'emilys', 'margies', 'phungi', 'antoinettes', 'rouladen', 'bobotie', 'beths', 'melodys', 'maque', 'tareks', 'schuberts', 'fazoolander', 'fredas', 'adels', 'barmbrack', 'westrup', 'jackies', 'unsloppy', 'kefta', 'picadinhoa', 'brasiliera', 'rudys', 'stifado', 'jonghe', 'tasties', 'loosemeat', 'szallers', 'meandus', 'lippen', 'angelyns', 'cacoila', 'braten', 'nabeyaki', 'boterkoek', 'curtido', 'pepperoncini', 'bangan', 'bhurta', 'basboosa', 'isoldes', 'saltfish', 's.o.b', 'hanout', 'poofies', 'hiyashi', 'memas', 'spiedies', 'chelseas', 'kakku', 'edies', 'patatosalata', 'butterkuchen', 'annettes', 'delish', 'julias', 'aparts', 'mochiko', 'wylmas', 'bourbolicious', 'baxis', 'grannys', 'byrdhouse', 'kugela', 'dandans', 'grannys', 'longboy', 'nonnies', 'kugelis', 'snoogy', 'cindys', 'yummiest', 'wiches', 'pepperjack', 'botercake', 'chungles', 'emilys', 'kolacky', 'fettuccini', 'kikuchans', 'beefburger', 'rugalach', 'dise', 'mams', 'kurtzs', 'angelas', 'nicholes', 'grannys', 'wandas', 'ghosties', 'spamtm', 'carlas', 'tiropitas', 'sopapilla', 't.g.i', 'shorecooks', 'esers', 'springerle', 'pfeffernusse', 'hamantashen', 'rollups', 'bierrocks', 'cinfully', 'golabki', 'ditalini', 'barbyes', 'sambousa', 'erics', 'finadeni', 'miguelinas', 'ghanoush', 'flambeed', 'luckys', 'bruddah', 'alicias', 'colcannon', 'jodis', 'bstilla', 'olivada', 'lyndees', 'annettes', 'klubb', 'beanless', 'g.g.s', 'suzannes', 'tashas', 'tenias', 'quorntm', 'kathies', 'fairuzahs', 'margies', 'shawns', 'letcho', 'smores', 'jameys', 'saewoo', 'bokkeumbap', 'butterbeer', 'duartes', 'pastitsio', 'palusami', 'fettuccini', 'zingarella', 'slushies', 'hekka', 'smore', 'tandycakes', 'krupnikas', 'debbies', 'tommys', 'claudes', 'bailik', 'jibarito', 'sharons', 'coquito', 'chewies', 'omuraisu', 'mellissas', 'shaggys', 'adovada', 'shaggys', 'coolaid', 'ellens', 'moaks', 'cindyds', 'oatbread', 'emilys', 'mickys', 'licky', 'grandpere', 'scotcheroo', 'alfajores', 'sarahs', 'kimbop', 'gluehwein', 'sammys', 'hooleys', 'fifteens', 'dolmathes', 'hobarts', 'palacsinta', 'bramboracky', 'bhindi', 'bluebarb', 'janies', 'cubanelle', 'melties', 'tabouli', 'tiropetes', 'snickerdoodle', 'kolaczki', 'afritada', 'hollys', 'nancys', 'buttertarts', 'fabiennes', 'papcinna', 'donair', 'hrudka', 'levedo', 'pupu', 'reshmi', 'pomacello', 'cocojito', 'chiarellos', 'pastina', 'giselas', 'colcannon', 'gruenkohl', 'josephines', 'snickerdoodle', 'shirleys', 'fishboys', 'poblanas', 'dianes', 'kedgeree', 'mariannas', 'joels', 'tartiflette', 'smilejennas', 'toscas', 'beckys', 'pimmstm', 'byrdhouse', 'rollups', 'platski', 'josephines', 'utokias', 'tassies', 'conh', 'chowdah', 'buttercrunch', 'grannys', 'tuppakaka', 'ladys', 'cogys', 'beccas', 'barbequed', 'fattoush', 'faken', 'hoska', 'cassies', 'crazees', 'tabouli', 'mindys', 'crumbed', 'claibornes', 'shudderuppers', 'basboosa', 'chocolatepeanut', 'tonyas', 'jeris', 'asopao', 'jennifers', 'kristins', 'croquetten', 'borsht', 'dorothys', 'stefado', 'bunwiches', 'cavatapi', 'jigeh', 'calavacita', 'dilled', 'nancys', 'tonno', 'bourtheto', 'wilmas', 'kabritu', 'stoba', 'christys', 'seeduction', 'schwenkbraten', 'jessicas', 'melindas', 'michelles', 'nells', 'lyns', 'vasilopita', 'alaines', 'gravlox', 'bubbies', 'hamantaschen', 'slimmers', 'pizzelles', 'burrebrede', 'pfeffernusse', 'pomanders', 'peanutty', 'kristas', 'keftedes', 'chexicago', 'jumbutt', 'mawmenye', 'ponderosas', 'bourekas', 'bourguignonne', 'baconless', 'stephs', 'mamans', 'tomozzakala', 'macn', 'larb', 'barbequed', 'kaiserschmarrn', 'afritad', 'rouxless', 'tourtiere', 'pooters', 'cocktel', 'camaron', 'nikujaga', 'roesti', 'vietnamesechinese', 'kahiki', 'renees', 'dougs', 'berthas', 'randys', 'snackasnicker', 'emmas', 'michelles', 'lavandas', 'yammy', 'granana', 'orcchiette', 'saltibarsciai', 'grandaddys', 'sherrys', 'peanutty', 'judys', 'leddie', 'karries', 'gulaschsuppe', 'zatarains', 'mandys', 'pinakbet', 'michelada', 'cochinita', 'shakshuka', 'kimberlys', 'ghanoush', 'buttercrunch', 'joshs', 'barquillos', 'indianas', 'trishas', 'amys', 'pattis', 'carolyns', 'toris', 'beanless', 'waldorfs', 'mickmack', 'logas', 'newcastletm', 'chickn', 'doriss', 'yummies', 'ladonnas', 'audrys', 'seattles', 'snickerdoodle', 'koris', 'flambeed', 'nicoles', 'whatch', 'kolcannon', 'paddys', 'kokkinisto', 'christines', 'kristens', 'dlite', 'buttercrunch', 'macranch', 'amys', 'texatini', 'pfefferkuchen', 'bistecca', 'courtneys', 'robertos', 'elises', 'staceys', 'beckys', 'olgas', 'potica', 'jesses', 'ibbys', 'mazos', 'frikadeller', 'rouladen', 'manjar', 'pinenuts', 'kaiserschmarren', 'peggys', 'jennis', 'amys', 'smores', 'lauriees', 'raynas', 'butchs', 'vincentes', 'bamieh', 'fizzies', 'koolade', 'pizette', 'unyeasted', 'tissys', 'schallers', 'mackies', 'grandmoms', 'bocconcini', 'haroset', 'rollups', 'cathead', 'natashas', 'macaronatha', 'spumoni', 'meltaways', 'patacone', 'cissys', 'tinas', 'suzys', 'capirotada', 'besan', 'sophies', 'pepparkakor', 'jenns', 'nopalitos', 'evanas', 'licuado', 'ribollita', 'fluffins', 'leahs', 'bredie', 'arlenes', 'dovel', 'doreens', 'dilled', 'arrabbiata', 'sufganiyot', 'lubys', 'kimmys', 'carottes', 'louises', 'prissys', 'sharyls', 'clapshot', 'shuku', 'shuku', 'hiyayakko', 'nicoles', 'gregs', 'aebleskiver', 'grammas', 'chewies', 'poulette', 'freezy', 'sifnos', 'funfetti', 'amys', 'yoyos', 'tellangs', 'totchos', 'carrigans', 'flognarde', 'christinas', 'tembleque', 'smores', 'lelas', 'pastetnik', 'montigott', 'palmiers', 'carolyns', 'melonade', 'sherikas', 'ashleys', 'cillas', 'yammy', 'flammekueche', 'porotos', 'jamies', 'popas', 'scallopini', 'hollys', 'tantes', 'waterzooi', 'magaricz', 'mechelles', 'kristies', 'klimp', 'dragans', 'smokeys', 'aebleskiver', 'farikal', 'megans', 'barbaras', 'nutburgers', 'grampys', 'katys', 'smores', 'tanyas', 'almandine', 'carlees', 'poulourie', 'sopaipillas', 'melitzanosalata', 'agioritiki', 'joanies', 'yevs', 'mables', 'elenas', 'raynas', 'skroodle', 'springerle', 'arrabbiata', 'claudettes', 'corys', 'miriams', 'vernells', 'smores', 'ginas', 'nikkis', 'mauigirls', 'connies', 'weeble', 'celynes', 'baybreeze', 'bries', 'kelaguen', 'gails', 'kolacky', 'kristils', 'jonnys', 'garbonzalicious', 'pefecto', 'fettuccini', 'trishies', 'mostaccioli', 'tonjas', 'sharkeys', 'barbequed', 'tofuberry', 'dillas', 'snickerdoodles', 'maryannes', 'katrinas', 'meltaways', 'ooey', 'kruschicki', 'kinderpunsch', 'keligun', 'piccalilli', 'brocamole', 'koulourakia', 'bdukes', 'mostaccioli', 'fattoosh', 'aebleskiver', 'frankies', 'ernestos', 'tourtiers', 'roui', 'oniony', 'superburgers', 'lecso', 'mamaw', 'thelmas', 'kahalas', 'putzwutz', 'mulligatawny', 'goldbrick', 'revas', 'kgeminigrls', 'chrusciki', 'lizzies', 'elsies', 'spatchcock', 'colcannon', 'wainachsrollen', 'saganaki', 'millys', 'wandas', 'poteca', 'tourtiere', 'peppernotter', 'palitaw', 'guinataan', 'paksiw', 'cathead', 'blotche', 'chocoflan', 'yias', 'avgolemono', 'chompo', 'lorenes', 'sarahs', 'schuberts', 'butterbeer', 'kluski', 'omis', 'deborahs', 'bries', 'lydias', 'mizithra', 'cindys', 'nicoles', 'uptm', 'fudgey', 'rollups', 'kenulias', 'braccialoni', 'jjs', 'yummies', 'sekanjabin', 'eleanors', 'ramakis', 'idahoan', 'barbequed', 'yums', 'drommar', 'knodel', 'runza', 'finikia', 'alentejana', 'jackies', 'chocoberry', 'familys', 'makhani', 'mauigirls', 'rumchata', 'yummies', 'scallopini', 'natalies', 'alanes', 'bevskis', 'mouthwateringly', 'banamango', 'trinidads', 'ponche', 'debbies', 'cheezy', 'mochiko', 'deerburger', 'peasy', 'fragranced', 'anikas', 'mindys', 'kendras', 'nannys', 'verenike', 'octapodi', 'kokkinisto', 'afritada', 'bowknot', 'rugalech', 'arrabbiata', 'ensalada', 'swens', 'valeries', 'grannys', 'pfeffernusse', 'hambuns', 'kreatopita', 'connies', 'chewies', 'leekie', 'keertis', 'karwari', 'patricias', 'wilmas', 'christines', 'amandas', 'butterbeer', 'simplylos', 'irishmans', 'sheas', 'trudys', 'mommys', 'sloppied', 'lizs', 'daddys', 'mamaws', 'spinachberry', 'uptm', 'pasagna', 'nennis', 'jalfrazie', 'grapenutstm', 'jennis', 'diannes', 'dilled', 'nicoles', 'lasooni', 'murgh', 'kifta', 'choriqueso', 'brambletts', 'rwop', 'braciola', 'braciola', 'chipas', 'qabali', 'justines', 'patsys', 'chourico', 'sosaties', 'embrochette', 'espiros', 'condensado', 'meatloaves', 'lawrys', 'emilys', 'knoephla', 'hollys', 'spudnuts', 'smore', 'lahma', 'bethanys', 'judys', 'beckys', 'bayrischer', 'schweinebraten', 'yumkins', 'speculaas', 'encebollado', 'tassies', 'speculaas', 'sinterklass', 'turketti', 'minestra', 'tiffanys', 'shulie', 'krinkles', 'mcintires', 'valeries', 'covingtons', 'missys', 'amatraciana', 'pastitsio', 'vinnies', 'schwabischer', 'kartoffelsalat', 'lipardos', 'rudechacks', 'fizzies', 'frita', 'rickyrootbeer', 'dilled', 'bobotie', 'boschendal', 'billys', 'triestine', 'cevapcici', 'bubbies', 'daddys', 'tastira', 'bhapa', 'dianes', 'biskvit', 'lindys', 'memaws', 'schwabischer', 'kartoffelsalat', 'birdmans', 'carlies', 'mostaccioli', 'tatyanas', 'stroopwafels', 'zwieback', 'kranzer', 'montecados', 'vandels', 'stephs', 'sarahs', 'licoro', 'santiagos', 'amys', 'muriels', 'cobblerette', 'cremesicle', 'peanutty', 'gails', 'creamiest', 'honeybun', 'weihnachtsbowle', 'gluhwein', 'fricase', 'dazzlin', 'dumplins', 'pastie', 'mehlsuppa', 'earharts', 'sarahs', 'bracciole', 'tassies', 'mandas', 'grannys', 'ooey', 'smores', 'ramkin', 'beths', 'oriolds', 'strawberrylicious', 'barbequed', 'surullitos', 'gratinee', 'daddys', 'baigan', 'sonyas', 'haluski', 'flautas', 'dobladitas', 'rollkuchen', 'orangemade', 'cathis', 'selmas', 'lizzies', 'pepparkakor', 'finadene', 'rumaki', 'nilaga', 'bhuna', 'gosht', 'beccas', 'kletskopjes', 'foglie', 'doogies', 'dautunno', 'portobella', 'amys', 'pizzelles', 'gramamas', 'mikaels', 'wassal', 'liannas', 'rotelle', 'michelles', 'zwetschekuchen', 'wonnie', 'schmag', 'screwrita', 'noreens', 'lizs', 'elijahs', 'phulourie', 'arancini', 'yums', 'cucarachas', 'chereshnyanyk', 'pizzaghetti', 'stephs', 'callys', 'olivieh', 'lentejas', 'krisp', 'kocoa', 'klastch', 'pelau', 'pandowdy', 'syrniki', 'kristys', 'funfetti', 'kolacky', 'yummies', 'emilys', 'lamama', 'fannys', 'muhammara', 'cassies', 'haselnussmakronen', 'peppernuts', 'mandelbread', 'anadama', 'cotechino', 'lenticchie', 'sopes', 'nancys', 'kushiyaki', 'aranitas', 'espetadas', 'marlenes', 'berrylicious', 'diannes', 'ghraybeh', 'kifli', 'pfeffernuesse', 'cindys', 'almondy', 'chulent', 'wiches', 'rosemaries', 'smores', 'aricas', 'caldereta', 'gulaschsuppe', 'cubacrany', 'orcutts', 'sherrys', 'fudgies', 'staceys', 'camilles', 'renees', 'peasy', 'jackies', 'lydias', 'vitamina', 'sheftalia', 'sherried', 'grannys', 'itsmeatshuddupneatit', 'pogaca', 'pfefferneusse', 'lahmajoon', 'arvejado', 'tartiflette', 'olgas', 'kolacky', 'kellies', 'champorado', 'jamoncillo', 'nancys', 'pizzelles', 'bltc', 'cavatini', 'kinaja', 'peachie', 'sharyns', 'senseis', 'nannys', 'parmalet', 'haluski', 'ritas', 'appetits', 'zuries', 'carmels', 'bolognaise', 'midgs', 'tomalito', 'sbraga', 'kolacky', 'cockys', 'grannys', 'fricken', 'guizida', 'adeni', 'karhaai', 'fabada', 'knipla', 'peachanero', 'josephines', 'amys', 'fettuccini', 'kahalas', 'stovie', 'jessicas', 'dilled', 'milkless', 'butterless', 'struffoli', 'fesenjan', 'mechado', 'shellys', 'rouladen', 'dannys', 'joannas', 'synowiez', 'scotchies', 'georginas', 'eatingwell', 'bethys', 'stellas', 'bretas', 'folditup', 'dianes', 'tropiguac', 'raleys', 'ebelskiver', 'frizzeles', 'cyndees', 'krumkake', 'blubaughs', 'suegras', 'daphnes', 'salsamole', 'deerelkmoose', 'almanzos', 'galatoires', 'espiros', 'huggie', 'vaselopita', 's.c.a', 'jinnys', 'limpa', 'capirotoda', 'spicejunkies', 'no.<NUM>', 'finadene', 'smeezy', 'mommys', 'bringhe', 'chux', 'fattoush', 'shafs', 'flafla', 'kieners', 'calimocho', 'karithopita', 'grannys', 'haddie', 'wentelteefjes', 'hoernchen', 'tassies', 'mauigirls', 'sylvias', 'butterbeans', 'koora', 'sheris', 'feasty', 'halushky', 'samburgers', 'subji', 'gracies', 'bennys', 'potsticker', 'pangalactic', 'gargleblaster', 'vitamix', 'sarahs', 'smores', 'smores', 'spamadillas', 'notyo', 'molletes', 'zeppole', 'zoodles', 'pulao', 'bitestm', 'allamatriciana', 'chrissys', 'lamburgers', 'mochiko', 'ribley', 'scrumdiddlyumptious', 'lepp', 'abbys', 'tammys', 'jaes', 'vasilopita', 'strifto', 'blcs', 'uptm', 'chislic', 'anitas', 'schuberts', 'pastira', 'grammas', 'daddys', 'mormors', 'randiga', 'harolds', 'grannys', 'sharons', 'locro', 'saganaki', 'zoodler', 'bluebarb', 'bananutter', 'saltado', 'vainitas', 'nannys', 'dabricot', 'lorange', 'tropsicles', 'delish', 'mennys', 'pilau', 'grannys', 'knoepfla', 'idahoan', 'roons', 'turffaloaf', 'crostada', 'limontini', 'oxs', 'herbalicious', 'frita', 'dsfs', 'adobong', 'pusit', 'haroset', 'turron', 'jijona', 'diabla', 'krusczyki', 'gerts', 'ahuyama', 'lucys', 'maccool', 'jeanines', 'micheladas', 'natalies', 'vinnys', 'memom', 'frankenburgers', 'collops', 'tracies', 'tennilles', 'adeles', 'slushie', 'poires', 'flummery', 'daddys', 'matbucha', 'xocolatl', 'kebobs', 'sambusaks', 'saralees', 'truvia', 'vitamix', 'soupier', 'peepsmoothies', 'frogmoor', 'fideua', 'remiscitti', 'tiropita', 'tzimmes', 'bokkenpootjes', 'boilo', 'butterbeer', 'mexicorn', 'facemeltingly', 'dilled', 'krumkake', 'koulourakia', 'cherrettes', 'glendas', 'flitcher', 'brandons', 'homefries', 'stracciatella', 'zoodle', 'kabachkovyye', 'oladi', 'garnir', 'endiablados', 'patatas', 'perlato', 'christophs', 'tisas', 'haluski', 'pilav', 'fritatta', 'nessies', 'cucur', 'hatties', 'jacintos', 'taralli', 'randys', 'emilys', 'penuchi', 'lucys', 'pakorae', 'basquaise', 'gingernuts', 'rissoles', 'ponche', 'tassies', 'sherrys', 'merediths', 'ponnukokur', 'peasy', 'ogloucester', 'angelas', 'donnasues', 'brysell', 'maricas', 'kaftaji', 'limeabalemon', 'glaciate', 'delish', 'debbies', 'kroppkakor', 'portzelky', 'drexlers', 'maurices', 'tiffanys', 'tinglin', 'telur', 'harisseh', 'munkiboys', 'jennas', 'grutze', 'kathys', 'dooper', 'havreflarn', 'nummies', 'chewies', 'julias', 'teacake', 'djente', 'kacho', 'slushie', 'springerle', 'rollups', 'sucree', 'mantecados', 'gyudon', 'baconator', 'kiffles', 'memas', 'evies', 'abuelas', 'curtida', 'grillswith', 'lemonia', 'shellys', 'clarts', 'texi', 'pattypan', 'sabudana', 'macronatha', 'furikake', 'delightfullstm', 'smore', 'idahoan', 'erics', 'hashbrowns', 'slamtastic', 'greenbeans', 'sufganiot', 'yummies', 'kourambiedes', 'balela', 'kotlety', 'fundido', 'littlebitfaes', 'oranginger', 'turmada', 'ameilias', 'texmex', 'empanaditas', 'fricasee', 'lunchmeat', 'ovnskokt', 'kveite', 'golobki', 'mamabears', 'panellets', 'augustas', 'sweetn', 'manaaeesh', 'limantro', 'bisnonna', 'ballz', 'beefstick', 'riccis', 'larras', 'appleless', 'freekeh', 'nougatkugeln', 'whippee', 'kaylas', 'spritsar', 'fudgies', 'cindys', 'jaxxs', 'zizis', 'suspiro', 'limea', 'peastachio', 'paysons', 'suspiro', 'limeno', 'jarjeer', 'mistis', 'spamaroni', 'cathys', 'grannys', 'grannys', 'smores', 'dipspread', 'pfeffernerse', 'sylvias', 'pfefferneuse', 'cipate', 'fafa', 'squambo', 'silverbeet', 'lavatini', 'bubs', 'prissys', 'totenbeinli', 'jamzetti', 'colcannon', 'linguica', 'gosht', 'glogg', 'embutido', 'bopis', 'pizzagna', 'huancaina', 'nickies', 'fragola', 'alexas', 'rollatini', 'kobete', 'frontonianum', 'm.d.ks', 'lassy', 'mogs', 'w.p.b', 'skite', 'zendeas', 'dotties', 'marions', 'idahoan', 'shonnas', 'mamaws', 'dumplins', 'spiceburgs', 'ranchy', 'galletas', 'nancys', 'chlodnik', 'randolphs', 'mulligatawny', 'debbies', 'd.j.s', 'mmmmonster', 'jigglers', 'emilys', 'verlys', 'hildas', 'valeries', 'bluezys', 'mexcellent', 'shelbys', 'mahallebi', 'bryces', 'slushes', 'funfetti', 'ghetti', 'claires', 'tikil', 'gomen', 'viennexican', 'hawaijall', 'hayleys', 'melissas', 'realemon', 'susies', 'bluetons', 'stirfry', 'gallettes', 'fabiennes', 'rubys', 'rons', 'bhurji', 'angs', 'nalesniki', 'biscochitos', 'bruti', 'buoni', 'zwieback', 'sandtarts', 'lepp', 'nanis', 'spesi', 'baconnaise', 'butterbeer', 'eggcellent', 'lantini', 'teddys', 'tyrokavteri', 'knaakkebrod', 'nakkileipa', 'arndts', 'haupia', 'christinas', 'rebeccas', 'jiddos', 'fatayer', 'sabanegh', 'vitamix', 'vinnies', 'boulettes', 'b.l.t', 'bogg', 'crissis', 'kristys', 'dougs', 'tartelettes', 'framboises', 'longanisa', 'tammis', 'etoufee', 'spences', 'ednas', 'rasgullas', 'lukshen', 'peanutty', 'kellies', 'ghanoush', 'bunuelos', 'saleeg', 'barbtini', 'micheles', 'ottercoons', 'beanwiches', 'marshas', 'garoni', 'witlof', 'benababs', 'tilas', 'anitas', 'peteys', 'marielles', 'alicha', 'tammys', 'nells', 'zserbo', 'brens', 'smores', 'zoodles', 'poormans', 'muffaletta', 'rollups', 'erics', 'rollatini', 'leslies', 'kirstens', 'almondine', 'chocaholics', 'pennys', 'hattan', 'kathys', 'welchs', 'amandas', 'croustade', 'talamee', 'rusks', 'hevan', 'savoiardi', 'gallets', 'o.d.s', 'cooky', 'daddys', 'chourico', 'madcat', 'rollups', 'marjolaine', 'bethanys', 'balela', 'biscones', 'spatchcock', 'pizzelle', 'weaams', 'ghanouj', 'flautas', 'snickerdoodle', 'mineccis', 'butterschnapps', 'marjories', 'sandtarts', 'bernhardts', 'kookies', 'pfeffernusse', 'kringles', 'bakestones', 'apees', 'strufoli', 'cacio', 'ratloaf', 'hamantashen', 'chewies', 'kourabiedes', 'kheema', 'switchel', 'fullas', 'methi', 'murgh', 'shrikhand', 'pulao', 'kulambu', 'anapakaya', 'paala', 'koora', 'pesarattu', 'chilapachole', 'creamiest', 'labneh', 'veggighetti', 'tarator', 'smoovie', 'cocoroons', 'whole30', 'michelles', 'marissas', 'mabels', 'dreyers', 'nancys', 'hollys', 'nancys', 'pattis', 'stinkys', 'bouchees', 'poertzelki', 'charleys', 'fuba', 'cremoso', 'micahs', 'smores', 'sharkies', 'justins', 'coquito', 'beckys', 'angies', 'smores', 'fideo', 'bbqs', 'smores', 'michelles', 'sweetkraut', 'grammas', 'ellens', 'wennys', 'conchiglie', 'peggys', 'slushies', 'bunuelos', 'espinaca', 'savinos', 'beks', 'gelatinized', 'j.s', 'memaws', 'truvia', 'crispies', 'nebraskas', 'pinchy', 'bluecar', 'evelyns', 'ednas', 'firemans', 'butterless', 'beeless', 'malibutm', 'knudsons', 'knasty', 'elfies', 'deborahs', 'butterbeer', 'keema', 'boterkoek', 'boudreauxs', 'lucys', 'nigels', 'oreillys', 'okees', 'mestouk', 'dengaku', 'indocooks', 'melodys', 'heloises', 'maureens', 'jonghe', 'wandies', 'dianes', 'springerle', 'choconut', 'betsys', 'brittanys', 'bisquit', 'shirleys', 'hamballs', 'kathys', 'atsara', 'peanutty', 'dottis', 'evies', 'grandfans', 'tooties', 'strokas', 'posolequeso', 'suzyqs', 'pluot', 'caitlins', 'candices', 'stefs', 'slushie', 'finocchi', 'bocado', 'carolyns', 'karaage', 'catelli', 'makhani', 'guac', 'panang', 'panang', 'pepparkakor', 'guac', 'medammes', 'machhere', 'jhol', 'grandpop', 'rubys', 'strassburgare', 'irenes', 'lucys', 'sandies', 'debbies', 'foldovers', 'nutties', 'mandelgeback', 'milkless', 'butterless', 'peanutty', 'shevauns', 'jiuh', 'tequini', 'candys', 'sandbakelser', 'sandbakelser', 'aurillas', 'coconutty', 'krumkake', 'springerle', 'strojnys', 'afelia', 'schuberts', 'esthers', 'fudgies', 'chocchip', 'pohany', 'hunsickers', 'newfie', 'syrniki', 'andalouse', 'blackbottom', 'tanyas', 'frosties', 'bamia', 'sweetn', 'aarsis', 'hospitalitys', 'crunchs', 'delightfullstm', 'smoretini', 'bocconcini', 'alambre', 'witchetty', 'broetchen', 'coconutty', 'aparts', 'kiyokos', 'chefkaties', 'mirlitons', 'sambusa', 'lizs', 'peanutty', 'gerrys', 'guac', 'appletini', 'bils', 'kugeli', 'capn', 'bamia', 'springerle', 'maluleins', 'peanutty', 'murica', 'traceys', 'sopes', 'truvia', 'applepear', 'smores', 'cathys', 'muhammara', 'charoses', 'courtneys', 'granolameal', 'sekanjabin', 'mariannes', 'mulligatawny', 'truvia', 'fettuccini', 'piereth', 'olakes', 'resas', 'jenns', 'jigglers', 'candices', 'funfetti', 'chelseys', 'qumbe', 'naanwich', 'vetkoek', 'litl', 'molletes', 'trumbetas', 'skintastic', 'recado', 'pepian', 'ritas', 'creolo', 'palacinky', 'tagalong', 'snickerdoodle', 'shrimptastrophy', 'karahi', 'breadless', 'nonnas', 'pizzelle', 'pizzelle', 'furikake', 'litl', 'mandas', 'rollatina', 'pebblestm', 'papajoes', 'samiches', 'smores', 'krisps', 'lindas', 'angs', 'freels', 'rons', 'titis', 'makhani', 'murgh', 'gasagage', 'payasa', 'murgh', 'pondeliks', 'pudina', 'pacchadi', 'vankaya', 'pulusu', 'pachadi', 'guac', 'locro', 'pbnj', 'fwang', 'hashbrown', 'tereses', 'fattoush', 'brendens', 'jamies', 'becel', 'verns', 'obatzda', 'becel', 'becel', 'maggies', 'zolas', 'greggaes', 'jillenas', 'susies', 'cotechino', 'parve', 'lubed', 'daisys', 'ensaimadas', 'jesses', 'meatloaves', 'pakora', 'gaging', 'moguai', 'pomegin', 'panellets', 'wallbanger', 'stoj', 'gingeradish', 'waldorfy', 'panang', 'escalloped', 'ethans', 'courgettes', 'kabachkovyye', 'oladi', 'sladkiye', 'easydoesit', 'hamusta', 'tonnato', 'snickerdoodles', 'pikelets', 'marionberry', 'flambee', 'spatchcocked', 'sandies', 'whole30', 'emilys', 'kidstm', 'squoodles', 'spiralized', 'zavioli', 'libbys', 'coquito', 'mikas', 'andies', 'slushie', 'canaiparatha', 'chilaquilas', 'dijonnaisetm', 'baleadas', 'costena', 'strangewich', 'beths', 'salvadorena', 'sunomono', 'ooey', 'suzannes', 'potatoless', 'noonies', 'ellies', 'wobblers', 'michelada', 'smores', 'smore', 'diabla', 'soursinth', 'prusurates', 'cheezy', 'hayleys', 'ooey', 'gooies', 'strufoli', 'mostaccioli', 'smores', 'laboo', 'especiale', 'knefla', 'musterdsoep', 'zaanse', 'mosterdsoep', 'rhubourb', 'adobado', 'proscuitto', 'anniebells', 'joies', 'azucenas', 'delicous', 'erikas', 'spamtm', 'pomatini', 'ethels', 'tammys', 'rugbrod', 'spragginss', 'spezzatino', 'ekaterinas', 'pandesal', 'huancaina', 'monikas', 'karioka', 'beergarita', 'mizithra', 'kratiem', 'laurielicious', 'beergarita', 'ninabells', 'fuba', 'cremoso', 'strapazzate', 'caramelizada', 'lactaid', 'michochi', 'beermosa', 'kajun', 'kucumber', 'shirataki', 'golumpki', 'bobotie', 'cauliwraps', 'newfie', 'becel', 'becel', 'michelada', 'slushie', 'p.a.m.', 'deborahs', 'pepperonatta', 'swample', 'delish', 'betsys', 'spiritful', 'raspberrypearpecan', 'bubblensqueak', 'rappie', 'butterchocolate', 'baconless', 'egglands', 'hasselback', 'junka', 'pernil', 'louises', 'xeo', 'freezy', 'pickletini', 'ednas', 'sarahs', 'vegi', 'jigglers', 'alyssas', 'pizzelle', 'hamantaschen', 'mamies', 'delena', 'barbaras', 'cushaw', 'cliffanys', 'giseles', 'kugela', 'thankstini', 'fasolia', 'peasy', 'ragus', 'viryta', 'cofers', 'medenjaci', 'grannys', 'kiffles', 'langostino', 'fabiennes', 'porkinator', 'pannileib', 'tsimmes', 'fundog', 'shalvies', 'capirotada', 'elote', 'meatloaves', 'antons', 'zwiebelkuchen', 'beveritas311', 'milchreis', 'brombeeren', 'jodys', 'christines', 'jessicas', 'marges', 'escalloped', 'gehakt', 'mahalabia', 'kyeras', 'titos', 'tinas', 'delightfullstm', 'prentices', 'delightfullstm', 'realemon', 'wallbanger', 'delightfullstm', 'delightfullstm', 'edys', 'drumcake', 'craisins', 'kristis', 'kristens', 'eatingwell', 'mikeys', 'snickerdoodle', 'yummiest', 'darlas', 'debbies', 'vaina', 'magues', 'sekanice', 'buryls', 'marleys', 'hileries', 'tulingan', 'tukra', 'dinengdeng', 'tukri', 'tickety', 'omalins', 'truvia', 'truvia', 'veganvegetarian', 'truvia', 'nenes', 'smores', 'fraisier', 'campagnard', 'farls', 'patholi', 'nimakayya', 'pulihora', 'kobbari', 'parvanam', 'doreens', 'pitcha', 'squeezy', 'fasolakia', 'feese', 'sawine', 'fabiennes', 'tradizionali', 'zachs', 'piadina', 'stuffin', 'raghavans', 'raghavans', 'jajukh', 'alexs', 'tukray', 'kachumbar', 'khitchari', 'yirakot', 'kingombo', 'patatas', 'totchos', 'almondine', 'phoritto', 'cinnameg', 'boreg', 'zoodles', 'rubys', 'gandules', 'molletes', 'daviss', 'silpancho', 'riced', 'rollatini', 'marinations', 'farcies', 'coronarita', 'patsis', 'rumchata', 'fattoush', 'frose', 'brunchtime', 'refritos', 'tamagoyaki', 'tamagoyaki', 'spiralized', 'bambam', 'zoodle', 'beckys', 'zoodles', 'zoodle', 'spiralized', 'taameya', 'californiamexican', 'chourico', 'affogato', 'spamwich', 'catelli', 'labneh', 'gamberetti', 'sangrita', 'misoyaki', 'ghanoush', 'mooses', 'feijao', 'pressao', 'sarahs', 'bokeumbab', 'gnudi', 'jorim', 'alins', 'patatas', 'alinadas', 'saboob', 'gerrys', 'gemachter', 'himbeeressig', 'kathys', 'batida', 'baeta', 'smores', 'grannys', 'aaku', 'menthi', 'majjiga', 'tukra', 'sangrita', 'latik', 'shakkara', 'kobbari', 'louz', 'ullipaya', 'piereth', 'chocbit', 'mostaccioli', 'cathys', 'noemis', 'shorba', 'dethberts', 'kajmak', 'truvia', 'effies', 'liams', 'bittered', 'bigmoms', 'paulys', 'knifton', 'hutchen', 'lucys', 'wandies', 'barenmeister', 'wudgy', 'eunahs', 'wandies', 'estofado', 'mandelbread', 'phaal', 'tommys', 'lushy', 'smittys', 'eloises', 'realime', 'mommoms', 'darlenes', 'ponche', 'hotsie', 'totsie', 'allrecipes', 'charoset', 'charoset', 'christis', 'salpicon', 'jodis', 'knoephla', 'tawky', 'quesillo', 'sopas', 'cuon', 'sasas', 'coconutflan', 'jeera', 'bananamac', 'spinachio', 'mariettas', 'encendido', 'pomtini', 'srnci', 'hrbet', 'babickas', 'khawswey', 'smores', 'bernies', 'joseys', 'bebes', 'lonkero', 'hamantaschen', 'hersheys', 'pizzelle', 'pizzelle', 'peanutty', 'tonkotsu', 'scotcheroos', 'tincho', 'breadless', 'muffaletta', 'tiffanys', 'kasutera', 'kindertime', 'margies', 'bellinis', 'tortiglioni', 'melanzana', 'maggies', 'pickly', 'truvia', 'carbarito', 'leeky', 'poutinertots', 'salmonberry', 'jigglers', 'memeres', 'darins', 'idahoan', 'crookies', 'remashed', 'tammys', 'aminanana', 'westfalls', 'jonnys', 'gouldenburg', 'charoset', 'brittanys', 'kirstins', 'skerstons', 'bridgets', 'shirataki', 'cocojito', 'peasy', 'massaman', 'smores', 'smores', 'smores', 'smores', 'sarahs', 'smores', 'slushie', 'candices', 'orzotto', 'vanias', 'anday', 'marquisette', 'albondigas', 'juanitas', 'sfouf', 'colcannon', 'boxty', 'ossobuco', 'haupia', 'daeji', 'potstickers', 'dagneau', 'lorange', 'edythes', 'agrodolce', 'burfi', 'khachapuri', 'holige', 'ssam', 'embrochette', 'sukju', 'namul', 'smores', 'smores', 'smores', 'ghanoush', 'brandons', 'pakoda', 'cubanelle', 'khandvi', 'cubanelle', 'flambee', 'ghanuj', 'shortcrust', 'fabiennes', 'spiralized', 'creamiest', 'nomato', 'riced', 'totchos', 'samgyetang', 'afritada', 'budae', 'sinigang', 'musselmans', 'boereg', 'ghorayebah', 'maudies', 'ezogelin', 'encebollada', 'curtido', 'gelees', 'chocolicious', 'sunbutter', 'speculoos', 'dapples', 'aparts', 'mocktail', 'snickerdoodles', 'chargrilled', 'smores', 'pesaru', 'marges', 'gratinado', 'salgada', 'liquidificador', 'salgada', 'liquidificador', 'maravilhoso', 'broccolo', 'fabiennes', 'tomcaron', 'salsiccia', 'gingerade', 'switchel', 'semifreddo', 'tracis', 'semifreddo', 'semifreddo', 'rumchata', 'motoyaki', 'rumchata', 'slushie', 'slushie', 'spiralized', 'polpette', 'uova', 'ortiche', 'finocchi', 'alices', 'smores', 'potstickers', 'tomaten', 'sobagi', 'espetinho', 'coalho', 'abacaxi', 'mondongo', 'laylas', 'truvia', 'pattis', 'rollatini', 'bonnys', 'huwe', 'smores', 'apriplum', 'spiralized', 'champuru', 'spiralized', 'kagianas', 'firfir', 'brigadeiro', 'riceselect', 'panang', 'panang', 'olakes', 'smore', 'jhaal', 'jagerbeer', 'voskos', 'macapuno', 'julianas', 'slushie', 'jawab', 'sabut', 'bhindi', 'bhindi', 'subzi', 'acaraje', 'funfetti', 'makhani', 'bhindi', 'tteokguk', 'galbitang', 'dakjjim', 'mickis', 'healthified', 'tikel', 'gomen', 'veldas', 'kalees', 'macarons', 'smores', 'escalloped', 'macarons', 'elaines', 'elotes', 'macaron', 'cracklins', 'godeungeo', 'jorim', 'avengelus', 'chataigne', 'caramelisee', 'spinatstrudel', 'caneles', 'bayrischer', 'buchweizen', 'raucherlachs', 'kastenkuchen', 'sultaninen', 'walnussen', 'sledzie', 'jogurcie', 'uszka', 'miesem', 'rybna', 'faworki', 'stroopwafels', 'schab', 'mleku', 'uszka', 'barszczu', 'pulao', 'sarahs', 'clarices', 'cremoso', 'trota', 'erbette', 'panang', 'grammie', 'hamblets', 'deanos', 'vinnys', 'lorraines', 'chunkies', 'penuche', 'fideo', 'sylvias', 'elizabettas', 'tamarillo', 'irenes', 'koulourakia', 'pirogi', 'bobalki', 'lavosh', 'moonandreg', 'tufahia', 'gleist', 'napam', 'tonno', 'rangoonies', 'thangy', 'cozze', 'tarantina', 'furikake', 'benedictwich', 'charbonne', 'tabouli', 'vischers', 'gabardinas', 'cojito', 'breadless', 'straciatelle', 'sunnys', 'cubanstyle', 'caihpirinha', 'texmati', 'bowla', 'tortoni', 'skordalla', 'kefta', 'itll', 'sunnys', 'canneloni', 'neelys', 'rean', 'gueros', 'alambres', 'crumbcake', 'fieris', 'stephs', 'peppernuts', 'babyfood', 'sazon', 'fundido', 'duchessa', 'ortegaand174', 'sylvias', 'yumm', 'hasselback', 'robiolina', 'pizzettes', 'ginas', 'keyshawns', 'sunnys', 'mommys', 'neelys', 'tartines', 'hyeholdes', 'withwith', 'uova', 'brodetto', 'slimedoo', 'calbasa', 'sicle', 'burgermaster', 'scallopini', 'mochatini', 'panatone', 'pizzettes', 'farrotto', 'americains', 'billys', 'contadino', 'ladds', 'gingerbling', 'chocolatta', 'totsoi', 'smores', 'pizzettes', 'almondine', 'karahi', 'slushie', 'chremslach', 'teacakes', 'ajillo', 'pizzette', 'mantay', 'vinigarette', 'homefries', 'waterzooi', 'pizzaiola', 'croutes', 'peperonata', 'ashleys', 'melanzana', 'saltado', 'neelys', 'capones', 'tommasos', 'panfried', 'straciatella', 'crudite', 'valeries', 'bijus', 'albondigas', 'colcannon', 'hackneys', 'spanaki', 'eggrolls', 'barbequed', 'adovada', 'sunnys', 'patatas', 'schulas', 'ginas', 'liquado', 'jalepenos', 'cubanelles', 'sgroppino', 'tibey', 'chuoi', 'medalions', 'marlowes', 'betutu', 'maque', 'rollups', 'capn', 'nuong', 'bocconcini', 'ajiaco', 'birria', 'zeppoles', 'muffaletta', 'plaintain', 'fettuccini', 'minestra', 'chipaguazu', 'smore', 'causeys', 'kummelwecks', 'smores', 'dayboat', 'arturos', 'barmouches', 'sunnys', 'bruleed', 'kidtini', 'maurittos', 'buzhenina', 'farci', 'prao', 'quickbread', 'brodetto', 'kittys', 'cremeschnitten', 'rudolphs', 'ginas', 'cioccolato', 'gamberi', 'cioccolato', 'nyes', 'wagoners', 'carreteiro', 'shinns', 'scolaros', 'slushes', 'crispity', 'crunchity', 'peepin', 'affogato', 'affogato', 'sanjuanas', 'oilcoconut', 'neelys', 'pupcakes', 'chipotleschipotle', 'fuskie', 'reggies', 'papilotte', 'rella', 'brisee', 'scallopine', 'rollatini', 'lenticchie', 'feuillete', 'cipolini', 'cubasian', 'vickys', 'castagnaccio', 'mirliton', 'macque', 'cocojito', 'seppie', 'verze', 'semifreddo', 'whoopeeps', 'scaloppini', 'basstrami', 'nutterfluffer', 'v1.<NUM>', 'tommys', 'cristos', 'rinos', 'semifreddo', 'ladds', 'marionberry', 'conchiglie', 'unfried', 'porketta', 'panfried', 'patacon', 'pisao', 'provoleta', 'cebiche', 'corbina', 'mafe', 'butchs', 'boxty', 'pollys', 'cresenza', 'crudite', 'noirred', 'sampsons', 'braesola', 'rebhun', 'babyfood', 'porotos', 'mixtos', 'smores', 'ginas', 'ensalada', 'soppressata', 'pimita', 'smores', 'pithivier', 'melitzanosalata', 'wheatberry', 'ghanoush', 'zested', 'moolicious', 'ensalada', 'rosannes', 'minestra', 'carbonnade', 'carbonade', 'flamande', 'pomodorini', 'deweys', 'schiacciata', 'luva', 'denises', 'valeries', 'cataplana', 'merluzzo', 'funghi', 'chalfonte', 'guac', 'nobus', 'peanutty', 'cacciatora', 'bumbleberry', 'nobus', 'meatloaves', 'mochaccino', 'passatelli', 'mapletini', 'jimmys', 'gratinee', 'allamatriciana', 'strawnana', 'ponnokukur', 'bbqd', 'chayotes', 'slushie', 'bobchas', 'lemontini', 'randys', 'sonnys', 'saltfish', 'jalapeand241o', 'brushetta', 'zwetschgen', 'datchi', 'pizzaiola', 'panang', 'obrandy', 'semifreddo', 'moonandreg', 'shroom', 'leslies', 'salsita', 'kendras', 'ginas', 'pigitini', 'tartuffo', 'saus', 'ellida', 'rustichella', 'chantrelles', 'stressbuster', 'insalate', 'caipiroska', 'bbqd', 'gartens', 'christinas', 'yogurtwiches', 'smores', 'aztecan', 'sunnys', 'confiture', 'rolundo', 'jifandreg', 'sunnys', 'chewies', 'ghoulade', 'souffleed', 'sunnys', 'nunya', 'minestra', 'breadscones', 'mexa', 'smores', 'flaxseeds', 'sammys', 'farfallini', 'smoothtea', 'saucisson', 'meigas', 'chiarellos', 'bacardiandreg', 'pizzaiola', 'treenestar', 'mexicocoa', 'mchogan', 'clemencea', 'ashleys', 'sunnys', 'griddlecakes', 'spensers', 'cheezy', 'janettes', 'sandras', 'kristas', 'sockie', 'nuong', 'andcoconut', 'serendipitys', 'sloppyroni', 'spedini', 'ensalada', 'espinaca', 'pepitos', 'fettuccini', 'crudi', 'involtini', 'fundido', 'nonnas', 'sunnys', 'ghanoush', 'boxty', 'mattys', 'taralli', 'crostone', 'marlas', 'soppressata', 'rosarios', 'rumpope', 'laque', 'flambeed', 'chocorazz', 'tysonandreg', 'giobbis', 'panzerotti', 'coctel', 'xao', 'ahumado', 'lentejas', 'christinas', 'eliopitta', 'snickerdoodles', 'sunnys', 'declans', 'borrachos', 'cacio', 'stephanies', 'flambee', 'sunnys', 'claires', 'bibingka', 'crudite', 'semifreddo', 'capsican', 'kolachky', 'hasselback', 'vongole', 'hatties', 'smores', 'ghannouj', 'ritas', 'haloumi', 'lingiune', 'cabanal', 'tequilarita', 'bocconcini', 'salsiccia', 'upsidedown', 'crostada', 'stonefruit', 'rugula', 'rugalach', 'stewtinga', 'shaxi', 'boniato', 'vacherins', 'bruschettas', 'rolfs', 'oreillys', 'spincah', 'raspo', 'smores', 'spiedie', 'peperonata', 'fritatten', 'bocconcini', 'chuttletopf', 'allalfredo', 'sunnys', 'hangop', 'arance', 'acciughe', 'hushpuppies', 'cous', 'cous', 'treatsandtrade', 'treatsand153', 'pizzelle', 'nuong', 'smorrebrod', 'kaiserschmarrn', 'oreganata', 'ensalada', 'chilied', 'azzuro', 'griglia', 'pithivier', 'lumache', 'colcannon', 'callaloos', 'cuit', 'scorcho', 'wallbanger', 'crispixand153', 'devilled', 'passatelli', 'psito', 'matambrito', 'quickbread', 'frattata', 'allamatriciana', 'hushpuppies', 'shampagne', 'hasselback', 'sunnys', 'grandsandreg', 'berrymaple', 'ginas', 'witlof', 'tzaziki', 'emmetts', 'bistecca', 'trouchia', 'kelseys', 'fregula', 'karythopitta', 'clarences', 'sylvias', 'ulrikas', 'capicola', 'pipian', 'sunnys', 'neelys', 'tuilles', 'peppadews', 'sammies', 'cocada', 'jitomate', 'cocida', 'caputosh', 'tartines', 'bocconcini', 'cebiche', 'corbina', 'stracchino', 'gzs', 'spiedini', 'riberena', 'haupia', 'ranys', 'carotte', 'tikin', 'xik', 'moulies', 'latinopolitan', 'arrosto', 'luigis', 'avgolemono', 'bagnat', 'fundido', 'puertorriqueno', 'ensalada', 'stamies', 'neelys', 'delilahs', 'bobotie', 'acciugata', 'ginas', 'giuseppes', 'sciue', 'sciue', 'warmdaddys', 'nancys', 'triflettes', 'danielas', 'olivada', 'charmoula', 'rasapple', 'pedemoleque', 'applegurt', 'maracuya', 'girlfredo', 'pupcakes', 'cozze', 'rollatini', 'neelys', 'creammm', 'affogato', 'toreados', 'snowpeas', 'paupiette', 'emmanuels', 'fideo', 'michelada', 'creamiest', 'butteriest', 'ginas', 'tikinxic', 'bejinhos', 'garvins', 'grannys', 'monjunis', 'rajma', 'sunnys', 'smores', 'spiedino', 'amys', 'teaism', 'rossinis', 'anticuchos', 'chorizos', 'scorze', 'arancia', 'cioccolato', 'tartines', 'daddys', 'tiffanis', 'lamburgers', 'stewfato', 'stressbuster', 'chesse', 'focacce', 'royalandreg', 'labne', 'janettes', 'bocconcini', 'panelle', 'ozoni', 'toreados', 'smores', 'smore', 'ballaro', 'ballaro', 'sieu', 'nuong', 'ruthies', 'fregola', 'tangerita', 'italianochicken', 'sunnys', 'shmagel', 'ginas', 'mcgoverns', 'tabouleh', 'tassies', 'soppressata', 'shelbis', 'giseles', 'lizzies', 'edmee', 'michelada', 'zydecos', 'caraotas', 'turans', 'oreganata', 'aillade', 'smores', 'picando', 'membrillo', 'smores', 'caruru', 'salpicon', 'jaiba', 'sunnys', 'peppadew', 'daddi', 'blinchiki', 'peanuty', 'checca', 'agrodolce', 'mamaliga', 'merluzzo', 'jamican', 'vitamix', 'amangani', 'thieboubjen', 'senengal', 'adovada', 'gnudi', 'fauxritos', 'pierogy', 'hushpuppies', 'escalloped', 'glogg', 'gendare', 'spumoni', 'ahogadas', 'fritto', 'sunnys', 'passatelli', 'maduros', 'mikeskas', 'flautas', 'sunnys', 'madelines', 'scamorza', 'coquito', 'manguini', 'ogreens', 'ginas', 'poboy', 'colcannon', 'crispbreads', 'appletini', 'moonandreg', 'madiera', 'ginas', 'wheatberry', 'guisada', 'sugois', 'bellinis', 'olivada', 'crispix', 'saladand153', 'barigoule', 'velvetchocolate', 'zeppole', 'lawrys', 'christinas', 'kelloggsandreg', 'krispiesandreg', 'alexs', 'cottas', 'pizzettas', 'couer', 'foldovers', 'nancys', 'syllabub', 'gzs', 'syle', 'ginas', 'cornsticks', 'batidos', 'kelloggsandreg', 'branandreg', 'daddys', 'pattis', 'aeoli', 'brulot', 'fragomammella', 'technicolored', 'ladys', 'ritas', 'griglia', 'rouladen', 'shrimpin', 'ginas', 'kimos', 'descargots', 'caracole', 'ambree', 'sourtini', 'sucrees', 'braciolatini', 'neelys', 'shortrib', 'trippa', 'brodettato', 'cremes', 'ginas', 'sardeles', 'seans', 'missys', 'piperade', 'budino', 'flameado', 'chassignat', 'daddys', 'hommie', 'shortribs', 'slushes', 'bubbys', 'lorange', 'buganvilia', 'involtini', 'castagne', 'angelles', 'campanelle', 'bakerys', 'congril', 'tonnato', 'bayaldi', 'zeppole', 'slushes', 'codornices', 'budino', 'flautas', 'talapia', 'michelada', 'acini', 'spedino', 'salmoriglio', 'pajas', 'redonkadonk', 'sadillas', 'peperoncini', 'lambcarre', 'patagonic', 'echalots', 'theresas', 'hushpuppies', 'croccante', 'negimaki', 'stamies', 'daisys', 'fazool', 'factorys', 'krumkake', 'tonno', 'cartoccio', 'radonsky', 'fabios', 'crescenza', 'shishito', 'sunnys', 'sunnys', 'tagarin', 'dunderi', 'hellraisin', 'scuffins', 'pesche', 'leekie', 'soupcockie', 'leekie', 'tstcgdgdgdgdgdgdgd', 'meatloaves', 'gaufrettes', 'brigadeiros', 'ditaloni', 'soppressata', 'salsiccie', 'polpettone', 't.o', 'fundido', 'roesti', 'sabrinas', 'dugler', 'bourguignone', 'ghanoush', 'tellurides', 'mantecato', 'ditalini', 'dabrigini', 'mochaccino', 'palmiers', 'butchs', 'smauros', 'ginas', 'scoopy', 'sigrids', 'kelloggsand174', 'eggoand174', 'corys', 'affogato', 'muffaletta', 'pattypan', 'stagon', 'scarpariello', 'susine', 'spudini', 'camerones', 'griddlecakes', 'spanolatkes', 'startini', 'fayes', 'braciole', 'arancini', 'jimmys', 'stuffie', 'rons', 'merrimans', 'stirfry', 'paillards', 'bacardiandreg', 'janettes', 'conchiglie', 'sparkys', 'lotes', 'kaapie', 'slushies', 'hasselback', 'keyshawns', 'councesze', 'powdermilk', 'hanout', 'sharons', 'cavaniolas', 'emerils', 'linzertorte', 'ginas', 'coquito', 'dunkee', 'beeramisu', 'kidamisu', 'cordelias', 'acras', 'morue', 'pudged', 'treatsandtrade', 'rons', 'fettunta', 'brownefeller', 'souflaki', 'opihi', 'raffys', 'slushie', 'patatas', 'hushpuppies', 'carlas', 'scaloppini', 'flambeed', 'satays', 'chocolatini', 'sunnys', 'bacardiandreg', 'shishito', 'cubama', 'krackle', 'telbans', 'allspiced', 'funghi', 'farci', 'granchi', 'poires', 'flirtini', 'neelys', 'pastilla', 'spiedini', 'quaglie', 'discoball', 'zeppole', 'jjs', 'treatsandtrade', 'polpette', 'vittorios', 'garths', 'chocolately', 'salpacio', 'glyka', 'koutaliou', 'pojarski', 'curlys', 'lucias', 'flambee', 'hushpuppies', 'stracciatelle', 'coconutty', 'trincaz', 'milho', 'carnita', 'scaturchios', 'pastiera', 'cochinita', 'cierras', 'crantini', 'anticuchos', 'frutta', 'orangecello', 'paillards', 'griddlecakes', 'matoes', 'cornichon', 'gremolada', 'sammies', 'baccelli', 'peanutty', 'brunchtime', 'truvia', 'neelys', 'lydias', 'gloegg', 'neelys', 'sunnys', 'ployes', 'elleys', 'sandras', 'smores', 'smores', 'kroshka', 'hortensias', 'fritti', 'barbequed', 'gojito', 'elaines', 'sunnys', 'myzithra', 'orechiette', 'krispiesand153', 'blissini', 'michelada', 'amalfitana', 'lavosh', 'tomavo', 'freezy', 'spezzatino', 'carluccios', 'kumumoto', 'ischli', 'honeybell', 'fritta', 'muffalletta', 'ensalada', 'napalitos', 'cartoccio', 'lizzies', 'eulalias', 'sunnys', 'grissini', 'bruleed', 'mauros', 'friggiarelli', 'palmiers', 'saratogas', 'proscuitto', 'zeppole', 'gallette', 'polpette', 'cantinella', 'toush', 'cuervoand174', 'smore', 'escovitched', 'nimbu', 'vension', 'solomo', 'kleftiko', 'ciroc', 'ellida', 'aartis', 'grenobois', 'shigoku', 'spatchcocking', 'acquacotta', 'fettunta', 'bruschette', 'focaccianini', 'sarandeado', 'enchilado', 'sherlas', 'appassionato', 'johnnycakes', 'mirlitons', 'lynnes', 'flambeed', 'semifreddo', 'lobstatini', 'oreganate', 'peshwari', 'gengibre', 'strozzapreti', 'espressions', 'affogato', 'huitlecoche', 'ginas', 'gorganzola', 'jojos', 'kachumber', 'renes', 'orechiette', 'almondine', 'almondine', 'crudite', 'foodtv.coms', 'mulligatawny', 'rockafeller', 'habichuela', 'almondine', 'ficelle', 'refresco', 'espelette', 'sangrias', 'torrones', 'smores', 'spumoni', 'guac', 'maronis', 'daddys', 'saganaki', 'cheezy', 'gnudi', 'dippity', 'funfetti', 'chargrilled', 'cous', 'cous', 'ghoulash', 'smores', 'callaloos', 'vongole', 'robalo', 'popei', 'meltaways', 'mussarra', 'jito', 'kutya', 'pepperoncini', 'croccante', 'joness', 'soysicle', 'truvia', 'vincenzos', 'perogies', 'abandj', 'anticuchos', 'mechoui', 'smores', 'rinforzo', 'mikeskas', 'turferrific', 'michelada', 'farci', 'scarpariello', 'arrabbiata', 'madames', 'sangrita', 'panroasted', 'dagneau', 'bowla', 'spezzatino', 'cinghiale', 'guidos', 'artichoko', 'tonnato', 'shanes', 'rons', 'wallbanger', 'meatbahhl', 'trahana', 'rollups', 'caldero', 'lorens', 'cacciatora', 'viviens', 'bouluds', 'farmsandreg', 'pattiesandreg', 'wachauer', 'aprikosenknodel', 'sammies', 'mangogreen', 'hasselback', 'pommy', 'smore', 'poboys', 'fudgepops', 'thurstons', 'souffled', 'bubbies', 'hushpuppies', 'sandos', 'neelys', 'zinful', 'fritatten', 'smores', 'b.l.t', 'coquilles', 'housemade', 'sunnys', 'antojito', 'spumoni', 'matambre', 'pastina', 'dambrodo', 'keftethes', 'snickerdoodle', 'amatriciana', 'marmellata', 'rootbeer', 'ribbony', 'manjar', 'smores', 'zapperback', 'mangiafuoco', 'janettes', 'loukoumathes', 'kremidolmades', 'gricia', 'sandras', 'kunomoto', 'planxa', 'fettuccini', 'cornsticks', 'sunnys', 'debells', 'snickerdoodles', 'panfried', 'quesillo', 'sunnys', 'dilled', 'curlys', 'houseandreg', 'livornese', 'olivada', 'halupkis', 'wineshallot', 'rushrooms', 'frituras', 'neelys', 'louki', 'vongole', 'pissaladiere', 'wheely', 'mauros', 'michelada', 'hongos', 'ajillo', 'neelys', 'justins', 'polpette', 'seabreezes', 'smores', 'sautees', 'stawberries', 'molcajete', 'colettes', 'taramasalata', 'domatokeftedes', 'hasselback', 'tartsandreg', 'aduki', 'pizzaiola', 'asados', 'peras', 'farmsandreg', 'sunnys', 'affogato', 'stagioni', 'muttballs', 'ditalini', 'hutspot', 'klapstuk', 'tinis', 'anginetti', 'semifreddo', 'danielas', 'alexiss', 'pashka', 'jifandreg', 'slushie', 'dougs', 'triglie', 'pinoli', 'buger', 'crispix', 'hassleback', 'christinas', 'popcornucopia', 'farrotto', 'torten', 'yemistes', 'domates', 'rizi', 'affogato', 'funghi', 'spensers', 'haylies', 'krumkake', 'lynnafellar', 'rumaki', 'rumaki', 'smore', 'melissas', 'pavlovas', 'truviaa', 'truckie', 'ragand250andreg', 'meanz', 'bbqd', 'banoffee', 'chermoula', 'kelaguen', 'mannok', 'frommage', 'cucumbertomato', 'vickys', 'acopia', 'nocciola', 'ginas', 'mineiran', 'szegedin', 'pepperoncini', 'pouissin', 'sunnys', 'pargiyot', 'lorange', 'gurkas', 'ciroc', 'ruthies', 'polpette', 'wienies', 'tallutos', 'focaccini', 'brandandreg', 'darwells', 'salpicon', 'proscuitto', 'vacherin', 'drageed', 'florences', 'balsmati', 'soppressata', 'fundido', 'crispix', 'mixand153', 'palmiers', 'dessertwich', 'orzotto', 'lorange', 'chilln', 'cuervoand174', 'vitamix', 'horesradish', 'fricase', 'grainless', 'lizs', 'neelys', 'chowda', 'nonnas', 'semifreddo', 'pesche', 'sorvinos', 'shashleek', 'nancys', 'crudite', 'wachowicz', 'neapoletana', 'beths', 'cannolis', 'neelys', 'fideos', 'polvorones', 'daddys', 'periyalis', 'jogasaki', 'christinas', 'louises', 'eleanors', 'rootbeer', 'jugged', 'pastina', 'semifreddo', 'anoops', 'wienery', 'saltimboca', 'sandras', 'chrissys', 'doranges', 'bettola', 'stracciatella', 'cruditandeacutes', 'ajiaco', 'mannerstrom', 'calfs', 'pollys', 'daddys', 'bagnat', 'kebobs', 'sunnys', 'cardamon', 'haroset', 'tabouli', 'michelada', 'blaubergs', 'polpetti', 'babyfood', 'motulenos', 'blindogs', 'pinquito', 'curlys', 'trippa', 'labne', 'shantelles', 'mulligatawny', 'pastitsio', 'ladyfinger', 'rucola', 'chorreada', 'strascicate', 'opakapaka', 'healthified', 'scungili', 'eggstraordinary', 'kritsoff', 'spongecakes', 'pepperoncini', 'sunomono', 'pernil', 'maurita', 'falconettis', 'sunnys', 'cippolini', 'sunnys', 'carbonade', 'flamande', 'hushpuppies', 'mamaus', 'tiolis', 'brodo', 'egga', 'sanchezs', 'sangrita', 'clerico', 'piquante', 'espinaca', 'brandandreg', 'almondine', 'suzys', 'paulas', 'formaggi', 'bratwurts', 'mings', 'pudim', 'persillade', 'mariniere', 'nopalitos', 'pizzette', 'fakeout', 'pissaladiere', 'smore', 'oreganata', 'marionberry', 'gasada', 'ortanique', 'ellida', 'metropolitini', 'sandyport', 'zydecos', 'karris', 'strozzapreti', 'sylvias', 'poppadum', 'costolette', 'capricciosa', 'smauros', 'smores', 'hanss', 'meusli', 'brisee', 'micheladas', 'saltfish', 'fettuccini', 'syllabub', 'sunnys', 'judys', 'neelys', 'panroast', 'rucola', 'n.s', 'frittersand153', 'glogg', 'smores', 'beersorbet', 'sunnys', 'lorange', 'semifreddo', 'papads', 'fundido', 'nancys', 'adovada', 'pigskins', 'mirabellas', 'maxeys', 'elixer', 'biscochitos', 'moochim', 'melanzane', 'sottolio', 'ghostinis', 'glogg', 'pepperoncini', 'besitos', 'champignons', 'rific', 'tzaziki', 'duvalls', 'cinnamons', 'domyoji', 'breadless', 'gandules', 'stirfry', 'ponche', 'tagliata', 'graneado', 'sunnys', 'babaganoush', 'baumaniere', 'gretas', 'bellinis', 'mamans', 'sunnys', 'vatapa', 'hasselbecks', 'raleys', 'faustos', 'gribiche', 'ginas', 'involtini', 'pickleback', 'pacoca', 'ginas', 'rollmops', 'gnudi', 'smores', 'puddins', 'soppressata', 'fesenjan', 'flautas', 'wafersand153', 'allamatriciana', 'beths', 'latchstring', 'chalaca', 'wafflewiches', 'piehole', 'insalate', 'cambozola', 'persillade', 'bizcochos', 'chilindron', 'neelys', 'palmiers', 'loignon', 'haupia', 'kristys', 'babyfood', 'sunnys', 'eboos', 'micheles', 'trapanese', 'trapanese', 'batidos', 'mings', 'cinghiale', 'affogato', 'sunnys', 'millefeuille', 'nalesniki', 'treatsandtrade', 'mahoneys', 'doeuvres', 'ginas', 'conchiglie', 'ajillo', 'sunchoke', 'panfried', 'seckle', 'kebobs', 'scallopini', 'fundido', 'hongos', 'frittelle', 'michelada', 'peperonata', 'smores', 'daisys', 'spanikopita', 'ooey', 'molards', 'pierogy', 'zzzingers', 'dubush', 'fenneled', 'sunnys', 'chudleighs', 'pavlovas', 'funghi', 'finto', 'frenched', 'smores', 'emmanuels', 'bbqs', 'bunuelos', 'pastitsio', 'mings', 'zeppole', 'merts', 'schnitzles', 'clahans', 'rachs', 'ginas', 'lobels', 'schiacciata', 'moonens', 'colore', 'bistecca', 'ruthies', 'sunnys', 'edamole', 'brisee', 'johnnycakes', 'tinas', 'garidosalata', 'barky', 'harira', 'slushies', 'julgrot', 'ginas', 'michelada', 'tsuyu', 'zuppe', 'choka', 'mcmuggin', 'alessias', 'mcmullens', 'appleberry', 'olivada', 'marlowes', 'christophene', 'zakutzky', 'pollys', 'smores', 'smores', 'vongole', 'cartoccio', 'bruschette', 'nipitella', 'bizcochitos', 'barbequed', 'tagliarelle', 'involtini', 'giulias', 'fettuccini', 'rachaels', 'guachup', 'bellinis', 'truffiere', 'medjool', 'natina', 'gandules', 'affogato', 'chicories', 'ziggys', 'varnishkas', 'tzatzki', 'tonatto', 'fregola', 'irenes', 'koulourakia', 'janettes', 'naranjas', 'rootbeer', 'bagelwiches', 'santor', 'choclo', 'semifreddo', 'spanokopitta', 'yearwoods', 'spedini', 'milanesas', 'andagrave', 'grandsandreg', 'fregola', 'cannolo', 'davero', 'cornsticks', 'zabaione', 'witchs', 'meshugana', 'michelada', 'funfettiandreg', 'shortcrust', 'a.j.s', 'cambozola', 'medames', 'doeuvres', 'l.o.v.e', 'christinas', 'kaitafi', 'neelys', 'ribollita', 'smores', 'macarons', 'burritto', 'zucchine', 'fettuccini', 'sangrita', 'paprikash', 'sandras', 'fagiolini', 'umido', 'mcguires', 'wheatberry', 'breadless', 'danielas', 'ahogadas', 'pocketspurse', 'agrodolce', 'sunnys', 'dagnello', 'scottadito', 'laulau', 'kalbsnierentranchen', 'fundido', 'sakegria', 'pattona', 'carciofi', 'grillades', 'cous', 'cous', 'wagoners', 'carreteiro', 'ginas', 'kuwaity', 'bissells', 'piadini', 'stracotto', 'scarpariello', 'saltfish', 'koolickles', 'reeses', 'croquembouche', 'neelys', 'qav113', 'bbqd', 'grillin', 'willinghams', 'fettuccini', 'ringlette', 'neelys', 'tastykake', 'baileysandreg', 'crudite', 'kulebyaka', 'ponche', 'olivada', 'hortela', 'anitas', 'rajun', 'lizzies', 'kristis', 'aritas', 'shishito', 'valdostana', 'peanutty', 'tinas', 'gccc', 'sunnys', 'calcionetti', 'sophies', 'champignon', 'sunnys', 'michelada', 'grillin', 'craisy', 'lorange', 'braciola', 'torrejas', 'guisantes', 'cruschiki', 'butterpancake', 'marylous', 'semifreddo', 'arrebosada', 'paillards', 'sunnys', 'caparina', 'vickis', 'fundido', 'linzers', 'teleme', 'piccadillo', 'bacardiandreg', 'moqueca', 'calleys', 'trenette', 'beanovski', 'turkeytm', 'xao', 'sunnys', 'draculas', 'minestra', 'sparasi', 'poboy', 'peperonata', 'katzs', 'doeuvres', 'humitas', 'kachumbari', 'nancys', 'zeppoli', 'amygdalota', 'pizzettas', 'tagliolini', 'tagliolini', 'rachaels', 'zingermans', 'muffulettas', 'baconnaise', 'sunnys', 'affogato', 'smore', 'nuong', 'grillin', 'salteados', 'seans', 'bistic', 'hushpuppies', 'ginas', 'cblts', 'goujonettes', 'chocolatini', 'ovengoldand174', 'orangeand174', 'giambotta', 'frydays', 'escovitch', 'fettuccini', 'welshcakes', 'patatas', 'sammies', 'ensalada', 'ginormo', 'cartoccio', 'daddys', 'zeppole', 'spiedini', 'quaglie', 'tamarillo', 'janettes', 'brisee', 'smores', 'pastina', 'taramasalata', 'parsleyed', 'foccacia', 'involtini', 'reeses', 'janssons', 'frestelse', 'macademia', 'cacciatorre', 'scoopable', 'smores', 'creamless', 'barbequed', 'valdostana', 'sczechuan', 'doreens', 'kropla', 'morgru', 'liquado', 'bruleed', 'harriets', 'ribolitta', 'chaussons', 'laberspiessli', 'patater', 'rons', 'shakshuka', 'jamies', 'trishas', 'malteds', 'treatsandtrade', 'feinschmeckerrole', 'wowie', 'cardomon', 'scallopine', 'fudgey', 'eldas', 'zeppole', 'cipolline', 'orangettes', 'snickerdoodle', 'jamez', 'rrrrribs', 'mariniere', 'ballz', 'loukomades', 'crespellas', 'salsiccia', 'spinaci', 'jamies', 'sunnys', 'butterbeer', 'torteau', 'parcha', 'smores', 'pizzette', 'provoleta', 'ripieni', 'chocolatini', 'scropino', 'monsieurs', 'rons', 'neelys', 'bacorn', 'hushpuppies', 'oreganata', 'tonno', 'miroton', 'cabillaud', 'sunnys', 'vesan', 'chipchos', 'smores', 'leekie', 'daddys', 'sicle', 'neelys', 'fregolotta', 'whitners', 'morganandreg', 'palmiers', 'lupitas', 'tlayudas', 'scarpariello', 'niblets', 'pahole', 'swansonandreg', 'hushpuppies', 'fettuccini', 'nuong', 'pannekoeken', 'boxty', 'drummettes', 'pasas', 'tortino', 'imos', 'spiedini', 'santinos', 'scapece', 'zambras', 'enchilasagna', 'foccaccia', 'affogato', 'wuollets', 'nancys', 'meatloaves', 'smores', 'slushie', 'sunnys', 'smores', 'popcornapalooza', 'mananatini', 'langostinos', 'loignon', 'capputini', 'tartines', 'foccacia', 'tiramisus', 'sqlaw', 'paillards', 'stargazy', 'orzotto', 'vicolo', 'lemonberryade', 'affogato', 'saganaki', 'almondine', 'affogato', 'sangrita', 'craisy', 'ranchmans', 'duvalls', 'crabcake', 'grapetini', 'adovada', 'sanwiches', 'arancini', 'sangarita', 'batidos', 'patatas', 'tyropitakia', 'bubbys', 'michelada', 'peppadews', 'rombauers', 'beergarita', 'peperoncini', 'struffoli', 'manitaria', 'breadless', 'corncakes', 'nanners', 'llaloo', 'smores', 'neelys', 'goodwitchs', 'vacherin', 'cavatappi', 'pissaladiere', 'bourguignonne', 'honeylime', 'ritas', 'gwens', 'nonos', 'polipo', 'umido', 'cochinita', 'confiture', 'smorritos', 'schnitzels', 'ginas', 'oeufs', 'tunisiano', 'sherried', 'bourguignonne', 'palacsinta', 'jerkstyle', 'vlads', 'grandsand174', 'freekeh', 'torteau', 'pissaladiere', 'beths', 'muffaletta', 'gateaux', 'croques', 'herbsicles', 'tuille', 'hamentaschen', 'smores', 'pebre', 'neelys', 'tinola', 'scuffins', 'myrnas', 'spezzatino', 'cioccolato', 'tabouli', 'beesting', 'poboys', 'lattaio', 'holtzmans', 'sabayone', 'affogato', 'ribollita', 'liquado', 'fettuccini', 'trufas', 'moutarde', 'oatiest', 'bellinis', 'resurrector', 'tanyas', 'zakarians', 'neelys', 'zhulien', 'tiakri', 'spanokopita', 'smores', 'georgines', 'hackneys', 'mahshi', 'jifandreg', 'crudite', 'mamos', 'bottletree', 'gooeys', 'ladds', 'pizzettes', 'neelys', 'jeffmuffins', 'zwiebelrostbraten', 'slushies', 'huntsandreg', 'sylvias', 'momona', 'paakai', 'ensalada', 'lentejas', 'jamies', 'calabacita', 'hoecakes', 'chudleighs', 'sammies', 'braciole', 'ginas', 'erics', 'grillin', 'christophine', 'cranberryless', 'sunnys', 'smores', 'mousselinecookies', 'daddys', 'crespelle', 'stracciatella', 'patinkins', 'southmoreland', 'peggys', 'menorken', 'smores', 'ouzu', 'cemitas', 'cemitas', 'bandeja', 'ponche', 'jancsi', 'edamole', 'mizithra', 'milhojas', 'ashleys', 'totani', 'arepitas', 'brika', 'shephards', 'picatta', 'murghi', 'zuzus', 'amatriciana', 'pastina', 'guavacita', 'cippollini', 'grillin', 'ellens', 'coentro', 'tassies', 'buoni', 'choys', 'daddys', 'dilled', 'trufflesoy', 'smores', 'paulas', 'poires', 'olantern', 'bocconcini', 'duxelle', 'miroton', 'claires', 'midsummers', 'avgolemono', 'cambozola', 'cacio', 'hannahs', 'casadielles', 'mikeskas', 'janettes', 'balzars', 'emilys', 'povlik', 'ikura', 'cremat', 'rinones', 'ginas', 'brisee', 'crunchcake', 'tulipes', 'bubbletini', 'sunnys', 'dautunno', 'palmiers', 'duvalls', 'cacio', 'gaufrette', 'chilitomato', 'frita', 'saketini', 'truvia', 'palmiers', 'poppyseeds', 'costillas', 'gratinata', 'blcc', 'smores', 'pizzelle', 'muirs', 'rugalach', 'shandies', 'mediteranean', 'sunnys', 'sandies', 'namul', 'caramallow', 'campbanana', 'nabokova', 'paskha', 'almondine', 'antipasticks', 'bluetini', 'snickerdoodles', 'affogato', 'saucisson', 'vegoladas', 'foldovers', 'pollito', 'b.e.g', 'aparts', 'greque', 'gilligans', 'mulukhiyya', 'orangeade', 'ginas', 'smores', 'rific', 'fourees', 'musetto', 'brovada', 'encebollado', 'sonhos', 'smores', 'rumaki', 'raos', 'ladys', 'placecards', 'pernil', 'donatellis', 'dubbys', 'kahland218aand174', 'saltimboca', 'macaron', 'samaka', 'ginas', 'mikeskas', 'soppressata', 'macarthy', 'canneloni', 'neelys', 'appletini', 'hamburguesa', 'tsimis', 'champignons', 'sopapillas', 'arrabiata', 'escalloped', 'daddys', 'tabouli', 'gria', 'ginas', 'spamdillas', 'clasicas', 'saucisse', 'sunnys', 'o.g', 'smores', 'pagnotelle', 'farcite', 'liams', 'sallys', 'peperonata', 'enchilado', 'yummies', 'meloncello', 'sheetpan', 'margranita', 'southerfella', 'ginas', 'madidis', 'moelleux', 'cuffins', 'tonnato', 'spanikopita', 'rollatini', 'merluza', 'porcelet', 'fettuccini', 'smirnoffandreg', 'kakawas', 'pickleback', 'waterzooi', 'nanner', 'paczki', 'lisls', 'sarladaise', 'bunuelos', 'peggys', 'sunnys', 'sucree', 'ginas', 'annalisas', 'lemonation', 'jucy', 'lucys', 'shrimpo', 'slushies', 'sgroppino', 'dominics', 'shroom', 'romaines', 'ciroc', 'lorange', 'bouillabaise', 'michelles', 'lydias', 'pappadums', 'smores', 'paulas', 'ooey', 'raffys', 'strozzapreti', 'deens', 'neelys', 'panfried', 'nimbu', 'gabrieles', 'duvalls', 'braciole', 'tonnato', 'loukanika', 'tajine', 'lorange', 'garys', 'downeys', 'bambo', 'neelys', 'tatoes', 'socca', 'maxs', 'tourta', 'mancis', 'jazebel', 'peanutty', 'pizzoccheri', 'elsies', 'puertorriqueno', 'spidinis', 'orangeade', 'grissini', 'fritto', 'mamaus', 'sammies', 'formaggi', 'tomatilla', 'threebean', 'tataki', 'sunnys', 'shmoes', 'sunnys', 'crissmans', 'spudini', 'fagiolini', 'mexajita', 'doeuvres', 'vitamix', 'ginas', 'crackerwiches', 'campanelle', 'tonnato', 'champari', 'sammys', 'caipirhinas', 'neelys', 'smores', 'pizzette', 'arrabiata', 'jr.s', 'shishito', 'sherried', 'galletas', 'fideos', 'tapanade', 'molcajete', 'venitas', 'acaraje', 'ajillo', 'snickerdoodles', 'babyfood', 'turrone', 'jubliee', 'pizzetta', 'cambozola', 'quesa', 'perogies', 'hushpuppies', 'spinaci', 'padella', 'mezcalita', 'zuccotto', 'e.a.t', 'daddys', 'citronnade', 'lorange', 'haupia', 'foccacia', 'confidentials', 'christinas', 'daddys', 'palmiers', 'buerre', 'b.b.q', 'opatties', 'manzania', 'mezas', 'scallopini', 'cordornices', 'sunnys', 'vancouvers', 'frittedda', 'tartuffo', 'radlermass', 'espelette', 'tostaditas', 'alluccelletta', 'lumaconi', 'col0mbian', 'avgolemono', 'pandolce', 'mocktail', 'diegos', 'tassies', 'daglio', 'pochettes', 'pompelmo', 'slushes', 'zeppoles', 'neddas', 'philipino', 'lorange', 'xao', 'pizzette', 'carusos', 'bellinis', 'kofis', 'tostados', 'toluquenas', 'refresco', 'micheles', 'putnams', 'snickerdoodles', 'sonnys', 'pizzette', 'rella', 'ovenbaked', 'woodys', 'moqueca', 'smorrebrod', 'royalandreg', 'hushpuppies', 'sophias', 'yearwoods', 'sauc', 'peasy', 'pbq', 'serenas', 'neelys', 'arancini', 'dolmades', 'gargonzola', 'straccetti', 'minestra', 'tortelloni', 'kebobs', 'concia', 'guac', 'oreganata', 'maggies', 'saketini', 'vernas', 'fedelini', 'sandies', 'persillade', 'tiramisundaes', 'livelys', 'ginas', 'sunnys', 'sunnys', 'allamatriciana', 'kalbigui', 'albondigas', 'hersheys', 'stonefruit', 'daddys', 'garlickee', 'autentico', 'cheechs', 'polombiers', 'peanutty', 'llandoger', 'rouladen', 'crepinettes', 'smores', 'scamorza', 'famies', 'glogg', 'croustade', 'rhuby', 'lachutes', 'sunnys', 'pastitsada', 'braciole', 'rumaki', 'piperade', 'quaresimale', 'churri', 'guac', 'oncello', 'cancato', 'janettes', 'bltas', 'buerre', 'cachapas', 'fragola', 'albertos', 'affogato', 'spamrizo', 'salet', 'cioccolator', 'ginas', 'piccalilli', 'hurricanish', 'refresca', 'daquiri', 'pernil', 'kolduny', 'spumoni', 'sammies', 'chiliquiles', 'pepian', 'quesillo', 'mccargos', 'katzs', 'encebollado', 'cachapas', 'codders', 'frita', 'tacoritos', 'kelloggsandreg', 'krispiesandreg', 'taramosalata', 'quelites', 'macarons', 'antioquena', 'mostaccioli', 'fundido', 'ensalada', 'morron', 'sirloins', 'mazios', 'cesares', 'pipian', 'buttercrunch', 'saganaki', 'affogato', 'vongole', 'cottas', 'daddys', 'mayoli', 'slushes', 'grillin', 'peartini', 'backhendl', 'paulas', 'bacardiandreg', 'ajio', 'scallopini', 'polipo', 'neelys', 'corncakes', 'tatins', 'fettuccini', 'jollof', 'tabouleh', 'maggies', 'cathead', 'tabouleh', 'caseys', 'malasadas', 'saltsa', 'psito', 'griddled', 'affogato', 'maggios', 'eggberts', 'sunriser', 'cachucha', 'souskai', 'drunkenberry', 'spongecake', 'drummies', 'delish', 'bolinos', 'xao', 'alischiatana', 'monjunis', 'tonnato', 'ottos', 'cavatappi', 'fattoush', 'tizza', 'colonnata', 'verikoko', 'moonandreg', 'taramasalata', 'vinagrette', 'glogg', 'saumon', 'laneth', 'albonbigas', 'ocktail', 'vongole', 'morilla', 'nannys', 'huntsandreg', 'sunnys', 'rosemaries', 'janettes', 'tajine', 'aquatini', 'meatloaves', 'nuong', 'sopes', 'vadai', 'pastitsio', 'caipirissima', 'affogato', 'chocolately', 'costoletas', 'clamcakes', 'cheryls', 'takenoko', 'kinome', 'duntreath', 'scallopini', 'contessas', 'chococonut', 'steubens', 'anitas', 'horiatiki', 'ginas', 'huevoquiles', 'jifandreg', 'rolladen', 'michelada', 'shakerato', 'garlics', 'granitas', 'frrrozen', 'mamies', 'picadinho', 'giudittas', 'pomodori', 'ripieni', 'guidittas', 'shakshouka', 'almondine', 'bife', 'scotchie', 'cappelini', 'crepinette', 'icepop', 'sczechuan', 'christinas', 'orzotto', 'treatsandtrade', 'lorraines', 'maque', 'maxs', 'fritta', 'jibarito', 'beety', 'bellinis', 'avgolemono', 'rollatini', 'tailgators', 'parrillada', 'saketini', 'fritata', 'calebs', 'zingertini', 'zachs', 'alotta', 'witchs', 'turteln', 'blaukraut', 'cippolini', 'bammies', 'biscochitos', 'salmoriglio', 'debbys', 'parsleyed', 'crispies', 'urta', 'applesand153', 'mauis', 'wolfgangs', 'chuoi', 'rocoto', 'thinsandreg', 'tuille', 'slushies', 'cotelettes', 'dagneau', 'crusta', 'sucree', 'sunnys', 'brewburgers', 'proscuitto', 'tortelloni', 'tailgators', 'batido', 'vongole', 'gratinate', 'nigirifinger', 'co.s', 'mikeskas', 'trishas', 'angelfood', 'karewai', 'kelseys', 'mocktail', 'ginas', 'funfettiand174', 'daisys', 'pizzette', 'colcannon', 'dentice', 'livornese', 'b.b.q', 'doeuvres', 'grillin', 'pizzette', 'heartstopper', 'tatins', 'bbqs', 'ravioletti', 'harost', 'frutta', 'lassis', 'telera', 'involtini', 'scallopini', 'parsleyed', 'erols', 'luoc', 't.o', 'bacardiandreg', 'ciclandoacutenandtrade', 'pepperoncini', 'spanikopita', 'cranapple', 'colore', 'alrightas', 'kourabiedes', 'burnetts', 'huachinango', 'banoffee', 'homefries', 'ghanoush', 'angelas', 'ferreiras', 'souperburgers', 'flambeed', 'berenjenas', 'rellenas', 'sbagliato', 'loignon', 'gratinee', 'ponche', 'escalloped', 'fettuccini', 'dixies', 'mostaciolli', 'sparagio', 'seppioline', 'pinkbox', 'sunnys', 'brinza', 'smores', 'halushki', 'pisto', 'smores', 'janettes', 'mozzerella', 'alici', 'menaica', 'keftedes', 'sunnys', 'maggies', 'fieris', 'parkettes', 'sunnys', 'guasacaca', 'bistecca', 'neelys', 'potstickers', 'penuche', 'truvia', 'hanout', 'smore', 'burrers', 'guisada', 'sgroppino', 'tabouli', 'pandowdy', 'grokhot', 'choclo', 'zahter', 'janssons', 'shortcrust', 'escatoon', 'arequipena', 'kardeas', 'doufu', 'whoopees', 'muhammara', 'ginas', 'stracciatella', 'barmouches', 'naturesweet', 'butteregg', 'pastina', 'gandules', 'cocoaccino', 'daddys', 'autentico', 'yjs', 'haloumi', 'micheles', 'shallota', 'ginas', 'sunnys', 'trenne', 'saus', 'allys', 'herschels', 'sylvias', 'kourys', 'bunuelos', 'rompope', 'tahina', 'chamomayo', 'tartines', 'sangrito', 'picatta', 'vlasicandreg', 'arayas', 'flautas', 'sunnys', 'smores', 'turron', 'foccacia', 'johnnycakes', 'kokinisti', 'piato', 'janettes', 'nancys', 'nonos', 'ensalada', 'pomodori', 'luva', 'orangutang', 'raisinettes', 'margrini', 'semifreddo', 'applenog', 'castagnaccio', 'batini', 'chuletas', 'janettes', 'aquatini', 'slushies', 'hoecakes', 'b.l.t', 'sunnys', 'nadines', 'sunchokes', 'charoset', 'hushpuppies', 'pizzitolas', 'nobus', 'emilios', 'subgum', 'xni', 'lollipuffs', 'melissas', 'ginas', 'farmsandreg', 'vegged', 'boxty', 'olivada', 'sicles', 'yachtsmans', 'peshe', 'ginas', 'defalcos', 'arancini', 'chubbies', 'colcannon', 'emince', 'zurichoise', 'filete', 'salpicon', 'ginas', 'frankies', 'saketini', 'snickerdoodles', 'michelada', 'slushies', 'daisys', 'carciofi', 'pizzettes', 'robiola', 'tajine', 'vitamix', 'leonardos', 'shlada', 'bedenjan', 'sunnys', 'jamies', 'curlys', 'affogato', 'wolfgangs', 'buddys', 'crudite', 'cunfyt', 'kolokethokeftaide', 'sorbete', 'bacalaitos', 'profiterole', 'palmiers', 'telbans', 'pastitsio', 'stellas', 'straciatella', 'salcicce', 'arrabbiata', 'pecorina', 'fudgeandtrade', 'sonnys', 'calamares', 'mattone', 'furikake', 'pupu', 'clarissas', 'rebas', 'christinas', 'cremeax', 'laraguani', 'bicuit', 'affogato', 'koftas', 'angelas', 'mixeddried', 'castagne', 'avgolemono', 'escoveitched', 'shishito', 'moeriginal', 'eggroll', 'ismails', 'panfried', 'smores', 'farmsandreg', 'cacio', 'brandad', 'morue', 'chiarellos', 'babyback', 'trishas', 'caswells', 'guavabera', 'neelys', 'wafflet', 'rollatini', 'barbequed', 'bistecca', 'fricos', 'baileysandreg', 'pilaff', 'pizzaiola', 'taratour', 'camerones', 'slushie', 'homefries', 'citronata', 'chowchow', 'smores', 'sopapilla', 'muffaletta', 'cacahuetes', 'tehina', 'bobbified', 'tearimiss', 'steamsauteed', 'bhindi', 'crudite', 'moultons', 'trishs', 'marshamallow', 'speculoos', 'tartelettes', 'tightend', 'crunchified', 'sunnys', 'smore', 'involtini', 'brasciole', 'b.l.t', 'gralehaus', 'pastierra', 'formiana', 'cremat', 'pici', 'allaglione', 'panfried', 'ponche', 'nancys', 'faranaci', 'hypocras', 'neelys', 'lavendertini', 'palmiers', 'lefsa', 'haroset', 'grannys', 'duxelles', 'rumbarb', 'seppiolini', 'haupia', 'pirozhki', 'totopos', 'peperonata', 'ginas', 'almejas', 'scaloppini', 'marionberry', 'pollys', 'ginas', 'ensalada', 'pizzaiola', 'goyaandreg', 'semifreddo', 'carciofi', 'bellinis', 'wachowicz', 'bellinis', 'calimocho', 'sunnys', 'coquito', 'refritos', 'sunnys', 'karahi', 'lobstatini', 'granitee', 'dhotel', 'tortoni', 'ginas', 'sunchokes', 'chicories', 'darwells', 'bamia', 'blamburgers', 'pambazos', 'michoacanos', 'michocacan', 'souffled', 'daddys', 'smoritos', 'snickerdoodle', 'sunnys', 'bacony', 'tatuma', 'fritches', 'loxwich', 'flambee', 'vitamix', 'champvallon', 'eggscellent', 'karahi', 'sunnys', 'bammy', 'thuoc', 'sunnys', 'kedgeree', 'lillians', 'pirogies', 'vitamix', 'emilys', 'egga', 'startini', 'sunnys', 'tagliolini', 'tortitas', 'elote', 'sunnys', 'eileens', 'castnets', 'poboy', 'cheesepie', 'carimanolas', 'glendas', 'kaluha', 'rific', 'christinas', 'haupia', 'soupstew', 'opakapaka', 'hirabara', 'palomarfa', 'neelys', 'vinegared', 'rotelle', 'recado', 'rumaki', 'kalfhaas', 'trinxat', 'bawlmer', 'opu', 'hongos', 'capn', 'christinas', 'farmsandreg', 'carciofi', 'tablescape', 'lackin', 'blackenin', 'adovada', 'brodo', 'fashioneds', 'agrigao', 'bijus', 'fettuccini', 'beergaritas', 'camebert', 'cocadas', 'tallegio', 'minuti', 'peggys', 'maxannes', 'stuffies', 'totani', 'tubetti', 'tubetti', 'affogato', 'guasacaca', 'sheetpan', 'sunnys', 'affogato', 'sammies', 'loopsandtrade', 'marcelas', 'frissee', 'nonos', 'cheesey', 'polpettini', 'garlics', 'elaines', 'cuzmopolitan', 'marinata', 'bellinis', 'kourambiethes', 'qatest2', 'rumarita', 'pbandjs', 'grillades', 'mapled', 'caneles', 'filete', 'huachinango', 'sarandeado', 'patatosalata', 'gnudi', 'micheles', 'pierogis', 'ovengoldand174', 'aquavits', 'amalfitana', 'cozze', 'zafferano', 'jimmys', 'bizcaina', 'bizcaine', 'dewtini', 'gardenburgers', 'valdostana', 'matatuck', 'celebrita', 'smores', 'jhessykas', 'peggys', 'hushpuppies', 'canchita', 'mancakes', 'ginas', 'kristas', 'involtini', 'maialle', 'coquito', 'slushee', 'quesito', 'mondian', 'neelys', 'shakshuka', 'antipasticks', 'barbequed', 'stirfry', 'stirfry', 'gremolada', 'ihungry', 'jeanies', 'turkeytm', 'crudite', 'l.e.o', 'autentico', 'pinalotta', 'acaraje', 'halushki', 'kaiserschmarrn', 'tottine', 'proscuitto', 'smore', 'eggroll', 'huancaina', 'grigliata', 'sauted', 'knockwurst', 'ajillo', 'daddys', 'ghanoush', 'tenderlands', 'haupia', 'fettuccini', 'appleandy', 'rotelle', 'strawns', 'brulot', 'saltado', 'pissaladiere', 'involtine', 'melanzane', 'mariniere', 'slushies', 'rockafellar', 'kebobs', 'chilied', 'spuma', 'tonno', 'johannas', 'sobiloffs', 'meatloaves', 'grapefruitade', 'stuffin', 'mapled', 'gianduja', 'diavola', 'feuilletine', 'remojon', 'granadino', 'granadian', 'struffoli', 'beks', 'olivada', 't.o.p.p', 'persillade', 'uniq', 'fundido', 'agerolese', 'daddys', 'autentico', 'pizzettas', 'sunnys', 'robiolo', 'chuleta', 'adobada', 'flowersribbon', 'pizzaiola', 'gzs', 'totchos', 'oreganata', 'grannys', 'myrnas', 'neelys', 'vanilly', 'smashbrowns', 'mocktail', 'jollof', 'rouladen', 'scarpiello', 'tartaburger', 'leboos', 'spiedie', 'sicle', 'pizzocheri', 'potstickers', 'bacony', 'b.e.l.t', 'pinakbet', 'ladyfinger', 'carnilopie', 'ciambella', 'allemond', 'sangaritas', 'canneloni', 'ooey', 'hasselback', 'pizelle', 'molcajete', 'camaron', 'efo', 'houseand174', 'feenie', 'reuboni', 'frita', 'astakos', 'pizziaola', 'oeufs', 'degroffs', 'nikujaga', 'nadias', 'vinete', 'treatsandtrade', 'stuffin', 'neelys', 'lagnello', 'marocchino', 'maque', 'ghanoush', 'diegos', 'appassionato', 'sunnys', 'smore', 'brandandreg', 'kardeas', 'proscuitto', 'huntsandreg', 'oeufs', 'derable', 'babyfood', 'dengaku', 'zellwood', 'mahimahi', 'licuado', 'snickerdoodles', 'daddys', 'limpa', 'gugelhupf', 'slushies', 'sharitas', 'snickerdoodles', 'kolachke', 'musketeersandreg', 'potstickers', 'blaff', 'linguica', 'straccetti', 'champurrado', 'neelys', 'goujons', 'garlics', 'kalamarakia', 'yemista', 'schnitzelwiches', 'smores', 'raos', 'irenes', 'koulourakia', 'involtini', 'spinachi', 'cataplana', 'spanikopita', 'sallys', 'branand153', 'millefeuille', 'braciole', 'pomodorini', 'saumon', 'babganoush', 'slushies', 'stracchino', 'tartelettes', 'nockerln', 'sunnys', 'escovitch', 'ulrikas', 'saltado', 'gwens', 'huancaina', 'patatosalata', 'opakapaka', 'hagars', 'waborita', 'ensalada', 'fundido', 'colore', 'spiedino', 'potstickers', 'michelada', 'gianlucas', 'cioccolatini', 'edamole', 'chokin', 'blinchiki', 'feijao', 'coentro', 'fraises', 'kringla', 'beerly', 'papillotte', 'sunnys', 'raos', 'babineauxs', 'sunnys', 'flambee', 'babyfood', 'limpin', 'mamaliga', 'corniest', 'colettes', 'elinda', 'smores', 'claires', 'togarashi', 'cosmorita', 'rubys', 'spatchcock', 'namasu', 'stuffies', 'mashies', 'raffano', 'hardaways', 'ovengoldand174', 'burratta', 'meusli', 'calcionetti', 'padulese', 'sunnys', 'sandies', 'holics', 'gratinee', 'pizzaiola', 'khachapuri', 'buoni', 'guberburgers', 'palmiers', 'ingrids', 'fritatta', 'haupia', 'neelys', 'furikake', 'pupu', 'branand153', 'hushpuppies', 'cibar', 'smores', 'coquito', 'creamezcal', 'occolini', 'limpin', 'shellys', 'qatest44', 'zupa', 'surubao', 'smores', 'unscotti', 'elotes', 'setas', 'sucrees', 'leau', 'butchs', 'arancini', 'beerbit', 'peperonata', 'pintors', 'fregolata', 'creamless', 'rawkin', 'mandelmusslor', 'peppes', 'peppes', 'morganandreg', 'ritas', 'laulau', 'janettes', 'nuong', 'morencys', 'adovado', 'bagnat', 'nancys', 'christinas', 'geoffreys', 'ravoilo', 'tortoni', 'micheladas', 'honeyroast', 'bennys', 'vongole', 'fondants', 'elotes', 'asados', 'naturesweet', 'dauphinoise', 'garths', 'johnnycakes', 'sandies', 'mantors', 'ensalada', 'boquerones', 'solognot', 'pizzadillas', 'snowtini', 'fritto', 'shortbreads', 'stellas', 'nanner', 'ganoush', 'gimlets', 'palacsinta', 'jesses', 'bowla', 'pastilla', 'tostaditos', 'semifreddo', 'habenero', 'bannana', 'kooler', 'sarahs', 'pavlovas', 'avocadoes', 'sunnys', 'pizzaz', 'sunnys', 'sunnys', 'blaukraut', 'tamate', 'varnishkes', 'mafe', 'granpa', 'emmanuels', 'fundido', 'muttachar', 'robiolo', 'peanutty', 'duckfat', 'cartoccio', 'ndunderi', 'spanikopita', 'rummed', 'marinovanniye', 'grushi', 'myodom', 'guisados', 'cochinita', 'shishito', 'ghoulada', 'meltaways', 'snowpuffs', 'pastilla', 'coquito', 'diabla', 'treatsandtrade', 'smores', 'persillade', 'sunnys', 'skymeals', 'crumbcake', 'hugelens', 'sunnys', 'cambozola', 'mamies', 'teacakes', 'dakos', 'potater', 'zucchine', 'scapece', 'zentini', 'canneloni', 'losso', 'lorange', 'stirfry', 'macn', 'affogato', 'gwens', 'usquebaugh', 'slushie', 'tegroni', 'churrisimos', 'teachino', 'truvia', 'pudged', 'valeries', 'almejas', 'uniq', 'pintors', 'neelys', 'ginas', 'rucola', 'rolfs', 'treatsand153', 'bowlerinas', 'bacardiandreg', 'htipito', 'waxies', 'thymeroasted', 'tinas', 'tarongia', 'karahi', 'berthas', 'passatelli', 'jardinera', 'jumbot', 'chongos', 'trenette', 'kakawas', 'winesicles', 'eleanoras', 'seppie', 'oatiest', 'shanes', 'piccalilli', 'musketeersandreg', 'peppadews', 'pochettes', 'mattone', 'eggwiches', 'fleuris', 'sandies', 'gria', 'farrotto', 'kardomom', 'mandelkaker', 'linguica', 'chiliquiles', 'neelys', 'quevedas', 'farci', 'truffiere', 'ponche', 'vitamix', 'tinas', 'kissable', 'tubetti', 'cinghiale', 'emapanadas', 'sakegria', 'croustada', 'haloumi', 'odonnells', 'tansie', 'christinas', 'pignole', 'sopes', 'cipolline', 'loole', 'vickys', 'cannolis', 'cacio', 'sandies', 'hushpuppies', 'mocktail', 'sunnys', 'bullshot', 'courgettes', 'corkys', 'crescenza', 'leau', 'munee', 'babyfood', 'tortitas', 'ejotes', 'micheladas', 'vitales', 'liquado', 'poboy', 'sunnys', 'butterballs', 'teaism', 'ganganelli', 'barbequed', 'rific', 'panwiches', 'barbequed', 'fettuccini', 'oeufs', 'brouilles', 'slushie', 'crostino', 'kataifi', 'garides', 'avgolemeno', 'jadilla', 'cacio', 'geoffreys', 'pinzimonio', 'whitehogg', 'affogato', 'ingrids', 'guisada', 'keftedes', 'gzs', 'sunnys', 'pescatora', 'pandowdy', 'kaiserschmarren', 'kebbe', 'sayneyeh', 'creamsicles', 'pinenuts', 'tiganopitta', 'hortela', 'picada', 'tartes', 'tuilles', 'manjar', 'smores', 'ginas', 'pizzoccheri', 'huntsandreg', 'eggoand174', 'tallmans', 'paloise', 'christinas', 'amatriciana', 'bistecca', 'cebiche', 'anconero', 'llora', 'llora', 'tubettini', 'serenas', 'amatriciana', 'grapefruitini', 'blaubergs', 'cacio', 'sunnys', 'semifreddo', 'haroset', 'swines', 'tys', 'glaceed', 'nuong', 'mommys', 'meatloaves', 'choka', 'suizas', 'spuntino', 'zuppetta', 'cozze', 'smorrebrod', 'treatsand153', 'appletinis', 'pionono', 'frankens', 'zucchine', 'trifolati', 'totopos', 'vickis', 'molcajete', 'melontini', 'smores', 'rootbeer', 'patata', 'cebolla', 'ruthies', 'basquaise', 'smores', 'alioli', 'rosehip', 'doumars', 'flammekueche', 'tostados', 'coppolas', 'basilico', 'sangaree', 'tentacion', 'colazione', 'contadino', 'biscochitos', 'spiedie', 'christinas', 'casamentos', 'hortopita', 'pomodorini', 'smores', 'gwens', 'enchilado', 'langosta', 'mamarosita', 'schweins', 'kalbsgeschnetzeltes', 'mojitea', 'rollatini', 'ditalini', 'anitas', 'isabooscotti', 'hatties', 'boarpig', 'macaron', 'sciue', 'sciue', 'titinas', 'hattan', 'almendras', 'saladas', 'badito', 'croquetas', 'schiacciata', 'shichimi', 'togarashi', 'sunnys', 'smores', 'bacardiandreg', 'funfettiandreg', 'jancsi', 'mazapanes', 'ruthies', 'treatsand153', 'moska', 'sunnys', 'steamsauteed', 'mcgees', 'buffetts', 'arance', 'origano', 'borracha', 'chargrilled', 'loulous', 'jyds', 'salsiccia', 'habichuela', 'funfettiand174', 'daddys', 'jaconde', 'stuffin', 'ditalini', 'ginas', 'steamsauteed', 'huntsandreg', 'bulleit', 'verds', 'denises', 'teacakes', 'rockamole', 'posset', 'deloress', 'encendido', 'dannys', 'mulligatawny', 'borrachos', 'grandmere', 'persillade', 'batidos', 'orangeand174', 'defalcos', 'tiramisus', 'schmata', 'giadas', 'agujas', 'glacee', 'pizzelle', 'batonette', 'ritas', 'tomasitas', 'jimmys', 'b.e.d', 'cavier', 'salsamole', 'jalapeand241o', 'delilahs', 'paulas', 'garlics', 'corrozza', 'semifreddo', 'firi', 'firi', 'chipsters', 'neelys', 'togarashi', 'orzotto', 'nougatine', 'printanier', 'garths', 'janettes', 'irenes', 'karage', 'lamande', 'spritzy', 'camaroes', 'appletini', 'paulas', 'christinas', 'hawleys', 'fundido', 'alexiss', 'colore', 'rosticciana', 'kutee', 'scharffenbergers', 'crabe', 'pantesca', 'p.b.s', 'pollys', 'zeppole', 'champurrado', 'capered', 'haupia', 'bowla', 'vinagre', 'ginas', 'babaganoush', 'semifreddo', 'loosemeat', 'kaysers', 'livornese', 'saketini', 'nadines', 'arrabiata', 'salmonberry', 'scuffins', 'deens', 'sunnys', 'sgroppino', 'kidbobs', 'slushies', 'pearsnip', 'ginas', 'feenie', 'lampuca', 'caneles', 'cioccolato', 'colore', 'cuscinetti', 'filanti', 'conchiglie', 'struffoli', 'muffaletta', 'fritto', 'fredos', 'peppadew', 'gingerale', 'orsolas', 'warmdaddys', 'alcapurrias', 'jillo', 'aelotes', 'sformato', 'fauldings', 'breadless', 'mclagans', 'pastina', 'brodo', 'cacio', 'carbonnade', 'sunnys', 'colcannon', 'farotto', 'lingue', 'calvdos', 'escalivada', 'anchoas', 'fundido', 'cioccolatti', 'ellida', 'montys', 'butterrum', 'grammie', 'hamblets', 'panqueques', 'frittelle', 'castagne', 'ruthies', 'pouding', 'renverse', 'bleuets', 'sunnys', 'tamiyya', 'sunnys', 'arrabbiata', 'mariels', 'almondine', 'potstickers', 'veritablement', 'sunnys', 'wancheese', 'sopita', 'imperti', 'semifreddo', 'rons', 'tripleta', 'nancys', 'grillade', 'truffes', 'trempo', 'lorraines', 'neelys', 'arrabbiata', 'gloegg', 'tartuffo', 'ishidas', 'chickless', 'thinsandreg', 'fonduta', 'skaltsounia', 'ribollita', 'neelys', 'corndogs', 'bacardiandreg', 'cucumberita', 'flanken', 'thurmans', 'mattone', 'arrabbiata', 'treatsandtrade', 'mandmsandreg', 'tomasitas', 'smore', 'tatins', 'salsicce', 'pinzimonio', 'morwong', 'tartelettes', 'smirnoffandreg', 'appletini', 'baconloaf', 'aperitivo', 'stressbuster', 'tourtier', 'quercyan', 'ladys', 'neelys', 'neelys', 'mulligatawny', 'sunnys', 'moska', 'guidos', 'artichoko', 'plantanos', 'formaggino', 'potatoportobello', 'johnnycakes', 'hoisun', 'cartoccio', 'matriciana', 'antipasta', 'coquito', 'renes', 'papillotes', 'salpicon', 'oreganata', 'mariniere', 'seans', 'bistecca', 'ginas', 'sunnys', 'ossobuco', 'arancini', 'cacciatora', 'giseles', 'sopaipillas', 'cheechs', 'wehani', 'dakos', 'koukouvagia', 'janettes', 'bacara', 'maidas', 'yaitsa', 'farshirovanniye', 'krasnoy', 'ikroy', 'helado', 'tonnato', 'pergatory', 'drummettes', 'spiedini', 'rancheritos', 'catalane', 'karrot', 'merkts', 'banoffee', 'croustade', 'sunnys', 'croustade', 'patatas', 'semifreddo', 'goujonettes', 'chimichuri', 'haupia', 'pippies', 'nhieu', 'xao', 'ginas', 'crositini', 'besciamella', 'taralli', 'fettuccini', 'taragna', 'valtellinese', 'shitake', 'xao', 'sakitini', 'darabian', 'upsidedown', 'loukanika', 'nancys', 'gloegg', 'ginas', 'adovada', 'neelys', 'piadine', 'teriyakihoney', 'trapanese', 'kummelwecks', 'rodbenders', 'smores', 'ginas', 'neelys', 'jr.s', 'neelys', 'haupia', 'feasto', 'edivias', 'naranjas', 'almendras', 'shaaria', 'djaaj', 'kartoffel', 'verenika', 'grillin', 'scotcheroos', 'karahi', 'bacara', 'micheles', 'pappadelle', 'involtini', 'tzaziki', 'ginas', 'keyshawns', 'chourico', 'involtini', 'tatoes', 'fettunta', 'soppressata', 'fundido', 'shrikand', 'omlette', 'parathas', 'escaixada', 'livornese', 'nancys', 'ciambelle', 'jansci', 'flatcakes', 'sopaipillas', 'potee', 'potatoportobello', 'scialatiella', 'scialatiella', 'rotissiere', 'quicknoli', 'pratie', 'sunnys', 'hollandasie', 'fixins', 'gianduja', 'matteos']\n"
          ]
        }
      ],
      "source": [
        "def find_unknown_words(texts, vocab_dict):\n",
        "    unknown_words = []\n",
        "    for recipe_text in texts:\n",
        "        for token in recipe_text:\n",
        "            # Replace numbers with number token\n",
        "            token = re.sub(r'\\b\\d+(\\.\\d+)?\\b', NUM_TOKEN, token)\n",
        "            if token not in vocab_dict:\n",
        "                unknown_words.append(token)\n",
        "    return unknown_words\n",
        "\n",
        "unknown_words = find_unknown_words(tokenized_titles, vocab_dict)\n",
        "print(\"Unknown words:\", unknown_words)\n",
        "\n"
      ]
    },
    {
      "cell_type": "code",
      "execution_count": null,
      "metadata": {
        "id": "T4cY18MqsNpP"
      },
      "outputs": [],
      "source": [
        "# Function to get words from tokens\n",
        "\n",
        "def tokens_to_words(token_ids, vocab_dict):\n",
        "    words = []\n",
        "    for token_id in token_ids:\n",
        "        word = vocab_dict.get(token_id, '<UNK>')\n",
        "        words.append(word)\n",
        "    return words\n"
      ]
    },
    {
      "cell_type": "markdown",
      "source": [
        "This function is adapted from the lesson code notebook."
      ],
      "metadata": {
        "id": "cuYg-zaLWBSJ"
      }
    },
    {
      "cell_type": "code",
      "execution_count": null,
      "metadata": {
        "id": "NdMnB_cbEhd_"
      },
      "outputs": [],
      "source": [
        "def convert_text_to_data(vocab_dict,\n",
        "                         max_length=20,\n",
        "                         type=None,\n",
        "                         train_test_vector=None):\n",
        "\n",
        "    if type is None:\n",
        "        raise ValueError('\\'type\\' is not defined. Please choose from: input_source_title, input_source_ingredients, input_instr_target, and output_instr_target.')\n",
        "    elif type == 'input_source_title':\n",
        "        texts = tokenized_titles\n",
        "    elif type == 'input_source_ingredients':\n",
        "        texts = tokenized_ingredients\n",
        "    elif type == 'input_instr_target' or type == 'output_instr_target':\n",
        "        texts = tokenized_instructions\n",
        "\n",
        "    data = []\n",
        "\n",
        "    for recipe_text in texts:\n",
        "\n",
        "        sentence_ids = []\n",
        "\n",
        "        for token in recipe_text:\n",
        "\n",
        "            # Replace numbers with number token\n",
        "            token = re.sub(r'\\b\\d+(\\.\\d+)?\\b', NUM_TOKEN, token)\n",
        "\n",
        "            if token in vocab_dict.keys():\n",
        "                sentence_ids.append(vocab_dict[token])\n",
        "            else:\n",
        "                sentence_ids.append(vocab_dict[UNK_TOKEN])\n",
        "\n",
        "        # Add start and end tokens for instruction data inputs, omitting start token for outputs so it's offset by one word\n",
        "        if type == 'input_instr_target':\n",
        "            sentence_ids = [vocab_dict[START_TOKEN]] + sentence_ids + [vocab_dict[END_TOKEN]]\n",
        "        elif type == 'output_instr_target':\n",
        "            sentence_ids = sentence_ids + [vocab_dict[END_TOKEN]]\n",
        "\n",
        "        data.append(sentence_ids)\n",
        "\n",
        "    # Pad the sequences to the maximum length\n",
        "    padded_data = tf.keras.preprocessing.sequence.pad_sequences(data, maxlen=max_length, padding='post', truncating='post', value=vocab_dict[PAD_TOKEN])\n",
        "\n",
        "    # Split the data into train and test sets if train_test_vector is provided\n",
        "    if train_test_vector is not None:\n",
        "        train_indices = np.where(train_test_vector)[0]\n",
        "        test_indices = np.where(~train_test_vector)[0]\n",
        "        train_data = padded_data[train_indices]\n",
        "        test_data = padded_data[test_indices]\n",
        "        return train_data, test_data\n",
        "    else:\n",
        "        return padded_data, None\n",
        "\n"
      ]
    },
    {
      "cell_type": "code",
      "execution_count": null,
      "metadata": {
        "id": "yYFczE5pRa2R"
      },
      "outputs": [],
      "source": [
        "# Set the train and test data\n",
        "\n",
        "train_test_vector = (np.random.uniform(size=len(tokenized_titles)) > 0.2)\n",
        "\n",
        "train_title_input_data, test_title_input_data = convert_text_to_data(vocab_dict=vocab_dict,\n",
        "                                                                     max_length=MAX_LENGTH_ENCODER,\n",
        "                                                                     type='input_source_title',\n",
        "                                                                     train_test_vector=train_test_vector)\n",
        "\n",
        "train_ingredient_input_data, test_ingredient_input_data = convert_text_to_data(vocab_dict=vocab_dict,\n",
        "                                                                     max_length=MAX_LENGTH_ENCODER,\n",
        "                                                                     type='input_source_ingredients',\n",
        "                                                                     train_test_vector=train_test_vector)\n",
        "\n",
        "train_input_instr_target, test_input_instr_target = convert_text_to_data(vocab_dict=vocab_dict,\n",
        "                                                                     max_length=MAX_LENGTH_DECODER,\n",
        "                                                                     type='input_instr_target',\n",
        "                                                                     train_test_vector=train_test_vector)\n",
        "\n",
        "train_output_instr_target, test_output_instr_target = convert_text_to_data(vocab_dict=vocab_dict,\n",
        "                                                                     max_length=MAX_LENGTH_DECODER,\n",
        "                                                                     type='output_instr_target',\n",
        "                                                                     train_test_vector=train_test_vector)\n"
      ]
    },
    {
      "cell_type": "code",
      "execution_count": null,
      "metadata": {
        "colab": {
          "base_uri": "https://localhost:8080/"
        },
        "id": "N0ci1mwS_-fH",
        "outputId": "a376dcf3-d2a0-48bc-ed7e-dac9c6167111"
      },
      "outputs": [
        {
          "output_type": "stream",
          "name": "stdout",
          "text": [
            "78375\n",
            "78375\n",
            "78375\n",
            "78375\n",
            "19611\n",
            "19611\n",
            "19611\n",
            "19611\n"
          ]
        }
      ],
      "source": [
        "print(len(train_title_input_data))\n",
        "print(len(train_ingredient_input_data))\n",
        "print(len(train_input_instr_target))\n",
        "print(len(train_output_instr_target))\n",
        "\n",
        "print(len(test_title_input_data))\n",
        "print(len(test_ingredient_input_data))\n",
        "print(len(test_input_instr_target))\n",
        "print(len(test_output_instr_target))\n"
      ]
    },
    {
      "cell_type": "markdown",
      "source": [
        "# Prune and selectively expand vocabulary"
      ],
      "metadata": {
        "id": "OwoR-mvArwFM"
      }
    },
    {
      "cell_type": "markdown",
      "source": [
        "I start by identifying the unique words in the training data and limiting the vocabulary dictionary to those words. Then I selectively expand the vocabulary corpus to include additional words with similar embeddings."
      ],
      "metadata": {
        "id": "qfVGktvLyWgl"
      }
    },
    {
      "cell_type": "code",
      "source": [
        "# Collect unique words from training data (titles, ingredients, and instructions)\n",
        "\n",
        "unique_words = set()\n",
        "for title in train_title_input_data:\n",
        "    unique_words.update(set(title))\n",
        "for ingredient in train_ingredient_input_data:\n",
        "    unique_words.update(set(ingredient))\n",
        "for instruction in train_input_instr_target:\n",
        "    unique_words.update(set(instruction))\n",
        "\n",
        "unique_words = np.array(list(unique_words), dtype=np.int32)\n",
        "unique_words = tokens_to_words(unique_words,word_to_index_dict)\n",
        "\n",
        "unique_words_set = set(unique_words)\n",
        "\n",
        "# Defining a new vocabulary dictionary\n",
        "pruned_vocab_dict = {word: token_id for word, token_id in vocab_dict.items() if word in unique_words_set}\n",
        "\n",
        "# Map words to consecutive indices starting from zero\n",
        "pruned_vocab_dict = {word: idx for idx, word in enumerate(pruned_vocab_dict.keys())}\n",
        "\n",
        "# Print pruned vocabulary size\n",
        "print('Original vocabulary size:',len(vocab_dict))\n",
        "print('Pruned vocabulary size:',len(pruned_vocab_dict))\n"
      ],
      "metadata": {
        "colab": {
          "base_uri": "https://localhost:8080/"
        },
        "id": "Y7JwrG8Irvsc",
        "outputId": "0d5cd6f5-6ba2-4c5b-87c5-b6331f2e75f5"
      },
      "execution_count": null,
      "outputs": [
        {
          "output_type": "stream",
          "name": "stdout",
          "text": [
            "Original vocabulary size: 400005\n",
            "Pruned vocabulary size: 17893\n"
          ]
        }
      ]
    },
    {
      "cell_type": "markdown",
      "source": [
        "Expand the pruned vocabulary selectively to add words with embeddings similar to those in the pruned vocabulary."
      ],
      "metadata": {
        "id": "tQbHTA4syAiR"
      }
    },
    {
      "cell_type": "code",
      "source": [
        "from sklearn.metrics.pairwise import cosine_similarity\n",
        "\n",
        "# Function to find similar words from GloVe model based on cosine similarity\n",
        "def find_similar_words_batch(words, vec_model, top_n=5):\n",
        "    word_vectors = []\n",
        "    for word in words:\n",
        "        if word in vec_model:\n",
        "            word_vectors.append(vec_model[word])\n",
        "        else:\n",
        "            # If the word is not in the model, use a random vector\n",
        "            word_vectors.append(np.random.randn(vec_model.vector_size))\n",
        "    word_vectors = np.array(word_vectors)\n",
        "\n",
        "    # Compute cosine similarity between the given words and all other words in the model\n",
        "    similarity_scores = cosine_similarity(word_vectors, vec_model.vectors)\n",
        "\n",
        "    # Get indices of top similar words for each word\n",
        "    top_indices_batch = np.argsort(similarity_scores, axis=1)[:, -top_n-1:]  # Exclude the words themselves\n",
        "\n",
        "    # Get top similar words and their similarity scores for each word\n",
        "    similar_words_batch = []\n",
        "    for i, top_indices in enumerate(top_indices_batch):\n",
        "        similar_words = [(vec_model.index_to_key[idx], similarity_scores[i][idx]) for idx in top_indices]\n",
        "        similar_words_batch.append(similar_words)\n",
        "\n",
        "    return similar_words_batch\n",
        "\n",
        "# Expand vocabulary by adding similar words from GloVe model. Note, these thresholds have to be tuned.\n",
        "def expand_vocabulary(vocab_dict, vec_model, threshold=0.7, top_n=5, print_every=5000):\n",
        "    expanded_vocab = vocab_dict.copy()\n",
        "    words_to_process = list(vocab_dict.keys())\n",
        "    num_processed = 0\n",
        "\n",
        "    while words_to_process:\n",
        "        # Take a batch of words to process\n",
        "        batch_size = min(len(words_to_process), 100)\n",
        "        batch_words = words_to_process[:batch_size]\n",
        "        words_to_process = words_to_process[batch_size:]\n",
        "\n",
        "        # Find similar words from GloVe model for the batch\n",
        "        similar_words_batch = find_similar_words_batch(batch_words, vec_model, top_n=top_n)\n",
        "\n",
        "        # Add similar words to the vocabulary if their cosine similarity is above the threshold\n",
        "        for words in similar_words_batch:\n",
        "            for similar_word, similarity_score in words:\n",
        "                if similarity_score >= threshold and similar_word not in expanded_vocab:\n",
        "                    expanded_vocab[similar_word] = len(expanded_vocab)\n",
        "                    num_processed += 1\n",
        "                    if num_processed % print_every == 0:\n",
        "                        print(f\"{num_processed} words added to the expanded vocabulary\")\n",
        "\n",
        "    return expanded_vocab\n",
        "\n",
        "# Expand vocabulary based on cosine similarity\n",
        "pruned_vocab_dict = expand_vocabulary(pruned_vocab_dict, vec_model, threshold=0.45)\n",
        "\n",
        "# Swap keys and values in the dictionary for easy lookup later on\n",
        "pruned_word_to_index_dict = {v: k for k, v in pruned_vocab_dict.items()}\n",
        "\n",
        "# Print the size of the expanded vocabulary\n",
        "print('Expanded Vocabulary size:', len(pruned_vocab_dict))\n",
        "\n",
        "# Save the expanded vocabulary dictionary\n",
        "with open('pruned_vocab_dict.pkl', 'wb') as f:\n",
        "    pickle.dump(pruned_vocab_dict, f)\n",
        "with open('pruned_word_to_index_dict.pkl', 'wb') as f:\n",
        "    pickle.dump(pruned_word_to_index_dict, f)\n"
      ],
      "metadata": {
        "colab": {
          "base_uri": "https://localhost:8080/"
        },
        "id": "0mZjclJMxQOc",
        "outputId": "2fcf2842-5d91-4aca-fac9-5666f73df1d2"
      },
      "execution_count": null,
      "outputs": [
        {
          "output_type": "stream",
          "name": "stdout",
          "text": [
            "5000 words added to the expanded vocabulary\n",
            "10000 words added to the expanded vocabulary\n",
            "15000 words added to the expanded vocabulary\n",
            "20000 words added to the expanded vocabulary\n",
            "25000 words added to the expanded vocabulary\n",
            "30000 words added to the expanded vocabulary\n",
            "35000 words added to the expanded vocabulary\n",
            "Expanded Vocabulary size: 53413\n"
          ]
        }
      ]
    },
    {
      "cell_type": "markdown",
      "source": [
        "Define the embedding matrix:"
      ],
      "metadata": {
        "id": "ahgGInKb0R0G"
      }
    },
    {
      "cell_type": "code",
      "source": [
        "# Print vocab size\n",
        "\n",
        "print('Original vocabulary size:',len(word_to_index_dict))\n",
        "print('Pruned vocabulary size:',len(pruned_word_to_index_dict))"
      ],
      "metadata": {
        "colab": {
          "base_uri": "https://localhost:8080/"
        },
        "id": "vKwhak4W6D5l",
        "outputId": "3472ce50-09f7-4e45-9ee9-95493780b1af"
      },
      "execution_count": null,
      "outputs": [
        {
          "output_type": "stream",
          "name": "stdout",
          "text": [
            "Original vocabulary size: 400005\n",
            "Pruned vocabulary size: 53413\n"
          ]
        }
      ]
    },
    {
      "cell_type": "code",
      "source": [
        "# Testing to ensure things are working as intended\n",
        "\n",
        "print(pruned_vocab_dict['cook'])\n",
        "print(pruned_word_to_index_dict[2213])\n",
        "print(vocab_dict['cook'])\n",
        "print(word_to_index_dict[3387])"
      ],
      "metadata": {
        "colab": {
          "base_uri": "https://localhost:8080/"
        },
        "id": "fndbsjbK6yeC",
        "outputId": "4b36d1b4-8eb6-4889-b507-51c5312d7613"
      },
      "execution_count": null,
      "outputs": [
        {
          "output_type": "stream",
          "name": "stdout",
          "text": [
            "2213\n",
            "cook\n",
            "3387\n",
            "cook\n"
          ]
        }
      ]
    },
    {
      "cell_type": "code",
      "source": [
        "# Initialize embedding matrix\n",
        "\n",
        "EMBEDDING_DIM = 100 # Match GloVe embedding dimension\n",
        "#EMBEDDING_DIM = 50\n",
        "vocab_size = len(pruned_vocab_dict)\n",
        "\n",
        "# Update embedding matrix with pretrained GloVe embeddings\n",
        "embedding_matrix = np.zeros((len(pruned_vocab_dict), EMBEDDING_DIM))\n",
        "\n",
        "for word, idx in pruned_vocab_dict.items():  # Iterate over pruned_vocab_dict directly\n",
        "    if word in vec_model:\n",
        "        embedding_matrix[idx] = vec_model[word]\n",
        "    else:\n",
        "        # Words not found in GloVe embeddings will have random vectors\n",
        "        embedding_matrix[idx] = np.random.randn(EMBEDDING_DIM)\n",
        "\n",
        "# Update the embedding matrix with pretrained GloVe embeddings for the expanded vocabulary\n",
        "def update_embedding_matrix(embedding_matrix, vocab_dict, vec_model):\n",
        "    # Get the words in the expanded vocabulary\n",
        "    words_to_update = [word for word in pruned_vocab_dict if word in vec_model]\n",
        "\n",
        "    # Update the embedding matrix for the new words\n",
        "    for word in words_to_update:\n",
        "        idx = pruned_vocab_dict[word]  # Retrieve index directly from pruned_vocab_dict\n",
        "        embedding_matrix[idx] = vec_model[word]\n",
        "\n",
        "    return embedding_matrix\n",
        "\n",
        "# Update the embedding matrix with pretrained GloVe embeddings for the expanded vocabulary\n",
        "embedding_matrix = update_embedding_matrix(embedding_matrix, pruned_vocab_dict, vec_model)\n",
        "\n",
        "# Saving the embedding matrix\n",
        "with open('embedding_matrix.pkl', 'wb') as f:\n",
        "    pickle.dump(embedding_matrix, f)\n",
        "\n",
        "# Print the updated embedding matrix shape\n",
        "print('Embedding matrix shape:', embedding_matrix.shape)\n"
      ],
      "metadata": {
        "colab": {
          "base_uri": "https://localhost:8080/"
        },
        "id": "lfeKNyX8kYhX",
        "outputId": "cdb26e3d-2415-4d47-868c-581573917d79"
      },
      "execution_count": null,
      "outputs": [
        {
          "output_type": "stream",
          "name": "stdout",
          "text": [
            "Embedding matrix shape: (53413, 100)\n"
          ]
        }
      ]
    },
    {
      "cell_type": "code",
      "source": [
        "# Map the data token IDs to the new values based on the pruned vocabulary\n",
        "\n",
        "def remap_token_ids(data, old_word_to_index, new_index_to_word):\n",
        "    remapped_data = []\n",
        "    for item in data:\n",
        "        remapped_item = []\n",
        "        for token_id in item:\n",
        "            word = old_word_to_index.get(token_id, '<UNK>')  # Get the word corresponding to the token ID\n",
        "            new_token_id = new_index_to_word.get(word, 0)  # Get the new token ID from the pruned vocabulary\n",
        "            remapped_item.append(new_token_id)\n",
        "        remapped_data.append(remapped_item)\n",
        "    return np.array(remapped_data)\n"
      ],
      "metadata": {
        "id": "ZkYmV1Pq6juc"
      },
      "execution_count": null,
      "outputs": []
    },
    {
      "cell_type": "code",
      "source": [
        "# Replace token IDs in all training and test data\n",
        "\n",
        "train_title_input_data = remap_token_ids(train_title_input_data, word_to_index_dict, pruned_vocab_dict)\n",
        "test_title_input_data = remap_token_ids(test_title_input_data, word_to_index_dict, pruned_vocab_dict)\n",
        "\n",
        "train_ingredient_input_data = remap_token_ids(train_ingredient_input_data, word_to_index_dict, pruned_vocab_dict)\n",
        "test_ingredient_input_data = remap_token_ids(test_ingredient_input_data, word_to_index_dict, pruned_vocab_dict)\n",
        "\n",
        "train_input_instr_target = remap_token_ids(train_input_instr_target, word_to_index_dict, pruned_vocab_dict)\n",
        "test_input_instr_target = remap_token_ids(test_input_instr_target, word_to_index_dict, pruned_vocab_dict)\n",
        "\n",
        "train_output_instr_target = remap_token_ids(train_output_instr_target, word_to_index_dict, pruned_vocab_dict)\n",
        "test_output_instr_target = remap_token_ids(test_output_instr_target, word_to_index_dict, pruned_vocab_dict)\n",
        "\n",
        "# Save the data for reference later on\n",
        "with open('train_test_data.pkl', 'wb') as f:\n",
        "    pickle.dump((train_title_input_data, test_title_input_data,\n",
        "                 train_ingredient_input_data, test_ingredient_input_data,\n",
        "                 train_input_instr_target, test_input_instr_target,\n",
        "                 train_output_instr_target, test_output_instr_target), f)\n"
      ],
      "metadata": {
        "id": "ZtlRHvs6CVgi"
      },
      "execution_count": null,
      "outputs": []
    },
    {
      "cell_type": "code",
      "execution_count": null,
      "metadata": {
        "colab": {
          "base_uri": "https://localhost:8080/"
        },
        "id": "tUY2UZUvd8R1",
        "outputId": "620300af-8bde-4aae-bd9f-ee2b8630b269"
      },
      "outputs": [
        {
          "output_type": "stream",
          "name": "stdout",
          "text": [
            "Title tokens:\n",
            "[  766  4317    13  4627     4   269 17891 17891 17891 17891 17891 17891\n",
            " 17891 17891 17891 17891 17891 17891 17891 17891 17891 17891 17891 17891\n",
            " 17891 17891 17891 17891 17891 17891 17891 17891 17891 17891 17891 17891\n",
            " 17891 17891 17891 17891 17891 17891 17891 17891 17891 17891 17891 17891\n",
            " 17891 17891 17891 17891 17891 17891 17891 17891 17891 17891 17891 17891\n",
            " 17891 17891 17891 17891 17891 17891 17891 17891 17891 17891 17891 17891\n",
            " 17891 17891 17891 17891 17891 17891 17891 17891 17891 17891 17891 17891\n",
            " 17891 17891 17891 17891 17891 17891 17891 17891 17891 17891 17891]\n",
            "Title words:\n",
            "['green', 'beans', 'with', 'lemon', 'and', 'oil', '<PAD>', '<PAD>', '<PAD>', '<PAD>', '<PAD>', '<PAD>', '<PAD>', '<PAD>', '<PAD>', '<PAD>', '<PAD>', '<PAD>', '<PAD>', '<PAD>', '<PAD>', '<PAD>', '<PAD>', '<PAD>', '<PAD>', '<PAD>', '<PAD>', '<PAD>', '<PAD>', '<PAD>', '<PAD>', '<PAD>', '<PAD>', '<PAD>', '<PAD>', '<PAD>', '<PAD>', '<PAD>', '<PAD>', '<PAD>', '<PAD>', '<PAD>', '<PAD>', '<PAD>', '<PAD>', '<PAD>', '<PAD>', '<PAD>', '<PAD>', '<PAD>', '<PAD>', '<PAD>', '<PAD>', '<PAD>', '<PAD>', '<PAD>', '<PAD>', '<PAD>', '<PAD>', '<PAD>', '<PAD>', '<PAD>', '<PAD>', '<PAD>', '<PAD>', '<PAD>', '<PAD>', '<PAD>', '<PAD>', '<PAD>', '<PAD>', '<PAD>', '<PAD>', '<PAD>', '<PAD>', '<PAD>', '<PAD>', '<PAD>', '<PAD>', '<PAD>', '<PAD>', '<PAD>', '<PAD>', '<PAD>', '<PAD>', '<PAD>', '<PAD>', '<PAD>', '<PAD>', '<PAD>', '<PAD>', '<PAD>', '<PAD>', '<PAD>', '<PAD>']\n",
            "\n",
            "Input instruction tokens:\n",
            "[17889  2213  4317     5     6 17892 10230  3737     2  6245  9060   359\n",
            "   179  5435  3955    49 17892   488     1  4662     5     6 12152     4\n",
            "   799  1687     3     6  1423     2  1251     4  1345   359     3   660\n",
            "  2983     1  4662     4  2819  2159     1  4249  4317    13   269  2009\n",
            "     4  3371     3  2690   111  4249    13  4627  3793     4   292     2\n",
            "  8483     1  1027  4317  8223    13  1131  8483     1  4662     4  2819\n",
            "  2159     1 17890 17891 17891 17891 17891 17891 17891 17891 17891 17891\n",
            " 17891 17891 17891 17891 17891 17891 17891 17891 17891 17891 17891 17891\n",
            " 17891 17891 17891 17891 17891 17891 17891 17891 17891 17891 17891 17891\n",
            " 17891 17891 17891 17891 17891 17891 17891 17891 17891 17891 17891 17891\n",
            " 17891 17891 17891 17891 17891 17891 17891 17891 17891 17891 17891 17891\n",
            " 17891 17891 17891 17891 17891 17891 17891 17891 17891 17891 17891 17891\n",
            " 17891 17891 17891 17891 17891 17891 17891 17891 17891 17891 17891 17891\n",
            " 17891 17891 17891 17891 17891 17891 17891 17891 17891 17891 17891 17891\n",
            " 17891 17891 17891 17891 17891 17891 17891 17891 17891 17891 17891 17891\n",
            " 17891 17891 17891 17891 17891 17891 17891 17891 17891 17891 17891 17891\n",
            " 17891 17891 17891 17891 17891 17891 17891 17891 17891 17891 17891 17891\n",
            " 17891 17891 17891 17891 17891 17891 17891 17891 17891 17891 17891 17891\n",
            " 17891 17891 17891 17891 17891 17891 17891 17891 17891 17891 17891 17891\n",
            " 17891 17891 17891 17891 17891 17891 17891 17891 17891 17891 17891 17891\n",
            " 17891 17891 17891 17891 17891 17891 17891 17891 17891 17891 17891 17891\n",
            " 17891 17891 17891 17891 17891 17891 17891 17891]\n",
            "Output instruction tokens:\n",
            "[ 2213  4317     5     6 17892 10230  3737     2  6245  9060   359   179\n",
            "  5435  3955    49 17892   488     1  4662     5     6 12152     4   799\n",
            "  1687     3     6  1423     2  1251     4  1345   359     3   660  2983\n",
            "     1  4662     4  2819  2159     1  4249  4317    13   269  2009     4\n",
            "  3371     3  2690   111  4249    13  4627  3793     4   292     2  8483\n",
            "     1  1027  4317  8223    13  1131  8483     1  4662     4  2819  2159\n",
            "     1 17890 17891 17891 17891 17891 17891 17891 17891 17891 17891 17891\n",
            " 17891 17891 17891 17891 17891 17891 17891 17891 17891 17891 17891 17891\n",
            " 17891 17891 17891 17891 17891 17891 17891 17891 17891 17891 17891 17891\n",
            " 17891 17891 17891 17891 17891 17891 17891 17891 17891 17891 17891 17891\n",
            " 17891 17891 17891 17891 17891 17891 17891 17891 17891 17891 17891 17891\n",
            " 17891 17891 17891 17891 17891 17891 17891 17891 17891 17891 17891 17891\n",
            " 17891 17891 17891 17891 17891 17891 17891 17891 17891 17891 17891 17891\n",
            " 17891 17891 17891 17891 17891 17891 17891 17891 17891 17891 17891 17891\n",
            " 17891 17891 17891 17891 17891 17891 17891 17891 17891 17891 17891 17891\n",
            " 17891 17891 17891 17891 17891 17891 17891 17891 17891 17891 17891 17891\n",
            " 17891 17891 17891 17891 17891 17891 17891 17891 17891 17891 17891 17891\n",
            " 17891 17891 17891 17891 17891 17891 17891 17891 17891 17891 17891 17891\n",
            " 17891 17891 17891 17891 17891 17891 17891 17891 17891 17891 17891 17891\n",
            " 17891 17891 17891 17891 17891 17891 17891 17891 17891 17891 17891 17891\n",
            " 17891 17891 17891 17891 17891 17891 17891 17891 17891 17891 17891 17891\n",
            " 17891 17891 17891 17891 17891 17891 17891 17891]\n",
            "\n",
            "Instruction input words:\n",
            "['<START>', 'cook', 'beans', 'in', 'a', '<NUM>', 'quart', 'pot', 'of', 'boiling', 'salted', 'water', 'until', 'crisp', 'tender', 'about', '<NUM>', 'minutes', '.', 'drain', 'in', 'a', 'colander', 'and', 'immediately', 'transfer', 'to', 'a', 'bowl', 'of', 'ice', 'and', 'cold', 'water', 'to', 'stop', 'cooking', '.', 'drain', 'and', 'pat', 'dry', '.', 'toss', 'beans', 'with', 'oil', 'salt', 'and', 'pepper', 'to', 'taste', 'then', 'toss', 'with', 'lemon', 'juice', 'and', 'half', 'of', 'zest', '.', 'serve', 'beans', 'sprinkled', 'with', 'remaining', 'zest', '.', 'drain', 'and', 'pat', 'dry', '.', '<END>', '<PAD>', '<PAD>', '<PAD>', '<PAD>', '<PAD>', '<PAD>', '<PAD>', '<PAD>', '<PAD>', '<PAD>', '<PAD>', '<PAD>', '<PAD>', '<PAD>', '<PAD>', '<PAD>', '<PAD>', '<PAD>', '<PAD>', '<PAD>', '<PAD>', '<PAD>', '<PAD>', '<PAD>', '<PAD>', '<PAD>', '<PAD>', '<PAD>', '<PAD>', '<PAD>', '<PAD>', '<PAD>', '<PAD>', '<PAD>', '<PAD>', '<PAD>', '<PAD>', '<PAD>', '<PAD>', '<PAD>', '<PAD>', '<PAD>', '<PAD>', '<PAD>', '<PAD>', '<PAD>', '<PAD>', '<PAD>', '<PAD>', '<PAD>', '<PAD>', '<PAD>', '<PAD>', '<PAD>', '<PAD>', '<PAD>', '<PAD>', '<PAD>', '<PAD>', '<PAD>', '<PAD>', '<PAD>', '<PAD>', '<PAD>', '<PAD>', '<PAD>', '<PAD>', '<PAD>', '<PAD>', '<PAD>', '<PAD>', '<PAD>', '<PAD>', '<PAD>', '<PAD>', '<PAD>', '<PAD>', '<PAD>', '<PAD>', '<PAD>', '<PAD>', '<PAD>', '<PAD>', '<PAD>', '<PAD>', '<PAD>', '<PAD>', '<PAD>', '<PAD>', '<PAD>', '<PAD>', '<PAD>', '<PAD>', '<PAD>', '<PAD>', '<PAD>', '<PAD>', '<PAD>', '<PAD>', '<PAD>', '<PAD>', '<PAD>', '<PAD>', '<PAD>', '<PAD>', '<PAD>', '<PAD>', '<PAD>', '<PAD>', '<PAD>', '<PAD>', '<PAD>', '<PAD>', '<PAD>', '<PAD>', '<PAD>', '<PAD>', '<PAD>', '<PAD>', '<PAD>', '<PAD>', '<PAD>', '<PAD>', '<PAD>', '<PAD>', '<PAD>', '<PAD>', '<PAD>', '<PAD>', '<PAD>', '<PAD>', '<PAD>', '<PAD>', '<PAD>', '<PAD>', '<PAD>', '<PAD>', '<PAD>', '<PAD>', '<PAD>', '<PAD>', '<PAD>', '<PAD>', '<PAD>', '<PAD>', '<PAD>', '<PAD>', '<PAD>', '<PAD>', '<PAD>', '<PAD>', '<PAD>', '<PAD>', '<PAD>', '<PAD>', '<PAD>', '<PAD>', '<PAD>', '<PAD>', '<PAD>', '<PAD>', '<PAD>', '<PAD>', '<PAD>', '<PAD>', '<PAD>', '<PAD>', '<PAD>', '<PAD>', '<PAD>', '<PAD>', '<PAD>', '<PAD>', '<PAD>', '<PAD>', '<PAD>', '<PAD>', '<PAD>', '<PAD>', '<PAD>', '<PAD>', '<PAD>', '<PAD>', '<PAD>', '<PAD>']\n",
            "Instruction output words:\n",
            "['cook', 'beans', 'in', 'a', '<NUM>', 'quart', 'pot', 'of', 'boiling', 'salted', 'water', 'until', 'crisp', 'tender', 'about', '<NUM>', 'minutes', '.', 'drain', 'in', 'a', 'colander', 'and', 'immediately', 'transfer', 'to', 'a', 'bowl', 'of', 'ice', 'and', 'cold', 'water', 'to', 'stop', 'cooking', '.', 'drain', 'and', 'pat', 'dry', '.', 'toss', 'beans', 'with', 'oil', 'salt', 'and', 'pepper', 'to', 'taste', 'then', 'toss', 'with', 'lemon', 'juice', 'and', 'half', 'of', 'zest', '.', 'serve', 'beans', 'sprinkled', 'with', 'remaining', 'zest', '.', 'drain', 'and', 'pat', 'dry', '.', '<END>', '<PAD>', '<PAD>', '<PAD>', '<PAD>', '<PAD>', '<PAD>', '<PAD>', '<PAD>', '<PAD>', '<PAD>', '<PAD>', '<PAD>', '<PAD>', '<PAD>', '<PAD>', '<PAD>', '<PAD>', '<PAD>', '<PAD>', '<PAD>', '<PAD>', '<PAD>', '<PAD>', '<PAD>', '<PAD>', '<PAD>', '<PAD>', '<PAD>', '<PAD>', '<PAD>', '<PAD>', '<PAD>', '<PAD>', '<PAD>', '<PAD>', '<PAD>', '<PAD>', '<PAD>', '<PAD>', '<PAD>', '<PAD>', '<PAD>', '<PAD>', '<PAD>', '<PAD>', '<PAD>', '<PAD>', '<PAD>', '<PAD>', '<PAD>', '<PAD>', '<PAD>', '<PAD>', '<PAD>', '<PAD>', '<PAD>', '<PAD>', '<PAD>', '<PAD>', '<PAD>', '<PAD>', '<PAD>', '<PAD>', '<PAD>', '<PAD>', '<PAD>', '<PAD>', '<PAD>', '<PAD>', '<PAD>', '<PAD>', '<PAD>', '<PAD>', '<PAD>', '<PAD>', '<PAD>', '<PAD>', '<PAD>', '<PAD>', '<PAD>', '<PAD>', '<PAD>', '<PAD>', '<PAD>', '<PAD>', '<PAD>', '<PAD>', '<PAD>', '<PAD>', '<PAD>', '<PAD>', '<PAD>', '<PAD>', '<PAD>', '<PAD>', '<PAD>', '<PAD>', '<PAD>', '<PAD>', '<PAD>', '<PAD>', '<PAD>', '<PAD>', '<PAD>', '<PAD>', '<PAD>', '<PAD>', '<PAD>', '<PAD>', '<PAD>', '<PAD>', '<PAD>', '<PAD>', '<PAD>', '<PAD>', '<PAD>', '<PAD>', '<PAD>', '<PAD>', '<PAD>', '<PAD>', '<PAD>', '<PAD>', '<PAD>', '<PAD>', '<PAD>', '<PAD>', '<PAD>', '<PAD>', '<PAD>', '<PAD>', '<PAD>', '<PAD>', '<PAD>', '<PAD>', '<PAD>', '<PAD>', '<PAD>', '<PAD>', '<PAD>', '<PAD>', '<PAD>', '<PAD>', '<PAD>', '<PAD>', '<PAD>', '<PAD>', '<PAD>', '<PAD>', '<PAD>', '<PAD>', '<PAD>', '<PAD>', '<PAD>', '<PAD>', '<PAD>', '<PAD>', '<PAD>', '<PAD>', '<PAD>', '<PAD>', '<PAD>', '<PAD>', '<PAD>', '<PAD>', '<PAD>', '<PAD>', '<PAD>', '<PAD>', '<PAD>', '<PAD>', '<PAD>', '<PAD>', '<PAD>', '<PAD>', '<PAD>', '<PAD>', '<PAD>', '<PAD>', '<PAD>', '<PAD>', '<PAD>', '<PAD>', '<PAD>', '<PAD>', '<PAD>']\n"
          ]
        }
      ],
      "source": [
        "# Print some examples to ensure things are working correctly\n",
        "\n",
        "num = random.randint(1, 10000)\n",
        "\n",
        "print(\"Title tokens:\")\n",
        "print(train_title_input_data[num])\n",
        "\n",
        "title_words = tokens_to_words(train_title_input_data[num], pruned_word_to_index_dict)\n",
        "print(\"Title words:\")\n",
        "print(title_words)\n",
        "\n",
        "print(\"\\nInput instruction tokens:\")\n",
        "print(train_input_instr_target[num])\n",
        "print(\"Output instruction tokens:\")\n",
        "print(train_output_instr_target[num])\n",
        "\n",
        "instr_input_words = tokens_to_words(train_input_instr_target[num], pruned_word_to_index_dict)\n",
        "print(\"\\nInstruction input words:\")\n",
        "print(instr_input_words)\n",
        "instr_output_words = tokens_to_words(train_output_instr_target[num], pruned_word_to_index_dict)\n",
        "print(\"Instruction output words:\")\n",
        "print(instr_output_words)\n",
        "\n"
      ]
    },
    {
      "cell_type": "markdown",
      "source": [
        "#Model shortcut: jump here to save time and load objects needed for training and evalulation."
      ],
      "metadata": {
        "id": "jXdKkhQzHWia"
      }
    },
    {
      "cell_type": "markdown",
      "source": [
        "###Assumes above steps have already been completed."
      ],
      "metadata": {
        "id": "ybRAM2J8HpL_"
      }
    },
    {
      "cell_type": "code",
      "source": [
        "# Reload the train and test data\n",
        "with open('train_test_data.pkl', 'rb') as f:\n",
        "    (train_title_input_data, test_title_input_data,\n",
        "     train_ingredient_input_data, test_ingredient_input_data,\n",
        "     train_input_instr_target, test_input_instr_target,\n",
        "     train_output_instr_target, test_output_instr_target) = pickle.load(f)\n",
        "\n",
        "# Reload the embedding matrix\n",
        "with open('embedding_matrix.pkl', 'rb') as f:\n",
        "    embedding_matrix = pickle.load(f)\n",
        "\n",
        "# Reload the pruned vocabulary dictionaries\n",
        "with open('pruned_vocab_dict.pkl', 'rb') as f:\n",
        "    pruned_word_to_index_dict = pickle.load(f)\n",
        "\n",
        "with open('pruned_word_to_index_dict.pkl', 'rb') as f:\n",
        "    pruned_index_to_word_dict = pickle.load(f)\n",
        "\n",
        "MAX_LENGTH_ENCODER = 95\n",
        "MAX_LENGTH_DECODER = 260\n",
        "EMBEDDING_DIM = 100\n",
        "vocab_size = len(pruned_word_to_index_dict)\n"
      ],
      "metadata": {
        "id": "bbwY85YxHVtS"
      },
      "execution_count": 7,
      "outputs": []
    },
    {
      "cell_type": "code",
      "source": [
        "# Printing the objects so we can see what they look like\n",
        "\n",
        "print('Vocab size: ', vocab_size)\n",
        "print('')\n",
        "print('Encoder length: ', MAX_LENGTH_ENCODER)\n",
        "print('Decoder length: ', MAX_LENGTH_DECODER)\n",
        "print('')\n",
        "print('Length of train data:', len(train_title_input_data))\n",
        "print('Length of test data:', len(test_title_input_data))\n",
        "print('')\n",
        "print('Shape of embedding matrix: ', embedding_matrix.shape[1])\n",
        "print('Looking up the embeddings of the word cook: ', embedding_matrix[2238])\n",
        "print('')\n",
        "print('Dictionary index of the word cook: ', pruned_word_to_index_dict.get('cook', None))\n"
      ],
      "metadata": {
        "colab": {
          "base_uri": "https://localhost:8080/"
        },
        "id": "0VvcDIHTOeC6",
        "outputId": "3792aca0-1e6c-4ef9-c856-019054a044c1"
      },
      "execution_count": 9,
      "outputs": [
        {
          "output_type": "stream",
          "name": "stdout",
          "text": [
            "Vocab size:  53413\n",
            "\n",
            "Encoder length:  95\n",
            "Decoder length:  260\n",
            "\n",
            "Length of train data: 78375\n",
            "Length of test data: 19611\n",
            "\n",
            "Shape of embedding matrix:  100\n",
            "Looking up the embeddings of the word cook:  [-0.83159     0.69507003  0.20777    -0.02269     0.48669001 -0.38387001\n",
            " -0.83815002 -0.72970998 -0.26381001  0.81197     0.41847    -0.21723001\n",
            "  0.54294997  0.84972     0.2509      0.034224    0.087878    0.29168001\n",
            " -0.51481003  0.043958    1.15279996  0.65381002  0.58548999  0.39021999\n",
            " -0.088961   -0.23537999 -0.13957     0.15101001  0.42954999  0.43406001\n",
            " -0.26662001 -0.020505    0.34549999  0.20472001  0.95824999  0.14335001\n",
            " -0.14264999 -0.13839    -0.72036999  0.16087     0.52458    -0.39476001\n",
            "  0.27572     0.4321      0.51384002 -0.28560001 -0.016196   -0.62984002\n",
            " -0.2913      0.10196    -0.15114     0.79620999 -0.73249     0.95168\n",
            "  0.0075154  -0.80230999  0.36917001 -0.58122998  1.97109997  1.64499998\n",
            " -0.49219     0.23022     0.59745002  0.31615999  0.43378001 -0.080216\n",
            "  0.10731    -0.79084003 -0.5201      0.76042998 -0.19894999 -0.43696001\n",
            " -0.68813002 -1.19480002  0.56713998  0.38345    -0.19686     0.17157\n",
            " -0.44021001  1.35039997  0.088064    0.54800999 -0.79176003  0.16806\n",
            " -0.40518001  0.71799999  1.18550003  0.26953     0.032655    0.44045001\n",
            " -0.51998001 -0.43316999  0.075799   -0.40490001 -0.81217998  0.24621999\n",
            " -0.16761     0.43452001 -0.11576     0.49033999]\n",
            "\n",
            "Dictionary index of the word cook:  2213\n"
          ]
        }
      ]
    },
    {
      "cell_type": "markdown",
      "source": [
        "# Build the models for training and inference"
      ],
      "metadata": {
        "id": "DJKX4uXZ1RlM"
      }
    },
    {
      "cell_type": "markdown",
      "source": [
        "###Modeling helper functions"
      ],
      "metadata": {
        "id": "0Skfk5S_Mqhd"
      }
    },
    {
      "cell_type": "code",
      "source": [
        "# Plotting function for model loss and accuracy\n",
        "\n",
        "import matplotlib.pyplot as plt\n",
        "\n",
        "def plot_history(history):\n",
        "    # Plot training & validation loss values\n",
        "    plt.figure(figsize=(12, 6))\n",
        "    plt.subplot(1, 2, 1)\n",
        "    plt.plot(history.history['loss'])\n",
        "    plt.plot(history.history['val_loss'])\n",
        "    plt.title('Model Loss')\n",
        "    plt.xlabel('Epoch')\n",
        "    plt.ylabel('Loss')\n",
        "    plt.legend(['Train', 'Validation'], loc='upper right')\n",
        "\n",
        "    # Plot training & validation accuracy values\n",
        "    plt.subplot(1, 2, 2)\n",
        "    plt.plot(history.history['accuracy'])\n",
        "    plt.plot(history.history['val_accuracy'])\n",
        "    plt.title('Model Accuracy')\n",
        "    plt.xlabel('Epoch')\n",
        "    plt.ylabel('Accuracy')\n",
        "    plt.legend(['Train', 'Validation'], loc='lower right')\n",
        "\n",
        "    plt.tight_layout()\n",
        "    plt.show()\n"
      ],
      "metadata": {
        "id": "YzhDpPy15uxT"
      },
      "execution_count": 8,
      "outputs": []
    },
    {
      "cell_type": "code",
      "source": [
        "# Function to get words from tokens. We will use this for evaluation so we don't want to include the padding tokens.\n",
        "\n",
        "def tokens_to_words_no_padding(token_ids, vocab_dict):\n",
        "    words = []\n",
        "    for token_id in token_ids:\n",
        "        if token_id == pruned_word_to_index_dict['<PAD>']:  # Check if token is <PAD>\n",
        "            break  # Stop conversion if <PAD> token is encountered\n",
        "        word = vocab_dict.get(token_id, '<UNK>')\n",
        "        words.append(word)\n",
        "    return words\n"
      ],
      "metadata": {
        "id": "b9AsGlHB0jWe"
      },
      "execution_count": 9,
      "outputs": []
    },
    {
      "cell_type": "markdown",
      "source": [
        "### Model with no attention"
      ],
      "metadata": {
        "id": "KQPkgrSqlXed"
      }
    },
    {
      "cell_type": "markdown",
      "source": [
        "Here we build the sequence-to-sequence model with no attention."
      ],
      "metadata": {
        "id": "wYCNHVcAXs0F"
      }
    },
    {
      "cell_type": "code",
      "source": [
        "def create_recipe_model_no_att(vocab_size,\n",
        "                                    max_title_length,\n",
        "                                    max_ingredient_length,\n",
        "                                    max_instructions_length,\n",
        "                                    learning_rate=0.001,\n",
        "                                    dropout_rate=0.0,\n",
        "                                    embeddings_trainable=False):\n",
        "\n",
        "    # Input layers\n",
        "\n",
        "    title_input_no_att = tf.keras.layers.Input(shape=(max_title_length,),\n",
        "                                                     dtype='int64',\n",
        "                                                     name='title_input_no_att')\n",
        "\n",
        "    ingredients_input_no_att = tf.keras.layers.Input(shape=(max_ingredient_length,),\n",
        "                                                           dtype='int64',\n",
        "                                                           name='ingredients_input_no_att')\n",
        "\n",
        "    instructions_target_input_no_att = tf.keras.layers.Input(shape=(max_instructions_length,),\n",
        "                                                                   dtype='int64',\n",
        "                                                                   name='instructions_target_input_no_att')\n",
        "\n",
        "    # Embedding layers, initialized with pre-trained weights\n",
        "\n",
        "    title_embedding_layer_no_att = tf.keras.layers.Embedding(input_dim=vocab_size,\n",
        "                                                                  output_dim=embedding_matrix.shape[1],\n",
        "                                                                  embeddings_initializer=tf.keras.initializers.Constant(embedding_matrix),\n",
        "                                                                  input_length=max_title_length,\n",
        "                                                                  trainable=embeddings_trainable,\n",
        "                                                                  name='title_embedding_layer_no_att')\n",
        "\n",
        "    ingredients_embedding_layer_no_att = tf.keras.layers.Embedding(input_dim=vocab_size,\n",
        "                                                                        output_dim=embedding_matrix.shape[1],\n",
        "                                                                        embeddings_initializer=tf.keras.initializers.Constant(embedding_matrix),\n",
        "                                                                        input_length=max_ingredient_length,\n",
        "                                                                        trainable=embeddings_trainable,\n",
        "                                                                        name='ingredients_embedding_layer_no_att')\n",
        "\n",
        "    instructions_embedding_layer_no_att = tf.keras.layers.Embedding(input_dim=vocab_size,\n",
        "                                                                          output_dim=embedding_matrix.shape[1],\n",
        "                                                                          embeddings_initializer=tf.keras.initializers.Constant(embedding_matrix),\n",
        "                                                                          input_length=max_instructions_length,\n",
        "                                                                          trainable=embeddings_trainable,\n",
        "                                                                          name='instructions_embedding_layer_no_att')\n",
        "\n",
        "    title_embeddings_no_att = title_embedding_layer_no_att(title_input_no_att)\n",
        "    ingredients_embeddings_no_att = ingredients_embedding_layer_no_att(ingredients_input_no_att)\n",
        "    instructions_embeddings_no_att = instructions_embedding_layer_no_att(instructions_target_input_no_att)\n",
        "\n",
        "    # LSTM layers (encoder)\n",
        "    title_lstm_layer_no_att = tf.keras.layers.LSTM(embedding_matrix.shape[1],\n",
        "                                                        return_sequences=True,\n",
        "                                                        return_state=True,\n",
        "                                                        dropout=dropout_rate,\n",
        "                                                        name='title_lstm_layer_no_att')\n",
        "    title_out_no_att, title_state_h_no_att, title_state_c_no_att = title_lstm_layer_no_att(title_embeddings_no_att)\n",
        "\n",
        "    ingredients_lstm_layer_no_att = tf.keras.layers.LSTM(embedding_matrix.shape[1],\n",
        "                                                              return_sequences=True,\n",
        "                                                              return_state=True,\n",
        "                                                              dropout=dropout_rate,\n",
        "                                                              name='ingredients_lstm_layer_no_att')\n",
        "    ingredients_out_no_att, ingredients_state_h_no_att, ingredients_state_c_no_att = ingredients_lstm_layer_no_att(ingredients_embeddings_no_att)\n",
        "\n",
        "    # Concatenate the hidden and cell states of the title and ingredient encoders\n",
        "    encoder_state_h_no_att_concat = tf.keras.layers.Concatenate()([title_state_h_no_att, ingredients_state_h_no_att])\n",
        "    encoder_state_c_no_att_concat = tf.keras.layers.Concatenate()([title_state_c_no_att, ingredients_state_c_no_att])\n",
        "\n",
        "    # Reduce the size of the concatenated states to match the decoder LSTM cell size\n",
        "    encoder_state_h_no_att = tf.keras.layers.Dense(100, activation='tanh', name='reduce_h')(encoder_state_h_no_att_concat)\n",
        "    encoder_state_c_no_att = tf.keras.layers.Dense(100, activation='tanh', name='reduce_c')(encoder_state_c_no_att_concat)\n",
        "\n",
        "\n",
        "    # LSTM layers (decoder)\n",
        "    decoder_lstm_layer_no_att = tf.keras.layers.LSTM(embedding_matrix.shape[1],\n",
        "                                                          return_sequences=True,\n",
        "                                                          return_state=False,\n",
        "                                                          dropout=dropout_rate,\n",
        "                                                          name='decoder_lstm_layer_no_att')\n",
        "    decoder_lstm_out_no_att = decoder_lstm_layer_no_att(instructions_embeddings_no_att, initial_state=[encoder_state_h_no_att, encoder_state_c_no_att])\n",
        "\n",
        "    # Output layer\n",
        "    output_no_att = tf.keras.layers.Dense(vocab_size,\n",
        "                                               activation='softmax',\n",
        "                                               name='output_no_att')(decoder_lstm_out_no_att)\n",
        "\n",
        "    # Define the model\n",
        "    model_no_att = tf.keras.models.Model(inputs=[title_input_no_att,\n",
        "                                                       ingredients_input_no_att,\n",
        "                                                       instructions_target_input_no_att],\n",
        "                                               outputs=output_no_att)\n",
        "\n",
        "    # Define the optimizer with the specified learning rate\n",
        "    optimizer = tf.keras.optimizers.Adam(learning_rate=learning_rate)\n",
        "\n",
        "    model_no_att.compile(optimizer=optimizer,\n",
        "                              loss='sparse_categorical_crossentropy',\n",
        "                              metrics=['accuracy'])\n",
        "\n",
        "    return model_no_att\n"
      ],
      "metadata": {
        "id": "NOkJ0E_dRVeI"
      },
      "execution_count": 10,
      "outputs": []
    },
    {
      "cell_type": "code",
      "source": [
        "# Model with no attention (model_att): Embeddings trainable, learning rate increased, and dropout added\n",
        "\n",
        "model_no_att = create_recipe_model_no_att(vocab_size=vocab_size,\n",
        "                                              max_title_length=MAX_LENGTH_ENCODER,\n",
        "                                              max_ingredient_length=MAX_LENGTH_ENCODER,\n",
        "                                              max_instructions_length=MAX_LENGTH_DECODER,\n",
        "                                              learning_rate=0.005,\n",
        "                                              dropout_rate=0.05,\n",
        "                                              embeddings_trainable=True)\n",
        "\n",
        "# Print model summary\n",
        "model_no_att.summary()\n"
      ],
      "metadata": {
        "colab": {
          "base_uri": "https://localhost:8080/"
        },
        "id": "rDGzqdlvlOK1",
        "outputId": "19f3ee99-83bc-4c8d-958a-7bb665583377"
      },
      "execution_count": 11,
      "outputs": [
        {
          "output_type": "stream",
          "name": "stdout",
          "text": [
            "Model: \"model\"\n",
            "__________________________________________________________________________________________________\n",
            " Layer (type)                Output Shape                 Param #   Connected to                  \n",
            "==================================================================================================\n",
            " title_input_no_att (InputL  [(None, 95)]                 0         []                            \n",
            " ayer)                                                                                            \n",
            "                                                                                                  \n",
            " ingredients_input_no_att (  [(None, 95)]                 0         []                            \n",
            " InputLayer)                                                                                      \n",
            "                                                                                                  \n",
            " title_embedding_layer_no_a  (None, 95, 100)              5341300   ['title_input_no_att[0][0]']  \n",
            " tt (Embedding)                                                                                   \n",
            "                                                                                                  \n",
            " ingredients_embedding_laye  (None, 95, 100)              5341300   ['ingredients_input_no_att[0][\n",
            " r_no_att (Embedding)                                               0]']                          \n",
            "                                                                                                  \n",
            " title_lstm_layer_no_att (L  [(None, 95, 100),            80400     ['title_embedding_layer_no_att\n",
            " STM)                         (None, 100),                          [0][0]']                      \n",
            "                              (None, 100)]                                                        \n",
            "                                                                                                  \n",
            " ingredients_lstm_layer_no_  [(None, 95, 100),            80400     ['ingredients_embedding_layer_\n",
            " att (LSTM)                   (None, 100),                          no_att[0][0]']                \n",
            "                              (None, 100)]                                                        \n",
            "                                                                                                  \n",
            " instructions_target_input_  [(None, 260)]                0         []                            \n",
            " no_att (InputLayer)                                                                              \n",
            "                                                                                                  \n",
            " concatenate (Concatenate)   (None, 200)                  0         ['title_lstm_layer_no_att[0][1\n",
            "                                                                    ]',                           \n",
            "                                                                     'ingredients_lstm_layer_no_at\n",
            "                                                                    t[0][1]']                     \n",
            "                                                                                                  \n",
            " concatenate_1 (Concatenate  (None, 200)                  0         ['title_lstm_layer_no_att[0][2\n",
            " )                                                                  ]',                           \n",
            "                                                                     'ingredients_lstm_layer_no_at\n",
            "                                                                    t[0][2]']                     \n",
            "                                                                                                  \n",
            " instructions_embedding_lay  (None, 260, 100)             5341300   ['instructions_target_input_no\n",
            " er_no_att (Embedding)                                              _att[0][0]']                  \n",
            "                                                                                                  \n",
            " reduce_h (Dense)            (None, 100)                  20100     ['concatenate[0][0]']         \n",
            "                                                                                                  \n",
            " reduce_c (Dense)            (None, 100)                  20100     ['concatenate_1[0][0]']       \n",
            "                                                                                                  \n",
            " decoder_lstm_layer_no_att   (None, 260, 100)             80400     ['instructions_embedding_layer\n",
            " (LSTM)                                                             _no_att[0][0]',               \n",
            "                                                                     'reduce_h[0][0]',            \n",
            "                                                                     'reduce_c[0][0]']            \n",
            "                                                                                                  \n",
            " output_no_att (Dense)       (None, 260, 53413)           5394713   ['decoder_lstm_layer_no_att[0]\n",
            "                                                                    [0]']                         \n",
            "                                                                                                  \n",
            "==================================================================================================\n",
            "Total params: 21700013 (82.78 MB)\n",
            "Trainable params: 21700013 (82.78 MB)\n",
            "Non-trainable params: 0 (0.00 Byte)\n",
            "__________________________________________________________________________________________________\n"
          ]
        }
      ]
    },
    {
      "cell_type": "code",
      "source": [
        "# Define the file for saving/loading model weights\n",
        "\n",
        "weights_file = 'model_no_att_weights.h5'\n",
        "history_file = 'history_no_att.pkl'\n",
        "\n",
        "# Check if the weights file exists\n",
        "\n",
        "if os.path.exists(weights_file):\n",
        "    # If weights exist, load them\n",
        "    print(\"Loading model weights...\")\n",
        "\n",
        "    model_no_att.load_weights(weights_file)\n",
        "    print(\"Model weights loaded successfully.\")\n",
        "\n",
        "    # Check if the history file exists\n",
        "    if os.path.exists(history_file):\n",
        "        # If history file exists, load training history\n",
        "        print(\"Loading training history...\")\n",
        "        with open(history_file, 'rb') as file:\n",
        "            history_no_att = pickle.load(file)\n",
        "        print(\"Training history loaded successfully.\")\n",
        "\n",
        "else:\n",
        "    # If weights do not exist, train the model and save the weights\n",
        "    print(\"Training model with early stopping...\")\n",
        "\n",
        "    # Define early stopping callback\n",
        "    early_stopping_callback = EarlyStopping(monitor='val_loss',  # Monitor validation loss\n",
        "                                            patience=2,          # Number of epochs with no improvement after which training will be stopped\n",
        "                                            restore_best_weights=True)  # Restore weights to the best epoch\n",
        "\n",
        "    history_no_att = model_no_att.fit(x=[train_title_input_data, train_ingredient_input_data, train_input_instr_target],\n",
        "                          y=train_output_instr_target,\n",
        "                          validation_data=([test_title_input_data, test_ingredient_input_data, test_input_instr_target],\n",
        "                                          test_output_instr_target),\n",
        "                          epochs=30,\n",
        "                          batch_size=128,\n",
        "                          callbacks=[early_stopping_callback])\n",
        "\n",
        "    # Save training history\n",
        "    print(\"Saving training history...\")\n",
        "    with open(history_file, 'wb') as file:\n",
        "        pickle.dump(history_no_att.history, file)\n",
        "    print(\"Training history saved successfully.\")\n",
        "\n",
        "    # Save model weights\n",
        "    model_no_att.save_weights(weights_file)\n",
        "    print(\"Model trained and weights saved successfully.\")\n"
      ],
      "metadata": {
        "colab": {
          "base_uri": "https://localhost:8080/"
        },
        "id": "DX6L0W7olSyF",
        "outputId": "f5e8eec1-bc3b-4b86-a9c5-9b9d76f23643"
      },
      "execution_count": 12,
      "outputs": [
        {
          "output_type": "stream",
          "name": "stdout",
          "text": [
            "Loading model weights...\n",
            "Model weights loaded successfully.\n",
            "Loading training history...\n",
            "Training history loaded successfully.\n"
          ]
        }
      ]
    },
    {
      "cell_type": "code",
      "source": [
        "# Plotting the training history for the model without attention\n",
        "\n",
        "plot_history(history_no_att)"
      ],
      "metadata": {
        "colab": {
          "base_uri": "https://localhost:8080/",
          "height": 607
        },
        "id": "o5H9ogSjwkkC",
        "outputId": "f7fec653-109e-4b9b-a5e4-1907de1a4bc3"
      },
      "execution_count": null,
      "outputs": [
        {
          "output_type": "display_data",
          "data": {
            "text/plain": [
              "<Figure size 1200x600 with 2 Axes>"
            ],
            "image/png": "[encoded data removed]"
          },
          "metadata": {}
        }
      ]
    },
    {
      "cell_type": "markdown",
      "source": [
        "### Model with attention"
      ],
      "metadata": {
        "id": "b9_QaI_Qlh--"
      }
    },
    {
      "cell_type": "markdown",
      "source": [
        "Here we build the sequence-to-sequence model with attention."
      ],
      "metadata": {
        "id": "LTt2ilF1X8rq"
      }
    },
    {
      "cell_type": "code",
      "source": [
        "# Model with attention\n",
        "\n",
        "def create_recipe_model_with_att(vocab_size,\n",
        "                                 max_title_length,\n",
        "                                 max_ingredient_length,\n",
        "                                 max_instructions_length,\n",
        "                                 learning_rate=0.001,\n",
        "                                 dropout_rate=0.0,\n",
        "                                 embeddings_trainable=False):\n",
        "\n",
        "    # Input layers\n",
        "\n",
        "    title_input_with_att = tf.keras.layers.Input(shape=(max_title_length,),\n",
        "                                                  dtype='int64',\n",
        "                                                  name='title_input_with_att')\n",
        "\n",
        "    ingredients_input_with_att = tf.keras.layers.Input(shape=(max_ingredient_length,),\n",
        "                                                  dtype='int64',\n",
        "                                                  name='ingredients_input_with_att')\n",
        "\n",
        "    instructions_target_input_with_att = tf.keras.layers.Input(shape=(max_instructions_length,),\n",
        "                                                  dtype='int64',\n",
        "                                                  name='instructions_target_input_with_att')\n",
        "\n",
        "\n",
        "    # Embedding layers, initialized with pre-trained weights\n",
        "\n",
        "    title_embedding_layer_with_att = tf.keras.layers.Embedding(input_dim=vocab_size,\n",
        "                                                                output_dim=embedding_matrix.shape[1],\n",
        "                                                                embeddings_initializer=tf.keras.initializers.Constant(embedding_matrix),\n",
        "                                                                input_length=max_title_length,\n",
        "                                                                trainable=embeddings_trainable,\n",
        "                                                                name='title_embedding_layer_with_att')\n",
        "\n",
        "    ingredients_embedding_layer_with_att = tf.keras.layers.Embedding(input_dim=vocab_size,\n",
        "                                                                output_dim=embedding_matrix.shape[1],\n",
        "                                                                embeddings_initializer=tf.keras.initializers.Constant(embedding_matrix),\n",
        "                                                                input_length=max_ingredient_length,\n",
        "                                                                trainable=embeddings_trainable,\n",
        "                                                                name='ingredients_embedding_layer_with_att')\n",
        "\n",
        "    instructions_embedding_layer_with_att  = tf.keras.layers.Embedding(input_dim=vocab_size,\n",
        "                                                                 output_dim=embedding_matrix.shape[1],\n",
        "                                                                 embeddings_initializer=tf.keras.initializers.Constant(embedding_matrix),\n",
        "                                                                 input_length=max_instructions_length,\n",
        "                                                                 trainable=embeddings_trainable,\n",
        "                                                                 name='instructions_embedding_layer_with_att')\n",
        "\n",
        "    title_embeddings_with_att = title_embedding_layer_with_att(title_input_with_att)\n",
        "    ingredients_embeddings_with_att = ingredients_embedding_layer_with_att(ingredients_input_with_att)\n",
        "    instructions_embeddings_with_att = instructions_embedding_layer_with_att(instructions_target_input_with_att)\n",
        "\n",
        "    # LSTM layers (encoder)\n",
        "    title_lstm_layer_with_att = tf.keras.layers.LSTM(embedding_matrix.shape[1],\n",
        "                                                     return_sequences=True,\n",
        "                                                     return_state=True,\n",
        "                                                     dropout=dropout_rate,\n",
        "                                                     name='title_lstm_layer_with_att')\n",
        "    title_out_with_att, title_state_h_with_att, title_state_c_with_att = title_lstm_layer_with_att(title_embeddings_with_att)\n",
        "\n",
        "    ingredients_lstm_layer_with_att = tf.keras.layers.LSTM(embedding_matrix.shape[1],\n",
        "                                                           return_sequences=True,\n",
        "                                                           return_state=True,\n",
        "                                                            dropout=dropout_rate,\n",
        "                                                           name='ingredients_lstm_layer_with_att')\n",
        "    ingredients_out_with_att, ingredients_state_h_with_att, ingredients_state_c_with_att = ingredients_lstm_layer_with_att(ingredients_embeddings_with_att)\n",
        "\n",
        "    # Concatenate the outputs of the encoder (title and ingredients)\n",
        "    encoder_concatenated_with_att = Concatenate(axis=1)([title_out_with_att,\n",
        "                                                         ingredients_out_with_att])\n",
        "\n",
        "    # LSTM layers (decoder)\n",
        "    decoder_lstm_layer_with_att = tf.keras.layers.LSTM(embedding_matrix.shape[1],\n",
        "                                                       return_sequences=True,\n",
        "                                                       return_state=False,\n",
        "                                                       dropout=dropout_rate,\n",
        "                                                       name='decoder_lstm_layer_with_att')\n",
        "    decoder_lstm_out_with_att = decoder_lstm_layer_with_att(instructions_embeddings_with_att)\n",
        "\n",
        "    # Attention mechanism\n",
        "    attention_layer = tf.keras.layers.Attention(name='attention_layer')\n",
        "    context_vector_with_att = attention_layer([decoder_lstm_out_with_att,\n",
        "                                               encoder_concatenated_with_att])\n",
        "\n",
        "    # Concatenate decoder output with attention context vector\n",
        "    concat_decoder_with_att = tf.keras.layers.Concatenate(axis=-1)([decoder_lstm_out_with_att,\n",
        "                                                                    context_vector_with_att])\n",
        "\n",
        "    # Output layer\n",
        "    output_with_att = tf.keras.layers.Dense(vocab_size,\n",
        "                                            activation='softmax',\n",
        "                                            name='output_with_att')(concat_decoder_with_att)\n",
        "\n",
        "    # Define the model\n",
        "    model_with_att = tf.keras.models.Model(inputs=[title_input_with_att,\n",
        "                                                   ingredients_input_with_att,\n",
        "                                                   instructions_target_input_with_att],\n",
        "                                           outputs=output_with_att)\n",
        "\n",
        "    # Define the optimizer with the specified learning rate\n",
        "    optimizer = tf.keras.optimizers.Adam(learning_rate=learning_rate)\n",
        "\n",
        "    model_with_att.compile(optimizer=optimizer,\n",
        "                           loss='sparse_categorical_crossentropy',\n",
        "                           metrics=['accuracy'])\n",
        "\n",
        "    return model_with_att\n",
        "\n"
      ],
      "metadata": {
        "id": "OBleGyBQ1TPt"
      },
      "execution_count": 13,
      "outputs": []
    },
    {
      "cell_type": "code",
      "source": [
        "# Model with attention (model_att): Embeddings trainable, learning rate increased, and dropout added\n",
        "\n",
        "model_att = create_recipe_model_with_att(vocab_size=vocab_size,\n",
        "                                              max_title_length=MAX_LENGTH_ENCODER,\n",
        "                                              max_ingredient_length=MAX_LENGTH_ENCODER,\n",
        "                                              max_instructions_length=MAX_LENGTH_DECODER,\n",
        "                                              learning_rate=0.005,\n",
        "                                              dropout_rate=0.05,\n",
        "                                              embeddings_trainable=True)\n",
        "\n",
        "# Print model summary\n",
        "model_att.summary()\n"
      ],
      "metadata": {
        "id": "2nWc0OGo4XCw",
        "colab": {
          "base_uri": "https://localhost:8080/"
        },
        "outputId": "95d4881b-db92-41a9-aa12-e0a2edcf8331"
      },
      "execution_count": 14,
      "outputs": [
        {
          "output_type": "stream",
          "name": "stdout",
          "text": [
            "Model: \"model_1\"\n",
            "__________________________________________________________________________________________________\n",
            " Layer (type)                Output Shape                 Param #   Connected to                  \n",
            "==================================================================================================\n",
            " title_input_with_att (Inpu  [(None, 95)]                 0         []                            \n",
            " tLayer)                                                                                          \n",
            "                                                                                                  \n",
            " ingredients_input_with_att  [(None, 95)]                 0         []                            \n",
            "  (InputLayer)                                                                                    \n",
            "                                                                                                  \n",
            " instructions_target_input_  [(None, 260)]                0         []                            \n",
            " with_att (InputLayer)                                                                            \n",
            "                                                                                                  \n",
            " title_embedding_layer_with  (None, 95, 100)              5341300   ['title_input_with_att[0][0]']\n",
            " _att (Embedding)                                                                                 \n",
            "                                                                                                  \n",
            " ingredients_embedding_laye  (None, 95, 100)              5341300   ['ingredients_input_with_att[0\n",
            " r_with_att (Embedding)                                             ][0]']                        \n",
            "                                                                                                  \n",
            " instructions_embedding_lay  (None, 260, 100)             5341300   ['instructions_target_input_wi\n",
            " er_with_att (Embedding)                                            th_att[0][0]']                \n",
            "                                                                                                  \n",
            " title_lstm_layer_with_att   [(None, 95, 100),            80400     ['title_embedding_layer_with_a\n",
            " (LSTM)                       (None, 100),                          tt[0][0]']                    \n",
            "                              (None, 100)]                                                        \n",
            "                                                                                                  \n",
            " ingredients_lstm_layer_wit  [(None, 95, 100),            80400     ['ingredients_embedding_layer_\n",
            " h_att (LSTM)                 (None, 100),                          with_att[0][0]']              \n",
            "                              (None, 100)]                                                        \n",
            "                                                                                                  \n",
            " decoder_lstm_layer_with_at  (None, 260, 100)             80400     ['instructions_embedding_layer\n",
            " t (LSTM)                                                           _with_att[0][0]']             \n",
            "                                                                                                  \n",
            " concatenate_2 (Concatenate  (None, 190, 100)             0         ['title_lstm_layer_with_att[0]\n",
            " )                                                                  [0]',                         \n",
            "                                                                     'ingredients_lstm_layer_with_\n",
            "                                                                    att[0][0]']                   \n",
            "                                                                                                  \n",
            " attention_layer (Attention  (None, 260, 100)             0         ['decoder_lstm_layer_with_att[\n",
            " )                                                                  0][0]',                       \n",
            "                                                                     'concatenate_2[0][0]']       \n",
            "                                                                                                  \n",
            " concatenate_3 (Concatenate  (None, 260, 200)             0         ['decoder_lstm_layer_with_att[\n",
            " )                                                                  0][0]',                       \n",
            "                                                                     'attention_layer[0][0]']     \n",
            "                                                                                                  \n",
            " output_with_att (Dense)     (None, 260, 53413)           1073601   ['concatenate_3[0][0]']       \n",
            "                                                          3                                       \n",
            "                                                                                                  \n",
            "==================================================================================================\n",
            "Total params: 27001113 (103.00 MB)\n",
            "Trainable params: 27001113 (103.00 MB)\n",
            "Non-trainable params: 0 (0.00 Byte)\n",
            "__________________________________________________________________________________________________\n"
          ]
        }
      ]
    },
    {
      "cell_type": "markdown",
      "source": [
        "Training the model, or loading the weights if the model has already been trained:"
      ],
      "metadata": {
        "id": "t-CWwHz8GXp5"
      }
    },
    {
      "cell_type": "code",
      "source": [
        "# Define the file for saving/loading model weights\n",
        "\n",
        "weights_file = 'model_att_weights.h5'\n",
        "history_file = 'history_att.pkl'\n",
        "\n",
        "# Check if the weights file exists\n",
        "if os.path.exists(weights_file):\n",
        "    # If weights exist, load them\n",
        "    print(\"Loading model weights...\")\n",
        "\n",
        "    model_att.load_weights(weights_file)\n",
        "    print(\"Model weights loaded successfully.\")\n",
        "\n",
        "    # Check if the history file exists\n",
        "    if os.path.exists(history_file):\n",
        "        # If history file exists, load training history\n",
        "        print(\"Loading training history...\")\n",
        "        with open(history_file, 'rb') as file:\n",
        "            history_att = pickle.load(file)\n",
        "        print(\"Training history loaded successfully.\")\n",
        "\n",
        "else:\n",
        "    # If weights do not exist, train the model and save the weights\n",
        "    print(\"Training model with early stopping...\")\n",
        "\n",
        "    # Define early stopping callback\n",
        "    early_stopping_callback = EarlyStopping(monitor='val_loss',  # Monitor validation loss\n",
        "                                            patience=2,          # Number of epochs with no improvement after which training will be stopped\n",
        "                                            restore_best_weights=True)  # Restore weights to the best epoch\n",
        "\n",
        "    history_att = model_att.fit(x=[train_title_input_data, train_ingredient_input_data, train_input_instr_target],\n",
        "                          y=train_output_instr_target,\n",
        "                          validation_data=([test_title_input_data, test_ingredient_input_data, test_input_instr_target],\n",
        "                                          test_output_instr_target),\n",
        "                          epochs=30,\n",
        "                          batch_size=128,\n",
        "                          callbacks=[early_stopping_callback])\n",
        "\n",
        "    # Save training history\n",
        "    print(\"Saving training history...\")\n",
        "    with open(history_file, 'wb') as file:\n",
        "        pickle.dump(history_att.history, file)\n",
        "    print(\"Training history saved successfully.\")\n",
        "\n",
        "    # Save model weights\n",
        "    model_att.save_weights(weights_file)\n",
        "    print(\"Model trained and weights saved successfully.\")\n",
        "\n"
      ],
      "metadata": {
        "colab": {
          "base_uri": "https://localhost:8080/"
        },
        "id": "x5m-KC5ZSe7i",
        "outputId": "772897e2-1f91-43c3-a66c-0fc5f13676f0"
      },
      "execution_count": 15,
      "outputs": [
        {
          "output_type": "stream",
          "name": "stdout",
          "text": [
            "Loading model weights...\n",
            "Model weights loaded successfully.\n",
            "Loading training history...\n",
            "Training history loaded successfully.\n"
          ]
        }
      ]
    },
    {
      "cell_type": "code",
      "source": [
        "# Plotting the training history for the model with attention\n",
        "\n",
        "plot_history(history_att)"
      ],
      "metadata": {
        "id": "Sr5gCT5sLAZB",
        "colab": {
          "base_uri": "https://localhost:8080/",
          "height": 607
        },
        "outputId": "5505e8a1-2ed6-467e-d8b1-d81e65003269"
      },
      "execution_count": null,
      "outputs": [
        {
          "output_type": "display_data",
          "data": {
            "text/plain": [
              "<Figure size 1200x600 with 2 Axes>"
            ],
            "image/png": "[encoded data removed]"
          },
          "metadata": {}
        }
      ]
    },
    {
      "cell_type": "code",
      "source": [
        "# Print validation loss from both models together\n",
        "\n",
        "import seaborn as sns\n",
        "\n",
        "def plot_validation_loss(history1, history2):\n",
        "    sns.set(style=\"whitegrid\")\n",
        "    custom_palette = sns.color_palette(\"husl\", 2)\n",
        "\n",
        "    # Plot validation loss for each history\n",
        "    plt.figure(figsize=(5, 3))\n",
        "    sns.lineplot(data=history2['val_loss'], label='Validation Loss - Base Model', color=custom_palette[1])\n",
        "    sns.lineplot(data=history1['val_loss'], label='Validation Loss - Attention Model', color=custom_palette[0])\n",
        "    plt.xlabel('Epoch')\n",
        "    plt.ylabel('Validation Loss')\n",
        "    plt.legend()\n",
        "\n",
        "    plt.grid(alpha=0.2)\n",
        "    plt.tight_layout()\n",
        "    plt.savefig('validation_loss_plot.png', dpi=300)\n",
        "\n",
        "\n",
        "    plt.show()\n",
        "\n",
        "\n",
        "plot_validation_loss(history_att, history_no_att)\n"
      ],
      "metadata": {
        "colab": {
          "base_uri": "https://localhost:8080/",
          "height": 301
        },
        "id": "78fOb9b-OV2V",
        "outputId": "6af34a86-90e8-4ea9-8ae0-34d6561ab264"
      },
      "execution_count": 21,
      "outputs": [
        {
          "output_type": "display_data",
          "data": {
            "text/plain": [
              "<Figure size 500x300 with 1 Axes>"
            ],
            "image/png": "[encoded data removed]"
          },
          "metadata": {}
        }
      ]
    },
    {
      "cell_type": "markdown",
      "source": [
        "#Inference"
      ],
      "metadata": {
        "id": "EOGFtwZiQSfz"
      }
    },
    {
      "cell_type": "code",
      "source": [
        "# Inference function with beam search\n",
        "\n",
        "def predict_instructions_beam_search(model, title_seq, ingredient_seq, max_len, beam_width, word_dict):\n",
        "    # Initialize sequences and their probabilities\n",
        "    start_token = pruned_word_to_index_dict['<START>']\n",
        "    end_token = pruned_word_to_index_dict['<END>']\n",
        "    initial_sequence = [start_token]\n",
        "    sequences = [(initial_sequence, 0)]\n",
        "\n",
        "    # Beam search loop\n",
        "    for _ in range(max_len):\n",
        "        all_candidates = []\n",
        "        # Expand each sequence in the beam\n",
        "        for seq, score in sequences:\n",
        "            if seq[-1] == end_token:  # Check if the last token is <END>\n",
        "                all_candidates.append((seq, score))  # Append current sequence without further expansion\n",
        "                continue  # Skip further expansion if <END> token is reached\n",
        "\n",
        "            # Predict the next word probabilities\n",
        "            predictions = model.predict([title_seq, ingredient_seq, np.array([seq])], verbose=0)\n",
        "            # Get the top beam_width candidates at this step\n",
        "            top_candidates = heapq.nlargest(beam_width, range(len(predictions[0][-1])), predictions[0][-1].__getitem__)\n",
        "            # Extend each sequence with the top candidates and calculate their scores\n",
        "            for candidate in top_candidates:\n",
        "                new_seq = seq + [candidate]\n",
        "                new_score = score + np.log(predictions[0][-1][candidate])  # Add log probabilities\n",
        "                all_candidates.append((new_seq, new_score))\n",
        "        # Select top beam_width sequences\n",
        "        sequences = heapq.nlargest(beam_width, all_candidates, key=lambda x: x[1])\n",
        "\n",
        "    # Convert token IDs to words\n",
        "    word_sequences = [[word_dict.get(token_id, '<UNK>') for token_id in seq[1:]] for seq, _ in sequences]\n",
        "\n",
        "    # Return the sequence with the highest probability in word format\n",
        "    return word_sequences[0]\n"
      ],
      "metadata": {
        "id": "dEWhO7U0p4vC"
      },
      "execution_count": 16,
      "outputs": []
    },
    {
      "cell_type": "code",
      "source": [
        "# Generating one example to review using the model with attention\n",
        "\n",
        "num = 1931\n",
        "title_seq = test_title_input_data[num:num+1]  # Assuming title_seq is a single sequence\n",
        "ingredient_seq = test_ingredient_input_data[num:num+1]  # Assuming ingredient_seq is a single sequence\n",
        "\n",
        "predicted_instructions = predict_instructions_beam_search(model_att,\n",
        "                                                          title_seq,\n",
        "                                                          ingredient_seq,\n",
        "                                                          MAX_LENGTH_DECODER,\n",
        "                                                          5,\n",
        "                                                          pruned_index_to_word_dict)\n",
        "\n",
        "title_seq = test_title_input_data[num]\n",
        "title_seq = tokens_to_words_no_padding(title_seq,pruned_index_to_word_dict)\n",
        "print('Input title: ', ' '.join(title_seq))\n",
        "\n",
        "ingredient_seq = test_ingredient_input_data[num]\n",
        "ingredient_seq = tokens_to_words_no_padding(ingredient_seq,pruned_index_to_word_dict)\n",
        "print('Input ingredients: ', ' '.join(ingredient_seq))\n",
        "\n",
        "instructions_seq = test_output_instr_target[num]\n",
        "instructions_seq = tokens_to_words_no_padding(instructions_seq,pruned_index_to_word_dict)\n",
        "print('Actual instructions: ', ' '.join(instructions_seq))\n",
        "\n",
        "# Print the generated instructions\n",
        "print('Predicted instructions: ', ' '.join(predicted_instructions))\n"
      ],
      "metadata": {
        "colab": {
          "base_uri": "https://localhost:8080/"
        },
        "id": "94WksEuqsJrx",
        "outputId": "505d4041-9397-4007-c737-c07ad7810c1a"
      },
      "execution_count": 17,
      "outputs": [
        {
          "output_type": "stream",
          "name": "stdout",
          "text": [
            "Input title:  kohlrabi pickles with chile oil\n",
            "Input ingredients:  <NUM> pound small <UNK> peeled halved lengthwise thinly sliced crosswise . <NUM> teaspoon kosher salt . <NUM> garlic clove finely grated . <NUM> tablespoons coarsely chopped cilantro . <NUM> tablespoon unseasoned rice vinegar . <NUM> teaspoons chile oil . <NUM> teaspoon finely grated lime zest . <NUM> <NUM> teaspoons fresh lime juice . <NUM> teaspoon black sesame seeds . <NUM> teaspoon fish sauce . <NUM> teaspoon sugar . <NUM> teaspoon toasted sesame oil\n",
            "Actual instructions:  toss <UNK> and salt in a large bowl to coat chill tossing occasionally <NUM> minutes . drain then toss in a clean large bowl with garlic cilantro vinegar chile oil lime zest lime juice sesame seeds fish sauce sugar and sesame oil to combine . <END>\n",
            "Predicted instructions:  preheat oven to <NUM> degrees f. combine <NUM> cups water garlic and <NUM> teaspoon salt in a small bowl . add garlic and cilantro toss to combine . season with salt and pepper . in a small bowl whisk together vinegar chile oil lime zest and juice and sesame oil . season with salt and pepper . <END>\n"
          ]
        }
      ]
    },
    {
      "cell_type": "markdown",
      "source": [
        "Function for generating a set number recipe instructions based on the input tests data, and then saving off lists of the actual and predicted instructions."
      ],
      "metadata": {
        "id": "9gFHhoJpHnZm"
      }
    },
    {
      "cell_type": "code",
      "source": [
        "\n",
        "def generate_instructions_clean(model, title_seqs, ingredient_seqs, output_seqs, max_len, beam_width, word_dict, num_samples):\n",
        "\n",
        "    print(\"Generating recipe instructions...\")\n",
        "    predicted_instructions_list = []\n",
        "    actual_instructions_list = []\n",
        "\n",
        "    # Counter variable to track the number of recipes processed\n",
        "    recipe_counter = 0\n",
        "\n",
        "    # Iterate through random examples of the test data n times\n",
        "    random.seed(42)  # Set seed for reproducibility\n",
        "    random_indices = random.sample(range(len(title_seqs)), num_samples)\n",
        "    for num in random_indices:\n",
        "        title_seq = title_seqs[num:num+1]\n",
        "        ingredient_seq = ingredient_seqs[num:num+1]\n",
        "\n",
        "        # Generate predicted instructions\n",
        "        predicted_instructions = predict_instructions_beam_search(model,\n",
        "                                                                  title_seq,\n",
        "                                                                  ingredient_seq,\n",
        "                                                                  max_len,\n",
        "                                                                  beam_width,\n",
        "                                                                  word_dict)\n",
        "\n",
        "        # Remove the end token from the predicted instructions\n",
        "        if '<END>' in predicted_instructions:\n",
        "          predicted_instructions.remove('<END>')\n",
        "\n",
        "        # Get the corresponding actual instructions\n",
        "        actual_instructions = output_seqs[num]\n",
        "\n",
        "        # Remove the end token from the actual instructions\n",
        "        if '<END>' in predicted_instructions:\n",
        "          actual_instructions.remove('<END>')\n",
        "\n",
        "        # Remove padding tokens from the actual instructions\n",
        "        actual_instructions = tokens_to_words_no_padding(actual_instructions, word_dict)\n",
        "\n",
        "        # Store each pair of text (predicted text and actual text)\n",
        "        predicted_instructions_list.append(predicted_instructions)\n",
        "        actual_instructions_list.append(actual_instructions)\n",
        "\n",
        "        # Increment the recipe counter\n",
        "        recipe_counter += 1\n",
        "\n",
        "        # Print the recipe counter value every 5 recipes processed\n",
        "        if recipe_counter % 5 == 0:\n",
        "            print(f\"{recipe_counter} recipes processed\")\n",
        "\n",
        "    print(\"All recipes processed.\")\n",
        "\n",
        "    return predicted_instructions_list, actual_instructions_list\n"
      ],
      "metadata": {
        "id": "8sHp9BIs0HdA"
      },
      "execution_count": 18,
      "outputs": []
    },
    {
      "cell_type": "markdown",
      "source": [
        "Doing inference using the test set below. Because inference is slow, we limit the number of samples to 50 for each case. We perform inference using the same test examples across all variations of beam width and across both trained models."
      ],
      "metadata": {
        "id": "SqJdxz_1IG9O"
      }
    },
    {
      "cell_type": "markdown",
      "source": [
        "Model without attention, beam width of 1 (greedy) and 5:"
      ],
      "metadata": {
        "id": "svPrkNOIJKSY"
      }
    },
    {
      "cell_type": "code",
      "source": [
        "predicted_instructions_list_NoAtt1, actual_instructions_list_NoAtt1 = generate_instructions_clean(model=model_no_att,\n",
        "                                                                       title_seqs=test_title_input_data,\n",
        "                                                                       ingredient_seqs=test_ingredient_input_data,\n",
        "                                                                       output_seqs=test_output_instr_target,\n",
        "                                                                       max_len=MAX_LENGTH_DECODER,\n",
        "                                                                       beam_width=1,\n",
        "                                                                       word_dict=pruned_index_to_word_dict,\n",
        "                                                                       num_samples=50)\n",
        "\n",
        "# Save the data for reference later on\n",
        "\n",
        "with open('generated_instructions_NoAtt1.pkl', 'wb') as f:\n",
        "    pickle.dump((predicted_instructions_list_NoAtt1, actual_instructions_list_NoAtt1), f)\n"
      ],
      "metadata": {
        "colab": {
          "base_uri": "https://localhost:8080/"
        },
        "id": "-W5HikzhJLvu",
        "outputId": "f34988de-b016-4297-a8c3-9e276505dc14"
      },
      "execution_count": null,
      "outputs": [
        {
          "output_type": "stream",
          "name": "stdout",
          "text": [
            "Generating recipe instructions...\n",
            "5 recipes processed\n",
            "10 recipes processed\n",
            "15 recipes processed\n",
            "20 recipes processed\n",
            "25 recipes processed\n",
            "30 recipes processed\n",
            "35 recipes processed\n",
            "40 recipes processed\n",
            "45 recipes processed\n",
            "50 recipes processed\n",
            "All recipes processed.\n"
          ]
        }
      ]
    },
    {
      "cell_type": "code",
      "source": [
        "predicted_instructions_list_NoAtt5, actual_instructions_list_NoAtt5 = generate_instructions_clean(model=model_no_att,\n",
        "                                                                       title_seqs=test_title_input_data,\n",
        "                                                                       ingredient_seqs=test_ingredient_input_data,\n",
        "                                                                       output_seqs=test_output_instr_target,\n",
        "                                                                       max_len=MAX_LENGTH_DECODER,\n",
        "                                                                       beam_width=5,\n",
        "                                                                       word_dict=pruned_index_to_word_dict,\n",
        "                                                                       num_samples=50)\n",
        "\n",
        "# Save the data for reference later on\n",
        "\n",
        "with open('generated_instructions_NoAtt5.pkl', 'wb') as f:\n",
        "    pickle.dump((predicted_instructions_list_NoAtt5, actual_instructions_list_NoAtt5), f)\n"
      ],
      "metadata": {
        "colab": {
          "base_uri": "https://localhost:8080/"
        },
        "id": "N7egG-h9JPWU",
        "outputId": "268cf71d-c73a-43b7-abb3-e2b15623718c"
      },
      "execution_count": null,
      "outputs": [
        {
          "output_type": "stream",
          "name": "stdout",
          "text": [
            "Generating recipe instructions...\n",
            "5 recipes processed\n",
            "10 recipes processed\n",
            "15 recipes processed\n",
            "20 recipes processed\n",
            "25 recipes processed\n",
            "30 recipes processed\n",
            "35 recipes processed\n",
            "40 recipes processed\n",
            "45 recipes processed\n",
            "50 recipes processed\n",
            "All recipes processed.\n"
          ]
        }
      ]
    },
    {
      "cell_type": "code",
      "source": [
        "predicted_instructions_list_NoAtt10, actual_instructions_list_NoAtt10 = generate_instructions_clean(model=model_no_att,\n",
        "                                                                       title_seqs=test_title_input_data,\n",
        "                                                                       ingredient_seqs=test_ingredient_input_data,\n",
        "                                                                       output_seqs=test_output_instr_target,\n",
        "                                                                       max_len=MAX_LENGTH_DECODER,\n",
        "                                                                       beam_width=10,\n",
        "                                                                       word_dict=pruned_index_to_word_dict,\n",
        "                                                                       num_samples=50)\n",
        "\n",
        "# Save the data for reference later on\n",
        "\n",
        "with open('generated_instructions_NoAtt10.pkl', 'wb') as f:\n",
        "    pickle.dump((predicted_instructions_list_NoAtt10, actual_instructions_list_NoAtt10), f)"
      ],
      "metadata": {
        "colab": {
          "base_uri": "https://localhost:8080/"
        },
        "id": "ZwWYHW9UoksX",
        "outputId": "19be2f92-5bc1-43bc-a71c-dfc0dc964523"
      },
      "execution_count": null,
      "outputs": [
        {
          "output_type": "stream",
          "name": "stdout",
          "text": [
            "Generating recipe instructions...\n",
            "5 recipes processed\n",
            "10 recipes processed\n",
            "15 recipes processed\n",
            "20 recipes processed\n",
            "25 recipes processed\n",
            "30 recipes processed\n",
            "35 recipes processed\n",
            "40 recipes processed\n",
            "45 recipes processed\n",
            "50 recipes processed\n",
            "All recipes processed.\n"
          ]
        }
      ]
    },
    {
      "cell_type": "markdown",
      "source": [
        "Model with attention, beam width of 1 (greedy) and 5:"
      ],
      "metadata": {
        "id": "VkPOMQg6TSFf"
      }
    },
    {
      "cell_type": "code",
      "source": [
        "predicted_instructions_list_Att1, actual_instructions_list_Att1 = generate_instructions_clean(model=model_att,\n",
        "                                                                       title_seqs=test_title_input_data,\n",
        "                                                                       ingredient_seqs=test_ingredient_input_data,\n",
        "                                                                       output_seqs=test_output_instr_target,\n",
        "                                                                       max_len=MAX_LENGTH_DECODER,\n",
        "                                                                       beam_width=1,\n",
        "                                                                       word_dict=pruned_index_to_word_dict,\n",
        "                                                                       num_samples=50)\n",
        "\n",
        "# Save the data for reference later on\n",
        "\n",
        "with open('generated_instructions_Att1.pkl', 'wb') as f:\n",
        "    pickle.dump((predicted_instructions_list_Att1, actual_instructions_list_Att1), f)\n"
      ],
      "metadata": {
        "colab": {
          "base_uri": "https://localhost:8080/"
        },
        "id": "uSyW4SnRS1r-",
        "outputId": "23cd8ed5-93a8-4c28-e5af-c5d18bcb0b45"
      },
      "execution_count": null,
      "outputs": [
        {
          "output_type": "stream",
          "name": "stdout",
          "text": [
            "Generating recipe instructions...\n",
            "5 recipes processed\n",
            "10 recipes processed\n",
            "15 recipes processed\n",
            "20 recipes processed\n",
            "25 recipes processed\n",
            "30 recipes processed\n",
            "35 recipes processed\n",
            "40 recipes processed\n",
            "45 recipes processed\n",
            "50 recipes processed\n",
            "All recipes processed.\n"
          ]
        }
      ]
    },
    {
      "cell_type": "code",
      "source": [
        "predicted_instructions_list_Att5, actual_instructions_list_Att5 = generate_instructions_clean(model=model_att,\n",
        "                                                                       title_seqs=test_title_input_data,\n",
        "                                                                       ingredient_seqs=test_ingredient_input_data,\n",
        "                                                                       output_seqs=test_output_instr_target,\n",
        "                                                                       max_len=MAX_LENGTH_DECODER,\n",
        "                                                                       beam_width=5,\n",
        "                                                                       word_dict=pruned_index_to_word_dict,\n",
        "                                                                       num_samples=50)\n",
        "\n",
        "# Save the data for reference later on\n",
        "\n",
        "with open('generated_instructions_Att5.pkl', 'wb') as f:\n",
        "    pickle.dump((predicted_instructions_list_Att5, actual_instructions_list_Att5), f)\n"
      ],
      "metadata": {
        "colab": {
          "base_uri": "https://localhost:8080/"
        },
        "id": "DEo8LjM0S9wf",
        "outputId": "d5b42c76-9ce1-43f8-d579-3d78aa566c0e"
      },
      "execution_count": null,
      "outputs": [
        {
          "output_type": "stream",
          "name": "stdout",
          "text": [
            "Generating recipe instructions...\n",
            "5 recipes processed\n",
            "10 recipes processed\n",
            "15 recipes processed\n",
            "20 recipes processed\n",
            "25 recipes processed\n",
            "30 recipes processed\n",
            "35 recipes processed\n",
            "40 recipes processed\n",
            "45 recipes processed\n",
            "50 recipes processed\n",
            "All recipes processed.\n"
          ]
        }
      ]
    },
    {
      "cell_type": "code",
      "source": [
        "predicted_instructions_list_Att10, actual_instructions_list_Att10 = generate_instructions_clean(model=model_att,\n",
        "                                                                       title_seqs=test_title_input_data,\n",
        "                                                                       ingredient_seqs=test_ingredient_input_data,\n",
        "                                                                       output_seqs=test_output_instr_target,\n",
        "                                                                       max_len=MAX_LENGTH_DECODER,\n",
        "                                                                       beam_width=10,\n",
        "                                                                       word_dict=pruned_index_to_word_dict,\n",
        "                                                                       num_samples=50)\n",
        "\n",
        "# Save the data for reference later on\n",
        "\n",
        "with open('generated_instructions_Att10.pkl', 'wb') as f:\n",
        "    pickle.dump((predicted_instructions_list_Att10, actual_instructions_list_Att10), f)\n"
      ],
      "metadata": {
        "colab": {
          "base_uri": "https://localhost:8080/"
        },
        "id": "5kB4DzrlS_GP",
        "outputId": "c4c7a249-6764-40a1-b7bf-b4881c739874"
      },
      "execution_count": null,
      "outputs": [
        {
          "output_type": "stream",
          "name": "stdout",
          "text": [
            "Generating recipe instructions...\n",
            "5 recipes processed\n",
            "10 recipes processed\n",
            "15 recipes processed\n",
            "20 recipes processed\n",
            "25 recipes processed\n",
            "30 recipes processed\n",
            "35 recipes processed\n",
            "40 recipes processed\n",
            "45 recipes processed\n",
            "50 recipes processed\n",
            "All recipes processed.\n"
          ]
        }
      ]
    },
    {
      "cell_type": "markdown",
      "source": [
        "## Evaluation"
      ],
      "metadata": {
        "id": "9O5BYswlThjh"
      }
    },
    {
      "cell_type": "markdown",
      "source": [
        "Jump here if recipes have already been generated. Load the generated recipes:"
      ],
      "metadata": {
        "id": "O54BfEp9T1P4"
      }
    },
    {
      "cell_type": "code",
      "source": [
        "# Load the pickle files for the base model\n",
        "\n",
        "with open('generated_instructions_Att1.pkl', 'rb') as f:\n",
        "    predicted_instructions_list_Att1, actual_instructions_list_Att1 = pickle.load(f)\n",
        "\n",
        "with open('generated_instructions_Att5.pkl', 'rb') as f:\n",
        "    predicted_instructions_list_Att5, actual_instructions_list_Att5 = pickle.load(f)\n",
        "\n",
        "with open('generated_instructions_Att10.pkl', 'rb') as f:\n",
        "    predicted_instructions_list_Att10, actual_instructions_list_Att10 = pickle.load(f)\n",
        "\n",
        "# Load the pickle files for the attention model\n",
        "\n",
        "with open('generated_instructions_NoAtt1.pkl', 'rb') as f:\n",
        "    predicted_instructions_list_NoAtt1, actual_instructions_list_NoAtt1 = pickle.load(f)\n",
        "\n",
        "with open('generated_instructions_NoAtt5.pkl', 'rb') as f:\n",
        "    predicted_instructions_list_NoAtt5, actual_instructions_list_NoAtt5 = pickle.load(f)\n",
        "\n",
        "with open('generated_instructions_NoAtt10.pkl', 'rb') as f:\n",
        "    predicted_instructions_list_NoAtt10, actual_instructions_list_NoAtt10 = pickle.load(f)\n"
      ],
      "metadata": {
        "id": "rMeFmdiUT4ka"
      },
      "execution_count": 19,
      "outputs": []
    },
    {
      "cell_type": "code",
      "source": [
        "# Save the random indices generated using the same seed\n",
        "\n",
        "title_seqs=test_title_input_data\n",
        "ingredient_seqs=test_ingredient_input_data\n",
        "num_samples = 50\n",
        "\n",
        "random.seed(42)\n",
        "random_indices = random.sample(range(len(title_seqs)), num_samples)\n",
        "\n",
        "# Initialize lists to store titles and ingredients corresponding to the generated instructions\n",
        "actual_titles = []\n",
        "actual_ingredients = []\n",
        "\n",
        "# Iterate through the random indices to retrieve titles and ingredients\n",
        "for num in random_indices:\n",
        "    t = tokens_to_words_no_padding(title_seqs[num],pruned_index_to_word_dict)\n",
        "    i = tokens_to_words_no_padding(ingredient_seqs[num],pruned_index_to_word_dict)\n",
        "    actual_titles.append(t)\n",
        "    actual_ingredients.append(i)\n",
        "\n",
        "# Print the generated recipes along with their titles and ingredients\n",
        "for i in range(num_samples):\n",
        "    print(f'Recipe {i + 1}')\n",
        "    print('Title:', ' '.join(actual_titles[i]))\n",
        "\n",
        "\n",
        "    print('Ingredients:', ' '.join(actual_ingredients[i]))\n",
        "    print('Actual instructions:', ' '.join(actual_instructions_list_Att5[i]))\n",
        "    print('Predicted instructions with no attention and beam search of 1:', ' '.join(predicted_instructions_list_NoAtt1[i]))\n",
        "    print('Predicted instructions with no attention and beam search of 5:', ' '.join(predicted_instructions_list_NoAtt5[i]))\n",
        "    print('Predicted instructions with attention and beam search of 1:', ' '.join(predicted_instructions_list_Att1[i]))\n",
        "    print('Predicted instructions with attention and beam search of 5:', ' '.join(predicted_instructions_list_Att5[i]))\n",
        "    print()"
      ],
      "metadata": {
        "colab": {
          "base_uri": "https://localhost:8080/"
        },
        "id": "yLPwZzN1Ewbr",
        "outputId": "04338db1-f5b6-4288-d90e-8075d6f5e737"
      },
      "execution_count": 25,
      "outputs": [
        {
          "output_type": "stream",
          "name": "stdout",
          "text": [
            "Recipe 1\n",
            "Title: antipasto pasta salad\n",
            "Ingredients: <NUM> pound seashell pasta . <NUM> pound genoa salami chopped . <NUM> pound pepperoni sausage chopped . <NUM> pound asiago cheese diced . <NUM> can black olives drained and chopped . <NUM> red bell pepper diced . <NUM> green bell pepper chopped . <NUM> tomatoes chopped . <NUM> package dry italian style salad dressing mix . <NUM> cup extra virgin olive oil . <NUM> cup balsamic vinegar . <NUM> tablespoons dried oregano . <NUM> tablespoon dried parsley . <NUM> tablespoon grated parmesan cheese . salt and ground black pepper to taste\n",
            "Actual instructions: cook the pasta in a large pot of salted boiling water until al dente . drain and cool under cold water . in a large bowl combine the pasta salami pepperoni asiago cheese black olives red bell pepper green bell pepper and tomatoes . stir in the envelope of dressing mix . cover and refrigerate for at least one hour . to prepare the dressing whisk together the olive oil balsamic vinegar oregano parsley parmesan cheese salt and pepper . just before serving pour dressing over the salad and mix well . <END>\n",
            "Predicted instructions with no attention and beam search of 1: bring a large pot of lightly salted water to a boil . add pasta and cook until tender yet firm to the bite about <NUM> minutes . drain and rinse under cold water . drain and rinse under cold water . drain and rinse under cold water . drain and rinse under cold water . drain and rinse under cold water . drain and rinse under cold water . drain and rinse under cold water . drain and rinse under cold water . drain and rinse under cold water . drain and rinse under cold water . drain and rinse under cold water . drain and rinse under cold water . drain and rinse under cold water . drain and rinse under cold water . drain and rinse under cold water . drain and rinse under cold water . drain and rinse under cold water . drain and rinse under cold water . drain and rinse under cold water . drain and rinse under cold water . drain and rinse under cold water . drain and rinse under cold water . drain and rinse under cold water . drain and rinse under cold water . drain and rinse under cold water . drain and rinse under cold water . drain and rinse under cold water . drain and set aside . in a large bowl combine the eggs and <NUM> cup of the cheese . add the eggs and mix well . add the eggs and mix well . add the eggs and mix well . pour into the prepared\n",
            "Predicted instructions with no attention and beam search of 5: bring a large pot of lightly salted water to a boil . cook elbow macaroni in the boiling water stirring occasionally until tender yet firm to the bite about <NUM> minutes . drain and set aside . in a large skillet over medium heat melt the butter . add the garlic and cook stirring constantly until the onion is translucent about <NUM> minutes . add the garlic and cook for <NUM> minute . stir in the tomatoes and cook for <NUM> minutes . stir in the tomatoes and cook for <NUM> minutes . stir in the macaroni and cook for <NUM> to <NUM> minutes or until the cheese is melted .\n",
            "Predicted instructions with attention and beam search of 1: bring a large pot of lightly salted water to a boil . add pasta and cook for <NUM> to <NUM> minutes or until al dente drain . in a large bowl toss together the pasta salami pepperoni pepperoni olives and olives . season with salt and pepper . toss the pasta with the dressing and the dressing mix well . season with salt and pepper .\n",
            "Predicted instructions with attention and beam search of 5: bring a large pot of lightly salted water to a boil . add pasta and cook for <NUM> to <NUM> minutes or until al dente drain . in a large bowl toss together the pasta salami pepperoni pepperoni olives and olives . season with salt and pepper to taste .\n",
            "\n",
            "Recipe 2\n",
            "Title: dark chocolate orange souffle with white chocolate chunk whipped cream\n",
            "Ingredients: <NUM> cup whipping cream . <NUM> ounces bittersweet or semisweet chocolate coarsely chopped . <NUM> egg yolks . <NUM> tablespoon cointreau or other orange <UNK> . <NUM> teaspoon grated orange peel . sugar . <NUM> egg whites room temperature . pinch of cream of tartar . <NUM> tablespoons sugar . powdered sugar . <NUM> ounce imported white chocolate . <NUM> cup chilled whipping cream . <NUM> tablespoon sugar . <NUM> teaspoon grated orange peel . <NUM> tablespoon cointreau or other orange <UNK>\n",
            "Actual instructions: to make the souffle cook cream and chocolate in heavy small saucepan over low heat stirring until chocolate melts and mixture is smooth . remove from heat and beat in yolks <NUM> at a time . mix in cointreau and orange peel . cook to tepid . preheat oven to <NUM> degrees f. butter one <NUM> cup or two <NUM> <NUM> cup souffle dishes dust with sugar . beat whites and cream of tartar in medium bowl until soft peaks form . beat in <NUM> tablespoons sugar . fold <NUM> of whites into chocolate . gently fold in remaining whites . spoon into prepared dishes . bake until souffle rises but still moves in center when touched about <NUM> minutes for individuals and <NUM> minutes for one large . dust tops with powdered sugar . serve immediately passing whipped cream separately . cut chocolate into <NUM> inch dice . combine cream sugar and orange peel in medium bowl and beat until stiff peaks form . mix in cointreau . fold in chocolate . . cook cream and chocolate in heavy small saucepan over low heat stirring until chocolate melts and mixture is smooth . stir over low heat until tepid before continuing <UNK> preheat oven to <NUM> degrees f. serve immediately passing whipped cream separately . <END>\n",
            "Predicted instructions with no attention and beam search of 1: watch how to make this recipe . preheat the oven to <NUM> degrees f. line a baking sheet with parchment paper . in a large bowl combine the cream cheese and sugar . add the eggs and stir until the mixture is well combined . add the vanilla and mix well . pour the mixture into the prepared pan . bake for <NUM> minutes . remove from the oven and let cool completely .\n",
            "Predicted instructions with no attention and beam search of 5: watch how to make this recipe . preheat the oven to <NUM> degrees f. line a baking sheet with parchment paper . in a large bowl cream together the butter and sugar until light and fluffy . beat in the eggs one at a time beating well after each addition . add the eggs one at a time beating well after each addition . add the eggs one at a time beating well after each addition . add the flour mixture and mix well . pour the batter into the prepared pan . bake in the preheated oven until a toothpick inserted into the center of the cake comes out clean <NUM> to <NUM> minutes .\n",
            "Predicted instructions with attention and beam search of 1: preheat oven to <NUM> degrees f. in a large bowl cream together the cream and sugar . beat in the egg yolks and cointreau . beat in the egg whites . fold in the egg whites and beat until stiff peaks form . fold in the egg whites and the sugar . fold in the chocolate and cream of tartar . fold in the whipped cream and sugar . fold in the chocolate and cream of tartar . fold in the chocolate and cream of tartar . fold in the chocolate and cream of tartar . fold in the chocolate and cream of tartar . fold in the chocolate and cream of tartar . fold in the chocolate and cream of tartar . fold in the chocolate and cream of tartar . fold in the chocolate and cream of tartar . fold in the chocolate and cream of tartar . fold in the chocolate and cream . place the ramekins in a large bowl and whip until stiff peaks form . fold in the chocolate and cream . fold in the chocolate and cream of tartar . fold in the chocolate and cream . fold in the chocolate and cream . fold in the chocolate and cream . fold in the chocolate and cream . fold in the chocolate and cream . fold in the chocolate and cream . fold in the chocolate and cream . fold in the chocolate and cream . fold in the chocolate and fold in the chocolate . bake for <NUM> to <NUM> minutes until\n",
            "Predicted instructions with attention and beam search of 5: watch how to make this recipe . preheat the oven to <NUM> degrees f. line a rimmed baking sheet with parchment paper . in a medium saucepan over medium heat combine the whipping cream and sugar . bring to a boil and cook until the chocolate is completely melted . remove from the heat and whisk in the egg yolks cointreau and orange peel . beat the egg whites with an electric mixer on medium high speed until stiff peaks form about <NUM> minutes . add the sugar and beat until stiff peaks form . add the egg whites and beat until stiff peaks form . fold the whipped cream into the chocolate mixture . fold in the whipped cream . fold in the chocolate and cream of tartar . fold in the cream of tartar and orange peel . whip the cream of tartar with an electric mixer on medium high speed until stiff peaks form about <NUM> minutes . fold the whipped cream into the chocolate mixture . pour the mixture into the prepared souffle dish and top with the remaining meringue . bake for <NUM> to <NUM> minutes in the preheated oven . remove from the oven and let cool for <NUM> minutes before serving .\n",
            "\n",
            "Recipe 3\n",
            "Title: cinnamon sweet puffs\n",
            "Ingredients: cooking spray . <NUM> cup white sugar . <NUM> tablespoon ground cinnamon . <NUM> cans refrigerated biscuit dough . <NUM> large marshmallows . <NUM> cup butter melted\n",
            "Actual instructions: preheat oven to <NUM> degrees f . spray <NUM> muffin cups with cooking spray . combine sugar and cinnamon in a bowl . separate biscuits . place a marshmallow in the center of each biscuit and wrap biscuit dough around marshmallow . press dough to seal marshmallow completely . roll dough ball in melted butter then roll in cinnamon sugar mixture . arrange each dough ball in the prepared muffin cups . bake in the preheated oven until golden brown about <NUM> minutes . <END>\n",
            "Predicted instructions with no attention and beam search of 1: preheat oven to <NUM> degrees f . grease a <UNK> inch baking dish . in a large bowl combine the flour baking powder and salt . stir in the flour baking soda and salt . stir in the flour baking soda and salt . stir in the flour mixture . pour batter into prepared pan . bake in the preheated oven until a toothpick inserted into the center comes out clean <NUM> to <NUM> minutes . cool in the pan for <NUM> minutes before removing to cool completely .\n",
            "Predicted instructions with no attention and beam search of 5: preheat oven to <NUM> degrees f . grease and flour a <UNK> inch baking pan . in a large bowl cream together the butter and brown sugar until light and fluffy . add the eggs one at a time beating well after each addition . pour batter into prepared pan . bake in the preheated oven until a toothpick inserted into the center comes out clean <NUM> to <NUM> minutes .\n",
            "Predicted instructions with attention and beam search of 1: preheat oven to <NUM> degrees f . spray a baking sheet with cooking spray . place the biscuit pieces in a large bowl . mix together the butter and cinnamon in a large bowl . place the biscuit pieces in a large bowl . pour melted butter over the top of the biscuit dough . bake for <NUM> to <NUM> minutes in the preheated oven or until golden brown .\n",
            "Predicted instructions with attention and beam search of 5: watch how to make this recipe . preheat oven to <NUM> degrees f . spray a baking sheet with cooking spray . combine the sugar cinnamon and <NUM> cup water in a saucepan over medium heat . bring to a boil and cook for <NUM> to <NUM> minutes . remove from heat and stir in the melted butter . stir in the melted butter . pour into the prepared baking dish . bake for <NUM> to <NUM> minutes .\n",
            "\n",
            "Recipe 4\n",
            "Title: bad day\n",
            "Ingredients: <NUM> jigger amaretto liqueur . <NUM> fluid ounces champagne\n",
            "Actual instructions: pour the amaretto into a champagne flute . top with the champagne . serve with a lemon twist . <END>\n",
            "Predicted instructions with no attention and beam search of 1: in a blender combine the sugar and water . blend until smooth . add the ice cream and blend until smooth . pour into glasses and garnish with a slice of orange .\n",
            "Predicted instructions with no attention and beam search of 5: watch how to make this recipe . preheat the oven to <NUM> degrees f. line a rimmed baking sheet with parchment paper . in a medium bowl combine the sugar and <NUM> cup of the sugar . add the lemon juice and stir to combine . pour the mixture into a <NUM> inch glass pie plate . pour the mixture over the top of the mixture . refrigerate until ready to serve .\n",
            "Predicted instructions with attention and beam search of 1: fill a glass with ice . pour amaretto into glass and stir .\n",
            "Predicted instructions with attention and beam search of 5: fill a champagne flute with champagne . garnish with champagne .\n",
            "\n",
            "Recipe 5\n",
            "Title: tomato mozzarella salad with balsamic reduction\n",
            "Ingredients: <NUM> cup balsamic vinegar . <NUM> clove garlic crushed . <NUM> head red leaf lettuce . <NUM> tomatoes sliced . <NUM> balls of fresh mozzarella sliced . <NUM> small red onion sliced . <NUM> cup fresh raspberries . <NUM> cup sliced black olives . <NUM> teaspoons dried basil . salt and black pepper to taste . <NUM> tablespoons extra virgin olive oil\n",
            "Actual instructions: pour balsamic vinegar into a small saucepan and add the crushed garlic bring to a boil over medium high heat . reduce heat to medium low and simmer until the vinegar has reduced to <NUM> cup . set aside and cool to room temperature . divide the lettuce leaves among <NUM> salad plates . arrange the tomato slices on top of the lettuce then place the mozzarella on top of the tomatoes . sprinkle the salads with the red onion raspberries and sliced black olives . season with dried basil salt and pepper drizzle with the olive oil and balsamic vinegar . <END>\n",
            "Predicted instructions with no attention and beam search of 1: bring a large pot of lightly salted water to a boil . add pasta and cook until tender yet firm to the bite about <NUM> minutes . drain and rinse under cold water . drain and rinse under cold water . drain and rinse under cold water . drain and rinse under cold water . drain and rinse under cold water . drain and rinse under cold water . drain and rinse under cold water . drain and rinse under cold water . drain and rinse under cold water . drain and rinse under cold water . drain and rinse under cold water . drain and rinse under cold water . drain and rinse under cold water . drain and rinse under cold water . drain and rinse under cold water . drain and rinse under cold water . drain and rinse under cold water . drain and rinse under cold water . drain and rinse under cold water . drain and rinse under cold water . drain and rinse under cold water . drain and rinse under cold water . drain and rinse under cold water . drain and rinse under cold water . drain and rinse under cold water . drain and rinse under cold water . drain and rinse under cold water . drain and rinse under cold water . drain and rinse under cold water . drain and rinse under cold water . drain and rinse under cold water . drain and rinse under cold water . drain and rinse under cold water . drain and\n",
            "Predicted instructions with no attention and beam search of 5: bring a large pot of lightly salted water to a boil . add pasta and cook until tender yet firm to the bite about <NUM> minutes . drain and rinse under cold water . drain and rinse under cold water . drain and rinse under cold water . drain and rinse under cold water . drain and rinse under cold water . drain and rinse under cold water . drain and rinse under cold water . drain and rinse under cold running water . drain and rinse under cold water . drain and rinse under cold water . drain and rinse under cold water . drain and rinse under cold water . drain and rinse under cold water . drain and rinse under cold water . drain and rinse under cold water . drain and rinse under cold water . drain and rinse under cold water . drain and rinse under cold water . drain and rinse under cold water . drain and set aside . in a large skillet over medium high heat saute the onion and garlic until translucent about <NUM> minutes . add the garlic and cook for <NUM> minute . add the garlic and cook for <NUM> minute . stir in the tomatoes and cook for <NUM> minute . add the tomatoes and cook for <NUM> minutes . stir in the tomatoes and cook for <NUM> minutes . stir in the tomatoes and cook for <NUM> minutes . remove from the heat and stir in the tomatoes . season to taste with salt and pepper .\n",
            "Predicted instructions with attention and beam search of 1: place the balsamic vinegar garlic and red leaf in a blender . add the tomatoes and mozzarella and mix well . season with salt and pepper . heat olive oil in a large skillet over medium heat . add the balsamic vinegar and cook for <NUM> minutes . add the olives and basil and cook for <NUM> minutes . add the red onion and cook for <NUM> minutes . add the red onion and cook for <NUM> minutes . add the red onion and cook for <NUM> minutes . add the red onion and cook for <NUM> minutes . add the red onion and cook for <NUM> minutes . add the red onion and cook for <NUM> minutes . add the red onion and cook for <NUM> minutes . add the red onion and cook for <NUM> minute . add the red onion and cook for <NUM> minute . add the red onion and cook until fragrant about <NUM> minute . add the red onion and the remaining <NUM> tablespoons olive oil and cook until the sauce coats the back of a spoon about <NUM> minutes .\n",
            "Predicted instructions with attention and beam search of 5: watch how to make this recipe . in a small bowl combine the balsamic vinegar garlic red onion and the remaining <NUM> tablespoons balsamic vinegar . add the mozzarella and toss to coat . season with salt and pepper . heat the olive oil in a large skillet over medium high heat . add the balsamic vinegar and cook for <NUM> minutes . add the olives and cook for <NUM> to <NUM> minutes . season with salt and pepper .\n",
            "\n",
            "Recipe 6\n",
            "Title: bbq chicken sandwiches\n",
            "Ingredients: <NUM> whole chickens cut up . <NUM> <NUM> cups ketchup . <NUM> cup prepared mustard . <NUM> tablespoons brown sugar . <NUM> tablespoons minced garlic . <NUM> tablespoons honey . <NUM> cup steak sauce . <NUM> tablespoons lemon juice . <NUM> tablespoons liquid smoke flavoring . salt and pepper to taste . <NUM> hamburger buns . <NUM> cups prepared coleslaw\n",
            "Actual instructions: place chicken in a large pot with enough water to cover . bring to a boil and cook until chicken comes off the bone easily about <NUM> hours . make sauce while the chicken cooks . in a saucepan over medium heat mix together the ketchup mustard brown sugar garlic honey steak sauce lemon juice and liquid smoke . season with salt and pepper . bring to a gentle boil and simmer for about <NUM> minutes . set aside to allow flavors to mingle . when the chicken is done remove all meat from the bones and chop or shred into small pieces . place in a pan with the sauce and cook for about <NUM> minutes to let the flavor of the sauce soak into the chicken . spoon <UNK> chicken onto buns and top with coleslaw if you like . <END>\n",
            "Predicted instructions with no attention and beam search of 1: preheat oven to <NUM> degrees f . place chicken breasts in a large bowl . mix chicken broth and chicken together in a bowl . pour chicken mixture into the prepared baking dish . cover with aluminum foil . bake in the preheated oven until chicken is no longer pink in the center and the juices run clear about <NUM> minutes .\n",
            "Predicted instructions with no attention and beam search of 5: preheat oven to <NUM> degrees f . grease a <UNK> inch baking dish . heat oil in a large skillet over medium high heat . add onion and cook until translucent about <NUM> minutes . add chicken and cook until browned about <NUM> minutes . add chicken and cook stirring occasionally until chicken is no longer pink in the center and the juices run clear about <NUM> minutes . transfer chicken to a large bowl . add chicken to the skillet and cook stirring occasionally until chicken is no longer pink in the center and the juices run clear about <NUM> minutes per side . transfer chicken to a serving dish and serve .\n",
            "Predicted instructions with attention and beam search of 1: preheat oven to <NUM> degrees f . place chicken in a large bowl . pour ketchup mustard brown sugar garlic and honey together in a bowl . mix in the honey and steak sauce . place chicken on a baking sheet and bake for <NUM> minutes . remove from oven and let rest for <NUM> minutes .\n",
            "Predicted instructions with attention and beam search of 5: watch how to make this recipe . preheat the oven to <NUM> degrees f . place the chicken on a baking sheet and cover with aluminum foil . bake for <NUM> to <NUM> minutes in the preheated oven until the internal temperature reaches <NUM> degrees f about <NUM> minutes . remove the chickens from the oven and allow to cool . in a small bowl mix together the ketchup mustard brown sugar garlic and honey . pour the mixture into the prepared baking dish . bake for <NUM> to <NUM> minutes in the preheated oven or until the internal temperature reaches <NUM> degrees f .\n",
            "\n",
            "Recipe 7\n",
            "Title: freds famous tar heel chili\n",
            "Ingredients: <NUM> bag dried pinto beans picked over and rinsed . <NUM> <NUM> pounds ground beef chuck . <NUM> pounds ground pork . <NUM> large bell peppers of assorted colors chopped . <NUM> large onions chopped . <NUM> cup chili powder . <NUM> tablespoons cumin seeds . <NUM> teaspoon dried oregano . <NUM> can plus <NUM> can diced tomatoes with their juice . <NUM> cup fresh parsley leaves chopped . salt and freshly ground pepper to taste . chopped onion shredded cheddar cheese sour cream and salsa for garnish\n",
            "Actual instructions: <UNK> soak the dried beans according to the package directions and drain . in a pot combine the beans with enough water to cover by two inches . bring just to a boil . reduce the heat and simmer the beans until almost tender about an hour . <UNK> set an eight quart dutch oven over medium high heat . in batches add the beef and pork . cook breaking the meat up with a spoon until well browned . transfer each batch to a bowl using a slotted spoon . <UNK> heat the drippings in the same pot over medium heat . add the bell peppers onions chili powder cumin seeds and oregano cook stirring occasionally until the vegetables are softened about <NUM> minutes . add the tomatoes with their juice and the reserved meat and simmer for one hour . add the beans and simmer until the chili is thickened and the beans are tender about an hour longer . stir in the parsley salt and pepper . garnish each serving with onion cheese sour cream and salsa . reduce the heat and simmer the beans until almost tender about an hour . transfer each batch to a bowl using a slotted spoon . <END>\n",
            "Predicted instructions with no attention and beam search of 1: preheat oven to <NUM> degrees f . place the chicken breasts in a large bowl . add the chicken breasts and toss to coat . place the chicken breasts on a baking sheet . bake in the preheated oven until the chicken is no longer pink in the center and the juices run clear about <NUM> minutes .\n",
            "Predicted instructions with no attention and beam search of 5: watch how to make this recipe . preheat the oven to <NUM> degrees f . in a large bowl mix together the ground beef and onion . heat the oil in a large skillet over medium high heat . add the onion and cook until the onion is translucent about <NUM> minutes . add the chicken and cook until browned about <NUM> minutes . add the chicken and cook for <NUM> to <NUM> minutes or until the chicken is no longer pink in the center and the juices run clear . remove the chicken from the pan and set aside . heat the oil in a large skillet over medium high heat . add the chicken and cook until browned about <NUM> minutes per side . remove the chicken from the skillet and set aside . heat the oil in a large skillet over medium high heat . add the chicken and cook until browned about <NUM> minutes per side . remove the chicken from the skillet and set aside . heat the oil in a large skillet over medium high heat . add the chicken and cook until browned about <NUM> minutes per side . transfer the chicken to the skillet and cook until browned about <NUM> minutes per side . remove the chicken from the skillet and set aside . heat the oil in a large skillet over medium high heat . add the chicken and cook until browned about <NUM> minutes per side . transfer the chicken to the skillet and cook until browned about <NUM> minutes\n",
            "Predicted instructions with attention and beam search of 1: place the beans in a large pot and cover with water . bring to a boil and cook until the beans are tender about <NUM> minutes . drain and rinse the beans in cold water . drain the beans in a colander and rinse under cold water . drain the beans in a colander and rinse under cold water . drain the beans in a colander and rinse under cold water . drain the beans in a colander and rinse under cold water . drain the beans in a colander and rinse the beans in cold water . drain the beans in a colander and rinse the beans in cold water . drain the beans in a colander and rinse the beans in cold water . drain the beans in a colander and rinse the beans in cold water . drain the beans in a colander and rinse the beans in cold water . drain the beans in a colander and rinse the beans in cold water . drain the beans in a colander and rinse the beans in cold water . in a large bowl combine the ground beef and onions . add the ground beef and the ground beef mixture and mix well . add the ground beef and the peppers and mix well . add the tomatoes and parsley and season with salt and pepper .\n",
            "Predicted instructions with attention and beam search of 5: bring a large pot of lightly salted water to a boil . add the beans and cook for <NUM> to <NUM> minutes or until tender but still firm to the bite . drain and transfer to a large bowl . add the ground beef bell peppers onions chili powder cumin and oregano . stir in the tomatoes and parsley and season with salt and pepper .\n",
            "\n",
            "Recipe 8\n",
            "Title: egg foo yong\n",
            "Ingredients: <NUM> tablespoons vegetable oil plus more for frying . <NUM> ounces white mushrooms trimmed and sliced . <NUM> <NUM> teaspoons sugar . <NUM> cup low sodium chicken broth . <NUM> <NUM> teaspoons soy sauce . <NUM> tablespoon cornstarch . <NUM> medium onion thinly sliced . <NUM> ounces canadian bacon diced . <NUM> cup frozen peas thawed . <NUM> bunch scallions thinly sliced . <NUM> large eggs beaten . <NUM> teaspoon toasted sesame oil\n",
            "Actual instructions: heat <NUM> tablespoon vegetable oil in a skillet over high heat . add the mushrooms and <NUM> teaspoon sugar and saute until golden <NUM> minutes . add the broth and <NUM> teaspoons soy sauce . mix the cornstarch with <NUM> cup water stir into the skillet and boil until thickened <NUM> minutes . heat <NUM> tablespoon vegetable oil in another skillet over high heat . add the onion and the remaining <NUM> teaspoon sugar and cook until tender <NUM> minutes . add the bacon and cook <NUM> minutes . add the peas half of the scallions and the remaining <NUM> <NUM> teaspoons soy sauce cook <NUM> more minute . transfer to a bowl and combine with the beaten eggs . wipe out the skillet . return to high heat and add <NUM> inch of vegetable oil . add one fourth of the egg mixture spoon some of the hot oil on top and cook until puffy <NUM> to <NUM> minutes . flip and cook <NUM> minute then drain on paper towels . repeat to make <NUM> more omelets . add the sesame oil to the mushroom gravy and pour over the omelets . garnish with the remaining scallions <END>\n",
            "Predicted instructions with no attention and beam search of 1: preheat oven to <NUM> degrees f. place potatoes in a large pot and cover with water . bring to a boil and cook until tender about <NUM> minutes . drain and rinse under cold water . drain and rinse under cold water . drain and rinse under cold water . drain and rinse under cold water . drain and rinse under cold water . drain and rinse under cold water . drain and rinse under cold water . drain and rinse under cold water . drain and rinse under cold water . drain and rinse under cold water . drain and rinse under cold water . drain and rinse under cold water . drain and rinse under cold water . drain and rinse under cold water . drain and rinse under cold water . drain and rinse under cold water . drain and rinse under cold water . drain and rinse under cold water . drain and rinse under cold water . drain and rinse under cold water . drain and rinse under cold water . drain and rinse under cold water . drain and rinse under cold water . drain and rinse under cold water . drain and rinse under cold water . drain and rinse under cold water . drain and rinse under cold water . drain and rinse under cold water . drain and rinse under cold water . drain and rinse under cold water . drain and rinse under cold water . drain and rinse under cold water . drain and rinse under cold water .\n",
            "Predicted instructions with no attention and beam search of 5: watch how to make this recipe . preheat the oven to <NUM> degrees f. place the potatoes in a large pot and cover with water . bring to a boil then reduce the heat to medium low cover and simmer until the potatoes are tender <NUM> to <NUM> minutes . drain and rinse under cold running water . drain and rinse under cold water . drain the potatoes and rinse under cold running water . drain and rinse under cold running water . drain and rinse under cold water . drain and rinse under cold running water . drain and rinse under cold water . drain and rinse under cold running water . drain and rinse under cold water . drain and rinse under cold water . drain and rinse under cold water . drain and rinse under cold water . drain and rinse under cold running water . drain and rinse under cold water . drain and rinse under cold running water . drain and rinse under cold water . drain and rinse under cold water . drain and rinse under cold running water . drain and rinse under cold water . drain and rinse under cold running water . drain and rinse under cold water . drain and rinse under cold running water . drain and rinse under cold water . drain and rinse under cold water to cool . in a large bowl mix together the flour salt and pepper . heat the oil in a large skillet over medium high heat . add the onions and\n",
            "Predicted instructions with attention and beam search of 1: heat oil in a large nonstick skillet over medium high heat . add mushrooms and saute <NUM> minutes . add sugar and cook stirring <NUM> minute . add chicken broth soy sauce cornstarch and onion . cook whisking constantly until thick about <NUM> minutes . add eggs and sesame oil and stir fry whisking until eggs are set <NUM> to <NUM> minutes . add <NUM> cup water to skillet whisking fry whisking until eggs are set about <NUM> minutes . add eggs sesame oil and sesame oil . stir fry until thick <NUM> minutes .\n",
            "Predicted instructions with attention and beam search of 5: watch how to make this recipe . heat the oil in a large nonstick skillet over medium high heat . add the mushrooms and sugar and cook stirring <NUM> minute . add the chicken broth soy sauce and cornstarch . cook whisking constantly until thick about <NUM> minutes . remove from heat and stir in the scallions . add the eggs sesame oil and sesame oil and whisk until combined . transfer to a serving bowl and serve .\n",
            "\n",
            "Recipe 9\n",
            "Title: canyon ranch scallops\n",
            "Ingredients: <NUM> cup olive oil . <NUM> cup grated lemon zest . <NUM> teaspoons honey . <NUM> teaspoons fresh lime juice . half a ripe papaya peeled and diced . <NUM> <NUM> tablespoons minced red bell pepper . <NUM> teaspoons chopped cilantro . <NUM> teaspoons chopped green onion . <NUM> teaspoons minced red onion . pinch of salt . <NUM> lb sea scallops\n",
            "Actual instructions: in a small bowl combine <NUM> tablespoons oil and zest . let sit <NUM> hour at room temperature . strain mixture using a fine sieve . in another small bowl combine honey and lime juice . add remaining ingredients for papaya relish and mix well . heat <NUM> tablespoons oil in a large saute pan . saute scallops over medium heat until cooked through about <NUM> to <NUM> minutes on each side . for each serving place <NUM> scallops on a plate and <UNK> tablespoons lemon oil over scallops . top with <NUM> tablespoons papaya relish . <END>\n",
            "Predicted instructions with no attention and beam search of 1: in a large bowl combine the tomatoes cucumbers tomatoes onion and garlic . toss to combine . season with salt and pepper .\n",
            "Predicted instructions with no attention and beam search of 5: combine all ingredients in a large bowl . cover and refrigerate until ready to serve .\n",
            "Predicted instructions with attention and beam search of 1: in a large bowl whisk together the olive oil lemon zest and honey . add the lime juice and the sugar and stir until the mixture is well combined . add the red bell pepper cilantro green onion and red pepper . toss to coat scallops . cover and refrigerate for at least <NUM> hours . preheat oven to <NUM> degrees f. place scallops in a large bowl and toss with the dressing . season with salt and pepper .\n",
            "Predicted instructions with attention and beam search of 5: watch how to make this recipe . preheat oven to <NUM> degrees f. heat olive oil in a large skillet over medium high heat . add the lemon zest and honey and cook for <NUM> to <NUM> minutes stirring occasionally . add the lime juice and honey and cook for <NUM> minutes . add the red bell pepper cilantro green onion and red bell pepper to the skillet and cook stirring occasionally until the scallops are just opaque in the center about <NUM> minutes . transfer scallops to a platter and serve .\n",
            "\n",
            "Recipe 10\n",
            "Title: last minute <UNK> platter\n",
            "Ingredients: <NUM> ounces baby or fresh mozzarella . <NUM> pound prosciutto thinly sliced . <NUM> pound mortadella thinly sliced . <NUM> pound <UNK> thinly sliced . <NUM> piece of asiago or aged provolone cheese . <NUM> small stick <UNK> . <NUM> small stick pepperoni . <NUM> ounces marinated artichoke hearts . <NUM> pound oil dried black olives or similar olives . <NUM> ounces <UNK> peppers . <NUM> ounces or <NUM> pieces whole roasted red peppers . <NUM> bunch fresh basil . <NUM> teaspoon minced garlic . <NUM> tablespoons olive oil . <NUM> seedless cucumber thinly sliced\n",
            "Actual instructions: use a separate cutting board for prepping and place a nice wooden board for the display in front of you . unwrap all the meats and cheeses and lay them out next to your display board . place the baby mozzarella in a small dish and set on <NUM> corner of the board . roll the prosciutto like a burrito fold the mortadella in half <NUM> or <NUM> times and wrap the <UNK> into a horn shape and place it creatively on the cutting board . . slice a bit of each cheese the <UNK> and pepperoni and place on board in between folded meats . scatter board with artichoke hearts olives <UNK> and roasted red peppers . to finish take a few basil leaves sliced chiffonade style and mix with the minced garlic and olive oil . drizzle over the entire board . garnish with whole basil leaves and serve with cucumber slices as an alternative to crackers . <END>\n",
            "Predicted instructions with no attention and beam search of 1: preheat oven to <NUM> degrees f. place the tomatoes in a large bowl . add the tomatoes and tomatoes and toss to coat . season with salt and pepper . place the bread on a baking sheet and bake for <NUM> minutes . remove from the oven and let cool .\n",
            "Predicted instructions with no attention and beam search of 5: bring a large pot of lightly salted water to a boil . add pasta and cook for <NUM> to <NUM> minutes or until al dente drain . in a large saute pan heat the olive oil over medium high heat . add the onion and garlic and saute until translucent about <NUM> minutes . add the garlic and cook for <NUM> minute . add the garlic and cook for <NUM> minute . add the garlic and cook for <NUM> minute . add the tomatoes and bring to a simmer . add the pasta and cook for <NUM> to <NUM> minutes or until the pasta is al dente . remove from the heat and stir in the parsley . season with salt and pepper .\n",
            "Predicted instructions with attention and beam search of 1: watch how to make this recipe . special equipment <NUM> to <NUM> inch round cookie cutter . preheat oven to <NUM> degrees f. place the mozzarella prosciutto mortadella and cheese in a bowl . add the prosciutto and cheese and toss to coat . divide the mixture among the bowls and top with the olives and the cheese . top with the olives and peppers . bake for <NUM> to <NUM> minutes until the cheese is melted and bubbly . serve with the olives .\n",
            "Predicted instructions with attention and beam search of 5: watch how to make this recipe . preheat the oven to <NUM> degrees f. line a rimmed baking sheet with parchment paper . combine the mozzarella prosciutto mortadella and cheese in a large bowl . add the olive oil and olives and toss to coat . divide the cheese mixture among the bowls and top each with a layer of olives . top with the olives and peppers . bake for <NUM> to <NUM> minutes in the preheated oven or until the cheese is melted and the cheese is melted .\n",
            "\n",
            "Recipe 11\n",
            "Title: the <UNK> coleslaw\n",
            "Ingredients: <NUM> cabbage shredded and finely chopped . <NUM> large onion finely chopped . <NUM> tablespoon black pepper . <NUM> tablespoon celery salt . <NUM> tablespoons sugar . <NUM> cup mayonnaise\n",
            "Actual instructions: in a large bowl add all ingredients and mix well . chill and serve . <END>\n",
            "Predicted instructions with no attention and beam search of 1: in a large bowl combine the rice vinegar and <NUM> cup of the water . add the carrots and toss to coat . cover and refrigerate for <NUM> hours . preheat the oven to <NUM> degrees f. place the potatoes in a large pot and cover with water . bring to a boil and cook until the potatoes are tender about <NUM> minutes . drain the potatoes and return to the pot . add the potatoes and cook until tender about <NUM> minutes . drain and rinse under cold water . drain the potatoes and pat dry . in a large bowl combine the potatoes and onion . add the chicken stock and toss to coat . season with salt and pepper . heat the oil in a large skillet over medium high heat . add the chicken and cook until browned about <NUM> minutes . add the chicken and cook until browned about <NUM> minutes . add the chicken stock and cook until the chicken is cooked through about <NUM> minutes . add the chicken stock and cook until the chicken is cooked through about <NUM> minutes . add the chicken stock and cook until the chicken is cooked through about <NUM> minutes . add the chicken stock and bring to a simmer . reduce the heat to medium low and simmer until the chicken is cooked through about <NUM> minutes . remove the chicken from the oven and let rest for <NUM> minutes before serving .\n",
            "Predicted instructions with no attention and beam search of 5: watch how to make this recipe . preheat the oven to <NUM> degrees f. line a baking sheet with parchment paper . in a large bowl combine the chicken broth and <NUM> cup water . bring to a boil over high heat . reduce the heat to medium low cover and simmer until the rice is tender about <NUM> minutes . remove from the heat and set aside . heat the oil in a large skillet over medium high heat . add the onion and cook stirring occasionally until the onion is translucent about <NUM> minutes . add the onion and cook stirring occasionally until the onion is translucent about <NUM> minutes . add the onion and cook stirring occasionally until the onion is translucent about <NUM> minutes . add the chicken stock and bring to a boil . reduce the heat to medium low cover and simmer until the rice is tender about <NUM> minutes . stir in the chicken broth and bring to a boil . reduce the heat to medium low cover and simmer until the rice is tender about <NUM> minutes . remove from the heat and stir in the chicken broth . season with salt and pepper to taste .\n",
            "Predicted instructions with attention and beam search of 1: in a large bowl mix together the cabbage onion and pepper . add the celery salt sugar and mayonnaise . toss to coat . refrigerate for at least <NUM> hours before serving .\n",
            "Predicted instructions with attention and beam search of 5: in a large bowl mix together the cabbage onion pepper celery salt sugar and mayonnaise . season with salt and pepper .\n",
            "\n",
            "Recipe 12\n",
            "Title: butternut squash rosemary and blue cheese risotto\n",
            "Ingredients: <NUM> cups low salt chicken broth . <NUM> tablespoons butter . <NUM> <NUM> cups finely chopped onion . <NUM> <NUM> pound butternut squash peeled halved seeded cut into <NUM> to <NUM> inch dice . <NUM> teaspoons chopped fresh rosemary divided . <NUM> cups arborio rice . <NUM> cup dry white wine . <NUM> cups baby spinach leaves . <NUM> cup whipping cream . <NUM> cup freshly grated parmesan cheese . <NUM> cup crumbled blue cheese\n",
            "Actual instructions: bring <NUM> cups broth to boil in large saucepan . cover and reduce heat to low . melt butter in heavy large pot over medium heat . add onion and saute until tender about <NUM> minutes . add squash and <NUM> <NUM> teaspoons rosemary saute <NUM> minutes to coat with butter . add rice and stir <NUM> minutes . add wine and simmer until evaporated about <NUM> minute . add <NUM> cups hot broth bring to boil . reduce heat and simmer uncovered until rice is just tender and risotto is creamy and slightly soupy adding more broth by <NUM> <UNK> as needed to maintain consistency and stirring occasionally about <NUM> minutes . stir in spinach cream and parmesan cheese . season to taste with salt and pepper . transfer risotto to large bowl . sprinkle with blue cheese and remaining <NUM> teaspoon rosemary and serve . cover and reduce heat to low . season to taste with salt and pepper . <END>\n",
            "Predicted instructions with no attention and beam search of 1: preheat oven to <NUM> degrees f . in a large bowl combine the potatoes onion celery and garlic . mix well . add the chicken stock and mix well . season with salt and pepper . place the potatoes in a large bowl and cover with cold water . bring to a boil and cook until tender about <NUM> minutes . drain and set aside . in a large bowl combine the potatoes and onion . add the chicken stock and mix well . season with salt and pepper . heat the oil in a large skillet over medium heat . add the chicken and cook until browned about <NUM> minutes . add the chicken and cook until browned about <NUM> minutes . add the chicken stock and cook until the chicken is cooked through about <NUM> minutes . add the chicken stock and cook until the chicken is cooked through about <NUM> minutes . add the chicken stock and cook until the chicken is cooked through about <NUM> minutes . add the chicken stock and bring to a simmer . reduce the heat to medium low and simmer until the chicken is cooked through about <NUM> minutes . remove from the heat and stir in the chicken broth . season with salt and pepper . serve with the chicken .\n",
            "Predicted instructions with no attention and beam search of 5: bring a large pot of salted water to a boil . add potatoes and cook until tender but still firm to the bite about <NUM> minutes . drain and rinse under cold water . drain and rinse under cold running water . drain and rinse under cold water . drain and rinse under cold water . drain and rinse under cold running water . drain and rinse under cold water . drain and rinse under cold water . drain and rinse under cold water . drain and rinse under cold water . drain and rinse under cold water . drain and rinse under cold water . drain and rinse under cold water . drain and rinse under cold water to cool . in a large bowl mix together the flour salt and pepper . heat the oil in a large skillet over medium high heat . add the onion and cook until translucent about <NUM> minutes . add the garlic and cook stirring constantly until the onion is translucent about <NUM> minutes . add the flour and cook stirring constantly until the mixture thickens about <NUM> minutes . add the flour and cook stirring constantly until the mixture thickens about <NUM> minutes . add the flour and cook stirring constantly until the mixture thickens about <NUM> minutes . add the flour and cook stirring constantly until the mixture thickens about <NUM> minutes . add the flour and cook stirring constantly until the mixture thickens about <NUM> minutes . add the flour and cook stirring constantly until thickened about <NUM> minutes\n",
            "Predicted instructions with attention and beam search of 1: in a large saucepan over medium heat combine broth butter and onion . bring to a boil and cook stirring frequently until tender about <NUM> minutes . stir in the rice and rosemary . cook until the rice is tender about <NUM> minutes . stir in the cream and parmesan . add the cream and parmesan cheese and stir until the mixture is creamy . add the cream cheese and blue cheese . stir in the cream and parmesan . serve the rice with the parmesan cheese .\n",
            "Predicted instructions with attention and beam search of 5: bring broth and butter to a boil in a saucepan . reduce heat to medium low cover and simmer until tender about <NUM> minutes . remove from heat and let cool . melt butter in heavy large saucepan over medium high heat . add onion and saute until tender about <NUM> minutes . add squash rosemary and <NUM> cup water . bring to boil . reduce heat to medium low cover and simmer until rice is tender about <NUM> minutes . stir in cream cheese and blue cheese .\n",
            "\n",
            "Recipe 13\n",
            "Title: spiced cranberry sauce\n",
            "Ingredients: a <NUM> ounce bag of cranberries picked over . <NUM> cup honey . <NUM> to <NUM> tablespoons firmly packed brown sugar or to taste . two <NUM> inch cinnamon sticks . <NUM> whole cloves . <NUM> teaspoon freshly grated nutmeg or to taste . <NUM> cup water\n",
            "Actual instructions: in a saucepan combine the cranberries the honey the brown sugar the cinnamon sticks the cloves the nutmeg and the water and simmer the mixture covered stirring occasionally for <NUM> to <NUM> minutes or until the cranberries have burst and the mixture is thickened . transfer the sauce to a bowl and let it cool . the sauce may be made <NUM> days in advance and kept covered and chilled . serve the sauce at room temperature . <END>\n",
            "Predicted instructions with no attention and beam search of 1: watch how to make this recipe . preheat the oven to <NUM> degrees f. line a rimmed baking sheet with parchment paper . in a large bowl combine the oats and <NUM> cup of the sugar . stir in the oats and <NUM> teaspoon salt . stir in the oats and raisins . cover and refrigerate until ready to use . preheat the oven to <NUM> degrees f . line a baking sheet with parchment paper . place the popcorn in a large bowl . add the remaining <NUM> tablespoons of the sugar and <NUM> teaspoon salt and toss to coat . place the coated popcorn in a large bowl . pour the mixture into the prepared baking dish . bake in the preheated oven until the edges are golden brown and the edges are bubbling <NUM> to <NUM> minutes . cool the pan on a rack .\n",
            "Predicted instructions with no attention and beam search of 5: watch how to make this recipe . preheat the oven to <NUM> degrees f. line a rimmed baking sheet with parchment paper . in a large bowl whisk together the flour sugar baking powder and salt and set aside . heat the oil in a large skillet over medium high heat . add the popcorn and cook until golden brown about <NUM> minutes . transfer the popcorn to a paper towel lined plate to cool . in a large bowl stir together the remaining <NUM> cup sugar and <NUM> teaspoon salt in a large bowl . pour the mixture into the prepared baking dish . bake in the preheated oven until a toothpick inserted into the center comes out clean <NUM> to <NUM> minutes . let cool slightly before serving .\n",
            "Predicted instructions with attention and beam search of 1: in a medium saucepan over medium heat cook the cranberries and sugar stirring until the sugar is dissolved and the syrup is fragrant about <NUM> minutes . add the cinnamon sticks cloves nutmeg and nutmeg . cook stirring occasionally until the cranberries burst and the mixture is thick about <NUM> minutes . remove from the heat and let cool .\n",
            "Predicted instructions with attention and beam search of 5: watch how to make this recipe . preheat the oven to <NUM> degrees f. line a baking sheet with parchment paper . in a medium saucepan over medium heat cook the cranberries and <NUM> tablespoons of the brown sugar stirring until the sugar is dissolved about <NUM> minutes . add the cinnamon sticks cloves nutmeg and nutmeg cook and stir until the sugar is dissolved about <NUM> minutes . remove from the heat and let cool to room temperature .\n",
            "\n",
            "Recipe 14\n",
            "Title: the pappardelle with english peas fava leaves and basil\n",
            "Ingredients: <NUM> cup homemade or purchased vegetable stock . <NUM> teaspoon fine sea salt . <NUM> cups fresh english peas . <NUM> cups homemade buttermilk or whole milk . <NUM> sheets fresh or frozen the cut in half lengthwise and then crosswise into <NUM> inch wide strips . <NUM> cup fresh english peas . <NUM> teaspoon fine sea salt . <NUM> cup fresh fava leaves loosely packed . <NUM> cup fresh basil leaves torn and loosely packed . <NUM> teaspoon freshly ground black pepper\n",
            "Actual instructions: make pea puree in <NUM> inch saute pan over moderately high heat bring vegetable stock and salt to boil . add peas and simmer uncovered until bright green and almost tender <NUM> to <NUM> minutes . transfer peas and cooking liquid to blender and blend on high until very smooth about <NUM> minute . set aside . . in <NUM> inch saute pan over moderately high heat bring vegetable stock and salt to boil . add peas and simmer uncovered until bright green and almost tender <NUM> to <NUM> minutes . make pappardelle in medium saucepan over moderate heat stir together buttermilk the peas and <NUM> teaspoon salt . bring to simmer then reduce heat to low cover and cook until peas are just tender about <NUM> minutes . stir in pea puree and fava leaves cover and cook until fava leaves are wilted about <NUM> seconds . remove from heat and stir in basil remaining <NUM> teaspoon salt and pepper . serve immediately . in medium saucepan over moderate heat stir together buttermilk the peas and <NUM> teaspoon salt <END>\n",
            "Predicted instructions with no attention and beam search of 1: watch how to make this recipe . preheat the oven to <NUM> degrees f. place the potatoes in a large pot and cover with water . bring to a boil and cook until tender about <NUM> minutes . drain the potatoes and return to the pot . add the potatoes and cook until tender about <NUM> minutes . drain and rinse under cold water . drain the potatoes and rinse under cold water . drain the potatoes and rinse under cold water . drain the potatoes and rinse under cold water . drain the potatoes and rinse under cold water . drain the potatoes and rinse under cold water . drain the potatoes and rinse under cold water . drain the potatoes and rinse under cold water . drain the potatoes and rinse under cold water . drain the potatoes and rinse under cold water . drain the potatoes and rinse under cold water . drain the potatoes and rinse under cold water . drain the potatoes and rinse under cold water . drain the potatoes and rinse under cold water . drain the potatoes and rinse under cold water . drain the potatoes and rinse under cold water . drain the potatoes and set aside . in a large bowl combine the potatoes and onion . add the potatoes and toss to coat . season with salt and pepper . place the potatoes in a large bowl and cover with cold water . bring the water to a boil and cook until tender about <NUM> minutes . drain the\n",
            "Predicted instructions with no attention and beam search of 5: watch how to make this recipe . preheat the oven to <NUM> degrees f. line a rimmed baking sheet with aluminum foil . in a large bowl combine the chicken broth and <NUM> cup water . bring to a boil over high heat . reduce the heat to medium low and simmer until the vegetables are tender about <NUM> minutes . remove the chicken from the pan and set aside . heat the oil in a large skillet over medium high heat . add the onion and cook stirring occasionally until the onion is translucent about <NUM> minutes . add the onion and cook stirring occasionally until the onion is translucent about <NUM> minutes . add the garlic and cook stirring occasionally until the onion is translucent about <NUM> minutes . add the chicken stock and cook stirring occasionally until the vegetables are tender about <NUM> minutes . add the chicken broth and bring to a boil . reduce the heat to medium low cover and simmer until the chicken is cooked through about <NUM> minutes . stir in the chicken broth and bring to a boil . reduce the heat to medium low cover and simmer until the chicken is cooked through about <NUM> minutes . remove from the heat and stir in the chicken broth . season with salt and pepper to taste .\n",
            "Predicted instructions with attention and beam search of 1: in a large bowl combine the vegetable stock and salt . add the peas and the buttermilk and toss to coat . add the peas and toss to coat . add the peas and toss to coat . add the peas and toss to coat . serve with the pasta .\n",
            "Predicted instructions with attention and beam search of 5: watch how to make this recipe . in a small saucepan bring the vegetable stock to a boil in a small saucepan over medium high heat . add the peas and cook for <NUM> to <NUM> minutes or until they are tender . stir in the buttermilk and salt and pepper to taste . add the peas to the boiling water and cook for <NUM> to <NUM> minutes stirring occasionally . remove from the heat and stir in the basil and pepper .\n",
            "\n",
            "Recipe 15\n",
            "Title: cheesy green bean dish\n",
            "Ingredients: <NUM> tablespoon vegetable oil . <NUM> onion chopped . <NUM> tablespoons all purpose flour . <NUM> cup milk . <NUM> cup shredded mozzarella cheese . <NUM> cup cottage cheese . <NUM> teaspoon white sugar . <NUM> teaspoon salt . <NUM> packages frozen green beans thawed . <NUM> cups seasoned bread crumbs . <NUM> egg beaten\n",
            "Actual instructions: preheat oven to <NUM> degrees f . in a medium saucepan over medium heat saute onion until translucent . stir in flour milk mozzarella cheese cottage cheese sugar and salt cook stirring until thickened . place green beans in a <UNK> inch baking dish pour cheese sauce over green beans . in a small bowl combine bread crumbs and egg . spread over green beans . bake in preheated oven for <NUM> minutes . <END>\n",
            "Predicted instructions with no attention and beam search of 1: preheat oven to <NUM> degrees f . grease a <UNK> inch baking dish . in a large bowl combine the eggs milk and <NUM> cup of the cheese . stir in the eggs and season with salt and pepper . pour the mixture into the prepared baking dish . bake in the preheated oven until the top is golden brown and the cheese is melted about <NUM> minutes .\n",
            "Predicted instructions with no attention and beam search of 5: preheat oven to <NUM> degrees f . grease a <UNK> inch baking dish . heat oil in a large skillet over medium high heat . cook and stir onion and garlic in the hot oil until soft about <NUM> minutes . stir in flour and cook until browned about <NUM> minutes . remove from heat and set aside . heat oil in a large skillet over medium heat . stir in flour and cook until browned about <NUM> minutes . stir in flour and cook until browned about <NUM> minutes . stir in flour and cook stirring constantly until mixture thickens about <NUM> minutes . stir in flour and cook stirring constantly until thickened about <NUM> minutes . stir in flour and cook stirring constantly until thickened about <NUM> minutes . stir in remaining <NUM> cup cheddar cheese and cook stirring constantly until thickened about <NUM> minutes . stir in <NUM> cup cheddar cheese and continue cooking <NUM> minutes more .\n",
            "Predicted instructions with attention and beam search of 1: preheat oven to <NUM> degrees f . heat oil in a large skillet over medium heat . add onion and cook until translucent about <NUM> minutes . stir in flour and cook stirring until golden brown about <NUM> minutes . stir in milk and cook stirring constantly until thickened about <NUM> minutes . stir in mozzarella cheese cottage cheese sugar salt and egg . mix in bread crumbs . pour into prepared baking dish . bake in the preheated oven until a knife inserted in the center comes out clean about <NUM> minutes .\n",
            "Predicted instructions with attention and beam search of 5: preheat oven to <NUM> degrees f . grease a <UNK> inch baking dish . heat vegetable oil in a large skillet over medium heat . stir in the onion and cook until translucent about <NUM> minutes . stir in the flour and cook until the onion is translucent about <NUM> minutes . stir in the mozzarella cheese cottage cheese sugar salt and pepper . pour the mixture into the prepared baking dish . bake for <NUM> to <NUM> minutes in the preheated oven .\n",
            "\n",
            "Recipe 16\n",
            "Title: eggplant with feta cheese\n",
            "Ingredients: <NUM> large eggplant cut into <NUM> inch slices . olive oil or as needed . <NUM> cup feta cheese . <NUM> cup finely chopped fresh basil packed\n",
            "Actual instructions: set oven rack about <NUM> inches from the heat source and preheat the ovens broiler . brush eggplant slices on one side with olive oil arrange onto a baking sheet with oiled side facing up . cook eggplant under broiler until lightly browned about <NUM> minutes remove from oven . turn oven heat to <NUM> degrees f . turn slices and brush other side with olive oil . sprinkle feta cheese over eggplant . bake until the cheese is bubbly and the eggplant is soft about <NUM> minutes . sprinkle basil over the eggplant slices and serve hot . <END>\n",
            "Predicted instructions with no attention and beam search of 1: bring a large pot of lightly salted water to a boil . add pasta and cook until tender yet firm to the bite about <NUM> minutes . drain and rinse under cold water . drain and rinse under cold water . drain and rinse under cold water . drain and rinse under cold water . drain and rinse under cold water . drain and rinse under cold water . drain and rinse under cold water . drain and rinse under cold water . drain and rinse under cold water . drain and rinse under cold water . drain and rinse under cold water . drain and rinse under cold water . drain and rinse under cold water . drain and rinse under cold water . drain and rinse under cold water . drain and rinse under cold water . drain and rinse under cold water . drain and rinse under cold water . drain and rinse under cold water . drain and rinse under cold water . drain and rinse under cold water . drain and rinse under cold water . drain and rinse under cold water . drain and rinse under cold water . drain and rinse under cold water . drain and rinse under cold water . drain and rinse under cold water . drain and rinse under cold water . drain and rinse under cold water . drain and rinse under cold water . drain and rinse under cold water . drain and rinse under cold water . drain and rinse under cold water . drain and\n",
            "Predicted instructions with no attention and beam search of 5: bring a large pot of lightly salted water to a boil . add pasta and cook for <NUM> to <NUM> minutes or until al dente drain . in a large saute pan heat oil over medium high heat . add onion and garlic and saute until translucent about <NUM> minutes . add garlic and cook until fragrant about <NUM> minute . add garlic and cook for <NUM> minute . stir in tomatoes and tomatoes . bring to a boil reduce heat to medium low and simmer until pasta is tender about <NUM> minutes . add pasta and cook until al dente about <NUM> minutes . add pasta and cook until al dente about <NUM> minutes .\n",
            "Predicted instructions with attention and beam search of 1: preheat oven to <NUM> degrees f . arrange eggplant slices on a baking sheet . drizzle with olive oil and sprinkle with feta . bake in the preheated oven until eggplant is tender and golden brown about <NUM> minutes .\n",
            "Predicted instructions with attention and beam search of 5: preheat oven to <NUM> degrees f . arrange eggplant slices in a single layer on a baking sheet . drizzle with olive oil and sprinkle with feta . bake in the preheated oven until eggplant is tender about <NUM> minutes .\n",
            "\n",
            "Recipe 17\n",
            "Title: honey lime roast chicken\n",
            "Ingredients: <NUM> small bunch fresh thyme . juice of <NUM> limes . <NUM> cloves garlic smashed . <NUM> jalapeno peppers halved seeded and thinly sliced . <NUM> cup extra virgin olive oil . <NUM> tablespoons honey . kosher salt . <NUM> half chickens . <NUM> tablespoons unsalted butter cut into pieces\n",
            "Actual instructions: strip the thyme leaves from the stems combine the leaves and stems with the lime juice garlic jalapenos olive oil honey and <NUM> teaspoon salt in a large bowl . add the chicken and turn to coat . cover and marinate <NUM> minutes to <NUM> hour at room temperature . position a rack in the upper third of the oven preheat to <NUM> degrees f. put the chicken skin side up on a foil lined rimmed baking sheet and tuck the wing tips underneath . pour the marinade on top season with salt and dot with the butter . roast the chicken basting with the pan juices halfway through until the skin is amber and a thermometer inserted into the thigh registers <NUM> degrees f about <NUM> minutes . transfer to a platter and top with the pan juices <END>\n",
            "Predicted instructions with no attention and beam search of 1: watch how to make this recipe . preheat the oven to <NUM> degrees f. place the chicken in a large bowl and add the chicken stock . season with salt and pepper . heat the oil in a large skillet over medium high heat . add the chicken and cook until browned about <NUM> minutes . add the chicken and cook until browned about <NUM> minutes . add the chicken and cook until browned about <NUM> minutes . add the chicken and cook until browned about <NUM> minutes . add the chicken and cook until the chicken is no longer pink in the center about <NUM> minutes . add the chicken and cook until the chicken is cooked through about <NUM> minutes . add the chicken and cook until the chicken is cooked through about <NUM> minutes . add the chicken and cook until the chicken is cooked through about <NUM> minutes . add the chicken and cook until the chicken is cooked through about <NUM> minutes . serve the chicken topped with the chicken sauce and the remaining sauce .\n",
            "Predicted instructions with no attention and beam search of 5: watch how to make this recipe . preheat the oven to <NUM> degrees f. line a rimmed baking sheet with aluminum foil . place the chicken in a large bowl and season with salt and pepper . heat the oil in a large skillet over medium high heat . add the chicken and cook until browned about <NUM> minutes per side . remove the chicken from the skillet and set aside . heat the oil in a large skillet over medium high heat . add the chicken and cook until browned about <NUM> minutes per side . transfer the chicken to the skillet and cook until the chicken is no longer pink in the center about <NUM> minutes per side . transfer the chicken to the skillet and cook until the chicken is no longer pink in the center and the juices run clear about <NUM> minutes per side . transfer the chicken to a serving platter and serve .\n",
            "Predicted instructions with attention and beam search of 1: watch how to make this recipe . preheat the oven to <NUM> degrees f. place the thyme sprigs in a small bowl and add the lime juice garlic jalapeno peppers olive oil honey and salt . toss to coat . place the chicken skin side down on the baking sheet and roast until the chicken is cooked through and the juices run clear about <NUM> minutes . an instant read thermometer inserted into the thickest part of the thigh should read <NUM> degrees f . remove the chicken from the oven and let rest for <NUM> minutes . meanwhile heat the butter in a large skillet over medium high heat . add the remaining <NUM> tablespoons of the oil and cook stirring until golden brown about <NUM> minutes . add the honey and cook until the garlic is golden brown and the juices run clear . add the remaining <NUM> tablespoons olive oil and the honey and season with salt and pepper . cook until the sauce is reduced to a syrupy consistency about <NUM> minutes . remove the chicken from the pan and discard the skin .\n",
            "Predicted instructions with attention and beam search of 5: watch how to make this recipe . preheat the oven to <NUM> degrees f. line a baking sheet with aluminum foil . place the thyme and lime juice in a large resealable plastic bag . add the garlic jalapeno peppers olive oil and honey season with salt and pepper and toss to coat . cover and marinate in the refrigerator for at least <NUM> hours . preheat the oven to <NUM> degrees f. place the chicken skin side down on a baking sheet and roast until the chicken is no longer pink in the center and the juices run clear <NUM> to <NUM> minutes . an instant read thermometer inserted into the thickest part of the thigh near the bone should read <NUM> degrees f . transfer the chicken to a cutting board and let rest <NUM> minutes before carving .\n",
            "\n",
            "Recipe 18\n",
            "Title: dance with a dream\n",
            "Ingredients: <NUM> ounces brandy . <NUM> ounce cointreau or triple sec . <NUM> teaspoon anisette\n",
            "Actual instructions: in a shaker half filled with ice cubes combine the ingredients . shake well . strain into a cocktail glass . <END>\n",
            "Predicted instructions with no attention and beam search of 1: combine all ingredients in a cocktail shaker . shake vigorously and strain into a cocktail glass . garnish with a lime wedge .\n",
            "Predicted instructions with no attention and beam search of 5: watch how to make this recipe . preheat the oven to <NUM> degrees f. line a rimmed baking sheet with parchment paper . in a medium bowl combine the sugar and <NUM> cup of the sugar . stir until the mixture is well combined . pour the mixture into a <NUM> inch glass pie plate . cover the bowl with plastic wrap and refrigerate at least <NUM> hours or overnight . preheat the oven to <NUM> degrees f . line a baking sheet with parchment paper and set aside . in a large bowl stir together the sugar and <NUM> cup of the sugar . pour the mixture into the prepared baking dish . bake in the preheated oven for <NUM> minutes . remove from the oven and allow to cool completely before slicing .\n",
            "Predicted instructions with attention and beam search of 1: combine brandy cointreau and anisette style simple syrup in a cocktail shaker . shake vigorously . strain into a cocktail glass .\n",
            "Predicted instructions with attention and beam search of 5: combine all ingredients in a cocktail shaker and shake vigorously .\n",
            "\n",
            "Recipe 19\n",
            "Title: red and green salad\n",
            "Ingredients: \n",
            "Actual instructions: boil <NUM> cup balsamic vinegar <NUM> tablespoons brown sugar and the juice of <NUM> lemon in a saucepan until thickened about <NUM> minutes . whisk in <NUM> cup olive oil and season with salt and pepper . combine torn frisee romaine lettuce and red endive in a large bowl . add sliced red onion scallions parsley and candied walnuts . toss with the dressing <END>\n",
            "Predicted instructions with no attention and beam search of 1: combine <NUM> cup water <NUM> cup sugar <NUM> cup water <NUM> cup water <NUM> cup water <NUM> cup water <NUM> cup water <NUM> cup water <NUM> cup water <NUM> cup water <NUM> cup water <NUM> cup water <NUM> cup water <NUM> cup water <NUM> cup water <NUM> cup water <NUM> cup water <NUM> cup water <NUM> cup water <NUM> cup water <NUM> cups water in medium saucepan and simmer in a saucepan stirring occasionally until sugar dissolves about <NUM> minutes . add <NUM> cups water and simmer stirring occasionally until sugar dissolves about <NUM> minutes . add <NUM> cups water and simmer stirring occasionally until sugar dissolves about <NUM> minutes . add <NUM> cups water and simmer stirring occasionally until sugar dissolves about <NUM> minutes . add <NUM> cups water and simmer stirring occasionally until sugar dissolves about <NUM> minutes . add <NUM> cups water and simmer stirring occasionally until sugar dissolves about <NUM> minutes . add <NUM> cups water and simmer stirring occasionally until sugar dissolves about <NUM> minutes . add <NUM> cups water and simmer stirring occasionally until sugar dissolves about <NUM> minutes . add <NUM> cups water and simmer stirring occasionally until sugar dissolves about <NUM> minutes . add <NUM> cups water and simmer stirring occasionally until sugar dissolves about <NUM> minutes . strain through sieve into a bowl pressing on solids to extract as much liquid as possible discard solids . transfer to bowl . add remaining <NUM> cup sugar and <NUM> cup water . stir until dissolved . add <NUM> cup sugar and <NUM> cup\n",
            "Predicted instructions with no attention and beam search of 5: watch how to make this recipe . preheat the oven to <NUM> degrees f. line a rimmed baking sheet with parchment paper . in a large bowl whisk together the flour baking powder and salt and set aside . in a large bowl cream together the butter and sugar until light and fluffy . add the eggs one at a time beating well after each addition . add the flour mixture and mix well . add the flour mixture and mix well . pour the batter into the prepared pan . bake in the preheated oven until a toothpick inserted into the center comes out clean <NUM> to <NUM> minutes .\n",
            "Predicted instructions with attention and beam search of 1: whisk <NUM> cup olive oil <NUM> teaspoon salt and <NUM> teaspoon pepper in a large bowl . whisk <NUM> cup olive oil and <NUM> teaspoon each salt in a large bowl . add <NUM> cup chopped scallions and toss to coat . season with salt and pepper .\n",
            "Predicted instructions with attention and beam search of 5: whisk <NUM> cup olive oil and <NUM> teaspoon kosher salt in a large bowl . toss with <NUM> cup olive oil and salt and pepper to taste . in a large bowl toss the salad with the dressing and toss to coat .\n",
            "\n",
            "Recipe 20\n",
            "Title: <UNK> bbq chicken\n",
            "Ingredients: <NUM> chicken cut into pieces . <NUM> can condensed tomato soup . <NUM> tablespoon garlic powder . <NUM> tablespoons ginger juice . <NUM> teaspoon ground cardamom . <NUM> tablespoon curry powder . <NUM> teaspoon salt . <NUM> teaspoon brown sugar . <NUM> tablespoons lemon juice . <NUM> cup buttermilk\n",
            "Actual instructions: for marinade in a large bowl combine the soup garlic powder ginger juice cardamom curry powder salt brown sugar and lemon juice . mix well . marinate the chicken in the refrigerator overnight . the next day mix in the buttermilk then grill the chicken until cooked through . youll love it <END>\n",
            "Predicted instructions with no attention and beam search of 1: preheat oven to <NUM> degrees f . place chicken in a large bowl . add chicken and onion and mix well . pour chicken mixture into a large bowl . pour chicken mixture into the prepared baking dish . cover with aluminum foil . bake in the preheated oven until chicken is no longer pink in the center and the juices run clear about <NUM> minutes .\n",
            "Predicted instructions with no attention and beam search of 5: preheat oven to <NUM> degrees f . bring a large pot of lightly salted water to a boil . add rice and cook for <NUM> to <NUM> minutes or until rice is tender . drain and rinse under cold water . drain and rinse under cold water to cool . heat oil in a large skillet over medium high heat . add onion and cook until translucent about <NUM> minutes . add chicken and cook stirring occasionally until browned about <NUM> minutes . add chicken and cook until browned about <NUM> minutes . add chicken and cook stirring occasionally until chicken is no longer pink in the center and the juices run clear about <NUM> minutes . transfer chicken to a serving bowl and stir in the chicken broth . bring to a boil reduce heat to low and simmer until chicken is cooked through about <NUM> minutes .\n",
            "Predicted instructions with attention and beam search of 1: preheat oven to <NUM> degrees f . place chicken pieces in a large bowl . mix in tomato soup garlic powder ginger juice and lemon juice . pour over chicken pieces and bake for <NUM> minutes .\n",
            "Predicted instructions with attention and beam search of 5: preheat oven to <NUM> degrees f . place chicken pieces in a shallow baking dish . in a large bowl mix together the tomato soup garlic powder ginger juice cardamom curry powder salt brown sugar lemon juice and buttermilk . pour buttermilk mixture into the prepared baking dish . bake in the preheated oven for <NUM> to <NUM> minutes or until chicken is cooked through and juices run clear .\n",
            "\n",
            "Recipe 21\n",
            "Title: almond pine nut apricot crumb cake\n",
            "Ingredients: <NUM> cup whole almonds toasted plus <NUM> cup sliced almonds toasted . <NUM> cup pine nuts toasted plus <NUM> cup . <NUM> <NUM> cups all purpose flour . <NUM> teaspoon baking powder . <NUM> teaspoon salt . <NUM> large eggs . <NUM> <NUM> cups sugar . <NUM> <NUM> sticks butter melted . <NUM> cup milk . <NUM> teaspoon almond extract . <NUM> cup chopped dried apricots\n",
            "Actual instructions: preheat the oven to <NUM> degrees f. butter and flour a <NUM> inch cake pan . combine the whole almonds and <NUM> cup pine nuts in a food processor . pulse the machine until the nuts are finely ground . transfer the nuts to a medium bowl . add the flour baking powder and salt . stir to combine and set aside . in a medium bowl using an electric mixer beat the eggs and the sugar until the mixture becomes thick and pale yellow . add the butter and milk . stir in the almond extract and apricots . gently stir in the dry ingredients . pour the batter into the prepared cake pan . sprinkle the top of the cake with sliced almonds and remaining <NUM> cup pine nuts . bake until the cake is cooked and a toothpick comes out clean about <NUM> to <NUM> minutes . let the cake cool on a wire rack . use a knife to loosen the edges . turn the cake out slice and serve . <END>\n",
            "Predicted instructions with no attention and beam search of 1: preheat the oven to <NUM> degrees f. line a baking sheet with parchment paper . in a large bowl combine the flour baking powder and salt . set aside . in a large bowl cream together the butter and sugar until light and fluffy . add the eggs and vanilla and mix until well blended . add the flour mixture and mix well . add the flour mixture and mix well . pour the batter into the prepared pan . bake in the preheated oven until a toothpick inserted into the center comes out clean about <NUM> minutes . cool in the pan for <NUM> minutes before removing to cool completely on a wire rack .\n",
            "Predicted instructions with no attention and beam search of 5: watch how to make this recipe . preheat the oven to <NUM> degrees f. line a baking sheet with parchment paper . in a large bowl cream together the butter and sugar until light and fluffy . add the eggs one at a time beating well after each addition . add the eggs one at a time beating well after each addition . add the flour mixture and mix well . pour the batter into the prepared pan . bake in the preheated oven until a toothpick inserted into the center comes out clean <NUM> to <NUM> minutes . cool in the pans for <NUM> minutes before removing to cool completely .\n",
            "Predicted instructions with attention and beam search of 1: preheat oven to <NUM> degrees f. line a baking sheet with parchment paper . combine almonds pine nuts and pine nuts in a large bowl . whisk together flour baking powder salt and eggs in a large bowl . add eggs and sugar and mix well . add flour mixture and mix well . add flour mixture and mix well . add flour mixture and mix well . add flour mixture and mix well . pour batter into prepared pan . bake in the preheated oven until a toothpick inserted into the center comes out clean about <NUM> minutes . cool cake in pan on a rack .\n",
            "Predicted instructions with attention and beam search of 5: preheat oven to <NUM> degrees f. line a baking sheet with parchment paper . combine almonds pine nuts flour baking powder salt and eggs in a large bowl . whisk together eggs sugar and melted butter in a large bowl . add flour mixture and mix well . add flour mixture and mix well . pour batter into prepared pan . bake in the preheated oven until a toothpick inserted into the center comes out clean <NUM> to <NUM> minutes .\n",
            "\n",
            "Recipe 22\n",
            "Title: crescent layer bars\n",
            "Ingredients: <NUM> can pillsbury refrigerated crescent dinner rolls or <NUM> can pillsbury crescent recipe creations refrigerated seamless dough sheet . <NUM> cup white vanilla baking chips . <NUM> cup semisweet chocolate chips . <NUM> cup slivered almonds . <NUM> cup cashew halves and pieces . <NUM> can sweetened condensed milk\n",
            "Actual instructions: heat oven to <NUM> degrees f . grease bottom and sides of <UNK> inch pan . if using crescent rolls unroll dough into <NUM> long rectangles . if using dough sheet unroll dough . place in pan press over bottom and <NUM> inch up sides to form crust . bake <NUM> minutes . remove partially baked crust from oven . sprinkle vanilla chips chocolate chips almonds and cashews evenly over crust . pour condensed milk evenly over top . return to oven bake <NUM> to <NUM> minutes longer or until golden brown . cool <NUM> minutes . run knife around sides of pan . cool <NUM> hour . refrigerate about <NUM> minutes or until chocolate is set . for bars cut into <NUM> rows by <NUM> rows . <END>\n",
            "Predicted instructions with no attention and beam search of 1: preheat oven to <NUM> degrees f . grease a <UNK> inch baking pan . in a large bowl cream together the butter and sugar until light and fluffy . add the eggs one at a time beating well after each addition . add the flour mixture and mix well . pour into the prepared pan . bake in the preheated oven until the crust is golden brown and the crust is bubbling <NUM> to <NUM> minutes . cool in the pan for <NUM> minutes before removing to cool completely .\n",
            "Predicted instructions with no attention and beam search of 5: preheat oven to <NUM> degrees f . grease a <UNK> inch baking pan . in a large bowl cream together the butter and sugar until light and fluffy . beat in the eggs one at a time beating well after each addition . beat in the eggs one at a time beating well after each addition . beat in the eggs one at a time beating well after each addition . beat in the eggs one at a time beating well after each addition . pour batter into prepared pan . bake in the preheated oven until a toothpick inserted into the center comes out clean <NUM> to <NUM> minutes .\n",
            "Predicted instructions with attention and beam search of 1: step <NUM> <UNK> inch pan with <NUM> inch high sides step . step <NUM> <UNK> inch rectangle dough by placing <NUM> inches apart on ungreased cookie sheet . press dough firmly to seal . step <NUM> opposite point of dough . step <NUM> opposite point of dough . step <NUM> opposite point of dough . step <NUM> opposite point of dough . step <NUM> opposite point of dough . step <NUM> <UNK> inch rectangle of dough . step <NUM> of each roll dough to <NUM> inch square . press dough firmly into dough . press dough firmly to seal . step <NUM> <NUM> inch squares . bake <NUM> to <NUM> minutes or until golden brown . cool <NUM> minutes . cool completely . cut into bars .\n",
            "Predicted instructions with attention and beam search of 5: heat oven to <NUM> degrees f. step <UNK> press dough into <NUM> x <NUM> x <NUM> x <NUM> x <NUM> x <NUM> x <NUM> x <NUM> x <NUM> x <NUM> x <NUM> x <NUM> x <NUM> x <NUM> x <NUM> x <NUM> x <NUM> x <NUM> x <NUM> x <NUM> x <NUM> x <NUM> x <NUM> x <NUM> x <NUM> x <NUM> x <NUM> x <NUM> x <NUM> x <NUM> x <NUM> x <NUM> x <NUM> x <NUM> x <NUM> x <NUM> x <NUM> x <NUM> x <NUM> x <NUM> x <NUM> x <NUM> x <NUM> x <NUM> x <NUM> x <NUM> x <NUM> x <NUM> x <NUM> x <NUM> x <NUM> x <NUM> x <NUM> x <NUM> x <NUM> x <NUM> x <NUM> x <NUM> x <NUM> x <NUM> x <NUM> x <NUM> x <NUM> x <NUM> x <NUM> x <NUM> x <NUM> x <NUM> x <NUM> x <NUM> x <NUM> x <NUM> x <NUM> x <NUM> x <NUM> x <NUM> x <NUM> x <NUM> x <NUM> x <NUM> x <NUM> x <NUM> x <NUM> x <NUM> x <NUM> x <NUM> x <NUM> x <NUM> x <NUM> x <NUM> x <NUM> x <NUM> x <NUM> x <NUM> x <NUM> x <NUM> x <NUM> x <NUM> x <NUM> x <NUM> x <NUM> x <NUM> x <NUM> x <NUM> x <NUM> x <NUM> x <NUM> x <NUM> x <NUM> x <NUM> x <NUM> x <NUM> x <NUM> x <NUM> x <NUM> x <NUM> x <NUM> x <NUM> x <NUM> x <NUM> x <NUM> x <NUM> x <NUM> x <NUM> x <NUM>\n",
            "\n",
            "Recipe 23\n",
            "Title: sour cream and horseradish asparagus\n",
            "Ingredients: <NUM> pound asparagus spears ends trimmed . <NUM> <NUM> cups sour cream . <NUM> <NUM> tablespoons prepared horseradish . <NUM> teaspoon garlic salt . <NUM> <NUM> tablespoons butter melted . <NUM> cup dry bread crumbs\n",
            "Actual instructions: in a large covered pot steam asparagus <NUM> to <NUM> minutes or until tender but still bright green . remove from the pot and arrange in a single layer in a <UNK> inch pan . in a medium bowl mix together sour cream horseradish and garlic salt spoon over asparagus . in a small bowl stir together the melted butter and bread crumbs sprinkle over the asparagus . preheat the ovens broiler and adjust the oven rack so that it is about <NUM> inches from the heat source . broil asparagus <NUM> to <NUM> minutes until the topping is toasted taking care to watch closely to prevent over browning . <END>\n",
            "Predicted instructions with no attention and beam search of 1: preheat oven to <NUM> degrees f . place the squash in a large bowl . add the olive oil and toss to coat . place the squash in a single layer on a baking sheet . bake in the preheated oven until the squash is tender and the squash is tender about <NUM> minutes . remove from the oven and let cool . in a large bowl toss the squash with the olive oil and season with salt and pepper . toss the salad with the dressing and season with salt and pepper .\n",
            "Predicted instructions with no attention and beam search of 5: watch how to make this recipe . preheat the oven to <NUM> degrees f. line a baking sheet with aluminum foil and spray with cooking spray . place the bacon in a large deep skillet and cook over medium high heat turning occasionally until evenly browned about <NUM> minutes . drain the bacon slices on paper towels crumble and set aside . melt the butter in a large skillet over medium heat . cook and stir the onion and garlic in the hot oil until the onion is translucent about <NUM> minutes . add the spinach and cook stirring occasionally until the spinach is wilted about <NUM> minutes . add the spinach and cook stirring occasionally until the spinach is wilted about <NUM> minutes . stir in the spinach and cook until wilted about <NUM> minutes . stir in the spinach and cook until wilted about <NUM> minutes . stir in the spinach and cook until wilted about <NUM> minutes more .\n",
            "Predicted instructions with attention and beam search of 1: place asparagus spears in a large bowl . add sour cream horseradish garlic salt and butter . mix well . pour mixture into a large bowl . sprinkle bread crumbs over the top . bake in the preheated oven until a knife inserted in the center of the asparagus comes out clean about <NUM> minutes .\n",
            "Predicted instructions with attention and beam search of 5: preheat oven to <NUM> degrees f . bring a large pot of salted water to a boil . blanch asparagus in boiling water for <NUM> to <NUM> minutes or until bright green and tender . drain . in a large bowl mix together sour cream horseradish garlic salt and butter . mix in the bread crumbs and butter . mix in the bread crumbs . cover and refrigerate until ready to serve .\n",
            "\n",
            "Recipe 24\n",
            "Title: cheesy creole grits\n",
            "Ingredients: <NUM> cups water . <NUM> cup milk . <NUM> tablespoon creole seasoning . <NUM> teaspoon salt . <NUM> cup quick cooking grits . <NUM> tablespoons butter . <NUM> cup shredded cheddar\n",
            "Actual instructions: in a large <UNK> combine <NUM> cups of water milk creole seasoning and salt . bring to a boil . whisking add grits in a slow steady stream . reduce heat to medium low and cover stirring occasionally until thickened about <NUM> to <NUM> minutes . remove from the heat and stir in butter and cheese . top with andouille sausage creole if desired . <END>\n",
            "Predicted instructions with no attention and beam search of 1: preheat oven to <NUM> degrees f . grease a <UNK> inch baking dish . in a large bowl combine the ground beef onion and <NUM> cup of the cheese . mix well . pour the mixture into the prepared baking dish . bake in the preheated oven until the crust is golden brown and the cheese is melted about <NUM> minutes .\n",
            "Predicted instructions with no attention and beam search of 5: preheat oven to <NUM> degrees f . grease a <UNK> inch baking dish . in a large bowl mix together the flour baking powder baking soda and salt . in a separate bowl mix together the flour baking powder baking soda and salt . in a separate bowl mix together the flour baking powder baking soda and salt . in a separate bowl mix together the flour baking powder baking soda and salt . in a separate bowl mix together the flour baking powder baking soda and salt . in a separate bowl combine the flour baking powder baking soda and salt . stir the flour mixture into the flour mixture . pour the batter into the prepared baking dish . bake in the preheated oven until a toothpick inserted into the center comes out clean <NUM> to <NUM> minutes .\n",
            "Predicted instructions with attention and beam search of 1: bring water milk creole style water and salt to a boil in a saucepan . stir in grits and cook stirring constantly until grits are tender about <NUM> minutes . stir in grits and cook until thickened about <NUM> minutes . stir in grits and butter .\n",
            "Predicted instructions with attention and beam search of 5: bring water to a boil in a saucepan over medium heat . stir in grits creole seasoning salt and salt . cook grits stirring occasionally until grits are tender about <NUM> minutes . stir in butter and creole seasoning . cook stirring occasionally until grits are tender about <NUM> minutes .\n",
            "\n",
            "Recipe 25\n",
            "Title: guacamole\n",
            "Ingredients: <NUM> ripe hass avocado . <NUM> cup sour cream . <NUM> tablespoon chopped red onion . <NUM> small clove garlic minced . <NUM> tablespoon finely chopped fresh cilantro leaves . <NUM> teaspoon fresh lime juice . <NUM> pinch cayenne pepper . salt and pepper\n",
            "Actual instructions: cut the avocado in half around the pit and remove pit . with a spoon scoop the avocado pulp out of the skin into a medium bowl and mash the pulp . add all other ingredients and mix together until blended . season with salt and pepper to taste . cover surface of guacamole with plastic wrap and refrigerate until ready to serve . <END>\n",
            "Predicted instructions with no attention and beam search of 1: in a large bowl combine the tuna cucumber onion and garlic . mix well . pour into a <NUM> quart slow cooker . add the tomatoes and tomatoes . cover and cook for <NUM> minutes . remove from the heat and stir in the tomatoes . cover and refrigerate for <NUM> hours .\n",
            "Predicted instructions with no attention and beam search of 5: preheat oven to <NUM> degrees f . bring a large pot of lightly salted water to a boil . add the pasta and cook until tender yet firm to the bite about <NUM> minutes . drain and rinse under cold water to cool . heat the olive oil in a large skillet over medium high heat . add the onion and cook until the onion is translucent about <NUM> minutes . add the garlic and cook for <NUM> minute . stir in the garlic and cook for <NUM> minute . stir in the garlic and cook for <NUM> minute . stir in the tomatoes and cook for <NUM> minute . stir in the tomatoes and cook for <NUM> minutes . stir in the tomatoes and cook for <NUM> minutes . stir in the tomatoes and cook for <NUM> minutes more .\n",
            "Predicted instructions with attention and beam search of 1: mash avocado with a fork in a bowl . add sour cream onion garlic cilantro lime juice cayenne pepper salt and pepper . season with salt and pepper .\n",
            "Predicted instructions with attention and beam search of 5: in a blender puree avocado sour cream red onion garlic cilantro lime juice cayenne pepper salt and pepper .\n",
            "\n",
            "Recipe 26\n",
            "Title: mashed parsnips\n",
            "Ingredients: <NUM> cups whole milk . <NUM> parsnips peeled and cubed . <NUM> teaspoon salt . <NUM> cup butter . <NUM> teaspoon dried thyme . <NUM> teaspoon ground black pepper or more to taste . salt or to taste\n",
            "Actual instructions: heat milk in a large pot over medium heat until warmed and just under a boil add parsnips and <NUM> teaspoon salt cover with a lid and cook until parsnips are tender <NUM> to <NUM> minutes . drain parsnips reserving the warm milk . mash parsnips <NUM> cup reserved warm milk butter thyme and pepper together in the pot using a hand mixer or by blending in a blender . add more milk salt or pepper as desired . <END>\n",
            "Predicted instructions with no attention and beam search of 1: preheat oven to <NUM> degrees f . grease a <UNK> inch baking dish . in a large bowl combine the rice flour and <NUM> cup of the sugar . stir in the flour and salt . stir in the remaining <NUM> cup of the flour mixture . pour the mixture into the prepared baking dish . bake in the preheated oven until the top is golden brown and the juices run clear about <NUM> minutes .\n",
            "Predicted instructions with no attention and beam search of 5: preheat oven to <NUM> degrees f . lightly grease a <UNK> inch baking dish . in a large bowl mix together the flour baking powder baking soda and salt . in a separate bowl mix together the flour baking powder baking soda and salt . in a separate bowl mix together the flour baking powder baking soda and salt . in a separate bowl mix together the flour baking powder baking soda and salt . pour the batter into the prepared baking dish . bake in the preheated oven until a toothpick inserted into the center comes out clean <NUM> to <NUM> minutes .\n",
            "Predicted instructions with attention and beam search of 1: in a large saucepan over medium heat combine the milk parsnips salt and pepper . bring to a boil and cook until the parsnips are tender about <NUM> minutes . drain and transfer to a bowl . add the butter thyme and pepper to the butter mixture . season with salt and pepper .\n",
            "Predicted instructions with attention and beam search of 5: place the milk in a saucepan over medium heat . add the parsnips salt and pepper and bring to a boil . reduce the heat to medium low and simmer until the parsnips are tender about <NUM> minutes . stir in the salt and pepper to taste .\n",
            "\n",
            "Recipe 27\n",
            "Title: the shiso salt yaki onigiri\n",
            "Ingredients: <NUM> cups cooked rice . <NUM> teaspoons <UNK> shiso salt\n",
            "Actual instructions: gently mix together the rice and the shiso salt in a bowl . form into onigiri . preheat a grill to medium . grill the onigiri for about <NUM> minutes turning twice . grill the edges of the onigiri triangle too about <NUM> seconds per edge . the onigiri will have a crispy caramelized crust when theyre done . serve immediately . form into onigiri . <END>\n",
            "Predicted instructions with no attention and beam search of 1: in a large bowl combine the rice and water . add the water and bring to a boil . reduce heat to medium low and simmer until the rice is tender about <NUM> minutes . remove from the heat and let cool . in a large bowl combine the rice and rice . stir in the remaining <NUM> cup of the water . season with salt and pepper .\n",
            "Predicted instructions with no attention and beam search of 5: watch how to make this recipe . preheat the oven to <NUM> degrees f. line a rimmed baking sheet with aluminum foil . in a small bowl whisk together the flour baking powder and salt and set aside . heat the oil in a large skillet over medium high heat . add the onion and cook stirring occasionally until the onion is translucent about <NUM> minutes . add the onion and cook stirring occasionally until the onion is translucent about <NUM> minutes . add the onion and cook stirring occasionally until the onion is translucent about <NUM> minutes . add the rice and cook stirring occasionally until the rice is tender about <NUM> minutes . stir in the rice and cook stirring occasionally until the rice is tender about <NUM> minutes . add the rice and cook stirring occasionally until the rice is tender about <NUM> minutes . stir in the rice and cook until the rice is tender about <NUM> minutes . stir in the rice and cook until the rice is tender about <NUM> minutes more .\n",
            "Predicted instructions with attention and beam search of 1: place rice in a large bowl . add <UNK> salt and pepper . toss to coat .\n",
            "Predicted instructions with attention and beam search of 5: in a large bowl mix together the rice <UNK> salt and <NUM> teaspoon of the <UNK> .\n",
            "\n",
            "Recipe 28\n",
            "Title: chocolate chex caramel crunch\n",
            "Ingredients: <NUM> cups chocolate chex cereal . <NUM> cup packed brown sugar . <NUM> tablespoons butter or margarine . <NUM> tablespoons light corn syrup . <NUM> teaspoon baking soda . <NUM> cup vanilla baking chips\n",
            "Actual instructions: into large microwavable bowl measure cereal set aside . line cookie sheet with waxed paper . in <NUM> cup microwavable measuring cup microwave brown sugar butter and corn syrup uncovered on high <NUM> to <NUM> minutes stirring after <NUM> minute until melted and smooth . stir in baking soda until dissolved . pour over cereal stirring until evenly coated . microwave on high <NUM> minutes stirring every minute . spread on cookie sheet . cool <NUM> minutes . break into bite size pieces . in small microwavable bowl microwave vanilla baking chips uncovered on high about <NUM> minute <NUM> seconds or until chips can be stirred smooth . drizzle over snack . refrigerate until set . store in tightly covered container . <END>\n",
            "Predicted instructions with no attention and beam search of 1: preheat oven to <NUM> degrees f . grease a <UNK> inch baking dish . in a large bowl combine the oats flour oats and baking soda . stir in the oats and raisins . pour into prepared baking dish . bake in the preheated oven until the crust is golden brown and the edges are bubbling <NUM> to <NUM> minutes .\n",
            "Predicted instructions with no attention and beam search of 5: preheat oven to <NUM> degrees f . grease a <UNK> inch baking dish . in a large bowl stir together the flour sugar baking powder baking soda and salt . in a separate bowl stir together the flour baking soda baking soda and salt . pour the mixture into the prepared baking dish . bake in the preheated oven until a toothpick inserted into the center comes out clean <NUM> to <NUM> minutes .\n",
            "Predicted instructions with attention and beam search of 1: in large microwavable bowl microwave safe bowl to microwave until melted . stir in cereal brown sugar and butter . stir in vanilla chips . pour into prepared pan . bake <NUM> to <NUM> minutes or until a toothpick inserted into the center of the cake comes out clean . cool on a wire rack .\n",
            "Predicted instructions with attention and beam search of 5: watch how to make this recipe . in a large microwavable bowl microwave the cereal according to package directions . in a large bowl combine the brown sugar and butter . stir in the corn syrup and baking soda . stir in the vanilla chips . pour the mixture into the microwave safe bowl and microwave on high stirring every <NUM> seconds until the caramel is melted and the caramel has melted . pour the mixture into the prepared baking dish . bake until the edges are golden <NUM> to <NUM> minutes .\n",
            "\n",
            "Recipe 29\n",
            "Title: linguine with red clam sauce\n",
            "Ingredients: kosher salt . <NUM> ounces linguine . <NUM> tablespoons extra virgin olive oil . <NUM> cloves garlic thinly sliced . <NUM> anchovy fillets . <NUM> teaspoon red pepper flakes . <NUM> teaspoon dried oregano . <NUM> cup dry white wine . <NUM> <NUM> ounce can whole san marzano tomatoes crushed by hand . <NUM> <NUM> pounds littleneck clams scrubbed . <NUM> ounces chopped clams . <NUM> cup chopped fresh parsley\n",
            "Actual instructions: bring a large pot of salted water to a boil . add the pasta and cook as the label directs drain and set aside . meanwhile heat <NUM> tablespoons olive oil in a large deep skillet over medium high heat . add the garlic anchovies red pepper flakes oregano and <NUM> teaspoon salt and cook stirring occasionally until the garlic is lightly golden about <NUM> minute . add the wine and cook until reduced by half about <NUM> minutes . add the tomatoes and cook stirring occasionally until the sauce thickens slightly <NUM> to <NUM> minutes . add the whole clams cover and cook until they just begin to open about <NUM> minutes . add the chopped clams and parsley continue cooking covered until the whole clams are fully opened about <NUM> more minutes . add the pasta and the remaining <NUM> tablespoon olive oil toss to combine . season with salt <END>\n",
            "Predicted instructions with no attention and beam search of 1: watch how to make this recipe . preheat the oven to <NUM> degrees f. place the tomatoes in a large bowl and add the tomatoes . toss to coat . season with salt and pepper . place the tomatoes on a baking sheet and roast for <NUM> minutes . remove the tomatoes from the oven and set aside . meanwhile heat the olive oil in a large skillet over medium high heat . add the garlic and cook until fragrant about <NUM> minute . add the garlic and cook stirring until the garlic is fragrant about <NUM> minute . add the tomatoes and cook stirring occasionally until the pasta is tender about <NUM> minutes . add the tomatoes and cook until the pasta is tender about <NUM> minutes . add the tomatoes and cook until the pasta is tender about <NUM> minutes . add the tomatoes and cook until the pasta is tender about <NUM> minutes . add the pasta and cook stirring occasionally until the pasta is al dente about <NUM> minutes . add the pasta and cook stirring occasionally until the pasta is al dente about <NUM> minutes . add the pasta and cook stirring occasionally until the pasta is al dente about <NUM> minutes . add the pasta and cook stirring occasionally until the pasta is al dente about <NUM> minutes . add the pasta and cook stirring occasionally until the pasta is al dente about <NUM> minutes . add the pasta and cook stirring occasionally until the pasta is al dente about <NUM> minutes . add\n",
            "Predicted instructions with no attention and beam search of 5: watch how to make this recipe . heat the olive oil in a large skillet over medium high heat . add the onion and garlic and cook until the onion is translucent about <NUM> minutes . add the garlic and cook for <NUM> minute . add the garlic and cook for <NUM> minute . add the garlic and cook for <NUM> minute . add the tomatoes and cook for <NUM> minute . stir in the tomatoes and cook for <NUM> minute . add the tomatoes and cook for <NUM> minutes . add the tomatoes and cook for <NUM> minutes . stir in the pasta and cook until the pasta is al dente about <NUM> minutes .\n",
            "Predicted instructions with attention and beam search of 1: bring a large pot of salted water to a boil . add the linguine and cook until tender about <NUM> minutes . drain and rinse under cold water . heat <NUM> tablespoons olive oil in a large pot over medium high heat . add the garlic and anchovies and cook stirring until golden brown about <NUM> minutes . add the garlic and cook stirring until fragrant about <NUM> minute . add the wine and cook stirring until the liquid is evaporated about <NUM> minutes . add the tomatoes and their juices and the wine and bring to a boil . add the clams and clams and simmer until clams open about <NUM> minutes . add clams clams clams clams clams clams clams clams clams clams clams clams clams clams clams clams clams clams clams clams clams clams clams clams clams clams clams clams clams and clams . cover and cook until clams open about <NUM> minutes . serve with clams and clams .\n",
            "Predicted instructions with attention and beam search of 5: bring a large pot of salted water to a boil . add the linguine and cook for <NUM> to <NUM> minutes or until al dente drain . meanwhile heat the olive oil in a large pot over medium high heat . add the garlic and cook stirring occasionally until golden about <NUM> minutes . add the anchovies and red pepper flakes and cook stirring occasionally until the garlic is golden about <NUM> minutes . add the garlic and cook for <NUM> minutes . add the wine and cook until reduced by half about <NUM> minutes . add the tomatoes to the pot and bring to a boil . add the clams clams clams clams clams clams clams clams clams clams clams clams clams clams clams clams clams clams clams clams clams and clams . cover and cook until clams open about <NUM> to <NUM> minutes .\n",
            "\n",
            "Recipe 30\n",
            "Title: greek citrus salad\n",
            "Ingredients: <NUM> blood oranges . <NUM> cup crumbled feta . <NUM> cup chopped black olives . <NUM> cup olive oil . <NUM> tablespoons chopped fresh mint . <NUM> teaspoon dried oregano . <NUM> jalapeno pepper seeded and diced . <NUM> large cucumber cut into thick slices then quartered . <NUM> red onion diced . kosher salt and freshly ground black pepper\n",
            "Actual instructions: finely grate <NUM> teaspoon of the zest from the blood oranges into a bowl using a rasp grater or lemon zester . peel and segment the oranges and add to the bowl with the zest . add the feta olives olive oil mint oregano jalapenos cucumbers onions and some salt and pepper and toss to combine . taste and adjust the seasoning . note this recipe has been updated and may differ from what was originally published or broadcast . <END>\n",
            "Predicted instructions with no attention and beam search of 1: watch how to make this recipe . preheat the oven to <NUM> degrees f. place the garlic in a large bowl and add the olive oil . toss to coat . add the tomatoes and toss to coat . season with salt and pepper . grill the salmon until the flesh is cooked through about <NUM> minutes . transfer the salmon to a serving platter and serve with the lemon wedges .\n",
            "Predicted instructions with no attention and beam search of 5: watch how to make this recipe . preheat the oven to <NUM> degrees f. line a rimmed baking sheet with aluminum foil . in a small bowl whisk together the olive oil lemon juice lemon juice and salt and pepper to taste . season with salt and pepper to taste . toss the salad with the dressing and serve .\n",
            "Predicted instructions with attention and beam search of 1: place the orange juice in a large bowl . add the remaining orange juice and the remaining <NUM> tablespoons of the orange juice . toss to combine . add the olives and the olives and toss to combine . season with salt and pepper .\n",
            "Predicted instructions with attention and beam search of 5: watch how to make this recipe . preheat the oven to <NUM> degrees f. in a large bowl toss the oranges with the feta olives olive oil mint oregano jalapeno pepper cucumber and red onion . season with salt and pepper .\n",
            "\n",
            "Recipe 31\n",
            "Title: quark\n",
            "Ingredients: <NUM> cups milk . <NUM> cup buttermilk\n",
            "Actual instructions: bring milk to a simmer in a saucepan remove from heat and cool to room temperature . whisk buttermilk into milk let sit at room temperature <NUM> hours to overnight . strain mixture through cheesecloth over a bowl in the refrigerator <NUM> hours to overnight . <END>\n",
            "Predicted instructions with no attention and beam search of 1: preheat oven to <NUM> degrees f . place the sweet potatoes in a large pot and cover with water . bring to a boil over high heat . reduce heat to medium low cover and simmer until the rice is tender about <NUM> minutes . drain and rinse under cold water . drain and rinse with cold water . drain the rice and rinse under cold water . drain the rice and rinse under cold water . drain the rice and rinse under cold water . drain the rice and rinse under cold water . drain the rice and rinse under cold water . drain the potatoes and rinse under cold water . drain the potatoes and rinse under cold water . drain the potatoes and rinse under cold water . drain the potatoes and rinse under cold water . drain the potatoes and rinse under cold water . drain the potatoes and rinse under cold water . drain the potatoes and rinse under cold water . drain the potatoes and rinse under cold water . drain the potatoes and rinse under cold water . drain the potatoes and rinse under cold water . drain the potatoes and set aside . in a large bowl combine the potatoes and onion . add the potatoes and mix well . add the potatoes and mix well . season with salt and pepper . place the potatoes in a large bowl and cover with cold water . cover and refrigerate for <NUM> hours . preheat oven to <NUM> degrees f . in a\n",
            "Predicted instructions with no attention and beam search of 5: watch how to make this recipe . preheat the oven to <NUM> degrees f. line a baking sheet with parchment paper . in a large bowl whisk together the flour baking powder and salt and set aside . in a large bowl whisk together the flour baking powder and salt . add the oil to the dry ingredients and stir until just combined . pour the batter into the prepared pan . bake in the preheated oven until a toothpick inserted into the center of the loaf comes out clean <NUM> to <NUM> minutes .\n",
            "Predicted instructions with attention and beam search of 1: whisk milk buttermilk and buttermilk together in a bowl .\n",
            "Predicted instructions with attention and beam search of 5: whisk milk buttermilk and buttermilk together in a bowl .\n",
            "\n",
            "Recipe 32\n",
            "Title: hot chicken wing dip\n",
            "Ingredients: <NUM> pound skinless boneless chicken breasts . <NUM> bottle ranch dressing . <NUM> packages cream cheese softened . <NUM> bottle hot pepper sauce . <NUM> package shredded cheddar cheese\n",
            "Actual instructions: preheat oven to <NUM> degrees f . heat a non stick skillet over medium heat . add chicken breasts and cook until juices run clear about <NUM> minutes per side . remove to a cutting board to cool completely . use a fork to shred the meat into strands . pour the ranch dressing cream cheese and wing sauce into a bowl and mix until combined . add the shredded chicken and mix well . spread the mixture into a <UNK> inch baking dish . sprinkle the cheddar cheese over top of the chicken mixture . bake in the preheated oven until the cheese is bubbling about <NUM> minutes . <END>\n",
            "Predicted instructions with no attention and beam search of 1: preheat oven to <NUM> degrees f . place chicken breasts in a large bowl . mix chicken and chicken together in a bowl . pour chicken mixture into the prepared baking dish . bake in the preheated oven until chicken is no longer pink in the center and the juices run clear about <NUM> minutes .\n",
            "Predicted instructions with no attention and beam search of 5: preheat oven to <NUM> degrees f . grease a <UNK> inch baking dish . in a large bowl mix together the ground beef ground beef ground beef ground beef ground beef ground beef ground beef ground beef ground beef ground beef ground beef ground beef ground beef ground beef ground beef ground beef ground beef ground beef bread crumbs and salt . mix well . shape into <NUM> inch balls and place on a baking sheet . bake in the preheated oven for <NUM> minutes .\n",
            "Predicted instructions with attention and beam search of 1: place chicken in a shallow dish . place chicken in a shallow dish . pour ranch dressing over the chicken . bake for <NUM> minutes in the preheated oven or until the chicken is cooked through . remove from the oven and allow to cool . in a large bowl combine the cream cheese and hot pepper sauce . mix well . pour the mixture into the prepared baking dish . bake uncovered in the preheated oven until the cheese is melted and the cheese is melted and the cheese is melted about <NUM> minutes .\n",
            "Predicted instructions with attention and beam search of 5: watch how to make this recipe . preheat the oven to <NUM> degrees f . place the chicken on a baking sheet and bake for <NUM> to <NUM> minutes or until the chicken is no longer pink in the center and the juices run clear . an instant read thermometer inserted into the thickest part of the chicken breast should read at least <NUM> degrees f . remove the chicken from the oven and allow to cool . in a large bowl combine the ranch dressing cream cheese hot pepper sauce and cheddar cheese . pour the mixture into the prepared baking dish . bake for <NUM> to <NUM> minutes in the preheated oven or until cheese is melted .\n",
            "\n",
            "Recipe 33\n",
            "Title: hot and sweet ginger drink\n",
            "Ingredients: <NUM> cups water . <NUM> cup sliced fresh ginger . <NUM> cup packed brown sugar . <NUM> tablespoon honey\n",
            "Actual instructions: bring the water and ginger to a boil in a saucepan . reduce heat to medium low and simmer <NUM> minutes . stir in the brown sugar and honey until the sugar has dissolved . strain out the ginger to serve . <END>\n",
            "Predicted instructions with no attention and beam search of 1: in a large saucepan combine the water and sugar . bring to a boil over high heat . reduce heat to medium low and simmer until the sugar is dissolved about <NUM> minutes . remove from the heat and let cool . in a large bowl combine the rice cereal and sugar . stir in the coconut milk and the remaining <NUM> cup water . pour into a large bowl . pour the mixture into the prepared baking dish . cover the dish with aluminum foil and refrigerate until cold about <NUM> hours .\n",
            "Predicted instructions with no attention and beam search of 5: bring water to a boil in a <NUM> quart saucepan . reduce heat to medium low cover and simmer until rice is tender about <NUM> minutes . remove from heat and let stand <NUM> minutes . fluff rice with a fork and set aside to cool .\n",
            "Predicted instructions with attention and beam search of 1: bring water to a boil in a pitcher . add ginger brown sugar and honey . cover and simmer until the sugar has dissolved .\n",
            "Predicted instructions with attention and beam search of 5: combine water ginger brown sugar and honey in a blender and blend until smooth .\n",
            "\n",
            "Recipe 34\n",
            "Title: koji rubbed steak\n",
            "Ingredients: <NUM> cup koji rice . <NUM> new york strip steaks . kosher salt to taste . <NUM> tablespoons clarified butter\n",
            "Actual instructions: grind rice until not quite powdered using a food processor or mortar and pestle . sprinkle rice over all surfaces of the steaks pressing in to coat . transfer to a rack on a paper towel lined baking sheet . refrigerate uncovered <NUM> to <NUM> days . using the back of a knife scrape the koji rice from the steaks discard . season steaks with kosher salt . heat skillet over medium heat . melt clarified butter and place steak in skillet . sear on one side for <NUM> minutes turn and sear the other side . continue cooking until steaks are firm and reddish pink in the center <NUM> to <NUM> minutes . an instant read thermometer inserted into the center should read <NUM> degrees f . transfer steaks to a warm plate to let rest for <NUM> minutes before serving . <END>\n",
            "Predicted instructions with no attention and beam search of 1: in a large bowl combine the tomatoes onion celery and garlic . mix well . add the chicken and toss to coat . cover and refrigerate for <NUM> hours . preheat oven to <NUM> degrees f . place the chicken on a baking sheet and roast for <NUM> minutes . remove from the oven and let rest for <NUM> minutes before slicing .\n",
            "Predicted instructions with no attention and beam search of 5: preheat oven to <NUM> degrees f . bring a large pot of lightly salted water to a boil . add the noodles and cook for <NUM> to <NUM> minutes or until al dente drain and rinse under cold water . drain and rinse under cold water . drain and rinse under cold water . drain and rinse under cold water . drain and rinse under cold water . drain and rinse under cold water . drain and rinse under cold water . drain and rinse under cold water . drain and rinse under cold water . drain and rinse under cold water . drain and rinse under cold water . drain and rinse under cold water . drain and rinse under cold water . drain and rinse under cold water . drain and rinse under cold water . drain and rinse under cold water . drain and rinse under cold water . drain and rinse under cold water . drain and rinse under cold water . drain and rinse under cold water . drain and rinse under cold water . drain and rinse under cold water . drain and rinse under cold water . drain and rinse under cold water . drain and rinse under cold water . drain and rinse under cold water . drain and rinse under cold water . drain and rinse under cold water . drain and rinse with cold water . in a large bowl mix together the mayonnaise sour cream and salt and pepper to taste . pour into a <NUM> quart casserole dish\n",
            "Predicted instructions with attention and beam search of 1: place the rice in a large bowl . add the butter and season with salt and pepper . cover and refrigerate for <NUM> hours . preheat the grill to medium high . place the steaks in a large bowl and add clarified butter . season with salt and pepper . place the steaks in the pan and cook until the steaks are golden brown and the meat is cooked through about <NUM> minutes per side . transfer to a cutting board and let rest for <NUM> minutes .\n",
            "Predicted instructions with attention and beam search of 5: watch how to make this recipe . preheat the oven to <NUM> degrees f. line a rimmed baking sheet with aluminum foil . place the steaks on a baking sheet and set aside . in a large bowl toss the rice with the clarified butter . season the steaks with salt and pepper . heat the clarified butter in a large skillet over medium high heat . sear the steaks in the clarified butter until golden brown about <NUM> minutes per side . transfer the steaks to a cutting board and let rest for <NUM> to <NUM> minutes before slicing .\n",
            "\n",
            "Recipe 35\n",
            "Title: butterscotch cranberry sauce\n",
            "Ingredients: <NUM> cup firmly packed light brown sugar . <NUM> tablespoons light corn syrup . <NUM> tablespoons unsalted butter . <NUM> cup heavy cream . <NUM> teaspoon salt . <NUM> cup cranberries picked over\n",
            "Actual instructions: in a heavy saucepan combine the brown sugar the corn syrup the butter the cream and the salt bring the liquid to a boil stirring and simmer the mixture for <NUM> minutes . add the cranberries and simmer the mixture stirring occasionally for <NUM> minutes or until the berries have burst and the liquid is reduced to about <NUM> <NUM> cups . serve the sauce warm over ice cream . <END>\n",
            "Predicted instructions with no attention and beam search of 1: watch how to make this recipe . preheat the oven to <NUM> degrees f. line a baking sheet with parchment paper . in a large bowl combine the oats and <NUM> cup of the sugar . add the apples and toss to coat . place the popcorn in a large bowl . add the popcorn and toss to coat . place the popcorn in a large bowl . add the popcorn and toss to coat . place the popcorn in a large bowl . add the popcorn and toss to coat . place the popcorn in a large bowl . add the popcorn and toss to coat . place the popcorn in a large bowl . add the popcorn and toss to coat . place the popcorn in a large bowl . add the popcorn and toss to coat . place the popcorn in a large bowl . add the popcorn and toss to coat . place the popcorn in a large bowl . add the popcorn and toss to coat . place the popcorn in a large bowl . add the popcorn and toss to coat . place the popcorn in a large bowl . add the popcorn and toss to coat . place the popcorn in a large bowl . add the popcorn and toss to coat . place the popcorn in a large bowl . add the popcorn and toss to coat . place the popcorn in a large bowl . add the popcorn and toss to coat . place the popcorn in a large bowl .\n",
            "Predicted instructions with no attention and beam search of 5: watch how to make this recipe . preheat the oven to <NUM> degrees f. line a rimmed baking sheet with parchment paper . in a large bowl whisk together the flour sugar baking powder and salt and set aside . in a large bowl whisk together the flour sugar baking powder baking soda and salt . set aside . in a large bowl stir together the flour baking soda and salt . set aside . in a large bowl cream together the butter and sugar until light and fluffy . add the egg and vanilla and stir until just combined . add the flour mixture and mix well . pour the batter into the prepared pan . bake in the preheated oven until a toothpick inserted into the center comes out clean <NUM> to <NUM> minutes .\n",
            "Predicted instructions with attention and beam search of 1: in a saucepan over medium heat combine the brown sugar corn syrup butter and salt . bring to a boil and cook stirring occasionally until the sugar dissolves . remove from heat and stir in the cranberries . serve warm or at room temperature .\n",
            "Predicted instructions with attention and beam search of 5: whisk brown sugar corn syrup butter heavy cream salt and cranberries in a small saucepan over medium heat . bring to a boil and cook stirring occasionally until thickened about <NUM> minutes .\n",
            "\n",
            "Recipe 36\n",
            "Title: stir fried chicken with bell peppers and snow cabbage\n",
            "Ingredients: <NUM> pound skinless boneless chicken breast halves . <NUM> egg white . <NUM> teaspoons soy sauce . <NUM> teaspoons plus <NUM> tablespoon shaoxing wine or dry sherry . <NUM> <NUM> teaspoons cornstarch . <NUM> teaspoon ground white pepper . <NUM> teaspoons asian sesame oil divided . <NUM> can preserved snow cabbage well drained . <NUM> teaspoon sugar . <NUM> tablespoons peanut oil or vegetable oil divided . <NUM> medium size red bell pepper cut into matchstick size strips . <NUM> medium size green bell pepper cut into matchstick size strips . <NUM> teaspoon salt\n",
            "Actual instructions: cut boneless chicken breast crosswise into <NUM> inch thick slices then stack slices and cut into matchstick size strips . whisk egg white in small bowl until foamy transfer <NUM> tablespoon to medium bowl . add chicken to bowl with egg white . add soy sauce <NUM> teaspoons rice wine cornstarch and white pepper toss to coat . mix in <NUM> teaspoons sesame oil . let stand <NUM> minutes . mix preserved snow cabbage and sugar in small bowl . heat <NUM> inch diameter flat bottomed wok or heavy <NUM> inch diameter skillet over high heat until drop of water added to wok evaporates on contact . add <NUM> tablespoon peanut oil and swirl to coat wok . add sliced chicken breast spreading evenly . cook without stirring <NUM> seconds then stir fry until sliced chicken is no longer pink about <NUM> minutes . transfer chicken slices to plate . add remaining <NUM> tablespoon peanut oil to wok then add red and green bell peppers and stir fry until beginning to soften about <NUM> minutes . stir in snow cabbage mixture and salt . return chicken to wok add remaining <NUM> tablespoon rice wine and stir fry until chicken is just cooked through about <NUM> minute . remove pan from heat . stir in remaining <NUM> teaspoon asian sesame oil into stir fry and serve . let stand <NUM> minutes . <END>\n",
            "Predicted instructions with no attention and beam search of 1: in a large pot over medium high heat add the chicken and cook until tender about <NUM> minutes . add the chicken stock and bring to a boil . reduce the heat to medium low and simmer until the chicken is tender about <NUM> minutes . add the chicken stock and bring to a boil . reduce the heat to medium low and simmer until the chicken is tender about <NUM> minutes . add the chicken stock and bring to a boil . reduce the heat to medium low and simmer until the chicken is tender about <NUM> minutes . remove the chicken from the pot and set aside . heat the oil in a large skillet over medium high heat . add the chicken and cook until browned about <NUM> minutes . add the chicken and cook until browned about <NUM> minutes . add the chicken and cook until browned about <NUM> minutes . add the chicken and cook until browned about <NUM> minutes . add the chicken broth and cook stirring until the chicken is no longer pink in the center about <NUM> minutes . add the chicken broth and cook until the chicken is no longer pink in the center about <NUM> minutes . add the chicken broth and cook until the chicken is no longer pink in the center about <NUM> minutes . stir in the chicken broth and cook until the chicken is cooked through about <NUM> minutes . stir the chicken broth into the chicken mixture and cook until the chicken is cooked through\n",
            "Predicted instructions with no attention and beam search of 5: preheat oven to <NUM> degrees f . bring a large pot of lightly salted water to a boil . add rice and cook for <NUM> to <NUM> minutes or until rice is tender . drain and rinse under cold water . drain and rinse under cold water . drain and rinse under cold running water . drain and rinse under cold water . drain and rinse under cold water . drain and rinse under cold water . drain and rinse under cold water . drain and rinse under cold water . drain and rinse under cold water . drain and rinse with cold water . heat oil in a large skillet over medium high heat . add onion and saute until translucent about <NUM> minutes . add onion and cook stirring occasionally until softened about <NUM> minutes . add chicken stock and bring to a boil . reduce heat to medium low cover and simmer until rice is tender about <NUM> minutes . remove from heat and stir in chicken broth . bring to a boil reduce heat to medium low cover and simmer until rice is tender about <NUM> minutes . remove from heat and let stand <NUM> minutes before serving .\n",
            "Predicted instructions with attention and beam search of 1: in a large bowl combine the chicken egg white soy sauce and sherry . stir in the cornstarch and white pepper . add the snow cabbage and toss to coat . heat <NUM> tablespoon peanut oil in a wok or large skillet over medium high heat . add the snow cabbage and cook until the vegetables are tender about <NUM> minutes . add the sesame oil and cook until the vegetables are tender about <NUM> minutes . add the snow cabbage and cook until they are tender . add the sesame oil and stir until the cabbage is wilted . add the remaining <NUM> cup oil and the sesame oil and stir until the vegetables are tender . add the remaining <NUM> cup oil and the sesame oil and toss to coat . serve the chicken with the vegetables .\n",
            "Predicted instructions with attention and beam search of 5: preheat the oven to <NUM> degrees f . in a large bowl combine the chicken egg white soy sauce wine cornstarch white pepper and sesame oil . stir in the snow cabbage and season with salt and pepper . set aside . heat the oil in a wok or large skillet over medium high heat . add the chicken and cook until golden brown about <NUM> minutes per side . transfer to a paper towel lined plate to drain .\n",
            "\n",
            "Recipe 37\n",
            "Title: whole grilled bluefish\n",
            "Ingredients: <NUM> whole bluefish cleaned . <NUM> tablespoons olive oil . <NUM> lemons juiced . <NUM> limes juiced . <NUM> tablespoons freshly ground pepper . <NUM> tablespoons sea salt . <NUM> to <NUM> lemons cut in wedges\n",
            "Actual instructions: preheat grill to medium . dress fish with oil and lemon and lime juices . season with pepper and salt . be sure to rub all ingredients throughout fish and inside cavity . stuff inside of fish with lemon wedges . place in fish basket . cook <NUM> to <NUM> minutes per side or until skin is slightly charred . remove carefully . serve with lemon . <END>\n",
            "Predicted instructions with no attention and beam search of 1: watch how to make this recipe . preheat the oven to <NUM> degrees f. place the salmon skin side down on a baking sheet and roast for <NUM> minutes . remove the salmon from the oven and let the salmon rest for <NUM> minutes . remove the fish from the oven and let the salmon rest for <NUM> minutes . remove the fish from the oven and let the fish rest for <NUM> minutes . serve with the lemon wedges .\n",
            "Predicted instructions with no attention and beam search of 5: watch how to make this recipe . preheat the oven to <NUM> degrees f. line a rimmed baking sheet with aluminum foil . in a small bowl whisk together the olive oil lemon juice and salt and pepper to taste in a small bowl . place the salmon skin side down on a baking sheet and bake for <NUM> to <NUM> minutes or until the fish flakes easily with a fork .\n",
            "Predicted instructions with attention and beam search of 1: watch how to make this recipe . preheat the grill to medium high . place the fish on a baking sheet and brush with olive oil . place the fish on the grill and cook for <NUM> to <NUM> minutes on each side . remove the fish from the grill and let rest for <NUM> minutes . remove the skin from the grill . place the lemon juice and lime juice in a small bowl . add the lemon juice and pepper to taste . toss to coat . refrigerate for at least <NUM> hours . serve with lemon wedges .\n",
            "Predicted instructions with attention and beam search of 5: watch how to make this recipe . preheat an outdoor grill for high heat and lightly oil the grate . score the skin of the fish with a sharp knife . place the lemon juice and lime juice in a resealable plastic bag . add the lemon juice and toss to coat . marinate the fish in the refrigerator for at least <NUM> hours and up to <NUM> hours . in a small bowl whisk together the olive oil lemon juice and pepper . add the lemon juice and toss to coat .\n",
            "\n",
            "Recipe 38\n",
            "Title: tart cranberry onion relish\n",
            "Ingredients: <NUM> package fresh or <UNK> frozen cranberries . <NUM> sweet onion chopped . <NUM> jar red currant jelly . <NUM> cup cider vinegar . <NUM> to <NUM> tablespoons sugar\n",
            "Actual instructions: stir together all ingredients in a <NUM> to <NUM> quart heavy saucepan then bring to a boil covered . remove lid and reduce heat then simmer until cranberries have burst about <NUM> minutes . transfer to a bowl and cool uncovered . chill covered at least <NUM> hours for flavors to meld . serve at room temperature . <END>\n",
            "Predicted instructions with no attention and beam search of 1: place the corn kernels in a large bowl and add the water . bring to a boil and cook until the sugar is dissolved about <NUM> minutes . remove the water from the heat and let cool . in a large bowl combine the corn syrup and <NUM> cup of the sugar . stir until the mixture is well mixed . pour the mixture into the prepared baking dish . cover the dish with aluminum foil . bake in the preheated oven until the top is golden brown <NUM> to <NUM> minutes .\n",
            "Predicted instructions with no attention and beam search of 5: preheat oven to <NUM> degrees f . bring a large pot of lightly salted water to a boil over high heat . reduce heat to medium low cover and simmer until tender <NUM> to <NUM> minutes . drain and rinse under cold water to cool . in a large bowl stir together the yogurt and <NUM> cup of the sugar . pour the mixture into the prepared baking dish . bake in the preheated oven until a knife inserted in the center comes out clean <NUM> to <NUM> minutes .\n",
            "Predicted instructions with attention and beam search of 1: place cranberries in a large saucepan and cover with water . bring to a boil reduce heat to medium low and simmer until cranberries burst and cranberries are tender about <NUM> minutes . drain and cool . in a large bowl mix together the diced onion and red jelly . mix in the sugar and salt . pour the mixture into the prepared baking dish . bake in the preheated oven until the cranberries burst and the juices run clear about <NUM> minutes . cool completely .\n",
            "Predicted instructions with attention and beam search of 5: preheat oven to <NUM> degrees f . line a baking sheet with parchment paper and set aside . in a large bowl mix together the cranberries and onion . add the red jelly vinegar and sugar and mix well . pour the mixture into the prepared pan . bake for <NUM> to <NUM> minutes in the preheated oven or until golden brown .\n",
            "\n",
            "Recipe 39\n",
            "Title: nanaimo bars\n",
            "Ingredients: nonstick vegetable spray . <NUM> tablespoons unsalted butter . <NUM> ounces bittersweet chocolate . <NUM> cup graham cracker crumbs . <NUM> cup dried coconut flakes . <NUM> cup coarsely chopped walnuts . <NUM> cup unsalted butter at room temperature . <NUM> cup confectioners sugar . <NUM> tablespoons maple syrup . <NUM> tablespoons grand marnier . <NUM> ounces bittersweet chocolate . <NUM> tablespoons vegetable shortening . <NUM> tablespoons light corn syrup\n",
            "Actual instructions: preheat the oven to <NUM> degrees . lightly coat an <NUM> by <NUM> inch baking pan with nonstick vegetable spray . for the bottom layer in a dry bowl set over barely simmering water melt the <NUM> pats butter and <NUM> ounces of semisweet chocolate . remove from the heat and stir in the graham crumbs coconut and walnuts . pat the mixture into the bottom of the baking pan to form a crust . bake for <NUM> minutes until set . let cool to room temperature then chill . for the buttercream beat the butter and sugar together until light and fluffy about <NUM> minutes slowly beat in the maple syrup and grand marnier . spread over the cooled crust and chill for <NUM> minutes to set . for the chocolate glaze in a dry bowl set over barely simmering water melt the chocolate . remove from heat and stir in the vegetable shortening and corn syrup . spread the chocolate glaze over the buttercream layer and chill for <NUM> more minutes . cut into <NUM> by <NUM> inch bars <END>\n",
            "Predicted instructions with no attention and beam search of 1: watch how to make this recipe . preheat the oven to <NUM> degrees f. line a baking sheet with parchment paper . in a large bowl combine the flour baking powder and salt . set aside . in a large bowl cream together the butter and sugar until light and fluffy . add the eggs and vanilla and mix well . add the flour mixture and mix well . add the flour mixture and mix well . pour the batter into the prepared pan . bake for <NUM> to <NUM> minutes in the preheated oven until the edges are golden brown .\n",
            "Predicted instructions with no attention and beam search of 5: watch how to make this recipe . preheat the oven to <NUM> degrees f. line a baking sheet with parchment paper . in a large bowl cream together the butter and sugar until light and fluffy . add the eggs one at a time beating well after each addition . add the flour mixture and mix well . pour the batter into the prepared pan . bake in the preheated oven until a toothpick inserted into the center comes out clean <NUM> to <NUM> minutes . cool in the pans for <NUM> minutes before removing to cool completely .\n",
            "Predicted instructions with attention and beam search of 1: preheat oven to <NUM> degrees f. spray a <UNK> inch pan with nonstick spray . melt butter in a large saucepan over medium heat . add chocolate and stir until melted . add chocolate and stir until melted . add chocolate and stir until melted . add <NUM> cup butter and beat until smooth . add chocolate and stir until melted . add <NUM> cup butter and beat until smooth . add chocolate and stir until melted . spread over cooled crust . chill until firm at least <NUM> hours . cut into <NUM> inch squares .\n",
            "Predicted instructions with attention and beam search of 5: watch how to make this recipe . preheat the oven to <NUM> degrees f. spray a <UNK> inch baking dish with nonstick spray . melt the butter in a large saucepan over medium heat . add the chocolate and cook stirring until melted . add the graham cracker crumbs and stir to combine . add the coconut flakes to the pan and stir to combine . add the coconut flakes to the pan and cook stirring until the butter is melted and the butter is melted about <NUM> minutes . remove from the heat and set aside . in a large bowl cream together the butter and sugar until light and fluffy . add the butter and beat until smooth . add the sugar and beat until smooth . pour the mixture into the prepared pan and chill in the refrigerator for at least <NUM> hours or up to overnight . in a small saucepan over low heat melt the chocolate and shortening over low heat stirring until the chocolate is melted and the mixture is smooth . remove from the heat and stir in the chocolate . let cool for <NUM> minutes before serving .\n",
            "\n",
            "Recipe 40\n",
            "Title: mothers little helper\n",
            "Ingredients: <NUM> ounces iced tea . <NUM> ounces scotch . <NUM> ounces peach schnapps . <NUM> peach sliced . <NUM> lemon wedges . <NUM> sprigs fresh mint\n",
            "Actual instructions: combine the iced tea scotch schnapps and peaches in a pitcher with ice . chill for <NUM> minutes to allow the flavors to mix . divide the mixture among <NUM> highball glasses with ice . garnish with lemon and mint . <END>\n",
            "Predicted instructions with no attention and beam search of 1: combine all ingredients in a cocktail shaker and shake vigorously . strain into a cocktail glass .\n",
            "Predicted instructions with no attention and beam search of 5: watch how to make this recipe . preheat the oven to <NUM> degrees f. line a rimmed baking sheet with parchment paper and set aside . in a large bowl stir together the sugar and <NUM> cup of the sugar until the sugar dissolves . pour the mixture into a <NUM> inch glass baking dish . pour the mixture over the rhubarb and toss to coat . refrigerate until ready to use .\n",
            "Predicted instructions with attention and beam search of 1: watch how to make this recipe . special equipment a <NUM> ounce glass . add the iced tea scotch peach schnapps and lemon wedges to a shaker with a blender and blend until smooth . pour the mixture into the prepared baking dish . garnish with <UNK> and serve .\n",
            "Predicted instructions with attention and beam search of 5: watch how to make this recipe . fill a large pot with iced water . add the scotch peach schnapps and <NUM> ounce peach schnapps and a pinch of salt .\n",
            "\n",
            "Recipe 41\n",
            "Title: <UNK>\n",
            "Ingredients: <NUM> <NUM> liters cola flavored carbonated beverage . <NUM> bottle red wine\n",
            "Actual instructions: in a <NUM> gallon serving jar with a lid or in the <NUM> liter bottle from the cola combine the cola and red wine . put the lid on and gently rock the container to mix . let rest for a few minutes before serving in glasses over ice . <END>\n",
            "Predicted instructions with no attention and beam search of 1: combine all ingredients in a cocktail shaker . shake vigorously and strain into a cocktail glass .\n",
            "Predicted instructions with no attention and beam search of 5: combine all ingredients in a cocktail shaker and shake vigorously . strain into a cocktail glass .\n",
            "Predicted instructions with attention and beam search of 1: pour cola beverage into a glass bottle .\n",
            "Predicted instructions with attention and beam search of 5: pour cola beverage into a pitcher .\n",
            "\n",
            "Recipe 42\n",
            "Title: roasted potatoes and shallots\n",
            "Ingredients: <NUM> large shallots peeled and halved lengthwise . <NUM> tablespoons extra virgin olive oil divided . <NUM> <NUM> pounds medium yukon gold potatoes peeled and quartered\n",
            "Actual instructions: preheat oven to <NUM> degrees f with rack in lowest position . toss shallots with <NUM> <NUM> tablespoon oil <NUM> teaspoon salt and <NUM> teaspoon pepper in a <NUM> by <NUM> inch baking pan spreading evenly . roast stirring occasionally until shallots are golden about <NUM> minutes . toss potatoes with remaining <NUM> <NUM> tablespoons oil <NUM> teaspoon salt and <NUM> teaspoon pepper in a bowl then add to shallots . roast turning occasionally until vegetables are tender and potatoes are crusty <NUM> to <NUM> minutes . preheat oven to <NUM> degrees f with rack in lowest position . toss shallots with <NUM> <NUM> tablespoon oil <NUM> teaspoon salt and <NUM> teaspoon pepper in a <NUM> by <NUM> inch baking pan spreading evenly . roast stirring occasionally until shallots are golden about <NUM> minutes . toss potatoes with remaining <NUM> <NUM> tablespoons oil <NUM> teaspoon salt and <NUM> teaspoon pepper in a bowl then add to shallots . <END>\n",
            "Predicted instructions with no attention and beam search of 1: preheat oven to <NUM> degrees f. in a large bowl combine potatoes and <NUM> cup of water . add <NUM> cup water and <NUM> cup water . bring to a boil and cook until tender about <NUM> minutes . drain and rinse under cold water . drain and rinse under cold water . drain and rinse under cold water . drain and rinse under cold water . drain and rinse under cold water . drain and rinse under cold water . drain and rinse under cold water . drain and rinse under cold water . drain and rinse under cold water . drain and rinse under cold water . drain and rinse under cold water . drain and rinse under cold water . drain and rinse under cold water . drain and rinse under cold water . drain and rinse under cold water . drain and rinse under cold water . drain and rinse under cold water . drain and rinse under cold water . drain and rinse under cold water . drain and rinse under cold water . drain and rinse under cold water . drain and rinse under cold water . drain and rinse under cold water . drain and rinse under cold water . drain and rinse under cold water . drain and rinse under cold water . drain and rinse under cold water . drain and rinse under cold water . drain and rinse under cold water . drain and rinse under cold water . drain and rinse under cold water . drain and rinse under\n",
            "Predicted instructions with no attention and beam search of 5: watch how to make this recipe . preheat the oven to <NUM> degrees f. place the potatoes in a large pot and cover with cold water . bring to a boil over high heat . reduce the heat to medium low cover and simmer until the potatoes are tender <NUM> to <NUM> minutes . drain and set aside . in a large bowl toss the potatoes with the olive oil and season with salt and pepper . heat the oil in a large skillet over medium high heat . add the potatoes and cook until tender about <NUM> minutes . add the potatoes and cook until tender about <NUM> minutes . add the potatoes and cook until tender about <NUM> minutes . add the potatoes and cook stirring occasionally until the potatoes are tender about <NUM> minutes . add the potatoes and cook stirring occasionally until the potatoes are tender about <NUM> minutes . remove from the heat and set aside to cool . in a large bowl toss the potatoes with the olive oil and season with salt and pepper to taste .\n",
            "Predicted instructions with attention and beam search of 1: preheat oven to <NUM> degrees f. place shallots in a large bowl . drizzle with <NUM> tablespoons olive oil and toss to coat . season with salt and pepper . roast potatoes until tender about <NUM> minutes . transfer to a platter and let cool .\n",
            "Predicted instructions with attention and beam search of 5: watch how to make this recipe . preheat the oven to <NUM> degrees f. place the shallots and <NUM> tablespoons olive oil in a large heavy ovenproof skillet over medium high heat . add the shallots and cook until softened about <NUM> minutes . add the remaining <NUM> tablespoons olive oil and the shallots and cook until soft about <NUM> minutes . add the remaining <NUM> tablespoons olive oil and the shallots and cook until the shallots are soft and translucent about <NUM> minutes . add the remaining <NUM> tablespoons olive oil and the shallots and cook until soft about <NUM> minutes . add the remaining <NUM> tablespoons olive oil and the shallots and cook until the shallots are soft and translucent about <NUM> minutes . add the remaining <NUM> tablespoons olive oil and the shallots and cook until the shallots are soft and translucent about <NUM> minutes . season with salt and pepper . add the potatoes to the shallots and toss to coat . season with salt and pepper .\n",
            "\n",
            "Recipe 43\n",
            "Title: fruit punch\n",
            "Ingredients: <NUM> ounces peach nectar . <NUM> cups orange juice . <NUM> cups cranberry juice\n",
            "Actual instructions: combine drink ingredients in a large punch bowl or pitcher . <END>\n",
            "Predicted instructions with no attention and beam search of 1: combine all ingredients in a cocktail shaker . shake vigorously and strain into a cocktail glass .\n",
            "Predicted instructions with no attention and beam search of 5: watch how to make this recipe . preheat the oven to <NUM> degrees f. line a rimmed baking sheet with parchment paper . in a small bowl combine the sugar and <NUM> cup water in a medium saucepan . bring to a boil over medium high heat . reduce the heat to medium low and cook stirring occasionally until the sugar dissolves about <NUM> minutes . remove from the heat and stir in the lemon juice . pour the mixture into the prepared baking dish . cover with plastic wrap and refrigerate until cold about <NUM> hours .\n",
            "Predicted instructions with attention and beam search of 1: in a large punch bowl combine the peach nectar orange juice and cranberry juice . cover and refrigerate for at least <NUM> hours .\n",
            "Predicted instructions with attention and beam search of 5: combine peach nectar orange juice and cranberry juice in a punch bowl .\n",
            "\n",
            "Recipe 44\n",
            "Title: cheese and bacon biscuits\n",
            "Ingredients: drizzle extra virgin olive oil . <NUM> slices smoky bacon finely chopped . <NUM> small box biscuit mix or measured mix for <NUM> drop biscuits . <NUM> cup shredded all natural yellow sharp cheddar . <NUM> teaspoon freshly grated nutmeg\n",
            "Actual instructions: preheat the oven to package directions for the drop biscuits . heat a small skillet with a drizzle of oil over medium high heat . add the bacon and cook until crisp about <NUM> to <NUM> minutes . put the biscuit mix in bowl and add the bacon <NUM> tablespoon of the drippings and the nutmeg . add the ingredients according to the package directions to form a drop biscuit . fold in half of the cheese and arrange the drop biscuits on a baking sheet . sprinkle the tops of the biscuits with the remaining cheese and bake until golden about <NUM> to <NUM> minutes . remove from the oven to a serving dish and serve hot . <END>\n",
            "Predicted instructions with no attention and beam search of 1: watch how to make this recipe . preheat oven to <NUM> degrees f. in a large bowl combine the flour baking powder salt and pepper . add the bread cubes and mix well . add the flour and mix well . add the flour and mix well . add the flour and mix well . add the flour and mix well . add the flour and mix well . add the flour and mix well . add the flour and mix well . add the flour and mix well . add the flour and mix well . add the flour and mix well . add the flour and mix well . add the flour and mix well . add the flour and mix well . add the flour mixture and mix well . shape dough into balls and place on a baking sheet . bake for <NUM> to <NUM> minutes in the preheated oven until golden brown .\n",
            "Predicted instructions with no attention and beam search of 5: watch how to make this recipe . preheat the oven to <NUM> degrees f. line a baking sheet with parchment paper . in a large bowl whisk together the flour baking powder and salt and pepper . add the butter to the butter mixture and pulse until the mixture resembles coarse meal . add the flour baking powder and salt and pulse until the mixture resembles coarse meal . add the flour baking powder and salt and pulse until the mixture resembles coarse meal . add the flour baking powder and salt and pulse until the mixture resembles coarse meal . add the flour baking powder and salt and pulse until the mixture resembles coarse meal . add the flour baking powder and salt and pulse until the mixture resembles coarse meal . add the flour baking powder and salt and pulse until the mixture resembles coarse meal . add the buttermilk and pulse until the mixture resembles coarse meal . add the flour and pulse until the mixture resembles coarse meal . add the buttermilk and pulse until the mixture resembles coarse meal . add the buttermilk and pulse until the mixture resembles coarse meal . add the buttermilk and pulse until the mixture resembles coarse meal . add the buttermilk and pulse until the mixture resembles coarse meal . add the buttermilk and pulse until the mixture resembles coarse meal . add the buttermilk and pulse until the mixture resembles coarse meal . add the buttermilk and pulse until the mixture resembles coarse meal . add the buttermilk\n",
            "Predicted instructions with attention and beam search of 1: preheat oven to <NUM> degrees f. in a large bowl toss together the bacon biscuit mix and cheddar . sprinkle with nutmeg and sprinkle with cheddar nutmeg . bake for <NUM> to <NUM> minutes or until biscuits are golden brown .\n",
            "Predicted instructions with attention and beam search of 5: watch how to make this recipe . preheat the oven to <NUM> degrees f. heat a large skillet over medium high heat . add the bacon and cook until crispy about <NUM> minutes per side . transfer the bacon to a paper towel lined plate and set aside . in a large skillet over medium high heat add the bacon and cook until crispy about <NUM> minutes per side . transfer to a paper towel lined plate to drain . in a large bowl combine the biscuit mix and cheddar and sprinkle with the nutmeg . add the cheddar and nutmeg and toss to coat . transfer the biscuits to a baking sheet and bake for <NUM> to <NUM> minutes .\n",
            "\n",
            "Recipe 45\n",
            "Title: blue cranberry sauce\n",
            "Ingredients: <NUM> package fresh cranberries . <NUM> cup water . <NUM> cup white sugar . <NUM> teaspoon ground cinnamon . <NUM> teaspoon ground nutmeg . <NUM> teaspoon ground allspice . <NUM> pint fresh blueberries\n",
            "Actual instructions: wash and pick over cranberries . place in a medium saucepan with water and sugar . bring to a boil reduce heat stir and simmer for <NUM> minutes or until cranberries burst . slightly mash the cranberries with the back of a wooden spoon to insure all skins are broken . add the cinnamon nutmeg and allspice . mix well . remove from heat and mix in the blueberries . the sauce will thicken as it cools . transfer to a bowl cool slightly and place plastic wrap directly on top of sauce to cover . refrigerate until chilled . <END>\n",
            "Predicted instructions with no attention and beam search of 1: preheat oven to <NUM> degrees f . place the sweet potatoes in a large bowl . add the sugar and water to the sugar and bring to a boil . reduce the heat to medium low and simmer until the apples are tender about <NUM> minutes . remove from the heat and stir in the vanilla . pour the mixture into the prepared baking dish . bake in the preheated oven until the top is golden brown and the fruit is bubbling <NUM> to <NUM> minutes .\n",
            "Predicted instructions with no attention and beam search of 5: preheat oven to <NUM> degrees f . grease a <UNK> inch baking dish . in a large bowl mix together the sugar and water . pour the mixture into the prepared baking dish . bake in the preheated oven for <NUM> minutes . remove from the oven and allow to cool before serving .\n",
            "Predicted instructions with attention and beam search of 1: place cranberries in a saucepan and cover with water . bring to a boil over medium heat . reduce heat to medium low and simmer until cranberries burst about <NUM> minutes . stir in cinnamon nutmeg allspice and allspice . cook until cranberries burst and syrup is clear about <NUM> minutes . stir in blueberries .\n",
            "Predicted instructions with attention and beam search of 5: combine cranberries water sugar cinnamon nutmeg allspice and allspice in a saucepan over medium heat bring to a boil . reduce heat to medium low cover and simmer until cranberries burst about <NUM> minutes . remove from heat and stir in blueberries .\n",
            "\n",
            "Recipe 46\n",
            "Title: fajita butterfly shrimp with cilantro rice\n",
            "Ingredients: <NUM> package <UNK> jumbo butterfly shrimp oven crispy frozen . <NUM> cup yellow bell pepper cut into strips . <NUM> cup red bell pepper cut into strips . <NUM> cup green bell pepper cut into strip . <NUM> cup red onion cut into strips . <NUM> tablespoon finely chopped garlic . <NUM> teaspoon cumin . <NUM> teaspoon chile powder . salt pepper . <NUM> tablespoon olive oil . <NUM> tablespoons chopped cilantro . instant brown rice\n",
            "Actual instructions: cook shrimp and rice according to package instructions . heat oil in skillet and saute peppers onions and garlic for <NUM> <NUM> minutes . add cooked shrimp and cumin to skillet and saute an additional <NUM> <NUM> minutes season to taste with salt and pepper . toss cooked rice with chopped cilantro and chile powder . plate a single serving of rice and spoon stir fry mixture over the rice . serve and enjoy <END>\n",
            "Predicted instructions with no attention and beam search of 1: in a large bowl combine the tomatoes onion garlic and lime juice . mix well . pour the marinade into a large bowl . mix the tuna and onion together in a bowl . pour the marinade over the chicken and marinate for <NUM> minutes . preheat the oven to <NUM> degrees f . place the chicken breasts on a baking sheet . place the chicken breasts on the grill and cook until the chicken is no longer pink in the center about <NUM> minutes per side . remove from the grill and place on a baking sheet . grill the chicken until cooked through about <NUM> minutes per side .\n",
            "Predicted instructions with no attention and beam search of 5: heat oil in a large skillet over medium high heat . add onion and garlic and saute until translucent about <NUM> minutes . add garlic and cook until fragrant about <NUM> minute . add garlic and cook until fragrant about <NUM> minute . add garlic and cook stirring occasionally until fragrant about <NUM> minute . add garlic and cook stirring occasionally until fragrant about <NUM> minute . add garlic and cook stirring occasionally until fragrant about <NUM> minute . add tomatoes and cook stirring occasionally until vegetables are tender about <NUM> minutes . season with salt and pepper to taste .\n",
            "Predicted instructions with attention and beam search of 1: place the shrimp in a large pot and cover with water . bring to a boil and cook until the shrimp are tender about <NUM> minutes . drain well . in a large bowl mix together the peppers red bell pepper red bell pepper red bell pepper red bell pepper red bell pepper red bell pepper red bell pepper red bell pepper red bell pepper red bell pepper and red bell pepper . pour the mixture into the prepared pan . bake for <NUM> to <NUM> minutes in the preheated oven or until the shrimp are pink and the sauce is cooked through .\n",
            "Predicted instructions with attention and beam search of 5: preheat oven to <NUM> degrees f . grease a <UNK> inch baking dish . in a large bowl toss together the shrimp red bell pepper red bell pepper red bell pepper red bell pepper red bell pepper red bell pepper red bell pepper red bell pepper red bell pepper red bell pepper red bell pepper red bell pepper red bell pepper red bell pepper red bell pepper red bell pepper and red bell pepper . bake for <NUM> to <NUM> minutes .\n",
            "\n",
            "Recipe 47\n",
            "Title: tricolor matzo ball soup\n",
            "Ingredients: spinach matzo balls . tomato matzo balls . turmeric matzo balls\n",
            "Actual instructions: prepare spinach matzo balls tomato matzo balls and turmeric matzo balls . include one of each flavor of matzo ball per serving . <END>\n",
            "Predicted instructions with no attention and beam search of 1: preheat oven to <NUM> degrees f . place the potatoes in a large pot and cover with water . bring to a boil over high heat . reduce heat to medium low cover and simmer until tender about <NUM> minutes . drain and rinse under cold water . drain and rinse under cold water . drain and rinse under cold water . drain and rinse under cold water . drain and rinse under cold water . drain and rinse under cold water . drain and rinse under cold water . drain and rinse under cold water . drain and rinse under cold water . drain and rinse under cold water . drain and rinse under cold water . drain and rinse under cold water . drain and rinse under cold water . drain and rinse under cold water . drain and rinse under cold water . drain and rinse under cold water . drain and rinse under cold water . drain and rinse under cold water . drain and rinse under cold water . drain and rinse under cold water . drain and rinse under cold water . drain and rinse under cold water . drain and rinse under cold water . drain and rinse under cold water . drain and rinse under cold water . drain and rinse under cold water . drain and rinse under cold water . drain and rinse under cold water . drain and rinse under cold water . drain and rinse under cold water . drain and rinse under cold water . drain and\n",
            "Predicted instructions with no attention and beam search of 5: bring a large pot of salted water to a boil . add potatoes and cook until tender but still firm to the bite about <NUM> minutes . drain and rinse under cold water . drain and rinse under cold running water . drain and rinse under cold water . drain and rinse under cold water . drain and rinse under cold running water . drain and rinse under cold water . drain and rinse under cold water . drain and rinse under cold water . drain and rinse under cold water . drain and rinse under cold water . drain and rinse under cold running water . drain and rinse under cold water . drain and rinse under cold water . drain and rinse under cold water to cool . in a large bowl mix together the flour salt and pepper . heat the oil in a large skillet over medium high heat . add the onion and cook until translucent about <NUM> minutes . add the garlic and cook stirring constantly until the onion is translucent about <NUM> minutes . add the garlic and cook for <NUM> minute . add the garlic and cook stirring constantly until the onion is translucent about <NUM> minutes . add the garlic and cook stirring constantly until the onion is translucent about <NUM> minutes . add the garlic and cook stirring constantly until the mixture begins to thicken about <NUM> minutes . stir in the tomatoes and cook for <NUM> minutes . stir in the tomatoes and cook for <NUM> minutes more .\n",
            "Predicted instructions with attention and beam search of 1: place matzo balls in a bowl and cover with plastic wrap . chill in the refrigerator for <NUM> hour .\n",
            "Predicted instructions with attention and beam search of 5: fill a large pot with enough water to cover . bring to a boil then reduce heat to medium low and simmer for <NUM> to <NUM> minutes or until tender but still firm to the bite . drain and cool slightly .\n",
            "\n",
            "Recipe 48\n",
            "Title: phyllo wrapped asparagus and boursin\n",
            "Ingredients: <NUM> or <NUM> sheets phyllo dough . <NUM> cup melted butter . <NUM> cup parmesan . <NUM> small wheel brie cheese cut into <NUM> mini wedges . <NUM> asparagus tips blanched\n",
            "Actual instructions: preheat oven to <NUM> degrees f. make sure phyllo is completely defrosted . once removed from package you will need to cover phyllo with waxed paper and a damp towel to prevent it from drying out . lay out sheet of dough lightly butter with pastry brush . fold sheet in half butter again . keep buttering and folding in half until you have a rectangle with dimensions close to <NUM> by <NUM> inches . cut into <NUM> sections . sprinkle parmesan on each piece of dough . crumble a bit of brie on each . lay asparagus tip on top and roll dough around asparagus . the tip of the asparagus should show out of the end . repeat to make <NUM> pieces . lay all pieces out on a cookie sheet . brush each piece with butter and bake in oven until golden brown . serve warm . <END>\n",
            "Predicted instructions with no attention and beam search of 1: preheat oven to <NUM> degrees f. butter a <NUM> inch square baking dish . place <NUM> cup of the butter in a large bowl . add the eggs and stir until combined . add the eggs and stir until combined . add the eggs and stir until combined . add the eggs and stir until smooth . pour the batter into the prepared pan . bake in the preheated oven until the top is golden brown and the cheese is melted about <NUM> minutes .\n",
            "Predicted instructions with no attention and beam search of 5: watch how to make this recipe . preheat the oven to <NUM> degrees f. line a baking sheet with parchment paper . in a large bowl whisk together the flour baking powder and salt and pepper . set aside . in a large bowl cream together the butter and sugar until light and fluffy . add the eggs one at a time beating well after each addition . add the eggs one at a time beating well after each addition . add the eggs one at a time beating well after each addition . add the eggs one at a time beating well after each addition . add the eggs one at a time beating well after each addition . pour the batter into the prepared pan . bake in the preheated oven until a toothpick inserted into the center comes out clean <NUM> to <NUM> minutes .\n",
            "Predicted instructions with attention and beam search of 1: preheat oven to <NUM> degrees f . line a baking sheet with parchment paper . place phyllo sheets on a work surface . brush with melted butter . place <NUM> phyllo sheet on top of each phyllo . brush with melted butter . place <NUM> phyllo sheet on top of each phyllo . top with <NUM> of the parmesan cheese and <NUM> more strips of brie . bake in the preheated oven until golden brown about <NUM> minutes .\n",
            "Predicted instructions with attention and beam search of 5: watch how to make this recipe . preheat the oven to <NUM> degrees f. line a baking sheet with parchment paper . place the phyllo on a work surface and brush with melted butter . place the phyllo on a baking sheet and brush with melted butter . sprinkle with parmesan cheese . bake for <NUM> to <NUM> minutes in the preheated oven or until golden brown .\n",
            "\n",
            "Recipe 49\n",
            "Title: simple shrimp tostadas\n",
            "Ingredients: <NUM> tomatoes finely chopped . <NUM> bunch fresh cilantro finely chopped . <NUM> small red onion finely chopped . <NUM> tablespoons mayonnaise . <NUM> crispy tostada shells . <NUM> pound frozen cooked shrimp thawed . <NUM> avocados thinly sliced . salt and ground black pepper to taste\n",
            "Actual instructions: mix tomatoes cilantro and red onion together in a bowl . spread <NUM> tablespoon mayonnaise onto each tostada top with <NUM> to <NUM> tablespoons tomato mixture . add an even layer of shrimp onto each tostada and top with avocado slices season with salt and pepper . <END>\n",
            "Predicted instructions with no attention and beam search of 1: in a large bowl combine the tomatoes onion garlic and garlic . mix well . pour the marinade into a large bowl . mix the tuna and onion in the olive oil . season with salt and pepper . place the shrimp on a plate . place the shrimp on a plate . place the shrimp on a plate . place the shrimp on the prepared baking sheet . place the shrimp on the grill and cook until the shrimp are opaque in the center about <NUM> minutes per side . remove the shrimp from the grill and place on a plate . place the shrimp on the grill and cook until the shrimp are opaque in the center about <NUM> minutes per side . remove the shrimp from the skillet and set aside . heat the oil in a skillet over medium high heat . add the shrimp and cook until the shrimp are opaque about <NUM> minutes . flip the shrimp and cook until the shrimp are opaque and the shrimp are opaque about <NUM> seconds . repeat with the remaining shrimp and shrimp . repeat with the remaining shrimp and shrimp . serve with the shrimp sauce .\n",
            "Predicted instructions with no attention and beam search of 5: preheat oven to <NUM> degrees f . line a baking sheet with aluminum foil . in a small bowl mix together the olive oil garlic salt and black pepper . place the steak in a single layer on a baking sheet . cover with plastic wrap and refrigerate for at least <NUM> hours . preheat the oven to <NUM> degrees f . in a large skillet over medium high heat heat the olive oil over medium high heat . cook and stir the onion and garlic in the hot oil until the onion is translucent about <NUM> minutes . add the garlic and cook for <NUM> minute . stir in the tomatoes and cook for <NUM> minute . stir in the tomatoes and cook for <NUM> minutes . stir in the tomatoes and cook for <NUM> minutes . stir in the tomatoes and cook for <NUM> minutes . stir in the tomatoes and cook for <NUM> minutes more .\n",
            "Predicted instructions with attention and beam search of 1: in a large bowl combine the tomatoes cilantro onion mayonnaise and the remaining <NUM> cup mayonnaise . mix well . mix in the mayonnaise and season with salt and pepper .\n",
            "Predicted instructions with attention and beam search of 5: watch how to make this recipe . preheat the oven to <NUM> degrees f. in a large bowl combine the tomatoes cilantro red onion mayonnaise and a pinch of salt . mix well and set aside . in a small bowl mix together the avocado and mayonnaise . season with salt and pepper to taste .\n",
            "\n",
            "Recipe 50\n",
            "Title: bourbon street butterscotch brownies\n",
            "Ingredients: butter for greasing pan . <NUM> cup brown sugar packed . <NUM> cup vegetable oil . <NUM> egg . <NUM> cup chopped nuts . <NUM> teaspoon vanilla extract . <NUM> cup popped popcorn finely ground and kernels discarded . <NUM> teaspoon baking powder . <NUM> teaspoon salt\n",
            "Actual instructions: butter an <NUM> inch square baking pan . preheat oven to <NUM> degrees f. in a large bowl stir together brown sugar oil and egg until smooth . mix in nuts and vanilla . in a small bowl mix together the ground popcorn baking powder and salt . add popcorn mixture to the batter stirring well . spread evenly in the buttered pan . bake for <NUM> minutes or until a toothpick inserted into the center comes out clean . cut into squares while warm . <END>\n",
            "Predicted instructions with no attention and beam search of 1: preheat oven to <NUM> degrees f. line a baking sheet with parchment paper . in a large bowl combine the flour baking soda and salt . add the butter and vanilla and mix until well combined . add the flour and baking soda and baking soda . add the dry ingredients to the dry ingredients and stir until just combined . drop by rounded tablespoonfuls onto the prepared baking sheets . bake for <NUM> to <NUM> minutes in the preheated oven until golden brown . remove from the oven and let cool completely .\n",
            "Predicted instructions with no attention and beam search of 5: watch how to make this recipe . preheat the oven to <NUM> degrees f. line a baking sheet with parchment paper . in a large bowl cream together the butter and sugar until light and fluffy . add the eggs one at a time beating well after each addition . in a separate bowl combine the flour baking powder baking soda and salt . set aside . in a large bowl cream together the butter and sugar until light and fluffy . add the eggs one at a time beating well after each addition . add the flour mixture and mix well . pour the batter into the prepared pan . bake in the preheated oven until a toothpick inserted into the center comes out clean <NUM> to <NUM> minutes . cool in the pans for <NUM> minutes before removing to cool completely .\n",
            "Predicted instructions with attention and beam search of 1: watch how to make this recipe . preheat the oven to <NUM> degrees f. butter a <NUM> by <NUM> inch baking pan . in a large bowl combine the brown sugar oil and egg . stir in the nuts and vanilla . pour the mixture into the prepared pan . bake for <NUM> to <NUM> minutes in the preheated oven or until the top is golden brown . cool in the pan for <NUM> minutes before serving .\n",
            "Predicted instructions with attention and beam search of 5: watch how to make this recipe . preheat the oven to <NUM> degrees f. butter a <NUM> by <NUM> inch baking pan . in a medium bowl mix together the brown sugar oil and egg . stir in the nuts and vanilla . pour the mixture into the prepared pan . bake for <NUM> to <NUM> minutes in the preheated oven or until a toothpick inserted into the center of the brownies comes out clean . cool in the pan for <NUM> minutes before serving .\n",
            "\n"
          ]
        }
      ]
    },
    {
      "cell_type": "markdown",
      "source": [
        "## Evaluation Functions"
      ],
      "metadata": {
        "id": "_2dO9YiLIry8"
      }
    },
    {
      "cell_type": "markdown",
      "source": [
        "ROUGE:"
      ],
      "metadata": {
        "id": "BkDh03OuJCQ-"
      }
    },
    {
      "cell_type": "code",
      "source": [
        "# Set up NLTK stopwords\n",
        "nltk.download('stopwords')\n",
        "\n",
        "def compute_average_rouge_score(predictions, actuals):\n",
        "    total_scores = {'rouge1': {'r': 0, 'p': 0, 'f': 0}, 'rougeL': {'r': 0, 'p': 0, 'f': 0}}\n",
        "    num_samples = len(predictions)\n",
        "\n",
        "    # Set up NLTK stopwords\n",
        "    nltk.download('stopwords', quiet=True)\n",
        "    stop_words = set(stopwords.words('english'))\n",
        "\n",
        "    # Initialize ROUGE scorer\n",
        "    scorer = rouge_scorer.RougeScorer(['rouge1', 'rougeL'], use_stemmer=True)\n",
        "\n",
        "    for i in range(num_samples):\n",
        "        predicted_text = predictions[i]\n",
        "        actual_text = actuals[i]\n",
        "\n",
        "        # Convert tokens to strings\n",
        "        predicted_text = ' '.join(predicted_text)\n",
        "        actual_text = ' '.join(actual_text)\n",
        "\n",
        "        # Remove special tokens\n",
        "        predicted_text = predicted_text.replace('<NUM>', '')\n",
        "        actual_text = actual_text.replace('<NUM>', '')\n",
        "\n",
        "        # Remove periods\n",
        "        predicted_text = predicted_text.replace('.', '')\n",
        "        actual_text = actual_text.replace('.', '')\n",
        "\n",
        "\n",
        "        # Remove stopwords\n",
        "        predicted_text = ' '.join([word for word in predicted_text.split() if word.lower() not in stop_words])\n",
        "        actual_text = ' '.join([word for word in actual_text.split() if word.lower() not in stop_words])\n",
        "\n",
        "        # Remove <END> token\n",
        "        actual_text = actual_text.replace('<END>', '')\n",
        "\n",
        "        # Compute ROUGE score for the current pair\n",
        "        scores = scorer.score(actual_text, predicted_text)\n",
        "\n",
        "        # Accumulate scores\n",
        "        for metric, values in scores.items():\n",
        "            total_scores[metric]['r'] += values[0]  # Recall value\n",
        "            total_scores[metric]['p'] += values[1]  # Precision value\n",
        "            total_scores[metric]['f'] += values[2]  # F1-score value\n",
        "\n",
        "    # Compute average scores\n",
        "    average_scores = {}\n",
        "    for metric, values in total_scores.items():\n",
        "        average_scores[metric] = {\n",
        "            'r': values['r'] / num_samples,\n",
        "            'p': values['p'] / num_samples,\n",
        "            'f': values['f'] / num_samples\n",
        "        }\n",
        "\n",
        "    return average_scores\n"
      ],
      "metadata": {
        "id": "g7t1TS-QHaAH",
        "colab": {
          "base_uri": "https://localhost:8080/"
        },
        "outputId": "a4d74322-6e75-40c9-e589-f82ea5ec28a2"
      },
      "execution_count": 32,
      "outputs": [
        {
          "output_type": "stream",
          "name": "stderr",
          "text": [
            "[nltk_data] Downloading package stopwords to /root/nltk_data...\n",
            "[nltk_data]   Unzipping corpora/stopwords.zip.\n"
          ]
        }
      ]
    },
    {
      "cell_type": "markdown",
      "source": [
        "METEOR:"
      ],
      "metadata": {
        "id": "VFz3LpyjIBeQ"
      }
    },
    {
      "cell_type": "code",
      "source": [
        "\n",
        "def compute_average_meteor_score(predictions, actuals):\n",
        "    # Check if WordNet is downloaded, if not, download it\n",
        "\n",
        "    stop_words = set(stopwords.words('english'))\n",
        "\n",
        "    if 'corpora/wordnet' not in nltk.data.path:\n",
        "        nltk.download('wordnet', quiet=True)\n",
        "\n",
        "    # Set up NLTK stopwords\n",
        "    nltk.download('stopwords', quiet=True)\n",
        "    stop_words = set(stopwords.words('english'))\n",
        "\n",
        "    # Initialize list to store individual METEOR scores\n",
        "    meteor_scores = []\n",
        "\n",
        "    # Iterate through each example\n",
        "    for predicted_tokens, actual_tokens in zip(predictions, actuals):\n",
        "\n",
        "        # Remove periods and <NUM> and <END> token\n",
        "        predicted_tokens = [token for token in predicted_tokens if token not in ['.', '<NUM>', '<END>']]\n",
        "        actual_tokens = [token for token in actual_tokens if token not in ['.', '<NUM>', '<END>']]\n",
        "\n",
        "        # Remove stopwords\n",
        "        predicted_tokens = [word for word in predicted_tokens if word.lower() not in stop_words]\n",
        "        actual_tokens = [word for word in actual_tokens if word.lower() not in stop_words]\n",
        "\n",
        "        # Compute METEOR score for the current example\n",
        "        meteor_score_value = nltk.translate.meteor_score.meteor_score([actual_tokens], predicted_tokens)\n",
        "\n",
        "        # Append the METEOR score to the list\n",
        "        meteor_scores.append(meteor_score_value)\n",
        "\n",
        "    # Compute the average METEOR score\n",
        "    average_meteor_score = sum(meteor_scores) / len(meteor_scores)\n",
        "\n",
        "    return average_meteor_score\n"
      ],
      "metadata": {
        "id": "VMEKRYjtIAQd"
      },
      "execution_count": 33,
      "outputs": []
    },
    {
      "cell_type": "code",
      "source": [
        "# List of pairs for each model\n",
        "\n",
        "pairs_base = [(predicted_instructions_list_NoAtt1, actual_instructions_list_NoAtt1),\n",
        "              (predicted_instructions_list_NoAtt5, actual_instructions_list_NoAtt5),\n",
        "              (predicted_instructions_list_NoAtt10, actual_instructions_list_NoAtt10)]\n",
        "\n",
        "# Define pairs for attention model\n",
        "pairs_attention = [(predicted_instructions_list_Att1, actual_instructions_list_Att1),\n",
        "                   (predicted_instructions_list_Att5, actual_instructions_list_Att5),\n",
        "                   (predicted_instructions_list_Att10, actual_instructions_list_Att10)]\n",
        "\n",
        "# Compute scores for base model\n",
        "for i, (predicted, actual) in enumerate(pairs_base, start=1):\n",
        "    beam_width = [1, 5, 10][i - 1]  # Choose beam width based on index\n",
        "    meteor_score = compute_average_meteor_score(predicted, actual)\n",
        "    rouge_score = compute_average_rouge_score(predicted, actual)\n",
        "    print(f'Base Model without Attention, beam width of {beam_width}:')\n",
        "    print('Meteor score:', meteor_score)\n",
        "    print('Rouge score:', rouge_score)\n",
        "\n",
        "# Compute scores for attention model\n",
        "for i, (predicted, actual) in enumerate(pairs_attention, start=1):\n",
        "    beam_width = [1, 5, 10][i - 1]  # Choose beam width based on index\n",
        "    meteor_score = compute_average_meteor_score(predicted, actual)\n",
        "    rouge_score = compute_average_rouge_score(predicted, actual)\n",
        "    print(f'Attention Model, beam width of {beam_width}:')\n",
        "    print('Meteor score:', meteor_score)\n",
        "    print('Rouge score:', rouge_score)"
      ],
      "metadata": {
        "colab": {
          "base_uri": "https://localhost:8080/"
        },
        "id": "87N0-nRAXfi7",
        "outputId": "64e036ec-fbeb-4044-a415-c809fe8a719a"
      },
      "execution_count": null,
      "outputs": [
        {
          "output_type": "stream",
          "name": "stdout",
          "text": [
            "Base Model without Attention, beam width of 1:\n",
            "Meteor score: 0.15442645412157666\n",
            "Rouge score: {'rouge1': {'r': 0.23416296312416002, 'p': 0.22652617657242627, 'f': 0.20668977505301694}, 'rougeL': {'r': 0.17404975680743714, 'p': 0.17097024797030208, 'f': 0.15383207940917318}}\n",
            "Base Model without Attention, beam width of 5:\n",
            "Meteor score: 0.15246941340079512\n",
            "Rouge score: {'rouge1': {'r': 0.20643401808964212, 'p': 0.23938669242381028, 'f': 0.1986965087919311}, 'rougeL': {'r': 0.15214144617608855, 'p': 0.1754806346145856, 'f': 0.14534131644274453}}\n",
            "Base Model without Attention, beam width of 10:\n",
            "Meteor score: 0.15091202500521522\n",
            "Rouge score: {'rouge1': {'r': 0.17840481678985257, 'p': 0.23551978012447627, 'f': 0.18557878983059148}, 'rougeL': {'r': 0.13676515578016266, 'p': 0.1801654417091648, 'f': 0.141415591449108}}\n",
            "Attention Model, beam width of 1:\n",
            "Meteor score: 0.2600141166055179\n",
            "Rouge score: {'rouge1': {'r': 0.48118730672715093, 'p': 0.33769188440786563, 'f': 0.3747303553517931}, 'rougeL': {'r': 0.3673370319716122, 'p': 0.257575731552288, 'f': 0.28635995476720466}}\n",
            "Attention Model, beam width of 5:\n",
            "Meteor score: 0.25686926080447536\n",
            "Rouge score: {'rouge1': {'r': 0.48164536843282635, 'p': 0.3242503596124793, 'f': 0.3698191856555485}, 'rougeL': {'r': 0.37826274408754523, 'p': 0.25666138531210914, 'f': 0.2912713981450362}}\n",
            "Attention Model, beam width of 10:\n",
            "Meteor score: 0.266241128432844\n",
            "Rouge score: {'rouge1': {'r': 0.4652751038792924, 'p': 0.3357671023276794, 'f': 0.37222462012105756}, 'rougeL': {'r': 0.3664633373440306, 'p': 0.26706978089478806, 'f': 0.29491068592309794}}\n"
          ]
        }
      ]
    },
    {
      "cell_type": "code",
      "source": [
        "for i in [6]:\n",
        "\n",
        "  predicted_text = predicted_instructions_list_Att1[i]\n",
        "  actual_text = actual_instructions_list_Att1[i]\n",
        "\n",
        "  scorer = rouge_scorer.RougeScorer(['rouge1', 'rougeL'], use_stemmer=True)\n",
        "\n",
        "  # Convert tokens to strings\n",
        "  predicted_text = ' '.join(predicted_text)\n",
        "  actual_text = ' '.join(actual_text)\n",
        "\n",
        "  # Remove special tokens\n",
        "  predicted_text = predicted_text.replace('<NUM>', '')\n",
        "  actual_text = actual_text.replace('<NUM>', '')\n",
        "\n",
        "  # Remove periods\n",
        "  predicted_text = predicted_text.replace('.', '')\n",
        "  actual_text = actual_text.replace('.', '')\n",
        "\n",
        "  # Remove <END> token\n",
        "  actual_text = actual_text.replace('<END>', '')\n",
        "\n",
        "\n",
        "  # Remove stopwords\n",
        "  predicted_text = ' '.join([word for word in predicted_text.split() if word.lower() not in stop_words])\n",
        "  actual_text = ' '.join([word for word in actual_text.split() if word.lower() not in stop_words])\n",
        "\n",
        "  # Compute ROUGE score for the current pair\n",
        "  scores = scorer.score(actual_text, predicted_text)\n",
        "\n",
        "  print(scores)\n",
        "  print(predicted_text)\n",
        "  print(actual_text)"
      ],
      "metadata": {
        "colab": {
          "base_uri": "https://localhost:8080/"
        },
        "id": "o07rovocd4Ob",
        "outputId": "88c67b40-ae38-4559-bdd4-c137491e9a0e"
      },
      "execution_count": null,
      "outputs": [
        {
          "output_type": "stream",
          "name": "stdout",
          "text": [
            "{'rouge1': Score(precision=0.2413793103448276, recall=0.25, fmeasure=0.24561403508771928), 'rougeL': Score(precision=0.14655172413793102, recall=0.15178571428571427, fmeasure=0.14912280701754385)}\n",
            "place beans large pot cover water bring boil cook beans tender minutes drain rinse beans cold water drain beans colander rinse cold water drain beans colander rinse cold water drain beans colander rinse cold water drain beans colander rinse cold water drain beans colander rinse beans cold water drain beans colander rinse beans cold water drain beans colander rinse beans cold water drain beans colander rinse beans cold water drain beans colander rinse beans cold water drain beans colander rinse beans cold water drain beans colander rinse beans cold water large bowl combine ground beef onions add ground beef ground beef mixture mix well add ground beef peppers mix well add tomatoes parsley season salt pepper\n",
            "<UNK> soak dried beans according package directions drain pot combine beans enough water cover two inches bring boil reduce heat simmer beans almost tender hour <UNK> set eight quart dutch oven medium high heat batches add beef pork cook breaking meat spoon well browned transfer batch bowl using slotted spoon <UNK> heat drippings pot medium heat add bell peppers onions chili powder cumin seeds oregano cook stirring occasionally vegetables softened minutes add tomatoes juice reserved meat simmer one hour add beans simmer chili thickened beans tender hour longer stir parsley salt pepper garnish serving onion cheese sour cream salsa reduce heat simmer beans almost tender hour transfer batch bowl using slotted spoon\n"
          ]
        }
      ]
    },
    {
      "cell_type": "code",
      "source": [
        "for i in [6]:\n",
        "\n",
        "  predicted_text = predicted_instructions_list_Att5[i]\n",
        "  actual_text = actual_instructions_list_Att5[i]\n",
        "\n",
        "  scorer = rouge_scorer.RougeScorer(['rouge1', 'rougeL'], use_stemmer=True)\n",
        "\n",
        "  # Convert tokens to strings\n",
        "  predicted_text = ' '.join(predicted_text)\n",
        "  actual_text = ' '.join(actual_text)\n",
        "\n",
        "  # Remove special tokens\n",
        "  predicted_text = predicted_text.replace('<NUM>', '')\n",
        "  actual_text = actual_text.replace('<NUM>', '')\n",
        "\n",
        "  # Remove periods\n",
        "  predicted_text = predicted_text.replace('.', '')\n",
        "  actual_text = actual_text.replace('.', '')\n",
        "\n",
        "  # Remove <END> token\n",
        "  actual_text = actual_text.replace('<END>', '')\n",
        "\n",
        "\n",
        "  # Remove stopwords\n",
        "  predicted_text = ' '.join([word for word in predicted_text.split() if word.lower() not in stop_words])\n",
        "  actual_text = ' '.join([word for word in actual_text.split() if word.lower() not in stop_words])\n",
        "\n",
        "  # Compute ROUGE score for the current pair\n",
        "  scores = scorer.score(actual_text, predicted_text)\n",
        "\n",
        "  print(scores)\n",
        "  print(predicted_text)\n",
        "  print(actual_text)"
      ],
      "metadata": {
        "colab": {
          "base_uri": "https://localhost:8080/"
        },
        "id": "DTH-E9VH08nK",
        "outputId": "aefd7f31-d28b-4cbf-f17b-2c333792f50f"
      },
      "execution_count": null,
      "outputs": [
        {
          "output_type": "stream",
          "name": "stdout",
          "text": [
            "{'rouge1': Score(precision=0.7428571428571429, recall=0.23214285714285715, fmeasure=0.35374149659863946), 'rougeL': Score(precision=0.5714285714285714, recall=0.17857142857142858, fmeasure=0.272108843537415)}\n",
            "bring large pot lightly salted water boil add beans cook minutes tender still firm bite drain transfer large bowl add ground beef bell peppers onions chili powder cumin oregano stir tomatoes parsley season salt pepper\n",
            "<UNK> soak dried beans according package directions drain pot combine beans enough water cover two inches bring boil reduce heat simmer beans almost tender hour <UNK> set eight quart dutch oven medium high heat batches add beef pork cook breaking meat spoon well browned transfer batch bowl using slotted spoon <UNK> heat drippings pot medium heat add bell peppers onions chili powder cumin seeds oregano cook stirring occasionally vegetables softened minutes add tomatoes juice reserved meat simmer one hour add beans simmer chili thickened beans tender hour longer stir parsley salt pepper garnish serving onion cheese sour cream salsa reduce heat simmer beans almost tender hour transfer batch bowl using slotted spoon\n"
          ]
        }
      ]
    },
    {
      "cell_type": "code",
      "source": [
        "# Function to count non-padding tokens\n",
        "def count_non_padding_tokens(instruction):\n",
        "    return sum(1 for token in instruction if token != pruned_word_to_index_dict['<PAD>'])\n",
        "\n",
        "# Calculate the lengths of test instructions excluding padding tokens\n",
        "test_ingredient_lengths = [count_non_padding_tokens(instruction) for instruction in test_ingredient_input_data]\n",
        "test_output_lengths = [count_non_padding_tokens(instruction) for instruction in test_output_instr_target]\n",
        "\n",
        "# Compute the correlation coefficient\n",
        "correlation_coefficient = np.corrcoef(test_ingredient_lengths, test_output_lengths)[0, 1]\n",
        "\n",
        "print(\"Correlation Coefficient:\", correlation_coefficient)"
      ],
      "metadata": {
        "colab": {
          "base_uri": "https://localhost:8080/"
        },
        "id": "BKdkiDjKXKpd",
        "outputId": "4e13707c-fb7a-4c18-83ff-80d4db6a6bc5"
      },
      "execution_count": null,
      "outputs": [
        {
          "output_type": "stream",
          "name": "stdout",
          "text": [
            "Correlation Coefficient: 0.482405124764566\n"
          ]
        }
      ]
    },
    {
      "cell_type": "code",
      "source": [
        "# Reload the train and test data\n",
        "with open('train_test_data.pkl', 'rb') as f:\n",
        "    (train_title_input_data, test_title_input_data,\n",
        "     train_ingredient_input_data, test_ingredient_input_data,\n",
        "     train_input_instr_target, test_input_instr_target,\n",
        "     train_output_instr_target, test_output_instr_target) = pickle.load(f)\n",
        "\n",
        "# Initialize a list to store combined lengths of ingredients and instructions\n",
        "combined_lengths = []\n",
        "\n",
        "# Iterate through the test data\n",
        "for i in range(len(test_ingredient_input_data)):\n",
        "    # Calculate the length of ingredients excluding padding tokens\n",
        "    ingredient_length = len([token for token in test_ingredient_input_data[i] if token != pruned_word_to_index_dict['<PAD>']])\n",
        "\n",
        "    # Calculate the length of instructions excluding padding tokens\n",
        "    instruction_length = len([token for token in test_output_instr_target[i] if token != pruned_word_to_index_dict['<PAD>']])\n",
        "\n",
        "    # Calculate the combined length\n",
        "    combined_length = (ingredient_length + instruction_length) / 2  # Calculate average\n",
        "    # Append tuple of index and combined length to the list\n",
        "    combined_lengths.append((i, combined_length))\n",
        "\n",
        "# Sort the list of tuples by combined length\n",
        "sorted_combined_lengths = sorted(combined_lengths, key=lambda x: x[1])\n",
        "\n",
        "# Extract the sorted indices\n",
        "sorted_indices = [index for index, _ in sorted_combined_lengths]\n",
        "\n",
        "# Use the sorted indices to sort the test data\n",
        "sorted_ingredients = [test_ingredient_input_data[i] for i in sorted_indices]\n",
        "sorted_instructions = [test_output_instr_target[i] for i in sorted_indices]\n"
      ],
      "metadata": {
        "id": "wLaep52syT9p"
      },
      "execution_count": null,
      "outputs": []
    },
    {
      "cell_type": "markdown",
      "source": [
        "Creating quantiles by recipe lengths to do some experimentation."
      ],
      "metadata": {
        "id": "2Fo3GULCgSiY"
      }
    },
    {
      "cell_type": "code",
      "source": [
        "# Calculate the number of samples and quantile size\n",
        "num = 10\n",
        "\n",
        "num_samples = len(sorted_combined_lengths)\n",
        "quantile_size = num_samples // num\n",
        "\n",
        "# Initialize a dictionary to store quantiles\n",
        "quantiles = {i: [] for i in range(num)}\n",
        "\n",
        "# Iterate through the sorted combined lengths and assign each sample to a quintile\n",
        "for i, (index, length) in enumerate(sorted_combined_lengths):\n",
        "    quantile_index = min(i // quantile_size, num-1)  # Ensure we don't exceed the last quintile\n",
        "    quantiles[quantile_index].append((index, length))\n",
        "\n",
        "# Example of accessing the data for a specific quintile\n",
        "first_quantile_data = quantiles[9][50]\n",
        "print(first_quantile_data)\n",
        "idx = first_quantile_data = first_quantile_data[0]\n",
        "\n",
        "print(tokens_to_words_no_padding(test_title_input_data[idx], pruned_index_to_word_dict))\n",
        "print(tokens_to_words_no_padding(test_ingredient_input_data[idx], pruned_index_to_word_dict))\n",
        "print(tokens_to_words_no_padding(test_output_instr_target[idx], pruned_index_to_word_dict))"
      ],
      "metadata": {
        "colab": {
          "base_uri": "https://localhost:8080/"
        },
        "id": "ePTMfXIlaVms",
        "outputId": "86c89a5e-4d05-4800-a5e2-9003cc40a285"
      },
      "execution_count": null,
      "outputs": [
        {
          "output_type": "stream",
          "name": "stdout",
          "text": [
            "(18842, 134.5)\n",
            "['fried', 'chicken']\n",
            "['<NUM>', 'chicken', 'cut', 'up', 'into', '<NUM>', 'pieces', '.', 'kosher', 'salt', '.', '<NUM>', 'cups', 'all', 'purpose', 'flour', '.', '<NUM>', 'tablespoons', 'garlic', 'powder', '.', '<NUM>', 'tablespoons', 'onion', 'powder', '.', '<NUM>', 'tablespoons', 'sweet', 'paprika', '.', '<NUM>', 'teaspoons', 'cayenne', '.', 'freshly', 'ground', 'black', 'pepper', '.', '<NUM>', 'cups', 'buttermilk', '.', '<NUM>', 'tablespoons', 'hot', 'chili', 'sauce', 'such', 'as', '<UNK>', 'hot', 'chili', 'sauce', '.', 'peanut', 'oil', 'for', 'frying']\n",
            "['put', 'the', 'chicken', 'pieces', 'into', 'a', 'large', 'bowl', '.', 'cover', 'the', 'chicken', 'with', 'water', 'by', '<NUM>', 'inch', 'add', '<NUM>', 'tablespoon', 'of', 'salt', 'for', 'each', 'quart', 'of', 'water', 'used', '.', 'cover', 'and', 'refrigerate', 'at', 'least', '<NUM>', 'hours', 'or', 'overnight', '.', 'in', 'a', 'large', 'shallow', 'platter', 'mix', 'the', 'flour', 'garlic', 'powder', 'onion', 'powder', 'paprika', 'and', 'cayenne', 'until', 'well', 'blended', 'season', 'generously', 'with', 'salt', 'and', 'pepper', '.', 'in', 'another', 'platter', 'combine', 'the', 'buttermilk', 'and', 'hot', 'sauce', 'season', 'with', 'salt', 'and', 'pepper', '.', 'drain', 'the', 'chicken', 'and', 'pat', 'it', 'dry', '.', 'dredge', 'the', 'pieces', 'a', 'few', 'at', 'a', 'time', 'in', 'the', 'flour', 'mixture', 'then', 'dip', 'them', 'into', 'the', 'buttermilk', 'dredge', 'them', 'again', 'in', 'the', 'seasoned', 'flour', '.', 'set', 'aside', 'and', 'let', 'the', 'chicken', 'rest', 'while', 'you', 'heat', 'the', 'oil', '.', 'put', 'about', '<NUM>', 'inches', 'of', 'oil', 'into', 'a', 'large', 'deep', 'pot', 'it', 'should', 'not', 'come', 'up', 'more', 'than', 'half', 'way', '.', 'bring', 'the', 'oil', 'up', 'to', '<NUM>', 'degrees', 'f', 'over', 'medium', 'high', 'heat', '.', 'working', 'in', 'batches', 'carefully', 'add', 'the', 'chicken', 'pieces', '<NUM>', 'or', '<NUM>', 'at', 'a', 'time', '.', 'fry', 'turning', 'the', 'pieces', 'once', 'until', 'golden', 'brown', 'and', 'cooked', 'through', 'about', '<NUM>', 'minutes', '.', 'remove', 'from', 'the', 'oil', 'and', 'place', 'on', 'a', 'rack', 'to', 'drain', 'repeat', 'with', 'the', 'remaining', 'pieces', '.', '<END>']\n"
          ]
        }
      ]
    },
    {
      "cell_type": "markdown",
      "source": [
        "Testing with a specific example to ensure its working:"
      ],
      "metadata": {
        "id": "bilqlOSKgiSP"
      }
    },
    {
      "cell_type": "code",
      "source": [
        "quantile_index = 9\n",
        "\n",
        "# Get the data for the specified quantile\n",
        "quantile_data = quantiles[quantile_index]\n",
        "\n",
        "# Extract the indices and lengths from the quantile data\n",
        "quantile_indices = [index for index, _ in quantile_data]\n",
        "\n",
        "# Extract the test data based on the indices\n",
        "title_seqs_quantile = [test_title_input_data[idx] for idx in quantile_indices]\n",
        "ingredient_seqs_quantile = [test_ingredient_input_data[idx] for idx in quantile_indices]\n",
        "output_seqs_quantile = [test_output_instr_target[idx] for idx in quantile_indices]\n",
        "\n",
        "num = 50\n",
        "\n",
        "print(tokens_to_words_no_padding(title_seqs_quantile[num], pruned_index_to_word_dict))\n",
        "print(tokens_to_words_no_padding(ingredient_seqs_quantile[num], pruned_index_to_word_dict))\n",
        "print(tokens_to_words_no_padding(output_seqs_quantile[num], pruned_index_to_word_dict))"
      ],
      "metadata": {
        "colab": {
          "base_uri": "https://localhost:8080/"
        },
        "id": "g2JW12mpfJDk",
        "outputId": "adf565df-943f-4f35-b26b-d8b83d59d60b"
      },
      "execution_count": null,
      "outputs": [
        {
          "output_type": "stream",
          "name": "stdout",
          "text": [
            "['fried', 'chicken']\n",
            "['<NUM>', 'chicken', 'cut', 'up', 'into', '<NUM>', 'pieces', '.', 'kosher', 'salt', '.', '<NUM>', 'cups', 'all', 'purpose', 'flour', '.', '<NUM>', 'tablespoons', 'garlic', 'powder', '.', '<NUM>', 'tablespoons', 'onion', 'powder', '.', '<NUM>', 'tablespoons', 'sweet', 'paprika', '.', '<NUM>', 'teaspoons', 'cayenne', '.', 'freshly', 'ground', 'black', 'pepper', '.', '<NUM>', 'cups', 'buttermilk', '.', '<NUM>', 'tablespoons', 'hot', 'chili', 'sauce', 'such', 'as', '<UNK>', 'hot', 'chili', 'sauce', '.', 'peanut', 'oil', 'for', 'frying']\n",
            "['put', 'the', 'chicken', 'pieces', 'into', 'a', 'large', 'bowl', '.', 'cover', 'the', 'chicken', 'with', 'water', 'by', '<NUM>', 'inch', 'add', '<NUM>', 'tablespoon', 'of', 'salt', 'for', 'each', 'quart', 'of', 'water', 'used', '.', 'cover', 'and', 'refrigerate', 'at', 'least', '<NUM>', 'hours', 'or', 'overnight', '.', 'in', 'a', 'large', 'shallow', 'platter', 'mix', 'the', 'flour', 'garlic', 'powder', 'onion', 'powder', 'paprika', 'and', 'cayenne', 'until', 'well', 'blended', 'season', 'generously', 'with', 'salt', 'and', 'pepper', '.', 'in', 'another', 'platter', 'combine', 'the', 'buttermilk', 'and', 'hot', 'sauce', 'season', 'with', 'salt', 'and', 'pepper', '.', 'drain', 'the', 'chicken', 'and', 'pat', 'it', 'dry', '.', 'dredge', 'the', 'pieces', 'a', 'few', 'at', 'a', 'time', 'in', 'the', 'flour', 'mixture', 'then', 'dip', 'them', 'into', 'the', 'buttermilk', 'dredge', 'them', 'again', 'in', 'the', 'seasoned', 'flour', '.', 'set', 'aside', 'and', 'let', 'the', 'chicken', 'rest', 'while', 'you', 'heat', 'the', 'oil', '.', 'put', 'about', '<NUM>', 'inches', 'of', 'oil', 'into', 'a', 'large', 'deep', 'pot', 'it', 'should', 'not', 'come', 'up', 'more', 'than', 'half', 'way', '.', 'bring', 'the', 'oil', 'up', 'to', '<NUM>', 'degrees', 'f', 'over', 'medium', 'high', 'heat', '.', 'working', 'in', 'batches', 'carefully', 'add', 'the', 'chicken', 'pieces', '<NUM>', 'or', '<NUM>', 'at', 'a', 'time', '.', 'fry', 'turning', 'the', 'pieces', 'once', 'until', 'golden', 'brown', 'and', 'cooked', 'through', 'about', '<NUM>', 'minutes', '.', 'remove', 'from', 'the', 'oil', 'and', 'place', 'on', 'a', 'rack', 'to', 'drain', 'repeat', 'with', 'the', 'remaining', 'pieces', '.', '<END>']\n"
          ]
        }
      ]
    },
    {
      "cell_type": "markdown",
      "source": [
        "Model without attention:"
      ],
      "metadata": {
        "id": "2YUDXMDqq2rZ"
      }
    },
    {
      "cell_type": "code",
      "source": [
        "# Initialize a dictionary to store the generated instructions for each quintile\n",
        "var_len_generated_instr_NoAtt = {}\n",
        "num_samples_per_quintile = 50\n",
        "beam_width = 1\n",
        "\n",
        "for i in[0,1,2,3,4,5,6,7,8,9]:\n",
        "  quantile_index = i\n",
        "\n",
        "  # Get the data for the specified quantile\n",
        "  quantile_data = quantiles[quantile_index]\n",
        "\n",
        "  # Extract the indices and lengths from the quantile data\n",
        "  quantile_indices = [index for index, _ in quantile_data]\n",
        "\n",
        "  # Extract the test data based on the indices\n",
        "  title_seqs_quantile = test_title_input_data[quantile_indices]\n",
        "  ingredient_seqs_quantile = test_ingredient_input_data[quantile_indices]\n",
        "  output_seqs_quantile = test_output_instr_target[quantile_indices]\n",
        "\n",
        "  # Generate instructions for the current quintile\n",
        "  predicted_instructions, actual_instructions = generate_instructions_clean(model_no_att,\n",
        "                                                                              title_seqs_quantile,\n",
        "                                                                              ingredient_seqs_quantile,\n",
        "                                                                              output_seqs_quantile,\n",
        "                                                                              MAX_LENGTH_DECODER,\n",
        "                                                                              beam_width,\n",
        "                                                                              pruned_index_to_word_dict,\n",
        "                                                                              num_samples_per_quintile)\n",
        "  # Store the generated instructions for the current quintile\n",
        "  var_len_generated_instr_NoAtt[i] = (predicted_instructions, actual_instructions)\n",
        "\n",
        "  print(f\"Instructions generated for quintile {i}\")\n",
        "\n",
        "# Save the generated instructions dictionary to a pickle file\n",
        "pickle.dump(var_len_generated_instr_NoAtt, open(\"var_len_generated_instr_NoAtt.pkl\", \"wb\"))\n"
      ],
      "metadata": {
        "colab": {
          "base_uri": "https://localhost:8080/"
        },
        "id": "6G00yn3cqj6-",
        "outputId": "70a6a480-69d6-4ede-ea15-b3fb852dc243"
      },
      "execution_count": null,
      "outputs": [
        {
          "output_type": "stream",
          "name": "stdout",
          "text": [
            "Generating recipe instructions...\n",
            "5 recipes processed\n",
            "10 recipes processed\n",
            "15 recipes processed\n",
            "20 recipes processed\n",
            "25 recipes processed\n",
            "30 recipes processed\n",
            "35 recipes processed\n",
            "40 recipes processed\n",
            "45 recipes processed\n",
            "50 recipes processed\n",
            "All recipes processed.\n",
            "Instructions generated for quintile 0\n",
            "Generating recipe instructions...\n",
            "5 recipes processed\n",
            "10 recipes processed\n",
            "15 recipes processed\n",
            "20 recipes processed\n",
            "25 recipes processed\n",
            "30 recipes processed\n",
            "35 recipes processed\n",
            "40 recipes processed\n",
            "45 recipes processed\n",
            "50 recipes processed\n",
            "All recipes processed.\n",
            "Instructions generated for quintile 1\n",
            "Generating recipe instructions...\n",
            "5 recipes processed\n",
            "10 recipes processed\n",
            "15 recipes processed\n",
            "20 recipes processed\n",
            "25 recipes processed\n",
            "30 recipes processed\n",
            "35 recipes processed\n",
            "40 recipes processed\n",
            "45 recipes processed\n",
            "50 recipes processed\n",
            "All recipes processed.\n",
            "Instructions generated for quintile 2\n",
            "Generating recipe instructions...\n",
            "5 recipes processed\n",
            "10 recipes processed\n",
            "15 recipes processed\n",
            "20 recipes processed\n",
            "25 recipes processed\n",
            "30 recipes processed\n",
            "35 recipes processed\n",
            "40 recipes processed\n",
            "45 recipes processed\n",
            "50 recipes processed\n",
            "All recipes processed.\n",
            "Instructions generated for quintile 3\n",
            "Generating recipe instructions...\n",
            "5 recipes processed\n",
            "10 recipes processed\n",
            "15 recipes processed\n",
            "20 recipes processed\n",
            "25 recipes processed\n",
            "30 recipes processed\n",
            "35 recipes processed\n",
            "40 recipes processed\n",
            "45 recipes processed\n",
            "50 recipes processed\n",
            "All recipes processed.\n",
            "Instructions generated for quintile 4\n",
            "Generating recipe instructions...\n",
            "5 recipes processed\n",
            "10 recipes processed\n",
            "15 recipes processed\n",
            "20 recipes processed\n",
            "25 recipes processed\n",
            "30 recipes processed\n",
            "35 recipes processed\n",
            "40 recipes processed\n",
            "45 recipes processed\n",
            "50 recipes processed\n",
            "All recipes processed.\n",
            "Instructions generated for quintile 5\n",
            "Generating recipe instructions...\n",
            "5 recipes processed\n",
            "10 recipes processed\n",
            "15 recipes processed\n",
            "20 recipes processed\n",
            "25 recipes processed\n",
            "30 recipes processed\n",
            "35 recipes processed\n",
            "40 recipes processed\n",
            "45 recipes processed\n",
            "50 recipes processed\n",
            "All recipes processed.\n",
            "Instructions generated for quintile 6\n",
            "Generating recipe instructions...\n",
            "5 recipes processed\n",
            "10 recipes processed\n",
            "15 recipes processed\n",
            "20 recipes processed\n",
            "25 recipes processed\n",
            "30 recipes processed\n",
            "35 recipes processed\n",
            "40 recipes processed\n",
            "45 recipes processed\n",
            "50 recipes processed\n",
            "All recipes processed.\n",
            "Instructions generated for quintile 7\n",
            "Generating recipe instructions...\n",
            "5 recipes processed\n",
            "10 recipes processed\n",
            "15 recipes processed\n",
            "20 recipes processed\n",
            "25 recipes processed\n",
            "30 recipes processed\n",
            "35 recipes processed\n",
            "40 recipes processed\n",
            "45 recipes processed\n",
            "50 recipes processed\n",
            "All recipes processed.\n",
            "Instructions generated for quintile 8\n",
            "Generating recipe instructions...\n",
            "5 recipes processed\n",
            "10 recipes processed\n",
            "15 recipes processed\n",
            "20 recipes processed\n",
            "25 recipes processed\n",
            "30 recipes processed\n",
            "35 recipes processed\n",
            "40 recipes processed\n",
            "45 recipes processed\n",
            "50 recipes processed\n",
            "All recipes processed.\n",
            "Instructions generated for quintile 9\n"
          ]
        }
      ]
    },
    {
      "cell_type": "markdown",
      "source": [
        "Model with attention:"
      ],
      "metadata": {
        "id": "DKN89f0Kqyq2"
      }
    },
    {
      "cell_type": "code",
      "source": [
        "# Initialize a dictionary to store the generated instructions for each quintile\n",
        "var_len_generated_instr_Att = {}\n",
        "num_samples_per_quintile = 50\n",
        "beam_width = 1\n",
        "\n",
        "for i in[0,1,2,3,4,5,6,7,8,9]:\n",
        "  quantile_index = i\n",
        "\n",
        "  # Get the data for the specified quantile\n",
        "  quantile_data = quantiles[quantile_index]\n",
        "\n",
        "  # Extract the indices and lengths from the quantile data\n",
        "  quantile_indices = [index for index, _ in quantile_data]\n",
        "\n",
        "  # Extract the test data based on the indices\n",
        "  title_seqs_quantile = test_title_input_data[quantile_indices]\n",
        "  ingredient_seqs_quantile = test_ingredient_input_data[quantile_indices]\n",
        "  output_seqs_quantile = test_output_instr_target[quantile_indices]\n",
        "\n",
        "  # Generate instructions for the current quintile\n",
        "  predicted_instructions, actual_instructions = generate_instructions_clean(model_att,\n",
        "                                                                              title_seqs_quantile,\n",
        "                                                                              ingredient_seqs_quantile,\n",
        "                                                                              output_seqs_quantile,\n",
        "                                                                              MAX_LENGTH_DECODER,\n",
        "                                                                              beam_width,\n",
        "                                                                              pruned_index_to_word_dict,\n",
        "                                                                              num_samples_per_quintile)\n",
        "  # Store the generated instructions for the current quintile\n",
        "  var_len_generated_instr_Att[i] = (predicted_instructions, actual_instructions)\n",
        "\n",
        "  print(f\"Instructions generated for quintile {i}\")\n",
        "\n",
        "# Save the generated instructions dictionary to a pickle file\n",
        "pickle.dump(var_len_generated_instr_Att, open(\"var_len_generated_instr_Att.pkl\", \"wb\"))\n"
      ],
      "metadata": {
        "colab": {
          "base_uri": "https://localhost:8080/"
        },
        "id": "tzZ1vK3lgT6H",
        "outputId": "6caaf3b1-8b9f-4c9f-b672-cec7813fa955"
      },
      "execution_count": 27,
      "outputs": [
        {
          "output_type": "stream",
          "name": "stdout",
          "text": [
            "\n",
            "Generating recipe instructions...\n",
            "5 recipes processed\n",
            "10 recipes processed\n",
            "15 recipes processed\n",
            "20 recipes processed\n",
            "25 recipes processed\n",
            "30 recipes processed\n",
            "35 recipes processed\n",
            "40 recipes processed\n",
            "45 recipes processed\n",
            "50 recipes processed\n",
            "All recipes processed.\n",
            "Instructions generated for quintile 0\n",
            "Generating recipe instructions...\n",
            "5 recipes processed\n",
            "10 recipes processed\n",
            "15 recipes processed\n",
            "20 recipes processed\n",
            "25 recipes processed\n",
            "30 recipes processed\n",
            "35 recipes processed\n",
            "40 recipes processed\n",
            "45 recipes processed\n",
            "50 recipes processed\n",
            "All recipes processed.\n",
            "Instructions generated for quintile 1\n",
            "Generating recipe instructions...\n",
            "5 recipes processed\n",
            "10 recipes processed\n",
            "15 recipes processed\n",
            "20 recipes processed\n",
            "25 recipes processed\n",
            "30 recipes processed\n",
            "35 recipes processed\n",
            "40 recipes processed\n",
            "45 recipes processed\n",
            "50 recipes processed\n",
            "All recipes processed.\n",
            "Instructions generated for quintile 2\n",
            "Generating recipe instructions...\n",
            "5 recipes processed\n",
            "10 recipes processed\n",
            "15 recipes processed\n",
            "20 recipes processed\n",
            "25 recipes processed\n",
            "30 recipes processed\n",
            "35 recipes processed\n",
            "40 recipes processed\n",
            "45 recipes processed\n",
            "50 recipes processed\n",
            "All recipes processed.\n",
            "Instructions generated for quintile 3\n",
            "Generating recipe instructions...\n",
            "5 recipes processed\n",
            "10 recipes processed\n",
            "15 recipes processed\n",
            "20 recipes processed\n",
            "25 recipes processed\n",
            "30 recipes processed\n",
            "35 recipes processed\n",
            "40 recipes processed\n",
            "45 recipes processed\n",
            "50 recipes processed\n",
            "All recipes processed.\n",
            "Instructions generated for quintile 4\n",
            "Generating recipe instructions...\n",
            "5 recipes processed\n",
            "10 recipes processed\n",
            "15 recipes processed\n",
            "20 recipes processed\n",
            "25 recipes processed\n",
            "30 recipes processed\n",
            "35 recipes processed\n",
            "40 recipes processed\n",
            "45 recipes processed\n",
            "50 recipes processed\n",
            "All recipes processed.\n",
            "Instructions generated for quintile 5\n",
            "Generating recipe instructions...\n",
            "5 recipes processed\n",
            "10 recipes processed\n",
            "15 recipes processed\n",
            "20 recipes processed\n",
            "25 recipes processed\n",
            "30 recipes processed\n",
            "35 recipes processed\n",
            "40 recipes processed\n",
            "45 recipes processed\n",
            "50 recipes processed\n",
            "All recipes processed.\n",
            "Instructions generated for quintile 6\n",
            "Generating recipe instructions...\n",
            "5 recipes processed\n",
            "10 recipes processed\n",
            "15 recipes processed\n",
            "20 recipes processed\n",
            "25 recipes processed\n",
            "30 recipes processed\n",
            "35 recipes processed\n",
            "40 recipes processed\n",
            "45 recipes processed\n",
            "50 recipes processed\n",
            "All recipes processed.\n",
            "Instructions generated for quintile 7\n",
            "Generating recipe instructions...\n",
            "5 recipes processed\n",
            "10 recipes processed\n",
            "15 recipes processed\n",
            "20 recipes processed\n",
            "25 recipes processed\n",
            "30 recipes processed\n",
            "35 recipes processed\n",
            "40 recipes processed\n",
            "45 recipes processed\n",
            "50 recipes processed\n",
            "All recipes processed.\n",
            "Instructions generated for quintile 8\n",
            "Generating recipe instructions...\n",
            "5 recipes processed\n",
            "10 recipes processed\n",
            "15 recipes processed\n",
            "20 recipes processed\n",
            "25 recipes processed\n",
            "30 recipes processed\n",
            "35 recipes processed\n",
            "40 recipes processed\n",
            "45 recipes processed\n",
            "50 recipes processed\n",
            "All recipes processed.\n",
            "Instructions generated for quintile 9\n"
          ]
        }
      ]
    },
    {
      "cell_type": "code",
      "source": [
        "# Attention\n",
        "\n",
        "# Reload the generated instructions from the pickle file\n",
        "generated_instructions_att = pickle.load(open(\"var_len_generated_instr_Att.pkl\", \"rb\"))\n",
        "\n",
        "# With attention\n",
        "\n",
        "quintile_0_predicted_instructions_att, quintile_0_actual_instructions_att = generated_instructions_att[0]\n",
        "quintile_1_predicted_instructions_att, quintile_1_actual_instructions_att = generated_instructions_att[1]\n",
        "quintile_2_predicted_instructions_att, quintile_2_actual_instructions_att = generated_instructions_att[2]\n",
        "quintile_3_predicted_instructions_att, quintile_3_actual_instructions_att = generated_instructions_att[3]\n",
        "quintile_4_predicted_instructions_att, quintile_4_actual_instructions_att = generated_instructions_att[4]\n",
        "quintile_5_predicted_instructions_att, quintile_5_actual_instructions_att = generated_instructions_att[5]\n",
        "quintile_6_predicted_instructions_att, quintile_6_actual_instructions_att = generated_instructions_att[6]\n",
        "quintile_7_predicted_instructions_att, quintile_7_actual_instructions_att = generated_instructions_att[7]\n",
        "quintile_8_predicted_instructions_att, quintile_8_actual_instructions_att = generated_instructions_att[8]\n",
        "quintile_9_predicted_instructions_att, quintile_9_actual_instructions_att = generated_instructions_att[9]\n",
        "\n",
        "# No attention\n",
        "\n",
        "# Reload the generated instructions from the pickle file\n",
        "generated_instructions_noatt = pickle.load(open(\"var_len_generated_instr_NoAtt.pkl\", \"rb\"))\n",
        "\n",
        "quintile_0_predicted_instructions_noatt, quintile_0_actual_instructions_noatt = generated_instructions_noatt[0]\n",
        "quintile_1_predicted_instructions_noatt, quintile_1_actual_instructions_noatt = generated_instructions_noatt[1]\n",
        "quintile_2_predicted_instructions_noatt, quintile_2_actual_instructions_noatt = generated_instructions_noatt[2]\n",
        "quintile_3_predicted_instructions_noatt, quintile_3_actual_instructions_noatt = generated_instructions_noatt[3]\n",
        "quintile_4_predicted_instructions_noatt, quintile_4_actual_instructions_noatt = generated_instructions_noatt[4]\n",
        "quintile_5_predicted_instructions_noatt, quintile_5_actual_instructions_noatt = generated_instructions_noatt[5]\n",
        "quintile_6_predicted_instructions_noatt, quintile_6_actual_instructions_noatt = generated_instructions_noatt[6]\n",
        "quintile_7_predicted_instructions_noatt, quintile_7_actual_instructions_noatt = generated_instructions_noatt[7]\n",
        "quintile_8_predicted_instructions_noatt, quintile_8_actual_instructions_noatt = generated_instructions_noatt[8]\n",
        "quintile_9_predicted_instructions_noatt, quintile_9_actual_instructions_noatt = generated_instructions_noatt[9]\n",
        "\n"
      ],
      "metadata": {
        "id": "-Wt4wMBRyyDW"
      },
      "execution_count": 30,
      "outputs": []
    },
    {
      "cell_type": "code",
      "source": [
        "# Define pairs for base model without attention\n",
        "pairs_base_noatt = [(quintile_0_predicted_instructions_noatt, quintile_0_actual_instructions_noatt),\n",
        "                    (quintile_1_predicted_instructions_noatt, quintile_1_actual_instructions_noatt),\n",
        "                    (quintile_2_predicted_instructions_noatt, quintile_2_actual_instructions_noatt),\n",
        "                    (quintile_3_predicted_instructions_noatt, quintile_3_actual_instructions_noatt),\n",
        "                    (quintile_4_predicted_instructions_noatt, quintile_4_actual_instructions_noatt),\n",
        "                    (quintile_5_predicted_instructions_noatt, quintile_5_actual_instructions_noatt),\n",
        "                    (quintile_6_predicted_instructions_noatt, quintile_6_actual_instructions_noatt),\n",
        "                    (quintile_7_predicted_instructions_noatt, quintile_7_actual_instructions_noatt),\n",
        "                    (quintile_8_predicted_instructions_noatt, quintile_8_actual_instructions_noatt),\n",
        "                    (quintile_9_predicted_instructions_noatt, quintile_9_actual_instructions_noatt)]\n",
        "\n",
        "# Define pairs for attention model\n",
        "pairs_attention = [(quintile_0_predicted_instructions_att, quintile_0_actual_instructions_att),\n",
        "                    (quintile_1_predicted_instructions_att, quintile_1_actual_instructions_att),\n",
        "                    (quintile_2_predicted_instructions_att, quintile_2_actual_instructions_att),\n",
        "                    (quintile_3_predicted_instructions_att, quintile_3_actual_instructions_att),\n",
        "                    (quintile_4_predicted_instructions_att, quintile_4_actual_instructions_att),\n",
        "                    (quintile_5_predicted_instructions_att, quintile_5_actual_instructions_att),\n",
        "                    (quintile_6_predicted_instructions_att, quintile_6_actual_instructions_att),\n",
        "                    (quintile_7_predicted_instructions_att, quintile_7_actual_instructions_att),\n",
        "                    (quintile_8_predicted_instructions_att, quintile_8_actual_instructions_att),\n",
        "                    (quintile_9_predicted_instructions_att, quintile_9_actual_instructions_att)]\n",
        "\n",
        "# Compute scores for base model without attention\n",
        "for i, (predicted, actual) in enumerate(pairs_base_noatt, start=1):\n",
        "    meteor_score = compute_average_meteor_score(predicted, actual)\n",
        "    rouge_score = compute_average_rouge_score(predicted, actual)\n",
        "    print(f'Base Model without Attention, Quintile {i}:')\n",
        "    print('Meteor score:', meteor_score)\n",
        "    print('Rouge score:', rouge_score)\n",
        "\n",
        "# Compute scores for attention model\n",
        "for i, (predicted, actual) in enumerate(pairs_attention, start=1):\n",
        "    meteor_score = compute_average_meteor_score(predicted, actual)\n",
        "    rouge_score = compute_average_rouge_score(predicted, actual)\n",
        "    print(f'Attention Model, Quintile {i}:')\n",
        "    print('Meteor score:', meteor_score)\n",
        "    print('Rouge score:', rouge_score)"
      ],
      "metadata": {
        "colab": {
          "base_uri": "https://localhost:8080/"
        },
        "id": "yHXXeYYPzu-U",
        "outputId": "d2073472-f0da-418c-a62a-8c1a85ab7215"
      },
      "execution_count": 34,
      "outputs": [
        {
          "output_type": "stream",
          "name": "stdout",
          "text": [
            "Base Model without Attention, Quintile 1:\n",
            "Meteor score: 0.17386394313913717\n",
            "Rouge score: {'rouge1': {'r': 0.16653329987212143, 'p': 0.2339209072830422, 'f': 0.17678307998591467}, 'rougeL': {'r': 0.1433994014499644, 'p': 0.2009346216012591, 'f': 0.15158828363891275}}\n",
            "Base Model without Attention, Quintile 2:\n",
            "Meteor score: 0.17635239618285772\n",
            "Rouge score: {'rouge1': {'r': 0.19900530724930696, 'p': 0.2563645422081527, 'f': 0.20674573656099093}, 'rougeL': {'r': 0.16127574770318287, 'p': 0.20381798947750426, 'f': 0.16595598661418354}}\n",
            "Base Model without Attention, Quintile 3:\n",
            "Meteor score: 0.17812097085715758\n",
            "Rouge score: {'rouge1': {'r': 0.2429527194647714, 'p': 0.24447537814816386, 'f': 0.22877079667654665}, 'rougeL': {'r': 0.19432982467872364, 'p': 0.19746215497859831, 'f': 0.18320302157901988}}\n",
            "Base Model without Attention, Quintile 4:\n",
            "Meteor score: 0.15405527232539484\n",
            "Rouge score: {'rouge1': {'r': 0.23056837348139553, 'p': 0.20906266904292545, 'f': 0.20769842488251253}, 'rougeL': {'r': 0.18316281594615028, 'p': 0.16466280843515724, 'f': 0.16470577347858298}}\n",
            "Base Model without Attention, Quintile 5:\n",
            "Meteor score: 0.1679628419948773\n",
            "Rouge score: {'rouge1': {'r': 0.2747712845552093, 'p': 0.23136411496281373, 'f': 0.23877017026681005}, 'rougeL': {'r': 0.21687044065823322, 'p': 0.1800190359473169, 'f': 0.1863082660547622}}\n",
            "Base Model without Attention, Quintile 6:\n",
            "Meteor score: 0.12457690335715942\n",
            "Rouge score: {'rouge1': {'r': 0.2543620627644185, 'p': 0.17114335507994483, 'f': 0.19068269172793204}, 'rougeL': {'r': 0.1788854447386213, 'p': 0.121167016889095, 'f': 0.1343896185982768}}\n",
            "Base Model without Attention, Quintile 7:\n",
            "Meteor score: 0.13308532646552906\n",
            "Rouge score: {'rouge1': {'r': 0.2794606527891411, 'p': 0.18263220604567793, 'f': 0.2067449366950239}, 'rougeL': {'r': 0.19640109255915952, 'p': 0.12900714915520717, 'f': 0.1450473620331112}}\n",
            "Base Model without Attention, Quintile 8:\n",
            "Meteor score: 0.1553214436525253\n",
            "Rouge score: {'rouge1': {'r': 0.31201321606244237, 'p': 0.21171281403440953, 'f': 0.23857514506579305}, 'rougeL': {'r': 0.22340384150905165, 'p': 0.1492796571970587, 'f': 0.16930673092247603}}\n",
            "Base Model without Attention, Quintile 9:\n",
            "Meteor score: 0.13610597332467195\n",
            "Rouge score: {'rouge1': {'r': 0.34903572549852974, 'p': 0.18116959381072398, 'f': 0.22728839356785602}, 'rougeL': {'r': 0.24237191151089596, 'p': 0.12566730610636914, 'f': 0.15742704429055832}}\n",
            "Base Model without Attention, Quintile 10:\n",
            "Meteor score: 0.1353501118601915\n",
            "Rouge score: {'rouge1': {'r': 0.33045658280133033, 'p': 0.18812559842270113, 'f': 0.22729498114999533}, 'rougeL': {'r': 0.22204378196967084, 'p': 0.12587235971585017, 'f': 0.15245811725959824}}\n",
            "Attention Model, Quintile 1:\n",
            "Meteor score: 0.3677487680379614\n",
            "Rouge score: {'rouge1': {'r': 0.4781210122691955, 'p': 0.46677145191995095, 'f': 0.44710864253948424}, 'rougeL': {'r': 0.4226804948752955, 'p': 0.40446094143762734, 'f': 0.3921377024007031}}\n",
            "Attention Model, Quintile 2:\n",
            "Meteor score: 0.31065161109149725\n",
            "Rouge score: {'rouge1': {'r': 0.46076173506437323, 'p': 0.38787637803566866, 'f': 0.39857422853041125}, 'rougeL': {'r': 0.39652154565299286, 'p': 0.32752392589740625, 'f': 0.3381055478299279}}\n",
            "Attention Model, Quintile 3:\n",
            "Meteor score: 0.32467293819914117\n",
            "Rouge score: {'rouge1': {'r': 0.508904208392588, 'p': 0.3992960699867079, 'f': 0.42335234419761697}, 'rougeL': {'r': 0.4232264032275312, 'p': 0.33100420501008965, 'f': 0.35246601493472945}}\n",
            "Attention Model, Quintile 4:\n",
            "Meteor score: 0.2903944163725829\n",
            "Rouge score: {'rouge1': {'r': 0.4987328079006053, 'p': 0.38096932195209027, 'f': 0.40859354824273053}, 'rougeL': {'r': 0.3892195016258342, 'p': 0.2916750965085366, 'f': 0.3157934374073813}}\n",
            "Attention Model, Quintile 5:\n",
            "Meteor score: 0.27175893134408485\n",
            "Rouge score: {'rouge1': {'r': 0.48510659306994164, 'p': 0.3416396846414548, 'f': 0.3854353548406626}, 'rougeL': {'r': 0.3832548337465399, 'p': 0.26944012351910657, 'f': 0.3038397031527494}}\n",
            "Attention Model, Quintile 6:\n",
            "Meteor score: 0.2504194899432399\n",
            "Rouge score: {'rouge1': {'r': 0.4962677212413395, 'p': 0.34070391868972266, 'f': 0.3869732993093328}, 'rougeL': {'r': 0.3565396933752465, 'p': 0.24711678855985308, 'f': 0.279155361458564}}\n",
            "Attention Model, Quintile 7:\n",
            "Meteor score: 0.24072636807313422\n",
            "Rouge score: {'rouge1': {'r': 0.559529991562198, 'p': 0.3071375582670851, 'f': 0.38271661754882125}, 'rougeL': {'r': 0.41773486601452925, 'p': 0.2283102220574874, 'f': 0.28526286679907115}}\n",
            "Attention Model, Quintile 8:\n",
            "Meteor score: 0.23286405766961552\n",
            "Rouge score: {'rouge1': {'r': 0.5287121467682772, 'p': 0.30818949355542796, 'f': 0.36868967547006676}, 'rougeL': {'r': 0.3893815527991352, 'p': 0.22443388092088118, 'f': 0.26944589717848055}}\n",
            "Attention Model, Quintile 9:\n",
            "Meteor score: 0.21183345311864885\n",
            "Rouge score: {'rouge1': {'r': 0.4836823787766245, 'p': 0.2832539556953925, 'f': 0.3352683058004156}, 'rougeL': {'r': 0.35684718908364566, 'p': 0.2083720218273071, 'f': 0.2469025573103216}}\n",
            "Attention Model, Quintile 10:\n",
            "Meteor score: 0.18014596521446513\n",
            "Rouge score: {'rouge1': {'r': 0.5485970583732118, 'p': 0.24731727483384044, 'f': 0.3250184426925283}, 'rougeL': {'r': 0.3921956832343712, 'p': 0.17678206147849948, 'f': 0.23242598433763054}}\n"
          ]
        }
      ]
    },
    {
      "cell_type": "code",
      "source": [
        "def average_token_length(seq_list):\n",
        "    total_tokens = sum(len(seq) for seq in seq_list)\n",
        "    total_sequences = len(seq_list)\n",
        "    return total_tokens / total_sequences\n",
        "\n",
        "# Compute and print average token lengths for base model without attention\n",
        "for i, (predicted, actual) in enumerate(pairs_base_noatt, start=1):\n",
        "    avg_predicted_length = average_token_length(predicted)\n",
        "    avg_actual_length = average_token_length(actual)\n",
        "    print(f'Base Model without Attention, Quintile {i}:')\n",
        "    print('Average predicted token length:', avg_predicted_length)\n",
        "    print('Average actual token length:', avg_actual_length)\n",
        "\n",
        "# Compute and print average token lengths for attention model\n",
        "for i, (predicted, actual) in enumerate(pairs_attention, start=1):\n",
        "    avg_predicted_length = average_token_length(predicted)\n",
        "    avg_actual_length = average_token_length(actual)\n",
        "    print(f'Attention Model, Quintile {i}:')\n",
        "    print('Average predicted token length:', avg_predicted_length)\n",
        "    print('Average actual token length:', avg_actual_length)"
      ],
      "metadata": {
        "colab": {
          "base_uri": "https://localhost:8080/"
        },
        "id": "FKW-_uPh6NTX",
        "outputId": "436cca1d-5e8a-48b1-8c88-dc6b9ddb3082"
      },
      "execution_count": 35,
      "outputs": [
        {
          "output_type": "stream",
          "name": "stdout",
          "text": [
            "Base Model without Attention, Quintile 1:\n",
            "Average predicted token length: 84.88\n",
            "Average actual token length: 32.26\n",
            "Base Model without Attention, Quintile 2:\n",
            "Average predicted token length: 88.56\n",
            "Average actual token length: 54.14\n",
            "Base Model without Attention, Quintile 3:\n",
            "Average predicted token length: 95.64\n",
            "Average actual token length: 69.38\n",
            "Base Model without Attention, Quintile 4:\n",
            "Average predicted token length: 103.12\n",
            "Average actual token length: 86.88\n",
            "Base Model without Attention, Quintile 5:\n",
            "Average predicted token length: 107.0\n",
            "Average actual token length: 99.74\n",
            "Base Model without Attention, Quintile 6:\n",
            "Average predicted token length: 108.12\n",
            "Average actual token length: 118.0\n",
            "Base Model without Attention, Quintile 7:\n",
            "Average predicted token length: 113.46\n",
            "Average actual token length: 136.96\n",
            "Base Model without Attention, Quintile 8:\n",
            "Average predicted token length: 123.98\n",
            "Average actual token length: 156.52\n",
            "Base Model without Attention, Quintile 9:\n",
            "Average predicted token length: 116.94\n",
            "Average actual token length: 184.92\n",
            "Base Model without Attention, Quintile 10:\n",
            "Average predicted token length: 156.1\n",
            "Average actual token length: 224.84\n",
            "Attention Model, Quintile 1:\n",
            "Average predicted token length: 42.36\n",
            "Average actual token length: 32.26\n",
            "Attention Model, Quintile 2:\n",
            "Average predicted token length: 49.16\n",
            "Average actual token length: 54.14\n",
            "Attention Model, Quintile 3:\n",
            "Average predicted token length: 68.0\n",
            "Average actual token length: 69.38\n",
            "Attention Model, Quintile 4:\n",
            "Average predicted token length: 75.54\n",
            "Average actual token length: 86.88\n",
            "Attention Model, Quintile 5:\n",
            "Average predicted token length: 78.42\n",
            "Average actual token length: 99.74\n",
            "Attention Model, Quintile 6:\n",
            "Average predicted token length: 93.14\n",
            "Average actual token length: 118.0\n",
            "Attention Model, Quintile 7:\n",
            "Average predicted token length: 81.36\n",
            "Average actual token length: 136.96\n",
            "Attention Model, Quintile 8:\n",
            "Average predicted token length: 101.12\n",
            "Average actual token length: 156.52\n",
            "Attention Model, Quintile 9:\n",
            "Average predicted token length: 136.72\n",
            "Average actual token length: 184.92\n",
            "Attention Model, Quintile 10:\n",
            "Average predicted token length: 116.82\n",
            "Average actual token length: 224.84\n"
          ]
        }
      ]
    },
    {
      "cell_type": "code",
      "source": [
        "import matplotlib.pyplot as plt\n",
        "import seaborn as sns\n",
        "import pandas as pd\n",
        "\n",
        "# Define quintile labels for ROUGE score plot\n",
        "quintile_labels_rouge = [f\"{i}-{i+10}\" for i in range(0, 100, 10)]\n",
        "\n",
        "# Initialize lists to store recall and precision values\n",
        "base_recall = []\n",
        "base_precision = []\n",
        "attention_recall = []\n",
        "attention_precision = []\n",
        "\n",
        "# Set style and palette\n",
        "sns.set(style=\"whitegrid\")\n",
        "custom_palette = sns.color_palette(\"husl\", 2)\n",
        "\n",
        "# Extract recall and precision scores for the base model without attention\n",
        "for i, (predicted, actual) in enumerate(pairs_base_noatt, start=1):\n",
        "    meteor_score = compute_average_meteor_score(predicted, actual)\n",
        "    rouge_score = compute_average_rouge_score(predicted, actual)\n",
        "    base_recall.append(rouge_score['rouge1']['r'])\n",
        "    base_precision.append(rouge_score['rouge1']['p'])\n",
        "\n",
        "# Extract recall and precision scores for the attention model\n",
        "for i, (predicted, actual) in enumerate(pairs_attention, start=1):\n",
        "    meteor_score = compute_average_meteor_score(predicted, actual)\n",
        "    rouge_score = compute_average_rouge_score(predicted, actual)\n",
        "    attention_recall.append(rouge_score['rouge1']['r'])\n",
        "    attention_precision.append(rouge_score['rouge1']['p'])\n",
        "\n",
        "# Create a DataFrame for the base model\n",
        "base_data = {'Quintile': quintile_labels_rouge,\n",
        "             'Recall': base_recall,\n",
        "             'Precision': base_precision,\n",
        "             'Model': ['Base Model'] * len(quintile_labels_rouge)}\n",
        "\n",
        "# Create a DataFrame for the attention model\n",
        "attention_data = {'Quintile': quintile_labels_rouge,\n",
        "                  'Recall': attention_recall,\n",
        "                  'Precision': attention_precision,\n",
        "                  'Model': ['Attention Model'] * len(quintile_labels_rouge)}\n",
        "\n",
        "# Combine the data for both models\n",
        "combined_data_rouge = pd.concat([pd.DataFrame(attention_data),pd.DataFrame(base_data)])\n",
        "\n",
        "# Define quintile labels for token length plot\n",
        "quintile_labels_length = [f\"{i}-{i+10}\" for i in range(0, 100, 10)]\n",
        "\n",
        "# Initialize lists to store average token lengths\n",
        "base_predicted_lengths = []\n",
        "base_actual_lengths = []\n",
        "attention_predicted_lengths = []\n",
        "attention_actual_lengths = []\n",
        "\n",
        "# Extract average token lengths for the base model without attention\n",
        "for i, (predicted, actual) in enumerate(pairs_base_noatt, start=1):\n",
        "    avg_predicted_length = average_token_length(predicted)\n",
        "    avg_actual_length = average_token_length(actual)\n",
        "    base_predicted_lengths.append(avg_predicted_length)\n",
        "    base_actual_lengths.append(avg_actual_length)\n",
        "\n",
        "# Extract average token lengths for the attention model\n",
        "for i, (predicted, actual) in enumerate(pairs_attention, start=1):\n",
        "    avg_predicted_length = average_token_length(predicted)\n",
        "    avg_actual_length = average_token_length(actual)\n",
        "    attention_predicted_lengths.append(avg_predicted_length)\n",
        "    attention_actual_lengths.append(avg_actual_length)\n",
        "\n",
        "# Create a DataFrame for the token lengths of the attention model\n",
        "attention_token_length_data = {\n",
        "    'Quintile': quintile_labels_length,\n",
        "    'Average Predicted Length': attention_predicted_lengths,\n",
        "    'Average Actual Length': attention_actual_lengths,\n",
        "    'Model': ['Attention Model'] * len(quintile_labels_length)\n",
        "}\n",
        "\n",
        "# Create a DataFrame for the token lengths of the base model without attention\n",
        "base_token_length_data = {\n",
        "    'Quintile': quintile_labels_length,\n",
        "    'Average Predicted Length': base_predicted_lengths,\n",
        "    'Average Actual Length': base_actual_lengths,\n",
        "    'Model': ['Base Model'] * len(quintile_labels_length)\n",
        "}\n",
        "\n",
        "# Combine the data for both models\n",
        "combined_token_length_data = pd.concat([\n",
        "    pd.DataFrame(attention_token_length_data),\n",
        "    pd.DataFrame(base_token_length_data)\n",
        "])\n",
        "\n",
        "# Subplots\n",
        "fig, (ax1, ax2) = plt.subplots(2, 1, figsize=(6, 7))\n",
        "\n",
        "# Plot ROUGE scores\n",
        "sns.lineplot(data=combined_data_rouge, x='Quintile', y='Recall', hue='Model', marker='o', palette=custom_palette, ax=ax1)\n",
        "sns.lineplot(data=combined_data_rouge, x='Quintile', y='Precision', hue='Model', marker='o', linestyle='dashed', palette=custom_palette, ax=ax1)\n",
        "ax1.set_ylabel('ROUGE-1 Precision and Recall Scores')\n",
        "ax1.set_xlabel('')\n",
        "ax1.grid(False)\n",
        "ax1.set_xticklabels([])\n",
        "ax1.legend().remove()\n",
        "\n",
        "# Plot token lengths for the attention model\n",
        "sns.lineplot(data=combined_token_length_data[combined_token_length_data['Model'] == 'Attention Model'], x='Quintile', y='Average Predicted Length', marker='o', color=\"#E6798A\", label='Attention Model Generated Instructions', ax=ax2)\n",
        "\n",
        "# Plot token lengths for the base model\n",
        "sns.lineplot(data=combined_token_length_data[combined_token_length_data['Model'] == 'Base Model'], x='Quintile', y='Average Predicted Length', marker='o', color='#5BABA3', label='Base Model Generated Instructions', ax=ax2)\n",
        "\n",
        "# Plot token lengths for the actual values\n",
        "sns.lineplot(data=combined_token_length_data[combined_token_length_data['Model'] == 'Attention Model'], x='Quintile', y='Average Actual Length', marker='o', linestyle='-', color='grey', label='Actual Recipe Instructions', ax=ax2)\n",
        "\n",
        "ax2.set_ylabel('Avg # of Instruction Tokens')\n",
        "ax2.set_xlabel('Recipe Length Percentile')\n",
        "ax2.grid(False)\n",
        "ax2.legend()\n",
        "\n",
        "plt.tight_layout()\n",
        "plt.savefig('Metrics_by_length.png', dpi=300)\n",
        "\n",
        "\n",
        "plt.show()\n"
      ],
      "metadata": {
        "colab": {
          "base_uri": "https://localhost:8080/",
          "height": 701
        },
        "id": "9jpqYcDPDMsi",
        "outputId": "4080d98c-f8a3-471c-918d-25ee3a202046"
      },
      "execution_count": 56,
      "outputs": [
        {
          "output_type": "display_data",
          "data": {
            "text/plain": [
              "<Figure size 600x700 with 2 Axes>"
            ],
            "image/png": "[encoded data removed]"
          },
          "metadata": {}
        }
      ]
    }
  ],
  "metadata": {
    "accelerator": "GPU",
    "colab": {
      "gpuType": "T4",
      "machine_shape": "hm",
      "provenance": []
    },
    "kernelspec": {
      "display_name": "Python 3",
      "name": "python3"
    },
    "language_info": {
      "name": "python"
    }
  },
  "nbformat": 4,
  "nbformat_minor": 0
}